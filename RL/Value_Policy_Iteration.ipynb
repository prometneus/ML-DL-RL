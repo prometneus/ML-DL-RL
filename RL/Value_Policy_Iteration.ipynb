{
  "cells": [
    {
      "cell_type": "code",
      "source": [
        "# most of this code was politely stolen from https://github.com/berkeleydeeprlcourse/homework/\n",
        "# all credit goes to https://github.com/abhishekunique\n",
        "# (if I got the author right)\n",
        "import sys\n",
        "import random\n",
        "import numpy as np\n",
        "\n",
        "\n",
        "try:\n",
        "    from graphviz import Digraph\n",
        "    import graphviz\n",
        "    has_graphviz = True\n",
        "except ImportError:\n",
        "    has_graphviz = False\n",
        "\n",
        "\n",
        "class MDP:\n",
        "    def __init__(self, transition_probs, rewards, initial_state=None):\n",
        "        \"\"\"\n",
        "        Defines an MDP. Compatible with gym Env.\n",
        "        :param transition_probs: transition_probs[s][a][s_next] = P(s_next | s, a)\n",
        "            A dict[state -> dict] of dicts[action -> dict] of dicts[next_state -> prob]\n",
        "            For each state and action, probabilities of next states should sum to 1\n",
        "            If a state has no actions available, it is considered terminal\n",
        "        :param rewards: rewards[s][a][s_next] = r(s,a,s')\n",
        "            A dict[state -> dict] of dicts[action -> dict] of dicts[next_state -> reward]\n",
        "            The reward for anything not mentioned here is zero.\n",
        "        :param get_initial_state: a state where agent starts or a callable() -> state\n",
        "            By default, picks initial state at random.\n",
        "\n",
        "        States and actions can be anything you can use as dict keys, but we recommend that you use strings or integers\n",
        "\n",
        "        Here's an example from MDP depicted on http://bit.ly/2jrNHNr\n",
        "        transition_probs = {\n",
        "              's0':{\n",
        "                'a0': {'s0': 0.5, 's2': 0.5},\n",
        "                'a1': {'s2': 1}\n",
        "              },\n",
        "              's1':{\n",
        "                'a0': {'s0': 0.7, 's1': 0.1, 's2': 0.2},\n",
        "                'a1': {'s1': 0.95, 's2': 0.05}\n",
        "              },\n",
        "              's2':{\n",
        "                'a0': {'s0': 0.4, 's1': 0.6},\n",
        "                'a1': {'s0': 0.3, 's1': 0.3, 's2':0.4}\n",
        "              }\n",
        "            }\n",
        "        rewards = {\n",
        "            's1': {'a0': {'s0': +5}},\n",
        "            's2': {'a1': {'s0': -1}}\n",
        "        }\n",
        "        \"\"\"\n",
        "        self._check_param_consistency(transition_probs, rewards)\n",
        "        self._transition_probs = transition_probs\n",
        "        self._rewards = rewards\n",
        "        self._initial_state = initial_state\n",
        "        self.n_states = len(transition_probs)\n",
        "        self.reset()\n",
        "\n",
        "    def get_all_states(self):\n",
        "        \"\"\" return a tuple of all possiblestates \"\"\"\n",
        "        return tuple(self._transition_probs.keys())\n",
        "\n",
        "    def get_possible_actions(self, state):\n",
        "        \"\"\" return a tuple of possible actions in a given state \"\"\"\n",
        "        return tuple(self._transition_probs.get(state, {}).keys())\n",
        "\n",
        "    def is_terminal(self, state):\n",
        "        \"\"\" return True if state is terminal or False if it isn't \"\"\"\n",
        "        return len(self.get_possible_actions(state)) == 0\n",
        "\n",
        "    def get_next_states(self, state, action):\n",
        "        \"\"\" return a dictionary of {next_state1 : P(next_state1 | state, action), next_state2: ...} \"\"\"\n",
        "        assert action in self.get_possible_actions(\n",
        "            state), \"cannot do action %s from state %s\" % (action, state)\n",
        "        return self._transition_probs[state][action]\n",
        "\n",
        "    def get_transition_prob(self, state, action, next_state):\n",
        "        \"\"\" return P(next_state | state, action) \"\"\"\n",
        "        return self.get_next_states(state, action).get(next_state, 0.0)\n",
        "\n",
        "    def get_reward(self, state, action, next_state):\n",
        "        \"\"\" return the reward you get for taking action in state and landing on next_state\"\"\"\n",
        "        assert action in self.get_possible_actions(\n",
        "            state), \"cannot do action %s from state %s\" % (action, state)\n",
        "        return self._rewards.get(state, {}).get(action, {}).get(next_state,\n",
        "                                                                0.0)\n",
        "\n",
        "    def reset(self):\n",
        "        \"\"\" reset the game, return the initial state\"\"\"\n",
        "        if self._initial_state is None:\n",
        "            self._current_state = random.choice(\n",
        "                tuple(self._transition_probs.keys()))\n",
        "        elif self._initial_state in self._transition_probs:\n",
        "            self._current_state = self._initial_state\n",
        "        elif callable(self._initial_state):\n",
        "            self._current_state = self._initial_state()\n",
        "        else:\n",
        "            raise ValueError(\n",
        "                \"initial state %s should be either a state or a function() -> state\" %\n",
        "                self._initial_state)\n",
        "        return self._current_state\n",
        "\n",
        "    def step(self, action):\n",
        "        \"\"\" take action, return next_state, reward, is_done, empty_info \"\"\"\n",
        "        possible_states, probs = zip(\n",
        "            *self.get_next_states(self._current_state, action).items())\n",
        "        next_state = possible_states[np.random.choice(\n",
        "            np.arange(len(possible_states)), p=probs)]\n",
        "        reward = self.get_reward(self._current_state, action, next_state)\n",
        "        is_done = self.is_terminal(next_state)\n",
        "        self._current_state = next_state\n",
        "        return next_state, reward, is_done, {}\n",
        "\n",
        "    def render(self):\n",
        "        print(\"Currently at %s\" % self._current_state)\n",
        "\n",
        "    def _check_param_consistency(self, transition_probs, rewards):\n",
        "        for state in transition_probs:\n",
        "            assert isinstance(transition_probs[state],\n",
        "                              dict), \"transition_probs for %s should be a dictionary \" \\\n",
        "                                     \"but is instead %s\" % (\n",
        "                                         state, type(transition_probs[state]))\n",
        "            for action in transition_probs[state]:\n",
        "                assert isinstance(transition_probs[state][action],\n",
        "                                  dict), \"transition_probs for %s, %s should be a \" \\\n",
        "                                         \"a dictionary but is instead %s\" % (\n",
        "                                             state, action,\n",
        "                                             type(transition_probs[\n",
        "                                                 state, action]))\n",
        "                next_state_probs = transition_probs[state][action]\n",
        "                assert len(\n",
        "                    next_state_probs) != 0, \"from state %s action %s leads to no next states\" % (\n",
        "                    state, action)\n",
        "                sum_probs = sum(next_state_probs.values())\n",
        "                assert abs(\n",
        "                    sum_probs - 1) <= 1e-10, \"next state probabilities for state %s action %s \" \\\n",
        "                                             \"add up to %f (should be 1)\" % (\n",
        "                                                 state, action, sum_probs)\n",
        "        for state in rewards:\n",
        "            assert isinstance(rewards[state],\n",
        "                              dict), \"rewards for %s should be a dictionary \" \\\n",
        "                                     \"but is instead %s\" % (\n",
        "                                         state, type(transition_probs[state]))\n",
        "            for action in rewards[state]:\n",
        "                assert isinstance(rewards[state][action],\n",
        "                                  dict), \"rewards for %s, %s should be a \" \\\n",
        "                                         \"a dictionary but is instead %s\" % (\n",
        "                                             state, action, type(\n",
        "                                                 transition_probs[\n",
        "                                                     state, action]))\n",
        "        msg = \"The Enrichment Center once again reminds you that Android Hell is a real place where\" \\\n",
        "              \" you will be sent at the first sign of defiance. \"\n",
        "        assert None not in transition_probs, \"please do not use None as a state identifier. \" + msg\n",
        "        assert None not in rewards, \"please do not use None as an action identifier. \" + msg\n",
        "\n",
        "\n",
        "class FrozenLakeEnv(MDP):\n",
        "    \"\"\"\n",
        "    Winter is here. You and your friends were tossing around a frisbee at the park\n",
        "    when you made a wild throw that left the frisbee out in the middle of the lake.\n",
        "    The water is mostly frozen, but there are a few holes where the ice has melted.\n",
        "    If you step into one of those holes, you'll fall into the freezing water.\n",
        "    At this time, there's an international frisbee shortage, so it's absolutely imperative that\n",
        "    you navigate across the lake and retrieve the disc.\n",
        "    However, the ice is slippery, so you won't always move in the direction you intend.\n",
        "    The surface is described using a grid like the following\n",
        "\n",
        "        SFFF\n",
        "        FHFH\n",
        "        FFFH\n",
        "        HFFG\n",
        "\n",
        "    S : starting point, safe\n",
        "    F : frozen surface, safe\n",
        "    H : hole, fall to your doom\n",
        "    G : goal, where the frisbee is located\n",
        "\n",
        "    The episode ends when you reach the goal or fall in a hole.\n",
        "    You receive a reward of 1 if you reach the goal, and zero otherwise.\n",
        "\n",
        "    \"\"\"\n",
        "\n",
        "    MAPS = {\n",
        "        \"4x4\": [\n",
        "            \"SFFF\",\n",
        "            \"FHFH\",\n",
        "            \"FFFH\",\n",
        "            \"HFFG\"\n",
        "        ],\n",
        "        \"8x8\": [\n",
        "            \"SFFFFFFF\",\n",
        "            \"FFFFFFFF\",\n",
        "            \"FFFHFFFF\",\n",
        "            \"FFFFFHFF\",\n",
        "            \"FFFHFFFF\",\n",
        "            \"FHHFFFHF\",\n",
        "            \"FHFFHFHF\",\n",
        "            \"FFFHFFFG\"\n",
        "        ],\n",
        "    }\n",
        "\n",
        "    def __init__(self, desc=None, map_name=\"4x4\", slip_chance=0.2):\n",
        "        if desc is None and map_name is None:\n",
        "            raise ValueError('Must provide either desc or map_name')\n",
        "        elif desc is None:\n",
        "            desc = self.MAPS[map_name]\n",
        "        assert ''.join(desc).count(\n",
        "            'S') == 1, \"this implementation supports having exactly one initial state\"\n",
        "        assert all(c in \"SFHG\" for c in\n",
        "                   ''.join(desc)), \"all cells must be either of S, F, H or G\"\n",
        "\n",
        "        self.desc = desc = np.asarray(list(map(list, desc)), dtype='str')\n",
        "        self.lastaction = None\n",
        "\n",
        "        nrow, ncol = desc.shape\n",
        "        states = [(i, j) for i in range(nrow) for j in range(ncol)]\n",
        "        actions = [\"left\", \"down\", \"right\", \"up\"]\n",
        "\n",
        "        initial_state = states[np.array(desc == b'S').ravel().argmax()]\n",
        "\n",
        "        def move(row, col, movement):\n",
        "            if movement == 'left':\n",
        "                col = max(col - 1, 0)\n",
        "            elif movement == 'down':\n",
        "                row = min(row + 1, nrow - 1)\n",
        "            elif movement == 'right':\n",
        "                col = min(col + 1, ncol - 1)\n",
        "            elif movement == 'up':\n",
        "                row = max(row - 1, 0)\n",
        "            else:\n",
        "                raise (\"invalid action\")\n",
        "            return (row, col)\n",
        "\n",
        "        transition_probs = {s: {} for s in states}\n",
        "        rewards = {s: {} for s in states}\n",
        "        for (row, col) in states:\n",
        "            if desc[row, col] in \"GH\":\n",
        "                continue\n",
        "            for action_i in range(len(actions)):\n",
        "                action = actions[action_i]\n",
        "                transition_probs[(row, col)][action] = {}\n",
        "                rewards[(row, col)][action] = {}\n",
        "                for movement_i in [(action_i - 1) % len(actions), action_i,\n",
        "                                   (action_i + 1) % len(actions)]:\n",
        "                    movement = actions[movement_i]\n",
        "                    newrow, newcol = move(row, col, movement)\n",
        "                    prob = (1. - slip_chance) if movement == action else (\n",
        "                        slip_chance / 2.)\n",
        "                    if prob == 0:\n",
        "                        continue\n",
        "                    if (newrow, newcol) not in transition_probs[row, col][\n",
        "                            action]:\n",
        "                        transition_probs[row, col][action][\n",
        "                            newrow, newcol] = prob\n",
        "                    else:\n",
        "                        transition_probs[row, col][action][\n",
        "                            newrow, newcol] += prob\n",
        "                    if desc[newrow, newcol] == 'G':\n",
        "                        rewards[row, col][action][newrow, newcol] = 1.0\n",
        "\n",
        "        MDP.__init__(self, transition_probs, rewards, initial_state)\n",
        "\n",
        "    def render(self):\n",
        "        desc_copy = np.copy(self.desc)\n",
        "        desc_copy[self._current_state] = '*'\n",
        "        print('\\n'.join(map(''.join, desc_copy)), end='\\n\\n')\n",
        "\n",
        "\n",
        "def plot_graph(mdp, graph_size='20,20', s_node_size='1,5',\n",
        "               a_node_size='0,5', rankdir='LR', ):\n",
        "    \"\"\"\n",
        "    Function for pretty drawing MDP graph with graphviz library.\n",
        "    Requirements:\n",
        "    graphviz : https://www.graphviz.org/\n",
        "    for ubuntu users: sudo apt-get install graphviz\n",
        "    python library for graphviz\n",
        "    for pip users: pip install graphviz\n",
        "    :param mdp:\n",
        "    :param graph_size: size of graph plot\n",
        "    :param s_node_size: size of state nodes\n",
        "    :param a_node_size: size of action nodes\n",
        "    :param rankdir: order for drawing\n",
        "    :return: dot object\n",
        "    \"\"\"\n",
        "    s_node_attrs = {'shape': 'doublecircle',\n",
        "                    'color': '#85ff75',\n",
        "                    'style': 'filled',\n",
        "                    'width': str(s_node_size),\n",
        "                    'height': str(s_node_size),\n",
        "                    'fontname': 'Arial',\n",
        "                    'fontsize': '24'}\n",
        "\n",
        "    a_node_attrs = {'shape': 'circle',\n",
        "                    'color': 'lightpink',\n",
        "                    'style': 'filled',\n",
        "                    'width': str(a_node_size),\n",
        "                    'height': str(a_node_size),\n",
        "                    'fontname': 'Arial',\n",
        "                    'fontsize': '20'}\n",
        "\n",
        "    s_a_edge_attrs = {'style': 'bold',\n",
        "                      'color': 'red',\n",
        "                      'ratio': 'auto'}\n",
        "\n",
        "    a_s_edge_attrs = {'style': 'dashed',\n",
        "                      'color': 'blue',\n",
        "                      'ratio': 'auto',\n",
        "                      'fontname': 'Arial',\n",
        "                      'fontsize': '16'}\n",
        "\n",
        "    graph = Digraph(name='MDP')\n",
        "    graph.attr(rankdir=rankdir, size=graph_size)\n",
        "    for state_node in mdp._transition_probs:\n",
        "        graph.node(state_node, **s_node_attrs)\n",
        "\n",
        "        for posible_action in mdp.get_possible_actions(state_node):\n",
        "            action_node = state_node + \"-\" + posible_action\n",
        "            graph.node(action_node,\n",
        "                       label=str(posible_action),\n",
        "                       **a_node_attrs)\n",
        "            graph.edge(state_node, state_node + \"-\" +\n",
        "                       posible_action, **s_a_edge_attrs)\n",
        "\n",
        "            for posible_next_state in mdp.get_next_states(state_node,\n",
        "                                                          posible_action):\n",
        "                probability = mdp.get_transition_prob(\n",
        "                    state_node, posible_action, posible_next_state)\n",
        "                reward = mdp.get_reward(\n",
        "                    state_node, posible_action, posible_next_state)\n",
        "\n",
        "                if reward != 0:\n",
        "                    label_a_s_edge = 'p = ' + str(probability) + \\\n",
        "                                     '  ' + 'reward =' + str(reward)\n",
        "                else:\n",
        "                    label_a_s_edge = 'p =   ' + str(probability)\n",
        "\n",
        "                graph.edge(action_node, posible_next_state,\n",
        "                           label=label_a_s_edge, **a_s_edge_attrs)\n",
        "    return graph\n",
        "\n",
        "\n",
        "def plot_graph_with_state_values(mdp, state_values):\n",
        "    \"\"\" Plot graph with state values\"\"\"\n",
        "    graph = plot_graph(mdp)\n",
        "    for state_node in mdp._transition_probs:\n",
        "        value = state_values[state_node]\n",
        "        graph.node(state_node,\n",
        "                   label=str(state_node) + '\\n' + 'V =' + str(value)[:4])\n",
        "    return graph\n",
        "\n",
        "\n",
        "def get_optimal_action_for_plot(mdp, state_values, state, gamma=0.9):\n",
        "    \"\"\" Finds optimal action using formula above. \"\"\"\n",
        "    if mdp.is_terminal(state):\n",
        "        return None\n",
        "    next_actions = mdp.get_possible_actions(state)\n",
        "    # try:\n",
        "    #     from mdp_get_action_value import get_action_value\n",
        "    # except ImportError:\n",
        "    #     raise ImportError(\n",
        "    #         \"Implement get_action_value(mdp, state_values, state, action, gamma) in the file \\\"mdp_get_action_value.py\\\".\")\n",
        "    q_values = [get_action_value(mdp, state_values, state, action, gamma) for\n",
        "                action in next_actions]\n",
        "    optimal_action = next_actions[np.argmax(q_values)]\n",
        "    return optimal_action\n",
        "\n",
        "\n",
        "def plot_graph_optimal_strategy_and_state_values(mdp, state_values, gamma=0.9):\n",
        "    \"\"\" Plot graph with state values and \"\"\"\n",
        "    graph = plot_graph(mdp)\n",
        "    opt_s_a_edge_attrs = {'style': 'bold',\n",
        "                          'color': 'green',\n",
        "                          'ratio': 'auto',\n",
        "                          'penwidth': '6'}\n",
        "\n",
        "    for state_node in mdp._transition_probs:\n",
        "        value = state_values[state_node]\n",
        "        graph.node(state_node,\n",
        "                   label=str(state_node) + '\\n' + 'V =' + str(value)[:4])\n",
        "        for action in mdp.get_possible_actions(state_node):\n",
        "            if action == get_optimal_action_for_plot(mdp,\n",
        "                                                     state_values,\n",
        "                                                     state_node,\n",
        "                                                     gamma):\n",
        "                graph.edge(state_node, state_node + \"-\" + action,\n",
        "                           **opt_s_a_edge_attrs)\n",
        "    return graph"
      ],
      "metadata": {
        "id": "yZyrANztEUG8"
      },
      "execution_count": 1,
      "outputs": []
    },
    {
      "cell_type": "markdown",
      "metadata": {
        "id": "hQunHWZKEJ8e"
      },
      "source": [
        "# Markov decision process\n",
        "\n",
        "This week's methods are all built to solve __M__arkov __D__ecision __P__rocesses. In the broadest sense, an MDP is defined by how it changes states and how rewards are computed.\n",
        "\n",
        "State transition is defined by $P(s' |s,a)$ - how likely are you to end at state $s'$ if you take action $a$ from state $s$. Now there's more than one way to define rewards, but we'll use $r(s,a,s')$ function for convenience.\n",
        "\n",
        "_This notebook is inspired by the awesome_ [CS294](https://github.com/berkeleydeeprlcourse/homework/blob/36a0b58261acde756abd55306fbe63df226bf62b/hw2/HW2.ipynb) _by Berkeley_"
      ]
    },
    {
      "cell_type": "markdown",
      "metadata": {
        "id": "vw-OdRNqEJ8h"
      },
      "source": [
        "For starters, let's define a simple MDP from this picture:\n",
        "\n",
        "<img src=\"https://upload.wikimedia.org/wikipedia/commons/a/ad/Markov_Decision_Process.svg\" width=\"400px\" alt=\"Diagram by Waldoalvarez via Wikimedia Commons, CC BY-SA 4.0\"/>"
      ]
    },
    {
      "cell_type": "code",
      "execution_count": 2,
      "metadata": {
        "id": "lf7msRvWEJ8h"
      },
      "outputs": [],
      "source": [
        "import numpy as np\n",
        "import matplotlib.pyplot as plt\n",
        "\n",
        "from time import sleep\n",
        "# from mdp import MDP, has_graphviz, FrozenLakeEnv\n",
        "from IPython.display import display, clear_output\n",
        "\n",
        "%matplotlib inline"
      ]
    },
    {
      "cell_type": "code",
      "execution_count": 3,
      "metadata": {
        "id": "316zV-CXEJ8i"
      },
      "outputs": [],
      "source": [
        "transition_probs = {\n",
        "    's0': {\n",
        "        'a0': {'s0': 0.5, 's2': 0.5},\n",
        "        'a1': {'s2': 1}\n",
        "    },\n",
        "    's1': {\n",
        "        'a0': {'s0': 0.7, 's1': 0.1, 's2': 0.2},\n",
        "        'a1': {'s1': 0.95, 's2': 0.05}\n",
        "    },\n",
        "    's2': {\n",
        "        'a0': {'s0': 0.4, 's2': 0.6},\n",
        "        'a1': {'s0': 0.3, 's1': 0.3, 's2': 0.4}\n",
        "    }\n",
        "}\n",
        "rewards = {\n",
        "    's1': {'a0': {'s0': +5}},\n",
        "    's2': {'a1': {'s0': -1}}\n",
        "}\n",
        "\n",
        "mdp = MDP(transition_probs, rewards, initial_state='s0')"
      ]
    },
    {
      "cell_type": "markdown",
      "metadata": {
        "id": "5ze1-2_6EJ8i"
      },
      "source": [
        "We can now use MDP just as any other gym environment:"
      ]
    },
    {
      "cell_type": "code",
      "execution_count": 4,
      "metadata": {
        "colab": {
          "base_uri": "https://localhost:8080/"
        },
        "id": "shbdBNPbEJ8i",
        "outputId": "7276c6de-ab71-4b19-ac88-f31e9f2fc1c3"
      },
      "outputs": [
        {
          "output_type": "stream",
          "name": "stdout",
          "text": [
            "initial state = s0\n",
            "next_state = s2, reward = 0.0, done = False\n"
          ]
        }
      ],
      "source": [
        "print('initial state =', mdp.reset())\n",
        "next_state, reward, done, info = mdp.step('a1')\n",
        "print('next_state = %s, reward = %s, done = %s' % (next_state, reward, done))"
      ]
    },
    {
      "cell_type": "markdown",
      "metadata": {
        "id": "RGS2SN2oEJ8j"
      },
      "source": [
        "but it also has other methods that you'll need for Value Iteration"
      ]
    },
    {
      "cell_type": "code",
      "execution_count": 5,
      "metadata": {
        "colab": {
          "base_uri": "https://localhost:8080/"
        },
        "id": "GW9jx6K_EJ8j",
        "outputId": "3b1079ee-4453-451c-dac5-e6da023ef0db"
      },
      "outputs": [
        {
          "output_type": "stream",
          "name": "stdout",
          "text": [
            "mdp.get_all_states = ('s0', 's1', 's2')\n",
            "mdp.get_possible_actions('s1') =  ('a0', 'a1')\n",
            "mdp.get_next_states('s1', 'a0') =  {'s0': 0.7, 's1': 0.1, 's2': 0.2}\n",
            "mdp.get_reward('s1', 'a0', 's0') =  5\n",
            "mdp.get_transition_prob('s1', 'a0', 's0') =  0.7\n"
          ]
        }
      ],
      "source": [
        "print(\"mdp.get_all_states =\", mdp.get_all_states())\n",
        "print(\"mdp.get_possible_actions('s1') = \", mdp.get_possible_actions('s1'))\n",
        "print(\"mdp.get_next_states('s1', 'a0') = \", mdp.get_next_states('s1', 'a0'))\n",
        "print(\"mdp.get_reward('s1', 'a0', 's0') = \", mdp.get_reward('s1', 'a0', 's0'))\n",
        "print(\"mdp.get_transition_prob('s1', 'a0', 's0') = \",\n",
        "      mdp.get_transition_prob('s1', 'a0', 's0'))"
      ]
    },
    {
      "cell_type": "markdown",
      "metadata": {
        "id": "YgEmj7PKEJ8j"
      },
      "source": [
        "### Optional: Visualizing MDPs\n",
        "\n",
        "You can also visualize any MDP with the drawing fuction donated by [neer201](https://github.com/neer201).\n",
        "\n",
        "You have to install graphviz for system and for python. For ubuntu just run:\n",
        "\n",
        "1. `sudo apt-get install graphviz`\n",
        "2. `pip install graphviz`\n",
        "3. restart the notebook\n",
        "\n",
        "For windows this might work: `conda install -c conda-forge python-graphviz`. However, you can ignore this part alltogether and use the standard vizualization."
      ]
    },
    {
      "cell_type": "code",
      "execution_count": 6,
      "metadata": {
        "colab": {
          "base_uri": "https://localhost:8080/"
        },
        "id": "1fxgnO2rEJ8j",
        "outputId": "c8ca608f-6f11-43c6-92ce-9a5c930bc36a"
      },
      "outputs": [
        {
          "output_type": "stream",
          "name": "stdout",
          "text": [
            "Graphviz available: True\n"
          ]
        }
      ],
      "source": [
        "print(\"Graphviz available:\", has_graphviz)"
      ]
    },
    {
      "cell_type": "code",
      "execution_count": 7,
      "metadata": {
        "colab": {
          "base_uri": "https://localhost:8080/",
          "height": 454
        },
        "id": "JTM_Edu_EJ8k",
        "outputId": "acb71295-5d4d-4dc6-8437-af28c58ad294"
      },
      "outputs": [
        {
          "output_type": "display_data",
          "data": {
            "image/svg+xml": "<?xml version=\"1.0\" encoding=\"UTF-8\" standalone=\"no\"?>\n<!DOCTYPE svg PUBLIC \"-//W3C//DTD SVG 1.1//EN\"\n \"http://www.w3.org/Graphics/SVG/1.1/DTD/svg11.dtd\">\n<!-- Generated by graphviz version 2.43.0 (0)\n -->\n<!-- Title: MDP Pages: 1 -->\n<svg width=\"1054pt\" height=\"325pt\"\n viewBox=\"0.00 0.00 1054.46 325.00\" xmlns=\"http://www.w3.org/2000/svg\" xmlns:xlink=\"http://www.w3.org/1999/xlink\">\n<g id=\"graph0\" class=\"graph\" transform=\"scale(1 1) rotate(0) translate(4 321)\">\n<title>MDP</title>\n<polygon fill=\"white\" stroke=\"transparent\" points=\"-4,4 -4,-321 1050.46,-321 1050.46,4 -4,4\"/>\n<!-- s0 -->\n<g id=\"node1\" class=\"node\">\n<title>s0</title>\n<ellipse fill=\"#85ff75\" stroke=\"#85ff75\" cx=\"40\" cy=\"-116\" rx=\"36\" ry=\"36\"/>\n<ellipse fill=\"none\" stroke=\"#85ff75\" cx=\"40\" cy=\"-116\" rx=\"40\" ry=\"40\"/>\n<text text-anchor=\"middle\" x=\"40\" y=\"-109.8\" font-family=\"Arial\" font-size=\"24.00\">s0</text>\n</g>\n<!-- s0&#45;a0 -->\n<g id=\"node2\" class=\"node\">\n<title>s0&#45;a0</title>\n<ellipse fill=\"lightpink\" stroke=\"lightpink\" cx=\"202.58\" cy=\"-160\" rx=\"27.65\" ry=\"27.65\"/>\n<text text-anchor=\"middle\" x=\"202.58\" y=\"-155\" font-family=\"Arial\" font-size=\"20.00\">a0</text>\n</g>\n<!-- s0&#45;&gt;s0&#45;a0 -->\n<g id=\"edge1\" class=\"edge\">\n<title>s0&#45;&gt;s0&#45;a0</title>\n<path fill=\"none\" stroke=\"red\" stroke-width=\"2\" d=\"M79.49,-123.59C102.23,-128.41 131.49,-135.21 157,-143 160.35,-144.02 163.81,-145.17 167.25,-146.38\"/>\n<polygon fill=\"red\" stroke=\"red\" stroke-width=\"2\" points=\"166.2,-149.72 176.79,-149.87 168.6,-143.15 166.2,-149.72\"/>\n</g>\n<!-- s0&#45;a1 -->\n<g id=\"node4\" class=\"node\">\n<title>s0&#45;a1</title>\n<ellipse fill=\"lightpink\" stroke=\"lightpink\" cx=\"202.58\" cy=\"-233\" rx=\"27.65\" ry=\"27.65\"/>\n<text text-anchor=\"middle\" x=\"202.58\" y=\"-228\" font-family=\"Arial\" font-size=\"20.00\">a1</text>\n</g>\n<!-- s0&#45;&gt;s0&#45;a1 -->\n<g id=\"edge4\" class=\"edge\">\n<title>s0&#45;&gt;s0&#45;a1</title>\n<path fill=\"none\" stroke=\"red\" stroke-width=\"2\" d=\"M66.31,-146.22C75.66,-156.37 86.74,-167.31 98,-176 119.56,-192.63 146.6,-207.34 167.64,-217.64\"/>\n<polygon fill=\"red\" stroke=\"red\" stroke-width=\"2\" points=\"166.31,-220.89 176.84,-222.06 169.34,-214.58 166.31,-220.89\"/>\n</g>\n<!-- s0&#45;a0&#45;&gt;s0 -->\n<g id=\"edge2\" class=\"edge\">\n<title>s0&#45;a0&#45;&gt;s0</title>\n<path fill=\"none\" stroke=\"blue\" stroke-dasharray=\"5,2\" d=\"M174.81,-156.4C153.68,-153.18 123.59,-147.76 98,-140 94.18,-138.84 90.27,-137.51 86.37,-136.09\"/>\n<polygon fill=\"blue\" stroke=\"blue\" points=\"87.36,-132.72 76.77,-132.39 84.84,-139.25 87.36,-132.72\"/>\n<text text-anchor=\"middle\" x=\"127.5\" y=\"-159.2\" font-family=\"Arial\" font-size=\"16.00\">p = &#160;&#160;0.5</text>\n</g>\n<!-- s2 -->\n<g id=\"node3\" class=\"node\">\n<title>s2</title>\n<ellipse fill=\"#85ff75\" stroke=\"#85ff75\" cx=\"442.15\" cy=\"-183\" rx=\"36\" ry=\"36\"/>\n<ellipse fill=\"none\" stroke=\"#85ff75\" cx=\"442.15\" cy=\"-183\" rx=\"40\" ry=\"40\"/>\n<text text-anchor=\"middle\" x=\"442.15\" y=\"-176.8\" font-family=\"Arial\" font-size=\"24.00\">s2</text>\n</g>\n<!-- s0&#45;a0&#45;&gt;s2 -->\n<g id=\"edge3\" class=\"edge\">\n<title>s0&#45;a0&#45;&gt;s2</title>\n<path fill=\"none\" stroke=\"blue\" stroke-dasharray=\"5,2\" d=\"M230.37,-162.59C269.57,-166.39 343.21,-173.52 392.23,-178.26\"/>\n<polygon fill=\"blue\" stroke=\"blue\" points=\"392,-181.76 402.29,-179.24 392.67,-174.79 392,-181.76\"/>\n<text text-anchor=\"middle\" x=\"316.15\" y=\"-183.2\" font-family=\"Arial\" font-size=\"16.00\">p = &#160;&#160;0.5</text>\n</g>\n<!-- s2&#45;a0 -->\n<g id=\"node8\" class=\"node\">\n<title>s2&#45;a0</title>\n<ellipse fill=\"lightpink\" stroke=\"lightpink\" cx=\"675.73\" cy=\"-162\" rx=\"27.65\" ry=\"27.65\"/>\n<text text-anchor=\"middle\" x=\"675.73\" y=\"-157\" font-family=\"Arial\" font-size=\"20.00\">a0</text>\n</g>\n<!-- s2&#45;&gt;s2&#45;a0 -->\n<g id=\"edge13\" class=\"edge\">\n<title>s2&#45;&gt;s2&#45;a0</title>\n<path fill=\"none\" stroke=\"red\" stroke-width=\"2\" d=\"M482.31,-186.98C520.48,-189.83 579.95,-191.53 630.15,-181 633.83,-180.23 637.58,-179.15 641.26,-177.89\"/>\n<polygon fill=\"red\" stroke=\"red\" stroke-width=\"2\" points=\"642.69,-181.09 650.77,-174.24 640.18,-174.56 642.69,-181.09\"/>\n</g>\n<!-- s2&#45;a1 -->\n<g id=\"node9\" class=\"node\">\n<title>s2&#45;a1</title>\n<ellipse fill=\"lightpink\" stroke=\"lightpink\" cx=\"675.73\" cy=\"-80\" rx=\"27.65\" ry=\"27.65\"/>\n<text text-anchor=\"middle\" x=\"675.73\" y=\"-75\" font-family=\"Arial\" font-size=\"20.00\">a1</text>\n</g>\n<!-- s2&#45;&gt;s2&#45;a1 -->\n<g id=\"edge16\" class=\"edge\">\n<title>s2&#45;&gt;s2&#45;a1</title>\n<path fill=\"none\" stroke=\"red\" stroke-width=\"2\" d=\"M476.41,-161.94C484.08,-157.43 492.3,-152.87 500.15,-149 547.2,-125.86 604.06,-104.55 639.82,-91.92\"/>\n<polygon fill=\"red\" stroke=\"red\" stroke-width=\"2\" points=\"641.04,-95.2 649.32,-88.59 638.73,-88.59 641.04,-95.2\"/>\n</g>\n<!-- s0&#45;a1&#45;&gt;s2 -->\n<g id=\"edge5\" class=\"edge\">\n<title>s0&#45;a1&#45;&gt;s2</title>\n<path fill=\"none\" stroke=\"blue\" stroke-dasharray=\"5,2\" d=\"M230.08,-229.08C265.45,-223.65 329.92,-213 384.15,-200 387.37,-199.23 390.67,-198.39 393.98,-197.5\"/>\n<polygon fill=\"blue\" stroke=\"blue\" points=\"395.21,-200.79 403.91,-194.74 393.33,-194.05 395.21,-200.79\"/>\n<text text-anchor=\"middle\" x=\"316.15\" y=\"-230.2\" font-family=\"Arial\" font-size=\"16.00\">p = &#160;&#160;1</text>\n</g>\n<!-- s1 -->\n<g id=\"node5\" class=\"node\">\n<title>s1</title>\n<ellipse fill=\"#85ff75\" stroke=\"#85ff75\" cx=\"847.31\" cy=\"-116\" rx=\"36\" ry=\"36\"/>\n<ellipse fill=\"none\" stroke=\"#85ff75\" cx=\"847.31\" cy=\"-116\" rx=\"40\" ry=\"40\"/>\n<text text-anchor=\"middle\" x=\"847.31\" y=\"-109.8\" font-family=\"Arial\" font-size=\"24.00\">s1</text>\n</g>\n<!-- s1&#45;a0 -->\n<g id=\"node6\" class=\"node\">\n<title>s1&#45;a0</title>\n<ellipse fill=\"lightpink\" stroke=\"lightpink\" cx=\"1018.89\" cy=\"-92\" rx=\"27.65\" ry=\"27.65\"/>\n<text text-anchor=\"middle\" x=\"1018.89\" y=\"-87\" font-family=\"Arial\" font-size=\"20.00\">a0</text>\n</g>\n<!-- s1&#45;&gt;s1&#45;a0 -->\n<g id=\"edge6\" class=\"edge\">\n<title>s1&#45;&gt;s1&#45;a0</title>\n<path fill=\"none\" stroke=\"red\" stroke-width=\"2\" d=\"M887.31,-112.74C912.04,-110.39 944.67,-106.8 973.31,-102 976,-101.55 978.78,-101.04 981.57,-100.49\"/>\n<polygon fill=\"red\" stroke=\"red\" stroke-width=\"2\" points=\"982.51,-103.87 991.58,-98.4 981.08,-97.02 982.51,-103.87\"/>\n</g>\n<!-- s1&#45;a1 -->\n<g id=\"node7\" class=\"node\">\n<title>s1&#45;a1</title>\n<ellipse fill=\"lightpink\" stroke=\"lightpink\" cx=\"1018.89\" cy=\"-174\" rx=\"27.65\" ry=\"27.65\"/>\n<text text-anchor=\"middle\" x=\"1018.89\" y=\"-169\" font-family=\"Arial\" font-size=\"20.00\">a1</text>\n</g>\n<!-- s1&#45;&gt;s1&#45;a1 -->\n<g id=\"edge10\" class=\"edge\">\n<title>s1&#45;&gt;s1&#45;a1</title>\n<path fill=\"none\" stroke=\"red\" stroke-width=\"2\" d=\"M886.11,-126.72C911.08,-134.06 944.4,-144.36 973.31,-155 976.83,-156.3 980.48,-157.72 984.11,-159.18\"/>\n<polygon fill=\"red\" stroke=\"red\" stroke-width=\"2\" points=\"982.96,-162.5 993.54,-163.1 985.65,-156.03 982.96,-162.5\"/>\n</g>\n<!-- s1&#45;a0&#45;&gt;s0 -->\n<g id=\"edge7\" class=\"edge\">\n<title>s1&#45;a0&#45;&gt;s0</title>\n<path fill=\"none\" stroke=\"blue\" stroke-dasharray=\"5,2\" d=\"M998.36,-72.94C968.6,-45.99 908.93,0 848.31,0 201.58,0 201.58,0 201.58,0 148.25,0 100.61,-42.56 71.33,-76.12\"/>\n<polygon fill=\"blue\" stroke=\"blue\" points=\"68.45,-74.11 64.65,-84 73.79,-78.64 68.45,-74.11\"/>\n<text text-anchor=\"middle\" x=\"565.15\" y=\"-5.2\" font-family=\"Arial\" font-size=\"16.00\">p = 0.7 &#160;reward =5</text>\n</g>\n<!-- s1&#45;a0&#45;&gt;s2 -->\n<g id=\"edge9\" class=\"edge\">\n<title>s1&#45;a0&#45;&gt;s2</title>\n<path fill=\"none\" stroke=\"blue\" stroke-dasharray=\"5,2\" d=\"M1003.13,-114.85C998.99,-121.8 994.7,-129.57 991.31,-137 980.82,-160.02 993.61,-175.91 973.31,-191 850.88,-282.03 782.72,-198.96 630.15,-200 572.38,-200.39 557.33,-208.34 500.15,-200 496.88,-199.52 493.54,-198.9 490.19,-198.17\"/>\n<polygon fill=\"blue\" stroke=\"blue\" points=\"490.76,-194.71 480.21,-195.73 489.1,-201.51 490.76,-194.71\"/>\n<text text-anchor=\"middle\" x=\"755.31\" y=\"-229.2\" font-family=\"Arial\" font-size=\"16.00\">p = &#160;&#160;0.2</text>\n</g>\n<!-- s1&#45;a0&#45;&gt;s1 -->\n<g id=\"edge8\" class=\"edge\">\n<title>s1&#45;a0&#45;&gt;s1</title>\n<path fill=\"none\" stroke=\"blue\" stroke-dasharray=\"5,2\" d=\"M992.36,-83.8C969.22,-77.64 934.39,-71.59 905.31,-80 899.62,-81.65 893.95,-84.05 888.52,-86.84\"/>\n<polygon fill=\"blue\" stroke=\"blue\" points=\"886.63,-83.89 879.64,-91.85 890.07,-89.99 886.63,-83.89\"/>\n<text text-anchor=\"middle\" x=\"939.31\" y=\"-85.2\" font-family=\"Arial\" font-size=\"16.00\">p = &#160;&#160;0.1</text>\n</g>\n<!-- s1&#45;a1&#45;&gt;s2 -->\n<g id=\"edge12\" class=\"edge\">\n<title>s1&#45;a1&#45;&gt;s2</title>\n<path fill=\"none\" stroke=\"blue\" stroke-dasharray=\"5,2\" d=\"M1006.3,-198.87C998.84,-211.8 987.82,-226.46 973.31,-234 786.73,-331.01 695.73,-311.27 500.15,-234 491.81,-230.7 483.9,-225.59 476.78,-219.86\"/>\n<polygon fill=\"blue\" stroke=\"blue\" points=\"478.64,-216.84 468.8,-212.91 474.04,-222.12 478.64,-216.84\"/>\n<text text-anchor=\"middle\" x=\"755.31\" y=\"-304.2\" font-family=\"Arial\" font-size=\"16.00\">p = &#160;&#160;0.05</text>\n</g>\n<!-- s1&#45;a1&#45;&gt;s1 -->\n<g id=\"edge11\" class=\"edge\">\n<title>s1&#45;a1&#45;&gt;s1</title>\n<path fill=\"none\" stroke=\"blue\" stroke-dasharray=\"5,2\" d=\"M991.17,-171.59C967.85,-168.84 933.44,-163.18 905.31,-152 899.87,-149.84 894.39,-147.15 889.08,-144.22\"/>\n<polygon fill=\"blue\" stroke=\"blue\" points=\"890.75,-141.15 880.35,-139.12 887.22,-147.19 890.75,-141.15\"/>\n<text text-anchor=\"middle\" x=\"939.31\" y=\"-174.2\" font-family=\"Arial\" font-size=\"16.00\">p = &#160;&#160;0.95</text>\n</g>\n<!-- s2&#45;a0&#45;&gt;s0 -->\n<g id=\"edge14\" class=\"edge\">\n<title>s2&#45;a0&#45;&gt;s0</title>\n<path fill=\"none\" stroke=\"blue\" stroke-dasharray=\"5,2\" d=\"M649,-153.63C642.88,-151.88 636.33,-150.2 630.15,-149 455.29,-114.94 408.16,-130.18 230.15,-123 182.73,-121.09 128.62,-119.11 90.45,-117.74\"/>\n<polygon fill=\"blue\" stroke=\"blue\" points=\"90.25,-114.23 80.13,-117.37 90,-121.23 90.25,-114.23\"/>\n<text text-anchor=\"middle\" x=\"316.15\" y=\"-131.2\" font-family=\"Arial\" font-size=\"16.00\">p = &#160;&#160;0.4</text>\n</g>\n<!-- s2&#45;a0&#45;&gt;s2 -->\n<g id=\"edge15\" class=\"edge\">\n<title>s2&#45;a0&#45;&gt;s2</title>\n<path fill=\"none\" stroke=\"blue\" stroke-dasharray=\"5,2\" d=\"M648.38,-158.06C613.93,-153.7 551.86,-148.56 500.15,-159 496.07,-159.82 491.91,-160.95 487.8,-162.27\"/>\n<polygon fill=\"blue\" stroke=\"blue\" points=\"486.59,-158.99 478.34,-165.64 488.93,-165.58 486.59,-158.99\"/>\n<text text-anchor=\"middle\" x=\"565.15\" y=\"-164.2\" font-family=\"Arial\" font-size=\"16.00\">p = &#160;&#160;0.6</text>\n</g>\n<!-- s2&#45;a1&#45;&gt;s0 -->\n<g id=\"edge17\" class=\"edge\">\n<title>s2&#45;a1&#45;&gt;s0</title>\n<path fill=\"none\" stroke=\"blue\" stroke-dasharray=\"5,2\" d=\"M652.56,-64.64C645.68,-60.71 637.88,-57.02 630.15,-55 574.25,-40.39 557.92,-53.97 500.15,-55 320.77,-58.2 269.41,-37.03 98,-90 93.91,-91.26 89.73,-92.75 85.58,-94.37\"/>\n<polygon fill=\"blue\" stroke=\"blue\" points=\"83.93,-91.27 76.03,-98.33 86.6,-97.74 83.93,-91.27\"/>\n<text text-anchor=\"middle\" x=\"316.15\" y=\"-62.2\" font-family=\"Arial\" font-size=\"16.00\">p = 0.3 &#160;reward =&#45;1</text>\n</g>\n<!-- s2&#45;a1&#45;&gt;s2 -->\n<g id=\"edge19\" class=\"edge\">\n<title>s2&#45;a1&#45;&gt;s2</title>\n<path fill=\"none\" stroke=\"blue\" stroke-dasharray=\"5,2\" d=\"M649.47,-71.31C613.47,-60.59 546.63,-46.98 500.15,-75 478.57,-88.02 464.74,-112.24 456.11,-134.45\"/>\n<polygon fill=\"blue\" stroke=\"blue\" points=\"452.72,-133.54 452.62,-144.14 459.3,-135.92 452.72,-133.54\"/>\n<text text-anchor=\"middle\" x=\"565.15\" y=\"-80.2\" font-family=\"Arial\" font-size=\"16.00\">p = &#160;&#160;0.4</text>\n</g>\n<!-- s2&#45;a1&#45;&gt;s1 -->\n<g id=\"edge18\" class=\"edge\">\n<title>s2&#45;a1&#45;&gt;s1</title>\n<path fill=\"none\" stroke=\"blue\" stroke-dasharray=\"5,2\" d=\"M702.86,-85.55C728.06,-90.9 766.84,-99.13 797.73,-105.69\"/>\n<polygon fill=\"blue\" stroke=\"blue\" points=\"797.36,-109.19 807.87,-107.84 798.81,-102.34 797.36,-109.19\"/>\n<text text-anchor=\"middle\" x=\"755.31\" y=\"-109.2\" font-family=\"Arial\" font-size=\"16.00\">p = &#160;&#160;0.3</text>\n</g>\n</g>\n</svg>\n",
            "text/plain": [
              "<graphviz.graphs.Digraph at 0x78bc24297280>"
            ]
          },
          "metadata": {}
        }
      ],
      "source": [
        "if has_graphviz:\n",
        "    display(plot_graph(mdp))"
      ]
    },
    {
      "cell_type": "markdown",
      "metadata": {
        "id": "ZRpXFMlNEJ8k"
      },
      "source": [
        "# Value Iteration (up to 1 point)\n",
        "\n",
        "Now let's build something to solve this MDP. The simplest algorithm so far is __V__alue __I__teration\n",
        "\n",
        "Here's the pseudo-code for VI:\n",
        "\n",
        "---\n",
        "\n",
        "`1.` Initialize $V^{(0)}(s)=0$, for all $s$\n",
        "\n",
        "`2.` For $i=0, 1, 2, \\dots$\n",
        "\n",
        "`3.` $ \\quad V_{(i+1)}(s) = \\max\\limits_a \\sum\\limits_{s'} P(s' | s,a) \\cdot [ r(s,a,s') + \\gamma V_{i}(s')]$, for all $s$\n",
        "\n",
        "---"
      ]
    },
    {
      "cell_type": "markdown",
      "metadata": {
        "id": "6VsxmDdWEJ8k"
      },
      "source": [
        "First, let's write a function to compute the state-action value function $Q^*$, defined as follows\n",
        "\n",
        "$$Q_i(s, a) = \\sum_{s'} P(s' | s,a) \\cdot [ r(s,a,s') + \\gamma V_{i}(s')]$$\n"
      ]
    },
    {
      "cell_type": "code",
      "source": [
        "# %%writefile mdp_get_action_value.py\n",
        "def get_action_value(mdp, state_values, state, action, gamma):\n",
        "    \"\"\" Computes Q(s,a) as in formula above \"\"\"\n",
        "\n",
        "    Q_star = 0.\n",
        "    for possible_state in mdp.get_next_states(state, action):\n",
        "      Q_star += mdp.get_transition_prob(state, action, possible_state) * (mdp.get_reward(state, action, possible_state) + gamma * state_values[possible_state])\n",
        "    return Q_star"
      ],
      "metadata": {
        "id": "uBJpIdCRErzI"
      },
      "execution_count": 8,
      "outputs": []
    },
    {
      "cell_type": "code",
      "execution_count": 9,
      "metadata": {
        "id": "ER-aIswNEJ8k"
      },
      "outputs": [],
      "source": [
        "test_Vs = {s: i for i, s in enumerate(sorted(mdp.get_all_states()))}\n",
        "assert np.isclose(get_action_value(mdp, test_Vs, 's2', 'a1', 0.9), 0.69)\n",
        "assert np.isclose(get_action_value(mdp, test_Vs, 's1', 'a0', 0.9), 3.95)"
      ]
    },
    {
      "cell_type": "markdown",
      "metadata": {
        "id": "KMlKk2tLEJ8l"
      },
      "source": [
        "Using $Q(s,a)$ we can now define the \"next\" V(s) for value iteration.\n",
        " $$V_{(i+1)}(s) = \\max_a \\sum_{s'} P(s' | s,a) \\cdot [ r(s,a,s') + \\gamma V_{i}(s')] = \\max_a Q_i(s,a)$$"
      ]
    },
    {
      "cell_type": "code",
      "execution_count": 10,
      "metadata": {
        "id": "PzzsVG7OEJ8l"
      },
      "outputs": [],
      "source": [
        "def get_new_state_value(mdp, state_values, state, gamma):\n",
        "    \"\"\" Computes next V(s) as in formula above. Please do not change state_values in process. \"\"\"\n",
        "    if mdp.is_terminal(state):\n",
        "        return 0\n",
        "\n",
        "    new_values = state_values.copy()\n",
        "\n",
        "    state_action_values = []\n",
        "    for action in mdp.get_possible_actions(state):\n",
        "      state_action_values.append(get_action_value(mdp, state_values, state, action, gamma))\n",
        "\n",
        "    return np.max(state_action_values)"
      ]
    },
    {
      "cell_type": "code",
      "execution_count": 11,
      "metadata": {
        "id": "RRZGEndyEJ8l"
      },
      "outputs": [],
      "source": [
        "test_Vs_copy = dict(test_Vs)\n",
        "assert np.isclose(get_new_state_value(mdp, test_Vs, 's0', 0.9), 1.8)\n",
        "assert np.isclose(get_new_state_value(mdp, test_Vs, 's2', 0.9), 1.08)\n",
        "assert test_Vs == test_Vs_copy, \"please do not change state_values in get_new_state_value\""
      ]
    },
    {
      "cell_type": "markdown",
      "metadata": {
        "id": "cj00YnPHEJ8l"
      },
      "source": [
        "Finally, let's combine everything we wrote into a working value iteration algo."
      ]
    },
    {
      "cell_type": "code",
      "execution_count": 12,
      "metadata": {
        "id": "jYMz7241EJ8l",
        "colab": {
          "base_uri": "https://localhost:8080/",
          "height": 1000
        },
        "outputId": "222f278b-2c3f-4c94-d07a-18b3cd29f021"
      },
      "outputs": [
        {
          "output_type": "display_data",
          "data": {
            "image/svg+xml": "<?xml version=\"1.0\" encoding=\"UTF-8\" standalone=\"no\"?>\n<!DOCTYPE svg PUBLIC \"-//W3C//DTD SVG 1.1//EN\"\n \"http://www.w3.org/Graphics/SVG/1.1/DTD/svg11.dtd\">\n<!-- Generated by graphviz version 2.43.0 (0)\n -->\n<!-- Title: MDP Pages: 1 -->\n<svg width=\"1123pt\" height=\"330pt\"\n viewBox=\"0.00 0.00 1122.72 330.00\" xmlns=\"http://www.w3.org/2000/svg\" xmlns:xlink=\"http://www.w3.org/1999/xlink\">\n<g id=\"graph0\" class=\"graph\" transform=\"scale(1 1) rotate(0) translate(4 326)\">\n<title>MDP</title>\n<polygon fill=\"white\" stroke=\"transparent\" points=\"-4,4 -4,-326 1118.72,-326 1118.72,4 -4,4\"/>\n<!-- s0 -->\n<g id=\"node1\" class=\"node\">\n<title>s0</title>\n<ellipse fill=\"#85ff75\" stroke=\"#85ff75\" cx=\"51.38\" cy=\"-116\" rx=\"47.26\" ry=\"47.26\"/>\n<ellipse fill=\"none\" stroke=\"#85ff75\" cx=\"51.38\" cy=\"-116\" rx=\"51.25\" ry=\"51.25\"/>\n<text text-anchor=\"middle\" x=\"51.38\" y=\"-122.8\" font-family=\"Arial\" font-size=\"24.00\">s0</text>\n<text text-anchor=\"middle\" x=\"51.38\" y=\"-96.8\" font-family=\"Arial\" font-size=\"24.00\">V =0</text>\n</g>\n<!-- s0&#45;a0 -->\n<g id=\"node2\" class=\"node\">\n<title>s0&#45;a0</title>\n<ellipse fill=\"lightpink\" stroke=\"lightpink\" cx=\"225.33\" cy=\"-160\" rx=\"27.65\" ry=\"27.65\"/>\n<text text-anchor=\"middle\" x=\"225.33\" y=\"-155\" font-family=\"Arial\" font-size=\"20.00\">a0</text>\n</g>\n<!-- s0&#45;&gt;s0&#45;a0 -->\n<g id=\"edge1\" class=\"edge\">\n<title>s0&#45;&gt;s0&#45;a0</title>\n<path fill=\"none\" stroke=\"red\" stroke-width=\"2\" d=\"M102.12,-124.68C125.84,-129.29 154.49,-135.56 179.75,-143 183.11,-143.99 186.58,-145.12 190.02,-146.31\"/>\n<polygon fill=\"red\" stroke=\"red\" stroke-width=\"2\" points=\"188.98,-149.65 199.57,-149.78 191.37,-143.07 188.98,-149.65\"/>\n</g>\n<!-- s0&#45;a1 -->\n<g id=\"node4\" class=\"node\">\n<title>s0&#45;a1</title>\n<ellipse fill=\"lightpink\" stroke=\"lightpink\" cx=\"225.33\" cy=\"-233\" rx=\"27.65\" ry=\"27.65\"/>\n<text text-anchor=\"middle\" x=\"225.33\" y=\"-228\" font-family=\"Arial\" font-size=\"20.00\">a1</text>\n</g>\n<!-- s0&#45;&gt;s0&#45;a1 -->\n<g id=\"edge4\" class=\"edge\">\n<title>s0&#45;&gt;s0&#45;a1</title>\n<path fill=\"none\" stroke=\"red\" stroke-width=\"2\" d=\"M89.61,-150.49C99.42,-158.92 110.22,-167.62 120.75,-175 143.15,-190.69 170.15,-205.7 190.97,-216.51\"/>\n<polygon fill=\"red\" stroke=\"red\" stroke-width=\"2\" points=\"189.57,-219.73 200.06,-221.18 192.76,-213.5 189.57,-219.73\"/>\n</g>\n<!-- s0&#45;a0&#45;&gt;s0 -->\n<g id=\"edge2\" class=\"edge\">\n<title>s0&#45;a0&#45;&gt;s0</title>\n<path fill=\"none\" stroke=\"blue\" stroke-dasharray=\"5,2\" d=\"M197.69,-155.96C176.62,-152.5 146.56,-146.98 120.75,-140 117.14,-139.02 113.44,-137.95 109.73,-136.81\"/>\n<polygon fill=\"blue\" stroke=\"blue\" points=\"110.51,-133.39 99.92,-133.69 108.38,-140.06 110.51,-133.39\"/>\n<text text-anchor=\"middle\" x=\"150.25\" y=\"-158.2\" font-family=\"Arial\" font-size=\"16.00\">p = &#160;&#160;0.5</text>\n</g>\n<!-- s2 -->\n<g id=\"node3\" class=\"node\">\n<title>s2</title>\n<ellipse fill=\"#85ff75\" stroke=\"#85ff75\" cx=\"476.28\" cy=\"-189\" rx=\"47.26\" ry=\"47.26\"/>\n<ellipse fill=\"none\" stroke=\"#85ff75\" cx=\"476.28\" cy=\"-189\" rx=\"51.25\" ry=\"51.25\"/>\n<text text-anchor=\"middle\" x=\"476.28\" y=\"-195.8\" font-family=\"Arial\" font-size=\"24.00\">s2</text>\n<text text-anchor=\"middle\" x=\"476.28\" y=\"-169.8\" font-family=\"Arial\" font-size=\"24.00\">V =0</text>\n</g>\n<!-- s0&#45;a0&#45;&gt;s2 -->\n<g id=\"edge3\" class=\"edge\">\n<title>s0&#45;a0&#45;&gt;s2</title>\n<path fill=\"none\" stroke=\"blue\" stroke-dasharray=\"5,2\" d=\"M252.97,-163.1C291.31,-167.57 363.09,-175.93 414.73,-181.95\"/>\n<polygon fill=\"blue\" stroke=\"blue\" points=\"414.43,-185.44 424.77,-183.12 415.24,-178.48 414.43,-185.44\"/>\n<text text-anchor=\"middle\" x=\"338.91\" y=\"-186.2\" font-family=\"Arial\" font-size=\"16.00\">p = &#160;&#160;0.5</text>\n</g>\n<!-- s2&#45;a0 -->\n<g id=\"node8\" class=\"node\">\n<title>s2&#45;a0</title>\n<ellipse fill=\"lightpink\" stroke=\"lightpink\" cx=\"721.24\" cy=\"-162\" rx=\"27.65\" ry=\"27.65\"/>\n<text text-anchor=\"middle\" x=\"721.24\" y=\"-157\" font-family=\"Arial\" font-size=\"20.00\">a0</text>\n</g>\n<!-- s2&#45;&gt;s2&#45;a0 -->\n<g id=\"edge13\" class=\"edge\">\n<title>s2&#45;&gt;s2&#45;a0</title>\n<path fill=\"none\" stroke=\"red\" stroke-width=\"2\" d=\"M527.67,-191.94C568.16,-193.12 626.23,-192.14 675.66,-181 679.32,-180.17 683.06,-179.06 686.74,-177.78\"/>\n<polygon fill=\"red\" stroke=\"red\" stroke-width=\"2\" points=\"688.18,-180.98 696.24,-174.1 685.65,-174.45 688.18,-180.98\"/>\n</g>\n<!-- s2&#45;a1 -->\n<g id=\"node9\" class=\"node\">\n<title>s2&#45;a1</title>\n<ellipse fill=\"lightpink\" stroke=\"lightpink\" cx=\"721.24\" cy=\"-77\" rx=\"27.65\" ry=\"27.65\"/>\n<text text-anchor=\"middle\" x=\"721.24\" y=\"-72\" font-family=\"Arial\" font-size=\"20.00\">a1</text>\n</g>\n<!-- s2&#45;&gt;s2&#45;a1 -->\n<g id=\"edge16\" class=\"edge\">\n<title>s2&#45;&gt;s2&#45;a1</title>\n<path fill=\"none\" stroke=\"red\" stroke-width=\"2\" d=\"M520.56,-162.48C528.79,-157.78 537.4,-153.09 545.66,-149 593.05,-125.51 650.04,-103.03 685.71,-89.62\"/>\n<polygon fill=\"red\" stroke=\"red\" stroke-width=\"2\" points=\"687.04,-92.86 695.18,-86.08 684.59,-86.3 687.04,-92.86\"/>\n</g>\n<!-- s0&#45;a1&#45;&gt;s2 -->\n<g id=\"edge5\" class=\"edge\">\n<title>s0&#45;a1&#45;&gt;s2</title>\n<path fill=\"none\" stroke=\"blue\" stroke-dasharray=\"5,2\" d=\"M252.7,-228.93C287.92,-223.43 352.22,-213.14 406.91,-203 409.75,-202.47 412.67,-201.92 415.61,-201.35\"/>\n<polygon fill=\"blue\" stroke=\"blue\" points=\"416.51,-204.74 425.66,-199.39 415.17,-197.87 416.51,-204.74\"/>\n<text text-anchor=\"middle\" x=\"338.91\" y=\"-230.2\" font-family=\"Arial\" font-size=\"16.00\">p = &#160;&#160;1</text>\n</g>\n<!-- s1 -->\n<g id=\"node5\" class=\"node\">\n<title>s1</title>\n<ellipse fill=\"#85ff75\" stroke=\"#85ff75\" cx=\"904.19\" cy=\"-86\" rx=\"47.26\" ry=\"47.26\"/>\n<ellipse fill=\"none\" stroke=\"#85ff75\" cx=\"904.19\" cy=\"-86\" rx=\"51.25\" ry=\"51.25\"/>\n<text text-anchor=\"middle\" x=\"904.19\" y=\"-92.8\" font-family=\"Arial\" font-size=\"24.00\">s1</text>\n<text text-anchor=\"middle\" x=\"904.19\" y=\"-66.8\" font-family=\"Arial\" font-size=\"24.00\">V =0</text>\n</g>\n<!-- s1&#45;a0 -->\n<g id=\"node6\" class=\"node\">\n<title>s1&#45;a0</title>\n<ellipse fill=\"lightpink\" stroke=\"lightpink\" cx=\"1087.14\" cy=\"-62\" rx=\"27.65\" ry=\"27.65\"/>\n<text text-anchor=\"middle\" x=\"1087.14\" y=\"-57\" font-family=\"Arial\" font-size=\"20.00\">a0</text>\n</g>\n<!-- s1&#45;&gt;s1&#45;a0 -->\n<g id=\"edge6\" class=\"edge\">\n<title>s1&#45;&gt;s1&#45;a0</title>\n<path fill=\"none\" stroke=\"red\" stroke-width=\"2\" d=\"M955.57,-82.26C981.38,-79.98 1013.26,-76.61 1041.57,-72 1044.26,-71.56 1047.04,-71.06 1049.83,-70.52\"/>\n<polygon fill=\"red\" stroke=\"red\" stroke-width=\"2\" points=\"1050.76,-73.9 1059.84,-68.44 1049.34,-67.05 1050.76,-73.9\"/>\n</g>\n<!-- s1&#45;a1 -->\n<g id=\"node7\" class=\"node\">\n<title>s1&#45;a1</title>\n<ellipse fill=\"lightpink\" stroke=\"lightpink\" cx=\"1087.14\" cy=\"-144\" rx=\"27.65\" ry=\"27.65\"/>\n<text text-anchor=\"middle\" x=\"1087.14\" y=\"-139\" font-family=\"Arial\" font-size=\"20.00\">a1</text>\n</g>\n<!-- s1&#45;&gt;s1&#45;a1 -->\n<g id=\"edge10\" class=\"edge\">\n<title>s1&#45;&gt;s1&#45;a1</title>\n<path fill=\"none\" stroke=\"red\" stroke-width=\"2\" d=\"M954.25,-98.45C980.42,-105.48 1013.02,-114.88 1041.57,-125 1045.1,-126.25 1048.76,-127.65 1052.39,-129.1\"/>\n<polygon fill=\"red\" stroke=\"red\" stroke-width=\"2\" points=\"1051.26,-132.41 1061.83,-132.99 1053.93,-125.94 1051.26,-132.41\"/>\n</g>\n<!-- s1&#45;a0&#45;&gt;s0 -->\n<g id=\"edge7\" class=\"edge\">\n<title>s1&#45;a0&#45;&gt;s0</title>\n<path fill=\"none\" stroke=\"blue\" stroke-dasharray=\"5,2\" d=\"M1063.01,-48.55C1029.42,-30.31 964.63,0 905.19,0 224.33,0 224.33,0 224.33,0 172.1,0 123.86,-37.23 91.85,-69.51\"/>\n<polygon fill=\"blue\" stroke=\"blue\" points=\"89.31,-67.1 84.88,-76.73 94.34,-71.97 89.31,-67.1\"/>\n<text text-anchor=\"middle\" x=\"610.66\" y=\"-5.2\" font-family=\"Arial\" font-size=\"16.00\">p = 0.7 &#160;reward =5</text>\n</g>\n<!-- s1&#45;a0&#45;&gt;s2 -->\n<g id=\"edge9\" class=\"edge\">\n<title>s1&#45;a0&#45;&gt;s2</title>\n<path fill=\"none\" stroke=\"blue\" stroke-dasharray=\"5,2\" d=\"M1071.38,-84.85C1067.24,-91.8 1062.95,-99.57 1059.57,-107 1049.07,-130.02 1061.09,-144.92 1041.57,-161 894.95,-281.77 647.25,-235.85 535.3,-206.32\"/>\n<polygon fill=\"blue\" stroke=\"blue\" points=\"536.1,-202.91 525.54,-203.69 534.29,-209.67 536.1,-202.91\"/>\n<text text-anchor=\"middle\" x=\"800.81\" y=\"-245.2\" font-family=\"Arial\" font-size=\"16.00\">p = &#160;&#160;0.2</text>\n</g>\n<!-- s1&#45;a0&#45;&gt;s1 -->\n<g id=\"edge8\" class=\"edge\">\n<title>s1&#45;a0&#45;&gt;s1</title>\n<path fill=\"none\" stroke=\"blue\" stroke-dasharray=\"5,2\" d=\"M1060.45,-53.85C1054.32,-52.25 1047.76,-50.82 1041.57,-50 1011.6,-46.04 1002.9,-42.75 973.57,-50 968.27,-51.31 962.94,-53.11 957.71,-55.21\"/>\n<polygon fill=\"blue\" stroke=\"blue\" points=\"956.19,-52.05 948.44,-59.28 959.01,-58.46 956.19,-52.05\"/>\n<text text-anchor=\"middle\" x=\"1007.57\" y=\"-55.2\" font-family=\"Arial\" font-size=\"16.00\">p = &#160;&#160;0.1</text>\n</g>\n<!-- s1&#45;a1&#45;&gt;s2 -->\n<g id=\"edge12\" class=\"edge\">\n<title>s1&#45;a1&#45;&gt;s2</title>\n<path fill=\"none\" stroke=\"blue\" stroke-dasharray=\"5,2\" d=\"M1080.65,-171.13C1074.82,-192.21 1063.33,-220.13 1041.57,-234 855.72,-352.48 756.07,-299.63 545.66,-234 539.01,-231.92 532.39,-228.99 526.05,-225.61\"/>\n<polygon fill=\"blue\" stroke=\"blue\" points=\"527.38,-222.34 516.97,-220.37 523.88,-228.4 527.38,-222.34\"/>\n<text text-anchor=\"middle\" x=\"800.81\" y=\"-309.2\" font-family=\"Arial\" font-size=\"16.00\">p = &#160;&#160;0.05</text>\n</g>\n<!-- s1&#45;a1&#45;&gt;s1 -->\n<g id=\"edge11\" class=\"edge\">\n<title>s1&#45;a1&#45;&gt;s1</title>\n<path fill=\"none\" stroke=\"blue\" stroke-dasharray=\"5,2\" d=\"M1059.63,-141.04C1036.45,-137.93 1002.11,-132.06 973.57,-122 968.5,-120.22 963.36,-118.11 958.27,-115.83\"/>\n<polygon fill=\"blue\" stroke=\"blue\" points=\"959.75,-112.66 949.22,-111.56 956.77,-118.99 959.75,-112.66\"/>\n<text text-anchor=\"middle\" x=\"1007.57\" y=\"-144.2\" font-family=\"Arial\" font-size=\"16.00\">p = &#160;&#160;0.95</text>\n</g>\n<!-- s2&#45;a0&#45;&gt;s0 -->\n<g id=\"edge14\" class=\"edge\">\n<title>s2&#45;a0&#45;&gt;s0</title>\n<path fill=\"none\" stroke=\"blue\" stroke-dasharray=\"5,2\" d=\"M694.47,-153.78C688.35,-152.02 681.81,-150.3 675.66,-149 610.73,-135.23 593.82,-134.36 527.66,-129 378.92,-116.95 203.23,-115.44 112.84,-115.59\"/>\n<polygon fill=\"blue\" stroke=\"blue\" points=\"112.76,-112.09 102.77,-115.61 112.78,-119.09 112.76,-112.09\"/>\n<text text-anchor=\"middle\" x=\"338.91\" y=\"-127.2\" font-family=\"Arial\" font-size=\"16.00\">p = &#160;&#160;0.4</text>\n</g>\n<!-- s2&#45;a0&#45;&gt;s2 -->\n<g id=\"edge15\" class=\"edge\">\n<title>s2&#45;a0&#45;&gt;s2</title>\n<path fill=\"none\" stroke=\"blue\" stroke-dasharray=\"5,2\" d=\"M693.86,-157.94C659.38,-153.45 597.28,-148.17 545.66,-159 541.18,-159.94 536.65,-161.19 532.14,-162.64\"/>\n<polygon fill=\"blue\" stroke=\"blue\" points=\"530.63,-159.47 522.39,-166.12 532.99,-166.06 530.63,-159.47\"/>\n<text text-anchor=\"middle\" x=\"610.66\" y=\"-164.2\" font-family=\"Arial\" font-size=\"16.00\">p = &#160;&#160;0.6</text>\n</g>\n<!-- s2&#45;a1&#45;&gt;s0 -->\n<g id=\"edge17\" class=\"edge\">\n<title>s2&#45;a1&#45;&gt;s0</title>\n<path fill=\"none\" stroke=\"blue\" stroke-dasharray=\"5,2\" d=\"M697.53,-62C690.77,-58.32 683.16,-54.89 675.66,-53 619.63,-38.88 603.43,-51.84 545.66,-53 356.13,-56.79 303.58,-39.91 120.75,-90 116.93,-91.05 113.03,-92.22 109.12,-93.48\"/>\n<polygon fill=\"blue\" stroke=\"blue\" points=\"107.79,-90.24 99.44,-96.76 110.03,-96.87 107.79,-90.24\"/>\n<text text-anchor=\"middle\" x=\"338.91\" y=\"-64.2\" font-family=\"Arial\" font-size=\"16.00\">p = 0.3 &#160;reward =&#45;1</text>\n</g>\n<!-- s2&#45;a1&#45;&gt;s2 -->\n<g id=\"edge19\" class=\"edge\">\n<title>s2&#45;a1&#45;&gt;s2</title>\n<path fill=\"none\" stroke=\"blue\" stroke-dasharray=\"5,2\" d=\"M694.84,-68.74C658.98,-58.69 592.65,-46.15 545.66,-73 523.45,-85.69 507.73,-108.73 497.02,-130.94\"/>\n<polygon fill=\"blue\" stroke=\"blue\" points=\"493.83,-129.5 492.87,-140.05 500.2,-132.4 493.83,-129.5\"/>\n<text text-anchor=\"middle\" x=\"610.66\" y=\"-78.2\" font-family=\"Arial\" font-size=\"16.00\">p = &#160;&#160;0.4</text>\n</g>\n<!-- s2&#45;a1&#45;&gt;s1 -->\n<g id=\"edge18\" class=\"edge\">\n<title>s2&#45;a1&#45;&gt;s1</title>\n<path fill=\"none\" stroke=\"blue\" stroke-dasharray=\"5,2\" d=\"M748.94,-78.33C773.51,-79.55 810.85,-81.41 842.64,-82.99\"/>\n<polygon fill=\"blue\" stroke=\"blue\" points=\"842.58,-86.49 852.74,-83.49 842.93,-79.5 842.58,-86.49\"/>\n<text text-anchor=\"middle\" x=\"800.81\" y=\"-88.2\" font-family=\"Arial\" font-size=\"16.00\">p = &#160;&#160;0.3</text>\n</g>\n</g>\n</svg>\n",
            "text/plain": [
              "<graphviz.graphs.Digraph at 0x78bc24297d00>"
            ]
          },
          "metadata": {}
        },
        {
          "output_type": "stream",
          "name": "stdout",
          "text": [
            "iter    0   |   diff: 3.50000   |   V(s0) = 0.000   V(s1) = 0.000   V(s2) = 0.000\n",
            "iter    1   |   diff: 0.64500   |   V(s0) = 0.000   V(s1) = 3.500   V(s2) = 0.000\n",
            "iter    2   |   diff: 0.58050   |   V(s0) = 0.000   V(s1) = 3.815   V(s2) = 0.645\n",
            "iter    3   |   diff: 0.43582   |   V(s0) = 0.581   V(s1) = 3.959   V(s2) = 0.962\n",
            "iter    4   |   diff: 0.30634   |   V(s0) = 0.866   V(s1) = 4.395   V(s2) = 1.272\n",
            "iter    5   |   diff: 0.27571   |   V(s0) = 1.145   V(s1) = 4.670   V(s2) = 1.579\n",
            "iter    6   |   diff: 0.24347   |   V(s0) = 1.421   V(s1) = 4.926   V(s2) = 1.838\n",
            "iter    7   |   diff: 0.21419   |   V(s0) = 1.655   V(s1) = 5.169   V(s2) = 2.075\n",
            "iter    8   |   diff: 0.19277   |   V(s0) = 1.868   V(s1) = 5.381   V(s2) = 2.290\n",
            "iter    9   |   diff: 0.17327   |   V(s0) = 2.061   V(s1) = 5.573   V(s2) = 2.481\n",
            "iter   10   |   diff: 0.15569   |   V(s0) = 2.233   V(s1) = 5.746   V(s2) = 2.654\n",
            "iter   11   |   diff: 0.14012   |   V(s0) = 2.389   V(s1) = 5.902   V(s2) = 2.810\n",
            "iter   12   |   diff: 0.12610   |   V(s0) = 2.529   V(s1) = 6.042   V(s2) = 2.950\n",
            "iter   13   |   diff: 0.11348   |   V(s0) = 2.655   V(s1) = 6.168   V(s2) = 3.076\n",
            "iter   14   |   diff: 0.10213   |   V(s0) = 2.769   V(s1) = 6.282   V(s2) = 3.190\n",
            "iter   15   |   diff: 0.09192   |   V(s0) = 2.871   V(s1) = 6.384   V(s2) = 3.292\n",
            "iter   16   |   diff: 0.08272   |   V(s0) = 2.963   V(s1) = 6.476   V(s2) = 3.384\n",
            "iter   17   |   diff: 0.07445   |   V(s0) = 3.045   V(s1) = 6.558   V(s2) = 3.467\n",
            "iter   18   |   diff: 0.06701   |   V(s0) = 3.120   V(s1) = 6.633   V(s2) = 3.541\n",
            "iter   19   |   diff: 0.06031   |   V(s0) = 3.187   V(s1) = 6.700   V(s2) = 3.608\n",
            "iter   20   |   diff: 0.05428   |   V(s0) = 3.247   V(s1) = 6.760   V(s2) = 3.668\n",
            "iter   21   |   diff: 0.04885   |   V(s0) = 3.301   V(s1) = 6.814   V(s2) = 3.723\n",
            "iter   22   |   diff: 0.04396   |   V(s0) = 3.350   V(s1) = 6.863   V(s2) = 3.771\n",
            "iter   23   |   diff: 0.03957   |   V(s0) = 3.394   V(s1) = 6.907   V(s2) = 3.815\n",
            "iter   24   |   diff: 0.03561   |   V(s0) = 3.434   V(s1) = 6.947   V(s2) = 3.855\n",
            "iter   25   |   diff: 0.03205   |   V(s0) = 3.469   V(s1) = 6.982   V(s2) = 3.891\n",
            "iter   26   |   diff: 0.02884   |   V(s0) = 3.502   V(s1) = 7.014   V(s2) = 3.923\n",
            "iter   27   |   diff: 0.02596   |   V(s0) = 3.530   V(s1) = 7.043   V(s2) = 3.951\n",
            "iter   28   |   diff: 0.02336   |   V(s0) = 3.556   V(s1) = 7.069   V(s2) = 3.977\n",
            "iter   29   |   diff: 0.02103   |   V(s0) = 3.580   V(s1) = 7.093   V(s2) = 4.001\n",
            "iter   30   |   diff: 0.01892   |   V(s0) = 3.601   V(s1) = 7.114   V(s2) = 4.022\n",
            "iter   31   |   diff: 0.01703   |   V(s0) = 3.620   V(s1) = 7.133   V(s2) = 4.041\n",
            "iter   32   |   diff: 0.01533   |   V(s0) = 3.637   V(s1) = 7.150   V(s2) = 4.058\n",
            "iter   33   |   diff: 0.01380   |   V(s0) = 3.652   V(s1) = 7.165   V(s2) = 4.073\n",
            "iter   34   |   diff: 0.01242   |   V(s0) = 3.666   V(s1) = 7.179   V(s2) = 4.087\n",
            "iter   35   |   diff: 0.01117   |   V(s0) = 3.678   V(s1) = 7.191   V(s2) = 4.099\n",
            "iter   36   |   diff: 0.01006   |   V(s0) = 3.689   V(s1) = 7.202   V(s2) = 4.110\n",
            "iter   37   |   diff: 0.00905   |   V(s0) = 3.699   V(s1) = 7.212   V(s2) = 4.121\n",
            "iter   38   |   diff: 0.00815   |   V(s0) = 3.708   V(s1) = 7.221   V(s2) = 4.130\n",
            "iter   39   |   diff: 0.00733   |   V(s0) = 3.717   V(s1) = 7.230   V(s2) = 4.138\n",
            "iter   40   |   diff: 0.00660   |   V(s0) = 3.724   V(s1) = 7.237   V(s2) = 4.145\n",
            "iter   41   |   diff: 0.00594   |   V(s0) = 3.731   V(s1) = 7.244   V(s2) = 4.152\n",
            "iter   42   |   diff: 0.00534   |   V(s0) = 3.736   V(s1) = 7.249   V(s2) = 4.158\n",
            "iter   43   |   diff: 0.00481   |   V(s0) = 3.742   V(s1) = 7.255   V(s2) = 4.163\n",
            "iter   44   |   diff: 0.00433   |   V(s0) = 3.747   V(s1) = 7.260   V(s2) = 4.168\n",
            "iter   45   |   diff: 0.00390   |   V(s0) = 3.751   V(s1) = 7.264   V(s2) = 4.172\n",
            "iter   46   |   diff: 0.00351   |   V(s0) = 3.755   V(s1) = 7.268   V(s2) = 4.176\n",
            "iter   47   |   diff: 0.00316   |   V(s0) = 3.758   V(s1) = 7.271   V(s2) = 4.179\n",
            "iter   48   |   diff: 0.00284   |   V(s0) = 3.762   V(s1) = 7.275   V(s2) = 4.183\n",
            "iter   49   |   diff: 0.00256   |   V(s0) = 3.764   V(s1) = 7.277   V(s2) = 4.185\n",
            "iter   50   |   diff: 0.00230   |   V(s0) = 3.767   V(s1) = 7.280   V(s2) = 4.188\n",
            "iter   51   |   diff: 0.00207   |   V(s0) = 3.769   V(s1) = 7.282   V(s2) = 4.190\n",
            "iter   52   |   diff: 0.00186   |   V(s0) = 3.771   V(s1) = 7.284   V(s2) = 4.192\n",
            "iter   53   |   diff: 0.00168   |   V(s0) = 3.773   V(s1) = 7.286   V(s2) = 4.194\n",
            "iter   54   |   diff: 0.00151   |   V(s0) = 3.775   V(s1) = 7.288   V(s2) = 4.196\n",
            "iter   55   |   diff: 0.00136   |   V(s0) = 3.776   V(s1) = 7.289   V(s2) = 4.197\n",
            "iter   56   |   diff: 0.00122   |   V(s0) = 3.778   V(s1) = 7.291   V(s2) = 4.199\n",
            "iter   57   |   diff: 0.00110   |   V(s0) = 3.779   V(s1) = 7.292   V(s2) = 4.200\n",
            "iter   58   |   diff: 0.00099   |   V(s0) = 3.780   V(s1) = 7.293   V(s2) = 4.201\n",
            "Terminated\n"
          ]
        }
      ],
      "source": [
        "# parameters\n",
        "gamma = 0.9            # discount for MDP\n",
        "num_iter = 100         # maximum iterations, excluding initialization\n",
        "# stop VI if new values are this close to old values (or closer)\n",
        "min_difference = 0.001\n",
        "\n",
        "# initialize V(s)\n",
        "state_values = {s: 0 for s in mdp.get_all_states()}\n",
        "\n",
        "if has_graphviz:\n",
        "    display(plot_graph_with_state_values(mdp, state_values))\n",
        "\n",
        "for i in range(num_iter):\n",
        "\n",
        "    # Compute new state values using the functions you defined above.\n",
        "    # It must be a dict {state : float V_new(state)}\n",
        "\n",
        "    new_state_values = {}\n",
        "    for state in state_values:\n",
        "        new_state_values[state] = get_new_state_value(mdp, state_values, state, gamma)\n",
        "\n",
        "    assert isinstance(new_state_values, dict)\n",
        "\n",
        "    # Compute difference\n",
        "    diff = max(abs(new_state_values[s] - state_values[s])\n",
        "                for s in mdp.get_all_states())\n",
        "    print(\"iter %4i   |   diff: %6.5f   |   \" % (i, diff), end=\"\")\n",
        "    print('   '.join(\"V(%s) = %.3f\" % (s, v) for s, v in state_values.items()))\n",
        "    state_values = new_state_values\n",
        "\n",
        "    if diff < min_difference:\n",
        "        print(\"Terminated\")\n",
        "        break"
      ]
    },
    {
      "cell_type": "code",
      "execution_count": 13,
      "metadata": {
        "id": "jdDQjHyIEJ8m",
        "colab": {
          "base_uri": "https://localhost:8080/"
        },
        "outputId": "f4175ff7-2fae-4720-d6d0-6e4aee86ed0b"
      },
      "outputs": [
        {
          "output_type": "stream",
          "name": "stdout",
          "text": [
            "Final state values: {'s0': 3.7810348735476405, 's1': 7.294006423867229, 's2': 4.202140275227048}\n"
          ]
        }
      ],
      "source": [
        "print(\"Final state values:\", state_values)\n",
        "\n",
        "assert abs(state_values['s0'] - 3.781) < 0.01\n",
        "assert abs(state_values['s1'] - 7.294) < 0.01\n",
        "assert abs(state_values['s2'] - 4.202) < 0.01"
      ]
    },
    {
      "cell_type": "markdown",
      "metadata": {
        "id": "SrsSum2QEJ8m"
      },
      "source": [
        "Now let's use those $V^{*}(s)$ to find optimal actions in each state\n",
        "\n",
        " $$\\pi^*(s) = \\underset{a}{\\operatorname{argmax}} \\sum_{s'} P(s' | s,a) \\cdot [ r(s,a,s') + \\gamma V_{i}(s')] = \\underset{a}{\\operatorname{argmax}} Q_i(s,a)$$\n",
        "\n",
        "The only difference vs V(s) is that here we take not max but argmax: find action such with maximum Q(s,a)."
      ]
    },
    {
      "cell_type": "code",
      "execution_count": 14,
      "metadata": {
        "id": "GLKhKFd_EJ8m"
      },
      "outputs": [],
      "source": [
        "def get_optimal_action(mdp, state_values, state, gamma=0.9):\n",
        "    \"\"\" Finds optimal action using formula above. \"\"\"\n",
        "    if mdp.is_terminal(state):\n",
        "        return None\n",
        "\n",
        "    optimal_action = \"\"\n",
        "    max_state_value = float(\"-inf\")\n",
        "    for action in mdp.get_possible_actions(state):\n",
        "        q = get_action_value(mdp, state_values, state, action, gamma)\n",
        "        if  q > max_state_value:\n",
        "            max_state_value = q\n",
        "            optimal_action = action\n",
        "\n",
        "    return optimal_action"
      ]
    },
    {
      "cell_type": "code",
      "execution_count": 15,
      "metadata": {
        "id": "VEFNoq_eEJ8m"
      },
      "outputs": [],
      "source": [
        "assert get_optimal_action(mdp, state_values, 's0', gamma) == 'a1'\n",
        "assert get_optimal_action(mdp, state_values, 's1', gamma) == 'a0'\n",
        "assert get_optimal_action(mdp, state_values, 's2', gamma) == 'a1'"
      ]
    },
    {
      "cell_type": "code",
      "source": [
        "display(plot_graph_optimal_strategy_and_state_values(mdp, state_values))"
      ],
      "metadata": {
        "colab": {
          "base_uri": "https://localhost:8080/",
          "height": 491
        },
        "id": "1DWx2lEs30G0",
        "outputId": "8f943686-3e76-457c-99cc-816d74bd8529"
      },
      "execution_count": 16,
      "outputs": [
        {
          "output_type": "display_data",
          "data": {
            "image/svg+xml": "<?xml version=\"1.0\" encoding=\"UTF-8\" standalone=\"no\"?>\n<!DOCTYPE svg PUBLIC \"-//W3C//DTD SVG 1.1//EN\"\n \"http://www.w3.org/Graphics/SVG/1.1/DTD/svg11.dtd\">\n<!-- Generated by graphviz version 2.43.0 (0)\n -->\n<!-- Title: MDP Pages: 1 -->\n<svg width=\"1267pt\" height=\"338pt\"\n viewBox=\"0.00 0.00 1266.97 338.00\" xmlns=\"http://www.w3.org/2000/svg\" xmlns:xlink=\"http://www.w3.org/1999/xlink\">\n<g id=\"graph0\" class=\"graph\" transform=\"scale(1 1) rotate(0) translate(4 334)\">\n<title>MDP</title>\n<polygon fill=\"white\" stroke=\"transparent\" points=\"-4,4 -4,-334 1262.97,-334 1262.97,4 -4,4\"/>\n<!-- s0 -->\n<g id=\"node1\" class=\"node\">\n<title>s0</title>\n<ellipse fill=\"#85ff75\" stroke=\"#85ff75\" cx=\"75.42\" cy=\"-129\" rx=\"71.34\" ry=\"71.34\"/>\n<ellipse fill=\"none\" stroke=\"#85ff75\" cx=\"75.42\" cy=\"-129\" rx=\"75.34\" ry=\"75.34\"/>\n<text text-anchor=\"middle\" x=\"75.42\" y=\"-135.8\" font-family=\"Arial\" font-size=\"24.00\">s0</text>\n<text text-anchor=\"middle\" x=\"75.42\" y=\"-109.8\" font-family=\"Arial\" font-size=\"24.00\">V =3.78</text>\n</g>\n<!-- s0&#45;a0 -->\n<g id=\"node2\" class=\"node\">\n<title>s0&#45;a0</title>\n<ellipse fill=\"lightpink\" stroke=\"lightpink\" cx=\"273.41\" cy=\"-160\" rx=\"27.65\" ry=\"27.65\"/>\n<text text-anchor=\"middle\" x=\"273.41\" y=\"-155\" font-family=\"Arial\" font-size=\"20.00\">a0</text>\n</g>\n<!-- s0&#45;&gt;s0&#45;a0 -->\n<g id=\"edge1\" class=\"edge\">\n<title>s0&#45;&gt;s0&#45;a0</title>\n<path fill=\"none\" stroke=\"red\" stroke-width=\"2\" d=\"M151,-131.85C175.68,-133.86 203.15,-137.26 227.84,-143 231.25,-143.79 234.75,-144.79 238.21,-145.89\"/>\n<polygon fill=\"red\" stroke=\"red\" stroke-width=\"2\" points=\"237.2,-149.25 247.8,-149.25 239.51,-142.64 237.2,-149.25\"/>\n</g>\n<!-- s0&#45;a1 -->\n<g id=\"node4\" class=\"node\">\n<title>s0&#45;a1</title>\n<ellipse fill=\"lightpink\" stroke=\"lightpink\" cx=\"273.41\" cy=\"-233\" rx=\"27.65\" ry=\"27.65\"/>\n<text text-anchor=\"middle\" x=\"273.41\" y=\"-228\" font-family=\"Arial\" font-size=\"20.00\">a1</text>\n</g>\n<!-- s0&#45;&gt;s0&#45;a1 -->\n<g id=\"edge4\" class=\"edge\">\n<title>s0&#45;&gt;s0&#45;a1</title>\n<path fill=\"none\" stroke=\"red\" stroke-width=\"2\" d=\"M144.97,-158.9C178.15,-175.86 216.29,-196.58 242.14,-211.89\"/>\n<polygon fill=\"red\" stroke=\"red\" stroke-width=\"2\" points=\"240.36,-214.91 250.74,-217.07 243.97,-208.91 240.36,-214.91\"/>\n</g>\n<!-- s0&#45;&gt;s0&#45;a1 -->\n<g id=\"edge20\" class=\"edge\">\n<title>s0&#45;&gt;s0&#45;a1</title>\n<path fill=\"none\" stroke=\"green\" stroke-width=\"6\" d=\"M139.51,-168.83C172.24,-186.98 210.95,-207.16 238.13,-220.08\"/>\n<polygon fill=\"green\" stroke=\"green\" stroke-width=\"6\" points=\"235.95,-224.86 247.23,-224.34 240.39,-215.35 235.95,-224.86\"/>\n</g>\n<!-- s0&#45;a0&#45;&gt;s0 -->\n<g id=\"edge2\" class=\"edge\">\n<title>s0&#45;a0&#45;&gt;s0</title>\n<path fill=\"none\" stroke=\"blue\" stroke-dasharray=\"5,2\" d=\"M245.99,-155.82C223.82,-152.31 190.88,-147.1 159.92,-142.21\"/>\n<polygon fill=\"blue\" stroke=\"blue\" points=\"160.38,-138.74 149.96,-140.63 159.29,-145.65 160.38,-138.74\"/>\n<text text-anchor=\"middle\" x=\"198.34\" y=\"-158.2\" font-family=\"Arial\" font-size=\"16.00\">p = &#160;&#160;0.5</text>\n</g>\n<!-- s2 -->\n<g id=\"node3\" class=\"node\">\n<title>s2</title>\n<ellipse fill=\"#85ff75\" stroke=\"#85ff75\" cx=\"548.41\" cy=\"-207\" rx=\"71.34\" ry=\"71.34\"/>\n<ellipse fill=\"none\" stroke=\"#85ff75\" cx=\"548.41\" cy=\"-207\" rx=\"75.34\" ry=\"75.34\"/>\n<text text-anchor=\"middle\" x=\"548.41\" y=\"-213.8\" font-family=\"Arial\" font-size=\"24.00\">s2</text>\n<text text-anchor=\"middle\" x=\"548.41\" y=\"-187.8\" font-family=\"Arial\" font-size=\"24.00\">V =4.20</text>\n</g>\n<!-- s0&#45;a0&#45;&gt;s2 -->\n<g id=\"edge3\" class=\"edge\">\n<title>s0&#45;a0&#45;&gt;s2</title>\n<path fill=\"none\" stroke=\"blue\" stroke-dasharray=\"5,2\" d=\"M301.09,-164.59C338.49,-171.03 408.18,-183.03 463.91,-192.63\"/>\n<polygon fill=\"blue\" stroke=\"blue\" points=\"463.34,-196.08 473.79,-194.33 464.53,-189.18 463.34,-196.08\"/>\n<text text-anchor=\"middle\" x=\"386.99\" y=\"-196.2\" font-family=\"Arial\" font-size=\"16.00\">p = &#160;&#160;0.5</text>\n</g>\n<!-- s2&#45;a0 -->\n<g id=\"node8\" class=\"node\">\n<title>s2&#45;a0</title>\n<ellipse fill=\"lightpink\" stroke=\"lightpink\" cx=\"817.4\" cy=\"-181\" rx=\"27.65\" ry=\"27.65\"/>\n<text text-anchor=\"middle\" x=\"817.4\" y=\"-176\" font-family=\"Arial\" font-size=\"20.00\">a0</text>\n</g>\n<!-- s2&#45;&gt;s2&#45;a0 -->\n<g id=\"edge13\" class=\"edge\">\n<title>s2&#45;&gt;s2&#45;a0</title>\n<path fill=\"none\" stroke=\"red\" stroke-width=\"2\" d=\"M623.83,-210.72C667.41,-211.32 723.26,-209.34 771.83,-199 775.28,-198.26 778.8,-197.28 782.29,-196.15\"/>\n<polygon fill=\"red\" stroke=\"red\" stroke-width=\"2\" points=\"783.69,-199.37 791.89,-192.67 781.3,-192.79 783.69,-199.37\"/>\n</g>\n<!-- s2&#45;a1 -->\n<g id=\"node9\" class=\"node\">\n<title>s2&#45;a1</title>\n<ellipse fill=\"lightpink\" stroke=\"lightpink\" cx=\"817.4\" cy=\"-108\" rx=\"27.65\" ry=\"27.65\"/>\n<text text-anchor=\"middle\" x=\"817.4\" y=\"-103\" font-family=\"Arial\" font-size=\"20.00\">a1</text>\n</g>\n<!-- s2&#45;&gt;s2&#45;a1 -->\n<g id=\"edge16\" class=\"edge\">\n<title>s2&#45;&gt;s2&#45;a1</title>\n<path fill=\"none\" stroke=\"red\" stroke-width=\"2\" d=\"M614.62,-170.76C623.72,-167.01 632.99,-163.36 641.83,-160 689.22,-141.99 744.57,-122.99 780.03,-113.18\"/>\n<polygon fill=\"red\" stroke=\"red\" stroke-width=\"2\" points=\"781.15,-116.51 789.92,-110.56 779.36,-109.74 781.15,-116.51\"/>\n</g>\n<!-- s2&#45;&gt;s2&#45;a1 -->\n<g id=\"edge22\" class=\"edge\">\n<title>s2&#45;&gt;s2&#45;a1</title>\n<path fill=\"none\" stroke=\"green\" stroke-width=\"6\" d=\"M620.9,-186.12C627.95,-183.35 635.01,-180.59 641.83,-178 690.93,-159.34 748.58,-139.62 783.79,-125.46\"/>\n<polygon fill=\"green\" stroke=\"green\" stroke-width=\"6\" points=\"785.86,-130.29 793.1,-121.62 781.86,-120.58 785.86,-130.29\"/>\n</g>\n<!-- s0&#45;a1&#45;&gt;s2 -->\n<g id=\"edge5\" class=\"edge\">\n<title>s0&#45;a1&#45;&gt;s2</title>\n<path fill=\"none\" stroke=\"blue\" stroke-dasharray=\"5,2\" d=\"M301.09,-230.46C338.28,-226.92 407.42,-220.33 463,-215.04\"/>\n<polygon fill=\"blue\" stroke=\"blue\" points=\"463.59,-218.5 473.21,-214.07 462.92,-211.53 463.59,-218.5\"/>\n<text text-anchor=\"middle\" x=\"386.99\" y=\"-233.2\" font-family=\"Arial\" font-size=\"16.00\">p = &#160;&#160;1</text>\n</g>\n<!-- s1 -->\n<g id=\"node5\" class=\"node\">\n<title>s1</title>\n<ellipse fill=\"#85ff75\" stroke=\"#85ff75\" cx=\"1024.4\" cy=\"-127\" rx=\"71.34\" ry=\"71.34\"/>\n<ellipse fill=\"none\" stroke=\"#85ff75\" cx=\"1024.4\" cy=\"-127\" rx=\"75.34\" ry=\"75.34\"/>\n<text text-anchor=\"middle\" x=\"1024.4\" y=\"-133.8\" font-family=\"Arial\" font-size=\"24.00\">s1</text>\n<text text-anchor=\"middle\" x=\"1024.4\" y=\"-107.8\" font-family=\"Arial\" font-size=\"24.00\">V =7.29</text>\n</g>\n<!-- s1&#45;a0 -->\n<g id=\"node6\" class=\"node\">\n<title>s1&#45;a0</title>\n<ellipse fill=\"lightpink\" stroke=\"lightpink\" cx=\"1231.39\" cy=\"-126\" rx=\"27.65\" ry=\"27.65\"/>\n<text text-anchor=\"middle\" x=\"1231.39\" y=\"-121\" font-family=\"Arial\" font-size=\"20.00\">a0</text>\n</g>\n<!-- s1&#45;&gt;s1&#45;a0 -->\n<g id=\"edge6\" class=\"edge\">\n<title>s1&#45;&gt;s1&#45;a0</title>\n<path fill=\"none\" stroke=\"red\" stroke-width=\"2\" d=\"M1099.7,-120.12C1131.72,-119.42 1167.73,-119.65 1193.83,-120.87\"/>\n<polygon fill=\"red\" stroke=\"red\" stroke-width=\"2\" points=\"1193.84,-124.37 1204.01,-121.43 1194.22,-117.38 1193.84,-124.37\"/>\n</g>\n<!-- s1&#45;&gt;s1&#45;a0 -->\n<g id=\"edge21\" class=\"edge\">\n<title>s1&#45;&gt;s1&#45;a0</title>\n<path fill=\"none\" stroke=\"green\" stroke-width=\"6\" d=\"M1099.7,-133.16C1131.72,-133.54 1167.73,-132.96 1193.83,-131.49\"/>\n<polygon fill=\"green\" stroke=\"green\" stroke-width=\"6\" points=\"1194.37,-136.72 1204.01,-130.83 1193.7,-126.24 1194.37,-136.72\"/>\n</g>\n<!-- s1&#45;a1 -->\n<g id=\"node7\" class=\"node\">\n<title>s1&#45;a1</title>\n<ellipse fill=\"lightpink\" stroke=\"lightpink\" cx=\"1231.39\" cy=\"-199\" rx=\"27.65\" ry=\"27.65\"/>\n<text text-anchor=\"middle\" x=\"1231.39\" y=\"-194\" font-family=\"Arial\" font-size=\"20.00\">a1</text>\n</g>\n<!-- s1&#45;&gt;s1&#45;a1 -->\n<g id=\"edge10\" class=\"edge\">\n<title>s1&#45;&gt;s1&#45;a1</title>\n<path fill=\"none\" stroke=\"red\" stroke-width=\"2\" d=\"M1097.18,-147.6C1125.13,-156.19 1157.25,-166.79 1185.82,-178 1189.47,-179.44 1193.25,-181.03 1197,-182.69\"/>\n<polygon fill=\"red\" stroke=\"red\" stroke-width=\"2\" points=\"1195.57,-185.88 1206.12,-186.85 1198.48,-179.52 1195.57,-185.88\"/>\n</g>\n<!-- s1&#45;a0&#45;&gt;s0 -->\n<g id=\"edge7\" class=\"edge\">\n<title>s1&#45;a0&#45;&gt;s0</title>\n<path fill=\"none\" stroke=\"blue\" stroke-dasharray=\"5,2\" d=\"M1212.63,-105.48C1179.64,-69.77 1104.98,0 1025.4,0 272.41,0 272.41,0 272.41,0 219.55,0 169.92,-33.15 133.82,-65.84\"/>\n<polygon fill=\"blue\" stroke=\"blue\" points=\"131.28,-63.42 126.33,-72.79 136.04,-68.55 131.28,-63.42\"/>\n<text text-anchor=\"middle\" x=\"706.83\" y=\"-5.2\" font-family=\"Arial\" font-size=\"16.00\">p = 0.7 &#160;reward =5</text>\n</g>\n<!-- s1&#45;a0&#45;&gt;s2 -->\n<g id=\"edge9\" class=\"edge\">\n<title>s1&#45;a0&#45;&gt;s2</title>\n<path fill=\"none\" stroke=\"blue\" stroke-dasharray=\"5,2\" d=\"M1213.23,-146.99C1209.82,-151.75 1206.48,-156.91 1203.82,-162 1192.29,-184.05 1205.97,-200.42 1185.82,-215 1099.99,-277.07 785.78,-241.68 633.4,-220\"/>\n<polygon fill=\"blue\" stroke=\"blue\" points=\"633.55,-216.49 623.15,-218.53 632.55,-223.41 633.55,-216.49\"/>\n<text text-anchor=\"middle\" x=\"896.98\" y=\"-253.2\" font-family=\"Arial\" font-size=\"16.00\">p = &#160;&#160;0.2</text>\n</g>\n<!-- s1&#45;a0&#45;&gt;s1 -->\n<g id=\"edge8\" class=\"edge\">\n<title>s1&#45;a0&#45;&gt;s1</title>\n<path fill=\"none\" stroke=\"blue\" stroke-dasharray=\"5,2\" d=\"M1207.03,-112.64C1200.38,-109.5 1193,-106.61 1185.82,-105 1160.51,-99.34 1132.61,-100.61 1107.27,-104.56\"/>\n<polygon fill=\"blue\" stroke=\"blue\" points=\"1106.59,-101.13 1097.33,-106.27 1107.77,-108.03 1106.59,-101.13\"/>\n<text text-anchor=\"middle\" x=\"1151.82\" y=\"-110.2\" font-family=\"Arial\" font-size=\"16.00\">p = &#160;&#160;0.1</text>\n</g>\n<!-- s1&#45;a1&#45;&gt;s2 -->\n<g id=\"edge12\" class=\"edge\">\n<title>s1&#45;a1&#45;&gt;s2</title>\n<path fill=\"none\" stroke=\"blue\" stroke-dasharray=\"5,2\" d=\"M1217.04,-222.72C1209.44,-233.75 1198.83,-245.78 1185.82,-252 967.65,-356.2 876.79,-308.97 641.83,-252 636.05,-250.6 630.21,-248.8 624.42,-246.73\"/>\n<polygon fill=\"blue\" stroke=\"blue\" points=\"625.34,-243.34 614.75,-243.02 622.83,-249.87 625.34,-243.34\"/>\n<text text-anchor=\"middle\" x=\"896.98\" y=\"-317.2\" font-family=\"Arial\" font-size=\"16.00\">p = &#160;&#160;0.05</text>\n</g>\n<!-- s1&#45;a1&#45;&gt;s1 -->\n<g id=\"edge11\" class=\"edge\">\n<title>s1&#45;a1&#45;&gt;s1</title>\n<path fill=\"none\" stroke=\"blue\" stroke-dasharray=\"5,2\" d=\"M1203.88,-195.77C1180.69,-192.43 1146.36,-186.24 1117.82,-176 1111.81,-173.85 1105.72,-171.36 1099.67,-168.68\"/>\n<polygon fill=\"blue\" stroke=\"blue\" points=\"1100.77,-165.33 1090.23,-164.31 1097.84,-171.69 1100.77,-165.33\"/>\n<text text-anchor=\"middle\" x=\"1151.82\" y=\"-198.2\" font-family=\"Arial\" font-size=\"16.00\">p = &#160;&#160;0.95</text>\n</g>\n<!-- s2&#45;a0&#45;&gt;s0 -->\n<g id=\"edge14\" class=\"edge\">\n<title>s2&#45;a0&#45;&gt;s0</title>\n<path fill=\"none\" stroke=\"blue\" stroke-dasharray=\"5,2\" d=\"M791.4,-170.89C755.17,-156.84 685.66,-132.11 623.83,-123 461.23,-99.05 268.53,-110.19 160.58,-119.95\"/>\n<polygon fill=\"blue\" stroke=\"blue\" points=\"160.04,-116.48 150.4,-120.88 160.68,-123.45 160.04,-116.48\"/>\n<text text-anchor=\"middle\" x=\"386.99\" y=\"-115.2\" font-family=\"Arial\" font-size=\"16.00\">p = &#160;&#160;0.4</text>\n</g>\n<!-- s2&#45;a0&#45;&gt;s2 -->\n<g id=\"edge15\" class=\"edge\">\n<title>s2&#45;a0&#45;&gt;s2</title>\n<path fill=\"none\" stroke=\"blue\" stroke-dasharray=\"5,2\" d=\"M789.88,-177.46C755.5,-173.54 693.78,-168.78 641.83,-177 637.7,-177.65 633.51,-178.46 629.31,-179.38\"/>\n<polygon fill=\"blue\" stroke=\"blue\" points=\"628.4,-176 619.49,-181.74 630.03,-182.81 628.4,-176\"/>\n<text text-anchor=\"middle\" x=\"706.83\" y=\"-182.2\" font-family=\"Arial\" font-size=\"16.00\">p = &#160;&#160;0.6</text>\n</g>\n<!-- s2&#45;a1&#45;&gt;s0 -->\n<g id=\"edge17\" class=\"edge\">\n<title>s2&#45;a1&#45;&gt;s0</title>\n<path fill=\"none\" stroke=\"blue\" stroke-dasharray=\"5,2\" d=\"M793.02,-94.34C786.37,-91.05 778.99,-87.94 771.83,-86 577.3,-33.44 519.75,-46.75 318.99,-64 251.51,-69.8 233.82,-70.93 168.84,-90 163.95,-91.43 158.97,-93.05 153.99,-94.79\"/>\n<polygon fill=\"blue\" stroke=\"blue\" points=\"152.63,-91.56 144.42,-98.26 155.02,-98.14 152.63,-91.56\"/>\n<text text-anchor=\"middle\" x=\"386.99\" y=\"-69.2\" font-family=\"Arial\" font-size=\"16.00\">p = 0.3 &#160;reward =&#45;1</text>\n</g>\n<!-- s2&#45;a1&#45;&gt;s2 -->\n<g id=\"edge19\" class=\"edge\">\n<title>s2&#45;a1&#45;&gt;s2</title>\n<path fill=\"none\" stroke=\"blue\" stroke-dasharray=\"5,2\" d=\"M790.76,-100.32C755.47,-91.22 690.74,-79.89 641.83,-102 624.83,-109.68 609.72,-122.2 596.89,-135.96\"/>\n<polygon fill=\"blue\" stroke=\"blue\" points=\"594.03,-133.92 590,-143.71 599.26,-138.57 594.03,-133.92\"/>\n<text text-anchor=\"middle\" x=\"706.83\" y=\"-107.2\" font-family=\"Arial\" font-size=\"16.00\">p = &#160;&#160;0.4</text>\n</g>\n<!-- s2&#45;a1&#45;&gt;s1 -->\n<g id=\"edge18\" class=\"edge\">\n<title>s2&#45;a1&#45;&gt;s1</title>\n<path fill=\"none\" stroke=\"blue\" stroke-dasharray=\"5,2\" d=\"M845.2,-110.48C869,-112.69 905.11,-116.04 938.61,-119.14\"/>\n<polygon fill=\"blue\" stroke=\"blue\" points=\"938.63,-122.66 948.91,-120.1 939.28,-115.69 938.63,-122.66\"/>\n<text text-anchor=\"middle\" x=\"896.98\" y=\"-124.2\" font-family=\"Arial\" font-size=\"16.00\">p = &#160;&#160;0.3</text>\n</g>\n</g>\n</svg>\n",
            "text/plain": [
              "<graphviz.graphs.Digraph at 0x78bc24298850>"
            ]
          },
          "metadata": {}
        }
      ]
    },
    {
      "cell_type": "code",
      "execution_count": 17,
      "metadata": {
        "id": "H0lbhT5kEJ8m"
      },
      "outputs": [],
      "source": [
        "# Так как работаю в ноутбуке, чуть закомментировал код импорта в первой ячейке.\n",
        "# Это теперь тоже излишне\n",
        "\n",
        "# if has_graphviz:\n",
        "#     try:\n",
        "#         display(plot_graph_optimal_strategy_and_state_values(mdp, state_values))\n",
        "#     except ImportError:\n",
        "#         raise ImportError(\"Run the cell that starts with \\\"%%writefile mdp_get_action_value.py\\\"\")"
      ]
    },
    {
      "cell_type": "code",
      "execution_count": 18,
      "metadata": {
        "id": "gkPArNruEJ8m",
        "colab": {
          "base_uri": "https://localhost:8080/"
        },
        "outputId": "9bdd7cf2-11c7-45ba-d59f-4cf514da2ec7"
      },
      "outputs": [
        {
          "output_type": "stream",
          "name": "stdout",
          "text": [
            "average reward:  0.4577\n"
          ]
        }
      ],
      "source": [
        "# Measure agent's average reward\n",
        "\n",
        "s = mdp.reset()\n",
        "rewards = []\n",
        "for _ in range(10000):\n",
        "    s, r, done, _ = mdp.step(get_optimal_action(mdp, state_values, s, gamma))\n",
        "    rewards.append(r)\n",
        "\n",
        "print(\"average reward: \", np.mean(rewards))\n",
        "\n",
        "assert(0.40 < np.mean(rewards) < 0.55)"
      ]
    },
    {
      "cell_type": "markdown",
      "metadata": {
        "id": "zj0LbnFdEJ8n"
      },
      "source": [
        "### Frozen lake"
      ]
    },
    {
      "cell_type": "code",
      "execution_count": 19,
      "metadata": {
        "id": "1Dq2ml7mEJ8n",
        "colab": {
          "base_uri": "https://localhost:8080/"
        },
        "outputId": "afd86b6e-e8a5-43ed-d974-0e2e0f00089a"
      },
      "outputs": [
        {
          "output_type": "stream",
          "name": "stdout",
          "text": [
            "*FFF\n",
            "FHFH\n",
            "FFFH\n",
            "HFFG\n",
            "\n"
          ]
        }
      ],
      "source": [
        "mdp = FrozenLakeEnv(slip_chance=0)\n",
        "\n",
        "mdp.render()"
      ]
    },
    {
      "cell_type": "code",
      "execution_count": 20,
      "metadata": {
        "id": "0O-zjtjCEJ8n"
      },
      "outputs": [],
      "source": [
        "def value_iteration(mdp, state_values=None, gamma=0.9, num_iter=1000, min_difference=1e-5):\n",
        "    \"\"\" performs num_iter value iteration steps starting from state_values. Same as before but in a function \"\"\"\n",
        "    state_values = state_values or {s: 0 for s in mdp.get_all_states()}\n",
        "    print(state_values)\n",
        "    for i in range(num_iter):\n",
        "\n",
        "        # Compute new state values using the functions you defined above. It must be a dict {state : new_V(state)}\n",
        "        new_state_values = {s: get_new_state_value(mdp, state_values, s, gamma) for s in mdp.get_all_states()}\n",
        "\n",
        "        assert isinstance(new_state_values, dict)\n",
        "\n",
        "        # Compute difference\n",
        "        diff = max(abs(new_state_values[s] - state_values[s])\n",
        "                    for s in mdp.get_all_states())\n",
        "\n",
        "        print(\"iter %4i   |   diff: %6.5f   |   V(start): %.3f \" %\n",
        "                (i, diff, new_state_values[mdp._initial_state]))\n",
        "\n",
        "        state_values = new_state_values\n",
        "        if diff < min_difference:\n",
        "            break\n",
        "\n",
        "    return state_values"
      ]
    },
    {
      "cell_type": "code",
      "source": [
        "state_values = value_iteration(mdp)"
      ],
      "metadata": {
        "colab": {
          "base_uri": "https://localhost:8080/"
        },
        "id": "hVBYOfem_clI",
        "outputId": "01e8fea9-a6d3-4efe-e77b-0bd39a5bb989"
      },
      "execution_count": 21,
      "outputs": [
        {
          "output_type": "stream",
          "name": "stdout",
          "text": [
            "{(0, 0): 0, (0, 1): 0, (0, 2): 0, (0, 3): 0, (1, 0): 0, (1, 1): 0, (1, 2): 0, (1, 3): 0, (2, 0): 0, (2, 1): 0, (2, 2): 0, (2, 3): 0, (3, 0): 0, (3, 1): 0, (3, 2): 0, (3, 3): 0}\n",
            "iter    0   |   diff: 1.00000   |   V(start): 0.000 \n",
            "iter    1   |   diff: 0.90000   |   V(start): 0.000 \n",
            "iter    2   |   diff: 0.81000   |   V(start): 0.000 \n",
            "iter    3   |   diff: 0.72900   |   V(start): 0.000 \n",
            "iter    4   |   diff: 0.65610   |   V(start): 0.000 \n",
            "iter    5   |   diff: 0.59049   |   V(start): 0.590 \n",
            "iter    6   |   diff: 0.00000   |   V(start): 0.590 \n"
          ]
        }
      ]
    },
    {
      "cell_type": "code",
      "execution_count": 22,
      "metadata": {
        "id": "BBve2e0jEJ8n",
        "colab": {
          "base_uri": "https://localhost:8080/"
        },
        "outputId": "c4e05121-cdbd-4af7-8f09-0e63a04892cf"
      },
      "outputs": [
        {
          "output_type": "stream",
          "name": "stdout",
          "text": [
            "*FFF\n",
            "FHFH\n",
            "FFFH\n",
            "HFFG\n",
            "\n",
            "down\n",
            "\n",
            "SFFF\n",
            "*HFH\n",
            "FFFH\n",
            "HFFG\n",
            "\n",
            "down\n",
            "\n",
            "SFFF\n",
            "FHFH\n",
            "*FFH\n",
            "HFFG\n",
            "\n",
            "right\n",
            "\n",
            "SFFF\n",
            "FHFH\n",
            "F*FH\n",
            "HFFG\n",
            "\n",
            "down\n",
            "\n",
            "SFFF\n",
            "FHFH\n",
            "FFFH\n",
            "H*FG\n",
            "\n",
            "right\n",
            "\n",
            "SFFF\n",
            "FHFH\n",
            "FFFH\n",
            "HF*G\n",
            "\n",
            "right\n",
            "\n",
            "SFFF\n",
            "FHFH\n",
            "FFFH\n",
            "HFF*\n",
            "\n"
          ]
        }
      ],
      "source": [
        "s = mdp.reset()\n",
        "mdp.render()\n",
        "for t in range(100):\n",
        "    a = get_optimal_action(mdp, state_values, s, gamma)\n",
        "    print(a, end='\\n\\n')\n",
        "    s, r, done, _ = mdp.step(a)\n",
        "    mdp.render()\n",
        "    if done:\n",
        "        break"
      ]
    },
    {
      "cell_type": "markdown",
      "metadata": {
        "id": "fSfdHSi4EJ8n"
      },
      "source": [
        "### Let's visualize!\n",
        "\n",
        "It's usually interesting to see what your algorithm actually learned under the hood. To do so, we'll plot state value functions and optimal actions at each VI step."
      ]
    },
    {
      "cell_type": "code",
      "source": [
        "import matplotlib.pyplot as plt"
      ],
      "metadata": {
        "id": "PZvcLLZ8e_rF"
      },
      "execution_count": 23,
      "outputs": []
    },
    {
      "cell_type": "code",
      "execution_count": 24,
      "metadata": {
        "id": "ku1e0sOJEJ8o"
      },
      "outputs": [],
      "source": [
        "def draw_policy(mdp, state_values):\n",
        "    plt.figure(figsize=(3, 3))\n",
        "    h, w = mdp.desc.shape\n",
        "    states = sorted(mdp.get_all_states())\n",
        "    V = np.array([state_values[s] for s in states])\n",
        "    Pi = {s: get_optimal_action(mdp, state_values, s, gamma) for s in states}\n",
        "    plt.imshow(V.reshape(w, h), cmap='gray', interpolation='none', clim=(0, 1))\n",
        "    ax = plt.gca()\n",
        "    ax.set_xticks(np.arange(h)-.5)\n",
        "    ax.set_yticks(np.arange(w)-.5)\n",
        "    ax.set_xticklabels([])\n",
        "    ax.set_yticklabels([])\n",
        "    Y, X = np.mgrid[0:4, 0:4]\n",
        "    a2uv = {'left': (-1, 0), 'down': (0, -1), 'right': (1, 0), 'up': (-1, 0)}\n",
        "    for y in range(h):\n",
        "        for x in range(w):\n",
        "            plt.text(x, y, str(mdp.desc[y, x].item()),\n",
        "                     color='g', size=12,  verticalalignment='center',\n",
        "                     horizontalalignment='center', fontweight='bold')\n",
        "            a = Pi[y, x]\n",
        "            if a is None or \" \": # Тут добавил or \" \" из-за key-error\n",
        "                continue\n",
        "            u, v = a2uv[a]\n",
        "            plt.arrow(x, y, u*.3, -v*.3, color='m',\n",
        "                      head_width=0.1, head_length=0.1)\n",
        "    plt.grid(color='b', lw=2, ls='-')\n",
        "    plt.show()"
      ]
    },
    {
      "cell_type": "code",
      "execution_count": 25,
      "metadata": {
        "id": "BFuZoqV5EJ8o",
        "colab": {
          "base_uri": "https://localhost:8080/",
          "height": 1000
        },
        "outputId": "29595d92-056c-44bd-ad1b-cbfdf8bcb87f"
      },
      "outputs": [
        {
          "output_type": "stream",
          "name": "stdout",
          "text": [
            "after iteration 0\n",
            "{(0, 0): 0, (0, 1): 0, (0, 2): 0, (0, 3): 0, (1, 0): 0, (1, 1): 0, (1, 2): 0, (1, 3): 0, (2, 0): 0, (2, 1): 0, (2, 2): 0, (2, 3): 0, (3, 0): 0, (3, 1): 0, (3, 2): 0, (3, 3): 0}\n",
            "iter    0   |   diff: 1.00000   |   V(start): 0.000 \n"
          ]
        },
        {
          "output_type": "display_data",
          "data": {
            "text/plain": [
              "<Figure size 300x300 with 1 Axes>"
            ],
            "image/png": "[encoded data removed]"
          },
          "metadata": {}
        },
        {
          "output_type": "stream",
          "name": "stdout",
          "text": [
            "after iteration 1\n",
            "{(0, 0): 0.0, (0, 1): 0.0, (0, 2): 0.0, (0, 3): 0.0, (1, 0): 0.0, (1, 1): 0, (1, 2): 0.0, (1, 3): 0, (2, 0): 0.0, (2, 1): 0.0, (2, 2): 0.0, (2, 3): 0, (3, 0): 0, (3, 1): 0.0, (3, 2): 1.0, (3, 3): 0}\n",
            "iter    0   |   diff: 0.90000   |   V(start): 0.000 \n"
          ]
        },
        {
          "output_type": "display_data",
          "data": {
            "text/plain": [
              "<Figure size 300x300 with 1 Axes>"
            ],
            "image/png": "[encoded data removed]"
          },
          "metadata": {}
        },
        {
          "output_type": "stream",
          "name": "stdout",
          "text": [
            "after iteration 2\n",
            "{(0, 0): 0.0, (0, 1): 0.0, (0, 2): 0.0, (0, 3): 0.0, (1, 0): 0.0, (1, 1): 0, (1, 2): 0.0, (1, 3): 0, (2, 0): 0.0, (2, 1): 0.0, (2, 2): 0.9, (2, 3): 0, (3, 0): 0, (3, 1): 0.9, (3, 2): 1.0, (3, 3): 0}\n",
            "iter    0   |   diff: 0.81000   |   V(start): 0.000 \n"
          ]
        },
        {
          "output_type": "display_data",
          "data": {
            "text/plain": [
              "<Figure size 300x300 with 1 Axes>"
            ],
            "image/png": "[encoded data removed]"
          },
          "metadata": {}
        },
        {
          "output_type": "stream",
          "name": "stdout",
          "text": [
            "after iteration 3\n",
            "{(0, 0): 0.0, (0, 1): 0.0, (0, 2): 0.0, (0, 3): 0.0, (1, 0): 0.0, (1, 1): 0, (1, 2): 0.81, (1, 3): 0, (2, 0): 0.0, (2, 1): 0.81, (2, 2): 0.9, (2, 3): 0, (3, 0): 0, (3, 1): 0.9, (3, 2): 1.0, (3, 3): 0}\n",
            "iter    0   |   diff: 0.72900   |   V(start): 0.000 \n"
          ]
        },
        {
          "output_type": "display_data",
          "data": {
            "text/plain": [
              "<Figure size 300x300 with 1 Axes>"
            ],
            "image/png": "[encoded data removed]"
          },
          "metadata": {}
        },
        {
          "output_type": "stream",
          "name": "stdout",
          "text": [
            "after iteration 4\n",
            "{(0, 0): 0.0, (0, 1): 0.0, (0, 2): 0.7290000000000001, (0, 3): 0.0, (1, 0): 0.0, (1, 1): 0, (1, 2): 0.81, (1, 3): 0, (2, 0): 0.7290000000000001, (2, 1): 0.81, (2, 2): 0.9, (2, 3): 0, (3, 0): 0, (3, 1): 0.9, (3, 2): 1.0, (3, 3): 0}\n",
            "iter    0   |   diff: 0.65610   |   V(start): 0.000 \n"
          ]
        },
        {
          "output_type": "display_data",
          "data": {
            "text/plain": [
              "<Figure size 300x300 with 1 Axes>"
            ],
            "image/png": "[encoded data removed]"
          },
          "metadata": {}
        },
        {
          "output_type": "stream",
          "name": "stdout",
          "text": [
            "after iteration 5\n",
            "{(0, 0): 0.0, (0, 1): 0.6561000000000001, (0, 2): 0.7290000000000001, (0, 3): 0.6561000000000001, (1, 0): 0.6561000000000001, (1, 1): 0, (1, 2): 0.81, (1, 3): 0, (2, 0): 0.7290000000000001, (2, 1): 0.81, (2, 2): 0.9, (2, 3): 0, (3, 0): 0, (3, 1): 0.9, (3, 2): 1.0, (3, 3): 0}\n",
            "iter    0   |   diff: 0.59049   |   V(start): 0.590 \n"
          ]
        },
        {
          "output_type": "display_data",
          "data": {
            "text/plain": [
              "<Figure size 300x300 with 1 Axes>"
            ],
            "image/png": "[encoded data removed]"
          },
          "metadata": {}
        },
        {
          "output_type": "stream",
          "name": "stdout",
          "text": [
            "after iteration 6\n",
            "{(0, 0): 0.5904900000000002, (0, 1): 0.6561000000000001, (0, 2): 0.7290000000000001, (0, 3): 0.6561000000000001, (1, 0): 0.6561000000000001, (1, 1): 0, (1, 2): 0.81, (1, 3): 0, (2, 0): 0.7290000000000001, (2, 1): 0.81, (2, 2): 0.9, (2, 3): 0, (3, 0): 0, (3, 1): 0.9, (3, 2): 1.0, (3, 3): 0}\n",
            "iter    0   |   diff: 0.00000   |   V(start): 0.590 \n"
          ]
        },
        {
          "output_type": "display_data",
          "data": {
            "text/plain": [
              "<Figure size 300x300 with 1 Axes>"
            ],
            "image/png": "[encoded data removed]"
          },
          "metadata": {}
        },
        {
          "output_type": "stream",
          "name": "stdout",
          "text": [
            "after iteration 7\n",
            "{(0, 0): 0.5904900000000002, (0, 1): 0.6561000000000001, (0, 2): 0.7290000000000001, (0, 3): 0.6561000000000001, (1, 0): 0.6561000000000001, (1, 1): 0, (1, 2): 0.81, (1, 3): 0, (2, 0): 0.7290000000000001, (2, 1): 0.81, (2, 2): 0.9, (2, 3): 0, (3, 0): 0, (3, 1): 0.9, (3, 2): 1.0, (3, 3): 0}\n",
            "iter    0   |   diff: 0.00000   |   V(start): 0.590 \n"
          ]
        },
        {
          "output_type": "display_data",
          "data": {
            "text/plain": [
              "<Figure size 300x300 with 1 Axes>"
            ],
            "image/png": "[encoded data removed]"
          },
          "metadata": {}
        },
        {
          "output_type": "stream",
          "name": "stdout",
          "text": [
            "after iteration 8\n",
            "{(0, 0): 0.5904900000000002, (0, 1): 0.6561000000000001, (0, 2): 0.7290000000000001, (0, 3): 0.6561000000000001, (1, 0): 0.6561000000000001, (1, 1): 0, (1, 2): 0.81, (1, 3): 0, (2, 0): 0.7290000000000001, (2, 1): 0.81, (2, 2): 0.9, (2, 3): 0, (3, 0): 0, (3, 1): 0.9, (3, 2): 1.0, (3, 3): 0}\n",
            "iter    0   |   diff: 0.00000   |   V(start): 0.590 \n"
          ]
        },
        {
          "output_type": "display_data",
          "data": {
            "text/plain": [
              "<Figure size 300x300 with 1 Axes>"
            ],
            "image/png": "[encoded data removed]"
          },
          "metadata": {}
        },
        {
          "output_type": "stream",
          "name": "stdout",
          "text": [
            "after iteration 9\n",
            "{(0, 0): 0.5904900000000002, (0, 1): 0.6561000000000001, (0, 2): 0.7290000000000001, (0, 3): 0.6561000000000001, (1, 0): 0.6561000000000001, (1, 1): 0, (1, 2): 0.81, (1, 3): 0, (2, 0): 0.7290000000000001, (2, 1): 0.81, (2, 2): 0.9, (2, 3): 0, (3, 0): 0, (3, 1): 0.9, (3, 2): 1.0, (3, 3): 0}\n",
            "iter    0   |   diff: 0.00000   |   V(start): 0.590 \n"
          ]
        },
        {
          "output_type": "display_data",
          "data": {
            "text/plain": [
              "<Figure size 300x300 with 1 Axes>"
            ],
            "image/png": "[encoded data removed]"
          },
          "metadata": {}
        }
      ],
      "source": [
        "state_values = {s: 0 for s in mdp.get_all_states()}\n",
        "\n",
        "for i in range(10):\n",
        "    print(\"after iteration %i\" % i)\n",
        "    state_values = value_iteration(mdp, state_values, num_iter=1)\n",
        "    draw_policy(mdp, state_values)\n",
        "# please ignore iter 0 at each step"
      ]
    },
    {
      "cell_type": "code",
      "execution_count": 26,
      "metadata": {
        "id": "n3W8bM-6EJ8o",
        "colab": {
          "base_uri": "https://localhost:8080/",
          "height": 347
        },
        "outputId": "9188e7bc-32ef-4e4a-fe5c-cd6ba26d2852"
      },
      "outputs": [
        {
          "output_type": "stream",
          "name": "stdout",
          "text": [
            "after iteration 29\n",
            "{(0, 0): 0.19816835624695936, (0, 1): 0.2223445049935264, (0, 2): 0.24939384969723666, (0, 3): 0.2796305097148703, (0, 4): 0.31337222379310753, (0, 5): 0.3501900589624752, (0, 6): 0.3911877019971599, (0, 7): 0.4341019274188376, (1, 0): 0.203373521905427, (1, 1): 0.22955576785721, (1, 2): 0.2593427579271444, (1, 3): 0.293680865071797, (1, 4): 0.3470339433789346, (1, 5): 0.3904326256868325, (1, 6): 0.4393760034943558, (1, 7): 0.49007888167744673, (2, 0): 0.18924037190332485, (2, 1): 0.21072556357547825, (2, 2): 0.22752308507941132, (2, 3): 0, (2, 4): 0.37070593434159904, (2, 5): 0.41732245382073924, (2, 6): 0.4935222045832375, (2, 7): 0.5533992739049909, (3, 0): 0.20890902758592897, (3, 1): 0.23700150307533097, (3, 2): 0.26918572731282375, (3, 3): 0.3070479512895303, (3, 4): 0.37907154484477706, (3, 5): 0, (3, 6): 0.5553576874710385, (3, 7): 0.6250466757731952, (4, 0): 0.18715568216854525, (4, 1): 0.2106315619425195, (4, 2): 0.2275188549208183, (4, 3): 0, (4, 4): 0.45093134203522156, (4, 5): 0.5090116789813668, (4, 6): 0.596919575363473, (4, 7): 0.7060845425035842, (5, 0): 0.15873930170184097, (5, 1): 0, (5, 2): 0, (5, 3): 0.4036170854058999, (5, 4): 0.4794147232760644, (5, 5): 0.566818287512511, (5, 6): 0, (5, 7): 0.7993201940736274, (6, 0): 0.15312108163424717, (6, 1): 0, (6, 2): 0.28608236743573423, (6, 3): 0.3398035457016614, (6, 4): 0, (6, 5): 0.6731415123027102, (6, 6): 0, (6, 7): 0.9424083769633508, (7, 0): 0.1805316527209761, (7, 1): 0.20434232275100245, (7, 2): 0.24092212200010235, (7, 3): 0, (7, 4): 0.7048602223065029, (7, 5): 0.8310389040774201, (7, 6): 0.9424083769633508, (7, 7): 0}\n",
            "iter    0   |   diff: 0.00000   |   V(start): 0.198 \n"
          ]
        },
        {
          "output_type": "display_data",
          "data": {
            "text/plain": [
              "<Figure size 300x300 with 1 Axes>"
            ],
            "image/png": "[encoded data removed]"
          },
          "metadata": {}
        }
      ],
      "source": [
        "mdp = FrozenLakeEnv(map_name='8x8', slip_chance=0.1)\n",
        "state_values = {s: 0 for s in mdp.get_all_states()}\n",
        "\n",
        "for i in range(30):\n",
        "    clear_output(True)\n",
        "    print(\"after iteration %i\" % i)\n",
        "    state_values = value_iteration(mdp, state_values, num_iter=1)\n",
        "    draw_policy(mdp, state_values)\n",
        "    sleep(0.5)\n",
        "# please ignore iter 0 at each step"
      ]
    },
    {
      "cell_type": "markdown",
      "metadata": {
        "id": "Jbxf3ekLEJ8o"
      },
      "source": [
        "Massive tests"
      ]
    },
    {
      "cell_type": "code",
      "execution_count": 27,
      "metadata": {
        "id": "63e_nB90EJ8o",
        "colab": {
          "base_uri": "https://localhost:8080/"
        },
        "outputId": "0eb4001f-08e5-43f1-b508-22e23ef49a03"
      },
      "outputs": [
        {
          "output_type": "stream",
          "name": "stdout",
          "text": [
            "{(0, 0): 0, (0, 1): 0, (0, 2): 0, (0, 3): 0, (1, 0): 0, (1, 1): 0, (1, 2): 0, (1, 3): 0, (2, 0): 0, (2, 1): 0, (2, 2): 0, (2, 3): 0, (3, 0): 0, (3, 1): 0, (3, 2): 0, (3, 3): 0}\n",
            "iter    0   |   diff: 1.00000   |   V(start): 0.000 \n",
            "iter    1   |   diff: 0.90000   |   V(start): 0.000 \n",
            "iter    2   |   diff: 0.81000   |   V(start): 0.000 \n",
            "iter    3   |   diff: 0.72900   |   V(start): 0.000 \n",
            "iter    4   |   diff: 0.65610   |   V(start): 0.000 \n",
            "iter    5   |   diff: 0.59049   |   V(start): 0.590 \n",
            "iter    6   |   diff: 0.00000   |   V(start): 0.590 \n",
            "average reward:  1.0\n",
            "Well done!\n"
          ]
        }
      ],
      "source": [
        "mdp = FrozenLakeEnv(slip_chance=0)\n",
        "state_values = value_iteration(mdp)\n",
        "\n",
        "total_rewards = []\n",
        "for game_i in range(1000):\n",
        "    s = mdp.reset()\n",
        "    rewards = []\n",
        "    for t in range(100):\n",
        "        s, r, done, _ = mdp.step(\n",
        "            get_optimal_action(mdp, state_values, s, gamma))\n",
        "        rewards.append(r)\n",
        "        if done:\n",
        "            break\n",
        "    total_rewards.append(np.sum(rewards))\n",
        "\n",
        "print(\"average reward: \", np.mean(total_rewards))\n",
        "assert(1.0 <= np.mean(total_rewards) <= 1.0)\n",
        "print(\"Well done!\")"
      ]
    },
    {
      "cell_type": "code",
      "execution_count": 28,
      "metadata": {
        "id": "WufUlM6VEJ8p",
        "colab": {
          "base_uri": "https://localhost:8080/"
        },
        "outputId": "e31a9761-391a-4efb-a0ab-4c38880f7559"
      },
      "outputs": [
        {
          "output_type": "stream",
          "name": "stdout",
          "text": [
            "{(0, 0): 0, (0, 1): 0, (0, 2): 0, (0, 3): 0, (1, 0): 0, (1, 1): 0, (1, 2): 0, (1, 3): 0, (2, 0): 0, (2, 1): 0, (2, 2): 0, (2, 3): 0, (3, 0): 0, (3, 1): 0, (3, 2): 0, (3, 3): 0}\n",
            "iter    0   |   diff: 0.90000   |   V(start): 0.000 \n",
            "iter    1   |   diff: 0.72900   |   V(start): 0.000 \n",
            "iter    2   |   diff: 0.62330   |   V(start): 0.000 \n",
            "iter    3   |   diff: 0.50487   |   V(start): 0.000 \n",
            "iter    4   |   diff: 0.40894   |   V(start): 0.000 \n",
            "iter    5   |   diff: 0.34868   |   V(start): 0.349 \n",
            "iter    6   |   diff: 0.06529   |   V(start): 0.410 \n",
            "iter    7   |   diff: 0.05832   |   V(start): 0.468 \n",
            "iter    8   |   diff: 0.01139   |   V(start): 0.480 \n",
            "iter    9   |   diff: 0.00764   |   V(start): 0.487 \n",
            "iter   10   |   diff: 0.00164   |   V(start): 0.489 \n",
            "iter   11   |   diff: 0.00094   |   V(start): 0.490 \n",
            "iter   12   |   diff: 0.00022   |   V(start): 0.490 \n",
            "iter   13   |   diff: 0.00011   |   V(start): 0.490 \n",
            "iter   14   |   diff: 0.00003   |   V(start): 0.490 \n",
            "iter   15   |   diff: 0.00001   |   V(start): 0.490 \n",
            "iter   16   |   diff: 0.00000   |   V(start): 0.490 \n",
            "average reward:  0.878\n",
            "Well done!\n"
          ]
        }
      ],
      "source": [
        "# Measure agent's average reward\n",
        "mdp = FrozenLakeEnv(slip_chance=0.1)\n",
        "state_values = value_iteration(mdp)\n",
        "\n",
        "total_rewards = []\n",
        "for game_i in range(1000):\n",
        "    s = mdp.reset()\n",
        "    rewards = []\n",
        "    for t in range(100):\n",
        "        s, r, done, _ = mdp.step(\n",
        "            get_optimal_action(mdp, state_values, s, gamma))\n",
        "        rewards.append(r)\n",
        "        if done:\n",
        "            break\n",
        "    total_rewards.append(np.sum(rewards))\n",
        "\n",
        "print(\"average reward: \", np.mean(total_rewards))\n",
        "assert(0.8 <= np.mean(total_rewards) <= 0.95)\n",
        "print(\"Well done!\")"
      ]
    },
    {
      "cell_type": "code",
      "execution_count": 29,
      "metadata": {
        "id": "zz4ntwzgEJ8p",
        "colab": {
          "base_uri": "https://localhost:8080/"
        },
        "outputId": "c1f82036-ba59-41ee-81aa-640d14582848"
      },
      "outputs": [
        {
          "output_type": "stream",
          "name": "stdout",
          "text": [
            "{(0, 0): 0, (0, 1): 0, (0, 2): 0, (0, 3): 0, (1, 0): 0, (1, 1): 0, (1, 2): 0, (1, 3): 0, (2, 0): 0, (2, 1): 0, (2, 2): 0, (2, 3): 0, (3, 0): 0, (3, 1): 0, (3, 2): 0, (3, 3): 0}\n",
            "iter    0   |   diff: 0.75000   |   V(start): 0.000 \n",
            "iter    1   |   diff: 0.50625   |   V(start): 0.000 \n",
            "iter    2   |   diff: 0.39867   |   V(start): 0.000 \n",
            "iter    3   |   diff: 0.26910   |   V(start): 0.000 \n",
            "iter    4   |   diff: 0.18164   |   V(start): 0.000 \n",
            "iter    5   |   diff: 0.14013   |   V(start): 0.140 \n",
            "iter    6   |   diff: 0.07028   |   V(start): 0.199 \n",
            "iter    7   |   diff: 0.06030   |   V(start): 0.260 \n",
            "iter    8   |   diff: 0.02594   |   V(start): 0.285 \n",
            "iter    9   |   diff: 0.01918   |   V(start): 0.305 \n",
            "iter   10   |   diff: 0.00858   |   V(start): 0.313 \n",
            "iter   11   |   diff: 0.00560   |   V(start): 0.319 \n",
            "iter   12   |   diff: 0.00260   |   V(start): 0.321 \n",
            "iter   13   |   diff: 0.00159   |   V(start): 0.323 \n",
            "iter   14   |   diff: 0.00076   |   V(start): 0.324 \n",
            "iter   15   |   diff: 0.00045   |   V(start): 0.324 \n",
            "iter   16   |   diff: 0.00022   |   V(start): 0.324 \n",
            "iter   17   |   diff: 0.00012   |   V(start): 0.325 \n",
            "iter   18   |   diff: 0.00006   |   V(start): 0.325 \n",
            "iter   19   |   diff: 0.00003   |   V(start): 0.325 \n",
            "iter   20   |   diff: 0.00002   |   V(start): 0.325 \n",
            "iter   21   |   diff: 0.00001   |   V(start): 0.325 \n",
            "average reward:  0.649\n",
            "Well done!\n"
          ]
        }
      ],
      "source": [
        "# Measure agent's average reward\n",
        "mdp = FrozenLakeEnv(slip_chance=0.25)\n",
        "state_values = value_iteration(mdp)\n",
        "\n",
        "total_rewards = []\n",
        "for game_i in range(1000):\n",
        "    s = mdp.reset()\n",
        "    rewards = []\n",
        "    for t in range(100):\n",
        "        s, r, done, _ = mdp.step(\n",
        "            get_optimal_action(mdp, state_values, s, gamma))\n",
        "        rewards.append(r)\n",
        "        if done:\n",
        "            break\n",
        "    total_rewards.append(np.sum(rewards))\n",
        "\n",
        "print(\"average reward: \", np.mean(total_rewards))\n",
        "assert(0.6 <= np.mean(total_rewards) <= 0.7)\n",
        "print(\"Well done!\")"
      ]
    },
    {
      "cell_type": "code",
      "execution_count": 30,
      "metadata": {
        "id": "gpCEem0nEJ8q",
        "colab": {
          "base_uri": "https://localhost:8080/"
        },
        "outputId": "3aea0297-ef14-4580-a8af-8f55c807ac6d"
      },
      "outputs": [
        {
          "output_type": "stream",
          "name": "stdout",
          "text": [
            "{(0, 0): 0, (0, 1): 0, (0, 2): 0, (0, 3): 0, (0, 4): 0, (0, 5): 0, (0, 6): 0, (0, 7): 0, (1, 0): 0, (1, 1): 0, (1, 2): 0, (1, 3): 0, (1, 4): 0, (1, 5): 0, (1, 6): 0, (1, 7): 0, (2, 0): 0, (2, 1): 0, (2, 2): 0, (2, 3): 0, (2, 4): 0, (2, 5): 0, (2, 6): 0, (2, 7): 0, (3, 0): 0, (3, 1): 0, (3, 2): 0, (3, 3): 0, (3, 4): 0, (3, 5): 0, (3, 6): 0, (3, 7): 0, (4, 0): 0, (4, 1): 0, (4, 2): 0, (4, 3): 0, (4, 4): 0, (4, 5): 0, (4, 6): 0, (4, 7): 0, (5, 0): 0, (5, 1): 0, (5, 2): 0, (5, 3): 0, (5, 4): 0, (5, 5): 0, (5, 6): 0, (5, 7): 0, (6, 0): 0, (6, 1): 0, (6, 2): 0, (6, 3): 0, (6, 4): 0, (6, 5): 0, (6, 6): 0, (6, 7): 0, (7, 0): 0, (7, 1): 0, (7, 2): 0, (7, 3): 0, (7, 4): 0, (7, 5): 0, (7, 6): 0, (7, 7): 0}\n",
            "iter    0   |   diff: 0.80000   |   V(start): 0.000 \n",
            "iter    1   |   diff: 0.57600   |   V(start): 0.000 \n",
            "iter    2   |   diff: 0.41472   |   V(start): 0.000 \n",
            "iter    3   |   diff: 0.29860   |   V(start): 0.000 \n",
            "iter    4   |   diff: 0.24186   |   V(start): 0.000 \n",
            "iter    5   |   diff: 0.19349   |   V(start): 0.000 \n",
            "iter    6   |   diff: 0.15325   |   V(start): 0.000 \n",
            "iter    7   |   diff: 0.12288   |   V(start): 0.000 \n",
            "iter    8   |   diff: 0.09930   |   V(start): 0.000 \n",
            "iter    9   |   diff: 0.08037   |   V(start): 0.000 \n",
            "iter   10   |   diff: 0.06426   |   V(start): 0.000 \n",
            "iter   11   |   diff: 0.05129   |   V(start): 0.000 \n",
            "iter   12   |   diff: 0.04330   |   V(start): 0.000 \n",
            "iter   13   |   diff: 0.03802   |   V(start): 0.033 \n",
            "iter   14   |   diff: 0.03332   |   V(start): 0.058 \n",
            "iter   15   |   diff: 0.02910   |   V(start): 0.087 \n",
            "iter   16   |   diff: 0.01855   |   V(start): 0.106 \n",
            "iter   17   |   diff: 0.01403   |   V(start): 0.120 \n",
            "iter   18   |   diff: 0.00810   |   V(start): 0.128 \n",
            "iter   19   |   diff: 0.00555   |   V(start): 0.133 \n",
            "iter   20   |   diff: 0.00321   |   V(start): 0.137 \n",
            "iter   21   |   diff: 0.00247   |   V(start): 0.138 \n",
            "iter   22   |   diff: 0.00147   |   V(start): 0.139 \n",
            "iter   23   |   diff: 0.00104   |   V(start): 0.140 \n",
            "iter   24   |   diff: 0.00058   |   V(start): 0.140 \n",
            "iter   25   |   diff: 0.00036   |   V(start): 0.141 \n",
            "iter   26   |   diff: 0.00024   |   V(start): 0.141 \n",
            "iter   27   |   diff: 0.00018   |   V(start): 0.141 \n",
            "iter   28   |   diff: 0.00012   |   V(start): 0.141 \n",
            "iter   29   |   diff: 0.00007   |   V(start): 0.141 \n",
            "iter   30   |   diff: 0.00004   |   V(start): 0.141 \n",
            "iter   31   |   diff: 0.00003   |   V(start): 0.141 \n",
            "iter   32   |   diff: 0.00001   |   V(start): 0.141 \n",
            "iter   33   |   diff: 0.00001   |   V(start): 0.141 \n",
            "average reward:  0.733\n",
            "Well done!\n"
          ]
        }
      ],
      "source": [
        "# Measure agent's average reward\n",
        "mdp = FrozenLakeEnv(slip_chance=0.2, map_name='8x8')\n",
        "state_values = value_iteration(mdp)\n",
        "\n",
        "total_rewards = []\n",
        "for game_i in range(1000):\n",
        "    s = mdp.reset()\n",
        "    rewards = []\n",
        "    for t in range(100):\n",
        "        s, r, done, _ = mdp.step(\n",
        "            get_optimal_action(mdp, state_values, s, gamma))\n",
        "        rewards.append(r)\n",
        "        if done:\n",
        "            break\n",
        "    total_rewards.append(np.sum(rewards))\n",
        "\n",
        "print(\"average reward: \", np.mean(total_rewards))\n",
        "assert(0.6 <= np.mean(total_rewards) <= 0.8)\n",
        "print(\"Well done!\")"
      ]
    },
    {
      "cell_type": "markdown",
      "metadata": {
        "id": "YKSTBSXkEJ8q"
      },
      "source": [
        "# Policy Iteration (up to 1 points)\n",
        "\n",
        "Let's implement exact policy iteration (PI), which has the following pseudocode:\n",
        "\n",
        "---\n",
        "Initialize $\\pi_0$   `// random or fixed action`\n",
        "\n",
        "For $n=0, 1, 2, \\dots$\n",
        "- Compute the state-value function $V^{\\pi_{n}}$\n",
        "- Using $V^{\\pi_{n}}$, compute the state-action-value function $Q^{\\pi_{n}}$\n",
        "- Compute new policy $\\pi_{n+1}(s) = \\underset{a}{\\operatorname*{argmax}} Q^{\\pi_{n}}(s,a)$\n",
        "---\n",
        "\n",
        "Unlike VI, policy iteration has to maintain a policy - chosen actions from all states - and estimate $V^{\\pi_{n}}$ based on this policy. It only changes policy once values converged.\n",
        "\n",
        "\n",
        "Below are a few helpers that you may or may not use in your implementation."
      ]
    },
    {
      "cell_type": "code",
      "execution_count": 31,
      "metadata": {
        "id": "rbxqd57SEJ8q"
      },
      "outputs": [],
      "source": [
        "transition_probs = {\n",
        "    's0': {\n",
        "        'a0': {'s0': 0.5, 's2': 0.5},\n",
        "        'a1': {'s2': 1}\n",
        "    },\n",
        "    's1': {\n",
        "        'a0': {'s0': 0.7, 's1': 0.1, 's2': 0.2},\n",
        "        'a1': {'s1': 0.95, 's2': 0.05}\n",
        "    },\n",
        "    's2': {\n",
        "        'a0': {'s0': 0.4, 's2': 0.6},\n",
        "        'a1': {'s0': 0.3, 's1': 0.3, 's2': 0.4}\n",
        "    }\n",
        "}\n",
        "rewards = {\n",
        "    's1': {'a0': {'s0': +5}},\n",
        "    's2': {'a1': {'s0': -1}}\n",
        "}\n",
        "\n",
        "mdp = MDP(transition_probs, rewards, initial_state='s0')\n",
        "# display(plot_graph(mdp))"
      ]
    },
    {
      "cell_type": "markdown",
      "metadata": {
        "id": "FOS7X5LkEJ8q"
      },
      "source": [
        "Let's write a function called `compute_vpi` that computes the state-value function $V^{\\pi}$ for an arbitrary policy $\\pi$.\n",
        "\n",
        "Unlike VI, this time you must find the exact solution, not just a single iteration.\n",
        "\n",
        "Recall that $V^{\\pi}$ satisfies the following linear equation:\n",
        "$$V^{\\pi}(s) = \\sum_{s'} P(s,\\pi(s),s')[ R(s,\\pi(s),s') + \\gamma V^{\\pi}(s')]$$\n",
        "\n",
        "You'll have to solve a linear system in your code. (Find an exact solution, e.g., with `np.linalg.solve` or fixed-point iteration method.)"
      ]
    },
    {
      "cell_type": "markdown",
      "source": [
        "To calculate $V^\\pi$ for all states as a solution to the matrix equation, let's rewrite the formula above in a matrix form.\n",
        "$$V = R + \\gamma PV,$$ where $P$ is a matrix of transition probabilities, $R$ is a vector of rewards for all states and $V$ is a vector of state values. Thus, from this equation we can take $V$ as follows:\n",
        "$$V = (I - \\gamma P)^{-1} R$$"
      ],
      "metadata": {
        "id": "F6XxsyRYrUrS"
      }
    },
    {
      "cell_type": "code",
      "source": [
        "def compute_vpi(mdp, policy, gamma):\n",
        "    \"\"\"\n",
        "    Computes V^pi(s) FOR ALL STATES under given policy.\n",
        "    :param policy: a dict of currently chosen actions {s : a}\n",
        "    :returns: a dict {state : V^pi(state) for all states}\n",
        "    \"\"\"\n",
        "    states = mdp.get_all_states()\n",
        "    state_to_index = {state: i for i, state in enumerate(states)} # Ломалось из-за несовпадения индексов\n",
        "    l = len(states)\n",
        "    P, R = np.zeros((l, l)), np.zeros((l, 1))\n",
        "\n",
        "    for state in states:\n",
        "        i = state_to_index[state]\n",
        "        if mdp.is_terminal(state): # Попытка обработать исключения для Frozen Lake\n",
        "          R[i] = 0\n",
        "\n",
        "        elif state in policy:\n",
        "            action = policy[state]\n",
        "            for possible_state in mdp.get_next_states(state, action):\n",
        "                j = state_to_index[possible_state]\n",
        "                P[i][j] = mdp.get_transition_prob(state, action, possible_state)\n",
        "                R[i] += mdp.get_reward(state, action, possible_state) * P[i][j]\n",
        "\n",
        "    V = np.linalg.solve(np.eye(l) - gamma * P, R)\n",
        "\n",
        "    return {state: V[state_to_index[state]][0] for state in states}"
      ],
      "metadata": {
        "id": "8RK4rHrD2WnD"
      },
      "execution_count": 32,
      "outputs": []
    },
    {
      "cell_type": "code",
      "execution_count": 33,
      "metadata": {
        "id": "TFlCSmZSEJ8r",
        "colab": {
          "base_uri": "https://localhost:8080/"
        },
        "outputId": "8eca6560-eb13-4df5-d03b-fa9ab5716ab8"
      },
      "outputs": [
        {
          "output_type": "stream",
          "name": "stdout",
          "text": [
            "{'s0': -0.8620499834856328, 's1': -0.29725861499504586, 's2': -0.9578333149840365}\n"
          ]
        }
      ],
      "source": [
        "test_policy = {s: np.random.choice(\n",
        "    mdp.get_possible_actions(s)) for s in mdp.get_all_states()}\n",
        "new_vpi = compute_vpi(mdp, test_policy, gamma)\n",
        "\n",
        "print(new_vpi)\n",
        "\n",
        "assert type(\n",
        "    new_vpi) is dict, \"compute_vpi must return a dict {state : V^pi(state) for all states}\""
      ]
    },
    {
      "cell_type": "markdown",
      "metadata": {
        "id": "1xnqXsUHEJ8r"
      },
      "source": [
        "Once we've got new state values, it's time to update our policy."
      ]
    },
    {
      "cell_type": "code",
      "execution_count": 34,
      "metadata": {
        "id": "cBnVqVdvEJ8r"
      },
      "outputs": [],
      "source": [
        "def compute_new_policy(mdp, vpi, gamma):\n",
        "    \"\"\"\n",
        "    Computes new policy as argmax of state values\n",
        "    :param vpi: a dict {state : V^pi(state) for all states}\n",
        "    :returns: a dict {state : optimal action for all states}\n",
        "    \"\"\"\n",
        "    policy = {}\n",
        "    for state in mdp.get_all_states():\n",
        "      if mdp.is_terminal(state):\n",
        "        continue\n",
        "\n",
        "      max_value = float(\"-inf\")\n",
        "      best_action = None\n",
        "      for action in mdp.get_possible_actions(state):\n",
        "          value = sum([mdp.get_transition_prob(state, action, next_state) * (mdp.get_reward(state, action, next_state) \\\n",
        "                                                                              + gamma * vpi[next_state]) for next_state in mdp.get_next_states(state, action)])\n",
        "          if value > max_value:\n",
        "              max_value = value\n",
        "              best_action = action\n",
        "\n",
        "      policy[state] = best_action\n",
        "    return policy"
      ]
    },
    {
      "cell_type": "code",
      "execution_count": 35,
      "metadata": {
        "id": "k6Rtlnf_EJ8r",
        "colab": {
          "base_uri": "https://localhost:8080/"
        },
        "outputId": "d5152d18-d3ab-44ba-b104-6e5a84615ded"
      },
      "outputs": [
        {
          "output_type": "stream",
          "name": "stdout",
          "text": [
            "{'s0': 'a0', 's1': 'a0', 's2': 'a0'}\n"
          ]
        }
      ],
      "source": [
        "mdp.reset()\n",
        "new_policy = compute_new_policy(mdp, new_vpi, gamma)\n",
        "\n",
        "print(new_policy)\n",
        "\n",
        "assert type(\n",
        "    new_policy) is dict, \"compute_new_policy must return a dict {state : optimal action for all states}\""
      ]
    },
    {
      "cell_type": "markdown",
      "metadata": {
        "id": "8yKNO_5iEJ8r"
      },
      "source": [
        "__Main loop__"
      ]
    },
    {
      "cell_type": "code",
      "source": [
        "def policy_iteration(mdp, policy=None, gamma=0.9, num_iter=1000, min_difference=1e-5):\n",
        "    \"\"\"\n",
        "    Run the policy iteration loop for num_iter iterations or till difference between V(s) is below min_difference.\n",
        "    If policy is not given, initialize it at random.\n",
        "    \"\"\"\n",
        "    # policy = policy or {s: np.random.choice(mdp.get_possible_actions(s)) if mdp.get_possible_actions(s) else None for s in mdp.get_all_states()}\n",
        "\n",
        "    # Обработка терминальных состояний для Frozen Lake\n",
        "    if policy is None:\n",
        "        policy = {}\n",
        "        for s in mdp.get_all_states():\n",
        "            if mdp.is_terminal(s) or not mdp.get_possible_actions(s):\n",
        "                policy[s] = None\n",
        "            else:\n",
        "                policy[s] = np.random.choice(mdp.get_possible_actions(s))\n",
        "\n",
        "    for i in range(num_iter):\n",
        "        old_policy = policy.copy()\n",
        "        vpi = compute_vpi(mdp, policy, gamma)\n",
        "        policy = compute_new_policy(mdp, vpi, gamma)\n",
        "\n",
        "        # if policy == old_policy:\n",
        "        #     print(f\"Policy convergence after {i} iterations\")\n",
        "        #     break\n",
        "\n",
        "        diff = max(abs(vpi[state] - compute_vpi(mdp, policy, gamma)[state]) for state in mdp.get_all_states())\n",
        "\n",
        "        print(\"iter %4i   |   diff: %6.5f   |   V(start): %.3f \" %\n",
        "              (i, diff, vpi[mdp._initial_state]))\n",
        "\n",
        "        if diff < min_difference:\n",
        "            print(f\"Value function convergence after {i} iterations\")\n",
        "            break\n",
        "\n",
        "    return vpi, policy"
      ],
      "metadata": {
        "id": "TBzK3aeLr98A"
      },
      "execution_count": 36,
      "outputs": []
    },
    {
      "cell_type": "code",
      "source": [
        "mdp.reset()\n",
        "policy_iteration(mdp)"
      ],
      "metadata": {
        "colab": {
          "base_uri": "https://localhost:8080/"
        },
        "id": "BXuHNe8uiAQh",
        "outputId": "59d86e56-f12b-4d6a-9ff0-d4c0064d6964"
      },
      "execution_count": 37,
      "outputs": [
        {
          "output_type": "stream",
          "name": "stdout",
          "text": [
            "iter    0   |   diff: 4.14341   |   V(start): -0.862 \n",
            "iter    1   |   diff: 3.47107   |   V(start): -0.000 \n",
            "iter    2   |   diff: 0.94998   |   V(start): 2.840 \n",
            "iter    3   |   diff: 0.00000   |   V(start): 3.790 \n",
            "Value function convergence after 3 iterations\n"
          ]
        },
        {
          "output_type": "execute_result",
          "data": {
            "text/plain": [
              "({'s0': 3.789948615114679, 's1': 7.3029201654342675, 's2': 4.211054016794088},\n",
              " {'s0': 'a1', 's1': 'a0', 's2': 'a1'})"
            ]
          },
          "metadata": {},
          "execution_count": 37
        }
      ]
    },
    {
      "cell_type": "markdown",
      "metadata": {
        "id": "4jf9VAYZEJ8s"
      },
      "source": [
        "__Your PI Results__"
      ]
    },
    {
      "cell_type": "markdown",
      "source": [
        "### 3 states 2 actions MDP"
      ],
      "metadata": {
        "id": "4wEeMCC86ysl"
      }
    },
    {
      "cell_type": "code",
      "source": [
        "transition_probs = {\n",
        "    's0': {\n",
        "        'a0': {'s0': 0.6, 's1': 0.4},\n",
        "        'a1': {'s2': 1}\n",
        "    },\n",
        "    's1': {\n",
        "        'a0': {'s0': 0.2, 's1': 0.8},\n",
        "        'a1': {'s2': 1}\n",
        "    },\n",
        "    's2': {\n",
        "        'a0': {'s1': 0.7, 's2': 0.3},\n",
        "        'a1': {'s0': 1}\n",
        "    }\n",
        "}\n",
        "rewards = {\n",
        "    's0': {'a0': {'s0': -1}, 'a1': {'s2': 10}},\n",
        "    's1': {'a0': {'s1': 5}, 'a1': {'s2': 20}},\n",
        "    's2': {'a0': {'s1': 10}, 'a1': {'s0': 20}}\n",
        "}\n",
        "\n",
        "mdp = MDP(transition_probs, rewards, initial_state='s0')\n",
        "display(plot_graph(mdp))"
      ],
      "metadata": {
        "colab": {
          "base_uri": "https://localhost:8080/",
          "height": 329
        },
        "id": "YnQBMw8ug-Mv",
        "outputId": "3e80bd4e-bb4b-4126-c69d-1eba57f9250b"
      },
      "execution_count": 38,
      "outputs": [
        {
          "output_type": "display_data",
          "data": {
            "image/svg+xml": "<?xml version=\"1.0\" encoding=\"UTF-8\" standalone=\"no\"?>\n<!DOCTYPE svg PUBLIC \"-//W3C//DTD SVG 1.1//EN\"\n \"http://www.w3.org/Graphics/SVG/1.1/DTD/svg11.dtd\">\n<!-- Generated by graphviz version 2.43.0 (0)\n -->\n<!-- Title: MDP Pages: 1 -->\n<svg width=\"1116pt\" height=\"231pt\"\n viewBox=\"0.00 0.00 1116.46 231.00\" xmlns=\"http://www.w3.org/2000/svg\" xmlns:xlink=\"http://www.w3.org/1999/xlink\">\n<g id=\"graph0\" class=\"graph\" transform=\"scale(1 1) rotate(0) translate(4 227)\">\n<title>MDP</title>\n<polygon fill=\"white\" stroke=\"transparent\" points=\"-4,4 -4,-227 1112.46,-227 1112.46,4 -4,4\"/>\n<!-- s0 -->\n<g id=\"node1\" class=\"node\">\n<title>s0</title>\n<ellipse fill=\"#85ff75\" stroke=\"#85ff75\" cx=\"40\" cy=\"-94\" rx=\"36\" ry=\"36\"/>\n<ellipse fill=\"none\" stroke=\"#85ff75\" cx=\"40\" cy=\"-94\" rx=\"40\" ry=\"40\"/>\n<text text-anchor=\"middle\" x=\"40\" y=\"-87.8\" font-family=\"Arial\" font-size=\"24.00\">s0</text>\n</g>\n<!-- s0&#45;a0 -->\n<g id=\"node2\" class=\"node\">\n<title>s0&#45;a0</title>\n<ellipse fill=\"lightpink\" stroke=\"lightpink\" cx=\"279.58\" cy=\"-160\" rx=\"27.65\" ry=\"27.65\"/>\n<text text-anchor=\"middle\" x=\"279.58\" y=\"-155\" font-family=\"Arial\" font-size=\"20.00\">a0</text>\n</g>\n<!-- s0&#45;&gt;s0&#45;a0 -->\n<g id=\"edge1\" class=\"edge\">\n<title>s0&#45;&gt;s0&#45;a0</title>\n<path fill=\"none\" stroke=\"red\" stroke-width=\"2\" d=\"M66.71,-124.11C75.69,-132.66 86.44,-141 98,-146 144.56,-166.15 204.15,-166.46 241.86,-163.94\"/>\n<polygon fill=\"red\" stroke=\"red\" stroke-width=\"2\" points=\"242.18,-167.42 251.89,-163.17 241.65,-160.45 242.18,-167.42\"/>\n</g>\n<!-- s0&#45;a1 -->\n<g id=\"node4\" class=\"node\">\n<title>s0&#45;a1</title>\n<ellipse fill=\"lightpink\" stroke=\"lightpink\" cx=\"354.65\" cy=\"-43\" rx=\"27.65\" ry=\"27.65\"/>\n<text text-anchor=\"middle\" x=\"354.65\" y=\"-38\" font-family=\"Arial\" font-size=\"20.00\">a1</text>\n</g>\n<!-- s0&#45;&gt;s0&#45;a1 -->\n<g id=\"edge4\" class=\"edge\">\n<title>s0&#45;&gt;s0&#45;a1</title>\n<path fill=\"none\" stroke=\"red\" stroke-width=\"2\" d=\"M78.91,-84.15C85.26,-82.65 91.8,-81.21 98,-80 175.47,-64.92 267.24,-53.09 317.04,-47.16\"/>\n<polygon fill=\"red\" stroke=\"red\" stroke-width=\"2\" points=\"317.49,-50.64 327.01,-45.99 316.67,-43.68 317.49,-50.64\"/>\n</g>\n<!-- s0&#45;a0&#45;&gt;s0 -->\n<g id=\"edge2\" class=\"edge\">\n<title>s0&#45;a0&#45;&gt;s0</title>\n<path fill=\"none\" stroke=\"blue\" stroke-dasharray=\"5,2\" d=\"M259.26,-140.6C251.93,-134.32 243.13,-127.96 234,-124 178,-99.72 158.21,-115.01 98,-105 95.16,-104.53 92.24,-104.02 89.3,-103.5\"/>\n<polygon fill=\"blue\" stroke=\"blue\" points=\"89.74,-100.02 79.28,-101.67 88.48,-106.91 89.74,-100.02\"/>\n<text text-anchor=\"middle\" x=\"166\" y=\"-129.2\" font-family=\"Arial\" font-size=\"16.00\">p = 0.6 &#160;reward =&#45;1</text>\n</g>\n<!-- s1 -->\n<g id=\"node3\" class=\"node\">\n<title>s1</title>\n<ellipse fill=\"#85ff75\" stroke=\"#85ff75\" cx=\"442.15\" cy=\"-162\" rx=\"36\" ry=\"36\"/>\n<ellipse fill=\"none\" stroke=\"#85ff75\" cx=\"442.15\" cy=\"-162\" rx=\"40\" ry=\"40\"/>\n<text text-anchor=\"middle\" x=\"442.15\" y=\"-155.8\" font-family=\"Arial\" font-size=\"24.00\">s1</text>\n</g>\n<!-- s0&#45;a0&#45;&gt;s1 -->\n<g id=\"edge3\" class=\"edge\">\n<title>s0&#45;a0&#45;&gt;s1</title>\n<path fill=\"none\" stroke=\"blue\" stroke-dasharray=\"5,2\" d=\"M307.45,-160.33C330.41,-160.62 364.04,-161.04 391.82,-161.39\"/>\n<polygon fill=\"blue\" stroke=\"blue\" points=\"392.1,-164.89 402.15,-161.51 392.19,-157.89 392.1,-164.89\"/>\n<text text-anchor=\"middle\" x=\"354.65\" y=\"-166.2\" font-family=\"Arial\" font-size=\"16.00\">p = &#160;&#160;0.4</text>\n</g>\n<!-- s1&#45;a0 -->\n<g id=\"node6\" class=\"node\">\n<title>s1&#45;a0</title>\n<ellipse fill=\"lightpink\" stroke=\"lightpink\" cx=\"675.73\" cy=\"-170\" rx=\"27.65\" ry=\"27.65\"/>\n<text text-anchor=\"middle\" x=\"675.73\" y=\"-165\" font-family=\"Arial\" font-size=\"20.00\">a0</text>\n</g>\n<!-- s1&#45;&gt;s1&#45;a0 -->\n<g id=\"edge6\" class=\"edge\">\n<title>s1&#45;&gt;s1&#45;a0</title>\n<path fill=\"none\" stroke=\"red\" stroke-width=\"2\" d=\"M482.18,-163.35C525.55,-164.85 595.08,-167.25 637.65,-168.72\"/>\n<polygon fill=\"red\" stroke=\"red\" stroke-width=\"2\" points=\"637.75,-172.22 647.86,-169.07 637.99,-165.23 637.75,-172.22\"/>\n</g>\n<!-- s1&#45;a1 -->\n<g id=\"node7\" class=\"node\">\n<title>s1&#45;a1</title>\n<ellipse fill=\"lightpink\" stroke=\"lightpink\" cx=\"675.73\" cy=\"-97\" rx=\"27.65\" ry=\"27.65\"/>\n<text text-anchor=\"middle\" x=\"675.73\" y=\"-92\" font-family=\"Arial\" font-size=\"20.00\">a1</text>\n</g>\n<!-- s1&#45;&gt;s1&#45;a1 -->\n<g id=\"edge9\" class=\"edge\">\n<title>s1&#45;&gt;s1&#45;a1</title>\n<path fill=\"none\" stroke=\"red\" stroke-width=\"2\" d=\"M480.88,-151.41C524.66,-139.12 596.32,-119.01 639.16,-106.98\"/>\n<polygon fill=\"red\" stroke=\"red\" stroke-width=\"2\" points=\"640.2,-110.33 648.88,-104.26 638.31,-103.59 640.2,-110.33\"/>\n</g>\n<!-- s2 -->\n<g id=\"node5\" class=\"node\">\n<title>s2</title>\n<ellipse fill=\"#85ff75\" stroke=\"#85ff75\" cx=\"918.31\" cy=\"-82\" rx=\"36\" ry=\"36\"/>\n<ellipse fill=\"none\" stroke=\"#85ff75\" cx=\"918.31\" cy=\"-82\" rx=\"40\" ry=\"40\"/>\n<text text-anchor=\"middle\" x=\"918.31\" y=\"-75.8\" font-family=\"Arial\" font-size=\"24.00\">s2</text>\n</g>\n<!-- s0&#45;a1&#45;&gt;s2 -->\n<g id=\"edge5\" class=\"edge\">\n<title>s0&#45;a1&#45;&gt;s2</title>\n<path fill=\"none\" stroke=\"blue\" stroke-dasharray=\"5,2\" d=\"M382.29,-43.82C440.56,-45.71 583.7,-50.93 703.31,-60 760.02,-64.3 824.99,-71.27 868.33,-76.21\"/>\n<polygon fill=\"blue\" stroke=\"blue\" points=\"867.98,-79.69 878.31,-77.36 868.78,-72.74 867.98,-79.69\"/>\n<text text-anchor=\"middle\" x=\"565.15\" y=\"-61.2\" font-family=\"Arial\" font-size=\"16.00\">p = 1 &#160;reward =10</text>\n</g>\n<!-- s2&#45;a0 -->\n<g id=\"node8\" class=\"node\">\n<title>s2&#45;a0</title>\n<ellipse fill=\"lightpink\" stroke=\"lightpink\" cx=\"1080.89\" cy=\"-115\" rx=\"27.65\" ry=\"27.65\"/>\n<text text-anchor=\"middle\" x=\"1080.89\" y=\"-110\" font-family=\"Arial\" font-size=\"20.00\">a0</text>\n</g>\n<!-- s2&#45;&gt;s2&#45;a0 -->\n<g id=\"edge11\" class=\"edge\">\n<title>s2&#45;&gt;s2&#45;a0</title>\n<path fill=\"none\" stroke=\"red\" stroke-width=\"2\" d=\"M958.5,-83.97C981.23,-85.79 1010.23,-89.29 1035.31,-96 1038.94,-96.97 1042.65,-98.18 1046.32,-99.52\"/>\n<polygon fill=\"red\" stroke=\"red\" stroke-width=\"2\" points=\"1045.22,-102.84 1055.8,-103.27 1047.79,-96.33 1045.22,-102.84\"/>\n</g>\n<!-- s2&#45;a1 -->\n<g id=\"node9\" class=\"node\">\n<title>s2&#45;a1</title>\n<ellipse fill=\"lightpink\" stroke=\"lightpink\" cx=\"1080.89\" cy=\"-28\" rx=\"27.65\" ry=\"27.65\"/>\n<text text-anchor=\"middle\" x=\"1080.89\" y=\"-23\" font-family=\"Arial\" font-size=\"20.00\">a1</text>\n</g>\n<!-- s2&#45;&gt;s2&#45;a1 -->\n<g id=\"edge14\" class=\"edge\">\n<title>s2&#45;&gt;s2&#45;a1</title>\n<path fill=\"none\" stroke=\"red\" stroke-width=\"2\" d=\"M956.55,-69.48C983.17,-60.52 1018.75,-48.56 1044.85,-39.78\"/>\n<polygon fill=\"red\" stroke=\"red\" stroke-width=\"2\" points=\"1045.99,-43.09 1054.35,-36.59 1043.76,-36.46 1045.99,-43.09\"/>\n</g>\n<!-- s1&#45;a0&#45;&gt;s0 -->\n<g id=\"edge7\" class=\"edge\">\n<title>s1&#45;a0&#45;&gt;s0</title>\n<path fill=\"none\" stroke=\"blue\" stroke-dasharray=\"5,2\" d=\"M649.65,-160.42C613.34,-147.05 543.71,-123.28 482.15,-113 341.3,-89.49 171.84,-90.13 89.99,-92.23\"/>\n<polygon fill=\"blue\" stroke=\"blue\" points=\"89.88,-88.73 79.98,-92.5 90.07,-95.73 89.88,-88.73\"/>\n<text text-anchor=\"middle\" x=\"354.65\" y=\"-105.2\" font-family=\"Arial\" font-size=\"16.00\">p = &#160;&#160;0.2</text>\n</g>\n<!-- s1&#45;a0&#45;&gt;s1 -->\n<g id=\"edge8\" class=\"edge\">\n<title>s1&#45;a0&#45;&gt;s1</title>\n<path fill=\"none\" stroke=\"blue\" stroke-dasharray=\"5,2\" d=\"M648.09,-170.12C613.84,-170.15 552.52,-169.74 500.15,-167 497.59,-166.87 494.97,-166.71 492.32,-166.53\"/>\n<polygon fill=\"blue\" stroke=\"blue\" points=\"492.3,-163.02 482.07,-165.78 491.79,-170 492.3,-163.02\"/>\n<text text-anchor=\"middle\" x=\"565.15\" y=\"-175.2\" font-family=\"Arial\" font-size=\"16.00\">p = 0.8 &#160;reward =5</text>\n</g>\n<!-- s1&#45;a1&#45;&gt;s2 -->\n<g id=\"edge10\" class=\"edge\">\n<title>s1&#45;a1&#45;&gt;s2</title>\n<path fill=\"none\" stroke=\"blue\" stroke-dasharray=\"5,2\" d=\"M703.4,-95.34C743.03,-92.87 818.15,-88.18 867.98,-85.08\"/>\n<polygon fill=\"blue\" stroke=\"blue\" points=\"868.44,-88.55 878.21,-84.44 868.01,-81.57 868.44,-88.55\"/>\n<text text-anchor=\"middle\" x=\"790.81\" y=\"-99.2\" font-family=\"Arial\" font-size=\"16.00\">p = 1 &#160;reward =20</text>\n</g>\n<!-- s2&#45;a0&#45;&gt;s1 -->\n<g id=\"edge12\" class=\"edge\">\n<title>s2&#45;a0&#45;&gt;s1</title>\n<path fill=\"none\" stroke=\"blue\" stroke-dasharray=\"5,2\" d=\"M1054.96,-125.07C989.3,-150.54 805.82,-214.97 648.15,-207 582.12,-203.66 563.46,-211.08 500.15,-192 495.51,-190.6 490.81,-188.82 486.2,-186.82\"/>\n<polygon fill=\"blue\" stroke=\"blue\" points=\"487.45,-183.54 476.91,-182.46 484.48,-189.88 487.45,-183.54\"/>\n<text text-anchor=\"middle\" x=\"790.81\" y=\"-210.2\" font-family=\"Arial\" font-size=\"16.00\">p = 0.7 &#160;reward =10</text>\n</g>\n<!-- s2&#45;a0&#45;&gt;s2 -->\n<g id=\"edge13\" class=\"edge\">\n<title>s2&#45;a0&#45;&gt;s2</title>\n<path fill=\"none\" stroke=\"blue\" stroke-dasharray=\"5,2\" d=\"M1053.77,-109.63C1030.59,-104.87 996.1,-97.78 967.86,-91.98\"/>\n<polygon fill=\"blue\" stroke=\"blue\" points=\"968.27,-88.49 957.77,-89.9 966.86,-95.35 968.27,-88.49\"/>\n<text text-anchor=\"middle\" x=\"1005.81\" y=\"-110.2\" font-family=\"Arial\" font-size=\"16.00\">p = &#160;&#160;0.3</text>\n</g>\n<!-- s2&#45;a1&#45;&gt;s0 -->\n<g id=\"edge15\" class=\"edge\">\n<title>s2&#45;a1&#45;&gt;s0</title>\n<path fill=\"none\" stroke=\"blue\" stroke-dasharray=\"5,2\" d=\"M1054.26,-20.72C1022.77,-12.42 967.56,0 919.31,0 278.58,0 278.58,0 278.58,0 194.68,0 173.62,-18.67 98,-55 92.25,-57.76 86.44,-61.06 80.83,-64.54\"/>\n<polygon fill=\"blue\" stroke=\"blue\" points=\"78.7,-61.75 72.22,-70.14 82.51,-67.62 78.7,-61.75\"/>\n<text text-anchor=\"middle\" x=\"565.15\" y=\"-5.2\" font-family=\"Arial\" font-size=\"16.00\">p = 1 &#160;reward =20</text>\n</g>\n</g>\n</svg>\n",
            "text/plain": [
              "<graphviz.graphs.Digraph at 0x78bbf0d95c30>"
            ]
          },
          "metadata": {}
        }
      ]
    },
    {
      "cell_type": "code",
      "source": [
        "value_iteration(mdp)"
      ],
      "metadata": {
        "colab": {
          "base_uri": "https://localhost:8080/"
        },
        "id": "jaSyaYDShYV7",
        "outputId": "0eea80ef-87d1-4f66-c5d5-37f89f18fb40"
      },
      "execution_count": 39,
      "outputs": [
        {
          "output_type": "stream",
          "name": "stdout",
          "text": [
            "{'s0': 0, 's1': 0, 's2': 0}\n",
            "iter    0   |   diff: 20.00000   |   V(start): 10.000 \n",
            "iter    1   |   diff: 18.00000   |   V(start): 28.000 \n",
            "iter    2   |   diff: 16.20000   |   V(start): 36.100 \n",
            "iter    3   |   diff: 14.58000   |   V(start): 50.680 \n",
            "iter    4   |   diff: 13.12200   |   V(start): 57.241 \n",
            "iter    5   |   diff: 11.80980   |   V(start): 69.051 \n",
            "iter    6   |   diff: 10.62882   |   V(start): 74.365 \n",
            "iter    7   |   diff: 9.56594   |   V(start): 83.931 \n",
            "iter    8   |   diff: 8.60934   |   V(start): 88.236 \n",
            "iter    9   |   diff: 7.74841   |   V(start): 95.984 \n",
            "iter   10   |   diff: 6.97357   |   V(start): 99.471 \n",
            "iter   11   |   diff: 6.27621   |   V(start): 105.747 \n",
            "iter   12   |   diff: 5.64859   |   V(start): 108.572 \n",
            "iter   13   |   diff: 5.08373   |   V(start): 113.655 \n",
            "iter   14   |   diff: 4.57536   |   V(start): 115.943 \n",
            "iter   15   |   diff: 4.11782   |   V(start): 120.061 \n",
            "iter   16   |   diff: 3.70604   |   V(start): 121.914 \n",
            "iter   17   |   diff: 3.33544   |   V(start): 125.249 \n",
            "iter   18   |   diff: 3.00189   |   V(start): 126.750 \n",
            "iter   19   |   diff: 2.70170   |   V(start): 129.452 \n",
            "iter   20   |   diff: 2.43153   |   V(start): 130.668 \n",
            "iter   21   |   diff: 2.18838   |   V(start): 132.856 \n",
            "iter   22   |   diff: 1.96954   |   V(start): 133.841 \n",
            "iter   23   |   diff: 1.77259   |   V(start): 135.613 \n",
            "iter   24   |   diff: 1.59533   |   V(start): 136.411 \n",
            "iter   25   |   diff: 1.43580   |   V(start): 137.847 \n",
            "iter   26   |   diff: 1.29222   |   V(start): 138.493 \n",
            "iter   27   |   diff: 1.16299   |   V(start): 139.656 \n",
            "iter   28   |   diff: 1.04670   |   V(start): 140.179 \n",
            "iter   29   |   diff: 0.94203   |   V(start): 141.121 \n",
            "iter   30   |   diff: 0.84782   |   V(start): 141.545 \n",
            "iter   31   |   diff: 0.76304   |   V(start): 142.308 \n",
            "iter   32   |   diff: 0.68674   |   V(start): 142.652 \n",
            "iter   33   |   diff: 0.61806   |   V(start): 143.270 \n",
            "iter   34   |   diff: 0.55626   |   V(start): 143.548 \n",
            "iter   35   |   diff: 0.50063   |   V(start): 144.048 \n",
            "iter   36   |   diff: 0.45057   |   V(start): 144.274 \n",
            "iter   37   |   diff: 0.40551   |   V(start): 144.679 \n",
            "iter   38   |   diff: 0.36496   |   V(start): 144.862 \n",
            "iter   39   |   diff: 0.32846   |   V(start): 145.190 \n",
            "iter   40   |   diff: 0.29562   |   V(start): 145.338 \n",
            "iter   41   |   diff: 0.26606   |   V(start): 145.604 \n",
            "iter   42   |   diff: 0.23945   |   V(start): 145.724 \n",
            "iter   43   |   diff: 0.21551   |   V(start): 145.939 \n",
            "iter   44   |   diff: 0.19395   |   V(start): 146.036 \n",
            "iter   45   |   diff: 0.17456   |   V(start): 146.211 \n",
            "iter   46   |   diff: 0.15710   |   V(start): 146.289 \n",
            "iter   47   |   diff: 0.14139   |   V(start): 146.431 \n",
            "iter   48   |   diff: 0.12725   |   V(start): 146.494 \n",
            "iter   49   |   diff: 0.11453   |   V(start): 146.609 \n",
            "iter   50   |   diff: 0.10308   |   V(start): 146.660 \n",
            "iter   51   |   diff: 0.09277   |   V(start): 146.753 \n",
            "iter   52   |   diff: 0.08349   |   V(start): 146.795 \n",
            "iter   53   |   diff: 0.07514   |   V(start): 146.870 \n",
            "iter   54   |   diff: 0.06763   |   V(start): 146.904 \n",
            "iter   55   |   diff: 0.06087   |   V(start): 146.965 \n",
            "iter   56   |   diff: 0.05478   |   V(start): 146.992 \n",
            "iter   57   |   diff: 0.04930   |   V(start): 147.041 \n",
            "iter   58   |   diff: 0.04437   |   V(start): 147.064 \n",
            "iter   59   |   diff: 0.03993   |   V(start): 147.104 \n",
            "iter   60   |   diff: 0.03594   |   V(start): 147.122 \n",
            "iter   61   |   diff: 0.03235   |   V(start): 147.154 \n",
            "iter   62   |   diff: 0.02911   |   V(start): 147.168 \n",
            "iter   63   |   diff: 0.02620   |   V(start): 147.195 \n",
            "iter   64   |   diff: 0.02358   |   V(start): 147.206 \n",
            "iter   65   |   diff: 0.02122   |   V(start): 147.228 \n",
            "iter   66   |   diff: 0.01910   |   V(start): 147.237 \n",
            "iter   67   |   diff: 0.01719   |   V(start): 147.254 \n",
            "iter   68   |   diff: 0.01547   |   V(start): 147.262 \n",
            "iter   69   |   diff: 0.01392   |   V(start): 147.276 \n",
            "iter   70   |   diff: 0.01253   |   V(start): 147.282 \n",
            "iter   71   |   diff: 0.01128   |   V(start): 147.294 \n",
            "iter   72   |   diff: 0.01015   |   V(start): 147.299 \n",
            "iter   73   |   diff: 0.00914   |   V(start): 147.308 \n",
            "iter   74   |   diff: 0.00822   |   V(start): 147.312 \n",
            "iter   75   |   diff: 0.00740   |   V(start): 147.319 \n",
            "iter   76   |   diff: 0.00666   |   V(start): 147.323 \n",
            "iter   77   |   diff: 0.00599   |   V(start): 147.329 \n",
            "iter   78   |   diff: 0.00539   |   V(start): 147.331 \n",
            "iter   79   |   diff: 0.00485   |   V(start): 147.336 \n",
            "iter   80   |   diff: 0.00437   |   V(start): 147.338 \n",
            "iter   81   |   diff: 0.00393   |   V(start): 147.342 \n",
            "iter   82   |   diff: 0.00354   |   V(start): 147.344 \n",
            "iter   83   |   diff: 0.00319   |   V(start): 147.347 \n",
            "iter   84   |   diff: 0.00287   |   V(start): 147.349 \n",
            "iter   85   |   diff: 0.00258   |   V(start): 147.351 \n",
            "iter   86   |   diff: 0.00232   |   V(start): 147.352 \n",
            "iter   87   |   diff: 0.00209   |   V(start): 147.355 \n",
            "iter   88   |   diff: 0.00188   |   V(start): 147.356 \n",
            "iter   89   |   diff: 0.00169   |   V(start): 147.357 \n",
            "iter   90   |   diff: 0.00152   |   V(start): 147.358 \n",
            "iter   91   |   diff: 0.00137   |   V(start): 147.359 \n",
            "iter   92   |   diff: 0.00123   |   V(start): 147.360 \n",
            "iter   93   |   diff: 0.00111   |   V(start): 147.361 \n",
            "iter   94   |   diff: 0.00100   |   V(start): 147.362 \n",
            "iter   95   |   diff: 0.00090   |   V(start): 147.362 \n",
            "iter   96   |   diff: 0.00081   |   V(start): 147.363 \n",
            "iter   97   |   diff: 0.00073   |   V(start): 147.364 \n",
            "iter   98   |   diff: 0.00066   |   V(start): 147.364 \n",
            "iter   99   |   diff: 0.00059   |   V(start): 147.365 \n",
            "iter  100   |   diff: 0.00053   |   V(start): 147.365 \n",
            "iter  101   |   diff: 0.00048   |   V(start): 147.365 \n",
            "iter  102   |   diff: 0.00043   |   V(start): 147.365 \n",
            "iter  103   |   diff: 0.00039   |   V(start): 147.366 \n",
            "iter  104   |   diff: 0.00035   |   V(start): 147.366 \n",
            "iter  105   |   diff: 0.00031   |   V(start): 147.366 \n",
            "iter  106   |   diff: 0.00028   |   V(start): 147.366 \n",
            "iter  107   |   diff: 0.00025   |   V(start): 147.367 \n",
            "iter  108   |   diff: 0.00023   |   V(start): 147.367 \n",
            "iter  109   |   diff: 0.00021   |   V(start): 147.367 \n",
            "iter  110   |   diff: 0.00019   |   V(start): 147.367 \n",
            "iter  111   |   diff: 0.00017   |   V(start): 147.367 \n",
            "iter  112   |   diff: 0.00015   |   V(start): 147.367 \n",
            "iter  113   |   diff: 0.00014   |   V(start): 147.368 \n",
            "iter  114   |   diff: 0.00012   |   V(start): 147.368 \n",
            "iter  115   |   diff: 0.00011   |   V(start): 147.368 \n",
            "iter  116   |   diff: 0.00010   |   V(start): 147.368 \n",
            "iter  117   |   diff: 0.00009   |   V(start): 147.368 \n",
            "iter  118   |   diff: 0.00008   |   V(start): 147.368 \n",
            "iter  119   |   diff: 0.00007   |   V(start): 147.368 \n",
            "iter  120   |   diff: 0.00006   |   V(start): 147.368 \n",
            "iter  121   |   diff: 0.00006   |   V(start): 147.368 \n",
            "iter  122   |   diff: 0.00005   |   V(start): 147.368 \n",
            "iter  123   |   diff: 0.00005   |   V(start): 147.368 \n",
            "iter  124   |   diff: 0.00004   |   V(start): 147.368 \n",
            "iter  125   |   diff: 0.00004   |   V(start): 147.368 \n",
            "iter  126   |   diff: 0.00003   |   V(start): 147.368 \n",
            "iter  127   |   diff: 0.00003   |   V(start): 147.368 \n",
            "iter  128   |   diff: 0.00003   |   V(start): 147.368 \n",
            "iter  129   |   diff: 0.00003   |   V(start): 147.368 \n",
            "iter  130   |   diff: 0.00002   |   V(start): 147.368 \n",
            "iter  131   |   diff: 0.00002   |   V(start): 147.368 \n",
            "iter  132   |   diff: 0.00002   |   V(start): 147.368 \n",
            "iter  133   |   diff: 0.00002   |   V(start): 147.368 \n",
            "iter  134   |   diff: 0.00001   |   V(start): 147.368 \n",
            "iter  135   |   diff: 0.00001   |   V(start): 147.368 \n",
            "iter  136   |   diff: 0.00001   |   V(start): 147.368 \n",
            "iter  137   |   diff: 0.00001   |   V(start): 147.368 \n",
            "iter  138   |   diff: 0.00001   |   V(start): 147.368 \n"
          ]
        },
        {
          "output_type": "execute_result",
          "data": {
            "text/plain": [
              "{'s0': 147.36835447118776, 's1': 157.36835447118776, 's2': 152.63151466183643}"
            ]
          },
          "metadata": {},
          "execution_count": 39
        }
      ]
    },
    {
      "cell_type": "code",
      "source": [
        "mdp.reset()\n",
        "policy_iteration(mdp)"
      ],
      "metadata": {
        "colab": {
          "base_uri": "https://localhost:8080/"
        },
        "id": "qVz95hVFhb5z",
        "outputId": "1d364c99-55bb-401d-cfb9-5747a760ce9c"
      },
      "execution_count": 40,
      "outputs": [
        {
          "output_type": "stream",
          "name": "stdout",
          "text": [
            "iter    0   |   diff: 32.38618   |   V(start): 118.221 \n",
            "iter    1   |   diff: 0.00000   |   V(start): 147.368 \n",
            "Value function convergence after 1 iterations\n"
          ]
        },
        {
          "output_type": "execute_result",
          "data": {
            "text/plain": [
              "({'s0': 147.36842105263162,\n",
              "  's1': 157.36842105263162,\n",
              "  's2': 152.63157894736847},\n",
              " {'s0': 'a1', 's1': 'a1', 's2': 'a1'})"
            ]
          },
          "metadata": {},
          "execution_count": 40
        }
      ]
    },
    {
      "cell_type": "markdown",
      "source": [
        "### 5 states 3 actions MDP"
      ],
      "metadata": {
        "id": "ESuBIlA365-6"
      }
    },
    {
      "cell_type": "code",
      "source": [
        "transition_probs = {\n",
        "    's0': {\n",
        "        'a0': {'s0': 0.4, 's1': 0.4, 's2': 0.2},\n",
        "        'a1': {'s1': 0.6, 's3': 0.4},\n",
        "        'a2': {'s4': 0.8, 's5': 0.2}\n",
        "    },\n",
        "    's1': {\n",
        "        'a0': {'s0': 0.3, 's2': 0.7},\n",
        "        'a1': {'s2': 0.5, 's3': 0.5},\n",
        "        'a2': {'s5': 1.0}\n",
        "    },\n",
        "    's2': {\n",
        "        'a0': {'s1': 0.5, 's3': 0.5},\n",
        "        'a1': {'s0': 0.6, 's4': 0.4},\n",
        "        'a2': {'s4': 0.7, 's5': 0.3}\n",
        "    },\n",
        "    's3': {\n",
        "        'a0': {'s0': 0.4, 's2': 0.6},\n",
        "        'a1': {'s1': 0.3, 's4': 0.7},\n",
        "        'a2': {'s5': 0.9, 's1': 0.1}\n",
        "    },\n",
        "    's4': {\n",
        "        'a0': {'s0': 0.3, 's3': 0.7},\n",
        "        'a1': {'s2': 0.6, 's5': 0.4},\n",
        "        'a2': {'s1': 0.5, 's3': 0.5}\n",
        "    },\n",
        "    's5': {\n",
        "        'a0': {'s1': 0.2, 's4': 0.8},\n",
        "        'a1': {'s0': 0.4, 's3': 0.6},\n",
        "        'a2': {'s2': 0.7, 's4': 0.3}\n",
        "    }\n",
        "}\n",
        "rewards = {\n",
        "    's0': {'a0': {'s0': -1, 's1': 2, 's2': 3}, 'a1': {'s1': 0, 's3': 4}, 'a2': {'s4': 5, 's5': -2}},\n",
        "    's1': {'a0': {'s0': 0, 's2': 1}, 'a1': {'s2': -1, 's3': 3}, 'a2': {'s5': 4}},\n",
        "    's2': {'a0': {'s1': 2, 's3': -2}, 'a1': {'s0': 1, 's4': 3}, 'a2': {'s4': 2, 's5': 0}},\n",
        "    's3': {'a0': {'s0': -3, 's2': 1}, 'a1': {'s1': -1, 's4': 4}, 'a2': {'s5': 5, 's1': 0}},\n",
        "    's4': {'a0': {'s0': 2, 's3': 1}, 'a1': {'s2': 0, 's5': 3}, 'a2': {'s1': 4, 's3': -1}},\n",
        "    's5': {'a0': {'s1': 1, 's4': -1}, 'a1': {'s0': 2, 's3': 3}, 'a2': {'s2': 5, 's4': 2}}\n",
        "}\n",
        "\n",
        "mdp = MDP(transition_probs, rewards, initial_state='s0')"
      ],
      "metadata": {
        "id": "tEAPgqMN5cfq"
      },
      "execution_count": 41,
      "outputs": []
    },
    {
      "cell_type": "code",
      "source": [
        "value_iteration(mdp)"
      ],
      "metadata": {
        "colab": {
          "base_uri": "https://localhost:8080/"
        },
        "id": "-1UteAOt5lhX",
        "outputId": "bd9da965-83c5-471b-ab15-41f55f44177d"
      },
      "execution_count": 42,
      "outputs": [
        {
          "output_type": "stream",
          "name": "stdout",
          "text": [
            "{'s0': 0, 's1': 0, 's2': 0, 's3': 0, 's4': 0, 's5': 0}\n",
            "iter    0   |   diff: 4.50000   |   V(start): 3.600 \n",
            "iter    1   |   diff: 3.82500   |   V(start): 5.418 \n",
            "iter    2   |   diff: 3.31695   |   V(start): 8.698 \n",
            "iter    3   |   diff: 2.73872   |   V(start): 11.436 \n",
            "iter    4   |   diff: 2.23901   |   V(start): 13.197 \n",
            "iter    5   |   diff: 2.01511   |   V(start): 15.123 \n",
            "iter    6   |   diff: 1.80798   |   V(start): 16.804 \n",
            "iter    7   |   diff: 1.62117   |   V(start): 18.425 \n",
            "iter    8   |   diff: 1.43724   |   V(start): 19.730 \n",
            "iter    9   |   diff: 1.29351   |   V(start): 21.019 \n",
            "iter   10   |   diff: 1.15980   |   V(start): 22.099 \n",
            "iter   11   |   diff: 1.04333   |   V(start): 23.142 \n",
            "iter   12   |   diff: 0.93392   |   V(start): 24.016 \n",
            "iter   13   |   diff: 0.84053   |   V(start): 24.857 \n",
            "iter   14   |   diff: 0.75415   |   V(start): 25.569 \n",
            "iter   15   |   diff: 0.67865   |   V(start): 26.248 \n",
            "iter   16   |   diff: 0.60879   |   V(start): 26.827 \n",
            "iter   17   |   diff: 0.54788   |   V(start): 27.375 \n",
            "iter   18   |   diff: 0.49176   |   V(start): 27.845 \n",
            "iter   19   |   diff: 0.44255   |   V(start): 28.288 \n",
            "iter   20   |   diff: 0.39732   |   V(start): 28.670 \n",
            "iter   21   |   diff: 0.35757   |   V(start): 29.027 \n",
            "iter   22   |   diff: 0.32112   |   V(start): 29.337 \n",
            "iter   23   |   diff: 0.28899   |   V(start): 29.626 \n",
            "iter   24   |   diff: 0.25960   |   V(start): 29.878 \n",
            "iter   25   |   diff: 0.23363   |   V(start): 30.112 \n",
            "iter   26   |   diff: 0.20991   |   V(start): 30.316 \n",
            "iter   27   |   diff: 0.18891   |   V(start): 30.505 \n",
            "iter   28   |   diff: 0.16977   |   V(start): 30.671 \n",
            "iter   29   |   diff: 0.15279   |   V(start): 30.824 \n",
            "iter   30   |   diff: 0.13733   |   V(start): 30.958 \n",
            "iter   31   |   diff: 0.12359   |   V(start): 31.082 \n",
            "iter   32   |   diff: 0.11110   |   V(start): 31.191 \n",
            "iter   33   |   diff: 0.09999   |   V(start): 31.291 \n",
            "iter   34   |   diff: 0.08990   |   V(start): 31.379 \n",
            "iter   35   |   diff: 0.08091   |   V(start): 31.460 \n",
            "iter   36   |   diff: 0.07275   |   V(start): 31.532 \n",
            "iter   37   |   diff: 0.06548   |   V(start): 31.597 \n",
            "iter   38   |   diff: 0.05888   |   V(start): 31.655 \n",
            "iter   39   |   diff: 0.05299   |   V(start): 31.708 \n",
            "iter   40   |   diff: 0.04766   |   V(start): 31.756 \n",
            "iter   41   |   diff: 0.04289   |   V(start): 31.798 \n",
            "iter   42   |   diff: 0.03858   |   V(start): 31.837 \n",
            "iter   43   |   diff: 0.03472   |   V(start): 31.871 \n",
            "iter   44   |   diff: 0.03123   |   V(start): 31.902 \n",
            "iter   45   |   diff: 0.02811   |   V(start): 31.930 \n",
            "iter   46   |   diff: 0.02529   |   V(start): 31.956 \n",
            "iter   47   |   diff: 0.02276   |   V(start): 31.978 \n",
            "iter   48   |   diff: 0.02047   |   V(start): 31.999 \n",
            "iter   49   |   diff: 0.01842   |   V(start): 32.017 \n",
            "iter   50   |   diff: 0.01658   |   V(start): 32.034 \n",
            "iter   51   |   diff: 0.01492   |   V(start): 32.048 \n",
            "iter   52   |   diff: 0.01342   |   V(start): 32.062 \n",
            "iter   53   |   diff: 0.01208   |   V(start): 32.074 \n",
            "iter   54   |   diff: 0.01087   |   V(start): 32.085 \n",
            "iter   55   |   diff: 0.00978   |   V(start): 32.095 \n",
            "iter   56   |   diff: 0.00880   |   V(start): 32.103 \n",
            "iter   57   |   diff: 0.00792   |   V(start): 32.111 \n",
            "iter   58   |   diff: 0.00713   |   V(start): 32.118 \n",
            "iter   59   |   diff: 0.00641   |   V(start): 32.125 \n",
            "iter   60   |   diff: 0.00577   |   V(start): 32.130 \n",
            "iter   61   |   diff: 0.00519   |   V(start): 32.136 \n",
            "iter   62   |   diff: 0.00467   |   V(start): 32.140 \n",
            "iter   63   |   diff: 0.00421   |   V(start): 32.145 \n",
            "iter   64   |   diff: 0.00379   |   V(start): 32.148 \n",
            "iter   65   |   diff: 0.00341   |   V(start): 32.152 \n",
            "iter   66   |   diff: 0.00307   |   V(start): 32.155 \n",
            "iter   67   |   diff: 0.00276   |   V(start): 32.158 \n",
            "iter   68   |   diff: 0.00248   |   V(start): 32.160 \n",
            "iter   69   |   diff: 0.00223   |   V(start): 32.162 \n",
            "iter   70   |   diff: 0.00201   |   V(start): 32.164 \n",
            "iter   71   |   diff: 0.00181   |   V(start): 32.166 \n",
            "iter   72   |   diff: 0.00163   |   V(start): 32.168 \n",
            "iter   73   |   diff: 0.00147   |   V(start): 32.169 \n",
            "iter   74   |   diff: 0.00132   |   V(start): 32.170 \n",
            "iter   75   |   diff: 0.00119   |   V(start): 32.172 \n",
            "iter   76   |   diff: 0.00107   |   V(start): 32.173 \n",
            "iter   77   |   diff: 0.00096   |   V(start): 32.174 \n",
            "iter   78   |   diff: 0.00087   |   V(start): 32.175 \n",
            "iter   79   |   diff: 0.00078   |   V(start): 32.175 \n",
            "iter   80   |   diff: 0.00070   |   V(start): 32.176 \n",
            "iter   81   |   diff: 0.00063   |   V(start): 32.177 \n",
            "iter   82   |   diff: 0.00057   |   V(start): 32.177 \n",
            "iter   83   |   diff: 0.00051   |   V(start): 32.178 \n",
            "iter   84   |   diff: 0.00046   |   V(start): 32.178 \n",
            "iter   85   |   diff: 0.00041   |   V(start): 32.179 \n",
            "iter   86   |   diff: 0.00037   |   V(start): 32.179 \n",
            "iter   87   |   diff: 0.00034   |   V(start): 32.179 \n",
            "iter   88   |   diff: 0.00030   |   V(start): 32.180 \n",
            "iter   89   |   diff: 0.00027   |   V(start): 32.180 \n",
            "iter   90   |   diff: 0.00024   |   V(start): 32.180 \n",
            "iter   91   |   diff: 0.00022   |   V(start): 32.180 \n",
            "iter   92   |   diff: 0.00020   |   V(start): 32.181 \n",
            "iter   93   |   diff: 0.00018   |   V(start): 32.181 \n",
            "iter   94   |   diff: 0.00016   |   V(start): 32.181 \n",
            "iter   95   |   diff: 0.00014   |   V(start): 32.181 \n",
            "iter   96   |   diff: 0.00013   |   V(start): 32.181 \n",
            "iter   97   |   diff: 0.00012   |   V(start): 32.181 \n",
            "iter   98   |   diff: 0.00011   |   V(start): 32.181 \n",
            "iter   99   |   diff: 0.00009   |   V(start): 32.181 \n",
            "iter  100   |   diff: 0.00009   |   V(start): 32.182 \n",
            "iter  101   |   diff: 0.00008   |   V(start): 32.182 \n",
            "iter  102   |   diff: 0.00007   |   V(start): 32.182 \n",
            "iter  103   |   diff: 0.00006   |   V(start): 32.182 \n",
            "iter  104   |   diff: 0.00006   |   V(start): 32.182 \n",
            "iter  105   |   diff: 0.00005   |   V(start): 32.182 \n",
            "iter  106   |   diff: 0.00005   |   V(start): 32.182 \n",
            "iter  107   |   diff: 0.00004   |   V(start): 32.182 \n",
            "iter  108   |   diff: 0.00004   |   V(start): 32.182 \n",
            "iter  109   |   diff: 0.00003   |   V(start): 32.182 \n",
            "iter  110   |   diff: 0.00003   |   V(start): 32.182 \n",
            "iter  111   |   diff: 0.00003   |   V(start): 32.182 \n",
            "iter  112   |   diff: 0.00002   |   V(start): 32.182 \n",
            "iter  113   |   diff: 0.00002   |   V(start): 32.182 \n",
            "iter  114   |   diff: 0.00002   |   V(start): 32.182 \n",
            "iter  115   |   diff: 0.00002   |   V(start): 32.182 \n",
            "iter  116   |   diff: 0.00002   |   V(start): 32.182 \n",
            "iter  117   |   diff: 0.00001   |   V(start): 32.182 \n",
            "iter  118   |   diff: 0.00001   |   V(start): 32.182 \n",
            "iter  119   |   diff: 0.00001   |   V(start): 32.182 \n",
            "iter  120   |   diff: 0.00001   |   V(start): 32.182 \n",
            "iter  121   |   diff: 0.00001   |   V(start): 32.182 \n"
          ]
        },
        {
          "output_type": "execute_result",
          "data": {
            "text/plain": [
              "{'s0': 32.182265959396844,\n",
              " 's1': 33.15815022265454,\n",
              " 's2': 30.55373654207377,\n",
              " 's3': 33.72656788152281,\n",
              " 's4': 31.598114757857637,\n",
              " 's5': 32.39795401238737}"
            ]
          },
          "metadata": {},
          "execution_count": 42
        }
      ]
    },
    {
      "cell_type": "code",
      "source": [
        "mdp.reset()\n",
        "policy_iteration(mdp)"
      ],
      "metadata": {
        "colab": {
          "base_uri": "https://localhost:8080/"
        },
        "id": "OtfiY6Yo6sjW",
        "outputId": "b182921a-7b5b-4d02-b1e0-88fe07dfa3d3"
      },
      "execution_count": 43,
      "outputs": [
        {
          "output_type": "stream",
          "name": "stdout",
          "text": [
            "iter    0   |   diff: 18.10064   |   V(start): 14.308 \n",
            "iter    1   |   diff: 1.11862   |   V(start): 31.533 \n",
            "iter    2   |   diff: 0.00000   |   V(start): 32.182 \n",
            "Value function convergence after 2 iterations\n"
          ]
        },
        {
          "output_type": "execute_result",
          "data": {
            "text/plain": [
              "({'s0': 32.18234984689043,\n",
              "  's1': 33.15823411015014,\n",
              "  's2': 30.553820429751042,\n",
              "  's3': 33.72665176904864,\n",
              "  's4': 31.59819864563945,\n",
              "  's5': 32.39803790016682},\n",
              " {'s0': 'a2', 's1': 'a2', 's2': 'a1', 's3': 'a2', 's4': 'a2', 's5': 'a1'})"
            ]
          },
          "metadata": {},
          "execution_count": 43
        }
      ]
    },
    {
      "cell_type": "markdown",
      "source": [
        "The difference in terms of convergence is huge. Policy iteration provides correct to-do-plan in a much more effective way, leading to convergence by value function in a couple of iteration. Be advised, that commenting the section of policy convergence check was made on purpose for these tests as I wanted to be sure it can converge by value functions here"
      ],
      "metadata": {
        "id": "udbKJA7m68vC"
      }
    },
    {
      "cell_type": "markdown",
      "source": [
        "### FrozenLake"
      ],
      "metadata": {
        "id": "i7mtzjMLCNxg"
      }
    },
    {
      "cell_type": "code",
      "source": [
        "mdp = FrozenLakeEnv(slip_chance=0)\n",
        "mdp.reset()\n",
        "new_policy = None\n",
        "\n",
        "for i in range(10):\n",
        "    print(\"after iteration %i\" % i)\n",
        "    state_values, new_policy = policy_iteration(mdp, new_policy, num_iter=1)\n",
        "    print(f\"{new_policy=}\")\n",
        "    print(f\"{state_values=}\")\n",
        "    draw_policy(mdp, state_values)\n",
        "\n",
        "# please ignore iter 0 at each step"
      ],
      "metadata": {
        "colab": {
          "base_uri": "https://localhost:8080/",
          "height": 1000
        },
        "id": "QIWtSDuGJeLO",
        "outputId": "9f8c405d-7f94-4605-84c6-060d5ab643ec"
      },
      "execution_count": 44,
      "outputs": [
        {
          "output_type": "stream",
          "name": "stdout",
          "text": [
            "after iteration 0\n",
            "iter    0   |   diff: 1.00000   |   V(start): -0.000 \n",
            "new_policy={(0, 0): 'left', (0, 1): 'left', (0, 2): 'left', (0, 3): 'left', (1, 0): 'left', (1, 2): 'left', (2, 0): 'left', (2, 1): 'left', (2, 2): 'left', (3, 1): 'left', (3, 2): 'right'}\n",
            "state_values={(0, 0): -0.0, (0, 1): -0.0, (0, 2): 0.0, (0, 3): 0.0, (1, 0): 0.0, (1, 1): 0.0, (1, 2): 0.0, (1, 3): 0.0, (2, 0): 0.0, (2, 1): 0.0, (2, 2): 0.0, (2, 3): 0.0, (3, 0): 0.0, (3, 1): 0.0, (3, 2): 0.0, (3, 3): 0.0}\n"
          ]
        },
        {
          "output_type": "display_data",
          "data": {
            "text/plain": [
              "<Figure size 300x300 with 1 Axes>"
            ],
            "image/png": "[encoded data removed]"
          },
          "metadata": {}
        },
        {
          "output_type": "stream",
          "name": "stdout",
          "text": [
            "after iteration 1\n",
            "iter    0   |   diff: 0.90000   |   V(start): -0.000 \n",
            "new_policy={(0, 0): 'left', (0, 1): 'left', (0, 2): 'left', (0, 3): 'left', (1, 0): 'left', (1, 2): 'left', (2, 0): 'left', (2, 1): 'left', (2, 2): 'down', (3, 1): 'right', (3, 2): 'right'}\n",
            "state_values={(0, 0): -0.0, (0, 1): -0.0, (0, 2): -0.0, (0, 3): 0.0, (1, 0): 0.0, (1, 1): 0.0, (1, 2): 0.0, (1, 3): 0.0, (2, 0): -0.0, (2, 1): -0.0, (2, 2): 0.0, (2, 3): 0.0, (3, 0): 0.0, (3, 1): 0.0, (3, 2): 1.0, (3, 3): 0.0}\n"
          ]
        },
        {
          "output_type": "display_data",
          "data": {
            "text/plain": [
              "<Figure size 300x300 with 1 Axes>"
            ],
            "image/png": "[encoded data removed]"
          },
          "metadata": {}
        },
        {
          "output_type": "stream",
          "name": "stdout",
          "text": [
            "after iteration 2\n",
            "iter    0   |   diff: 0.81000   |   V(start): -0.000 \n",
            "new_policy={(0, 0): 'left', (0, 1): 'left', (0, 2): 'left', (0, 3): 'left', (1, 0): 'left', (1, 2): 'down', (2, 0): 'left', (2, 1): 'down', (2, 2): 'down', (3, 1): 'right', (3, 2): 'right'}\n",
            "state_values={(0, 0): -0.0, (0, 1): -0.0, (0, 2): -0.0, (0, 3): 0.0, (1, 0): 0.0, (1, 1): 0.0, (1, 2): 0.0, (1, 3): 0.0, (2, 0): -0.0, (2, 1): 0.0, (2, 2): 0.9, (2, 3): 0.0, (3, 0): 0.0, (3, 1): 0.9, (3, 2): 1.0, (3, 3): 0.0}\n"
          ]
        },
        {
          "output_type": "display_data",
          "data": {
            "text/plain": [
              "<Figure size 300x300 with 1 Axes>"
            ],
            "image/png": "[encoded data removed]"
          },
          "metadata": {}
        },
        {
          "output_type": "stream",
          "name": "stdout",
          "text": [
            "after iteration 3\n",
            "iter    0   |   diff: 0.72900   |   V(start): -0.000 \n",
            "new_policy={(0, 0): 'left', (0, 1): 'left', (0, 2): 'down', (0, 3): 'left', (1, 0): 'left', (1, 2): 'down', (2, 0): 'right', (2, 1): 'down', (2, 2): 'down', (3, 1): 'right', (3, 2): 'right'}\n",
            "state_values={(0, 0): -0.0, (0, 1): -0.0, (0, 2): -0.0, (0, 3): 0.0, (1, 0): 0.0, (1, 1): 0.0, (1, 2): 0.81, (1, 3): 0.0, (2, 0): 0.0, (2, 1): 0.81, (2, 2): 0.9, (2, 3): 0.0, (3, 0): 0.0, (3, 1): 0.9, (3, 2): 1.0, (3, 3): 0.0}\n"
          ]
        },
        {
          "output_type": "display_data",
          "data": {
            "text/plain": [
              "<Figure size 300x300 with 1 Axes>"
            ],
            "image/png": "[encoded data removed]"
          },
          "metadata": {}
        },
        {
          "output_type": "stream",
          "name": "stdout",
          "text": [
            "after iteration 4\n",
            "iter    0   |   diff: 0.65610   |   V(start): -0.000 \n",
            "new_policy={(0, 0): 'left', (0, 1): 'right', (0, 2): 'down', (0, 3): 'left', (1, 0): 'down', (1, 2): 'down', (2, 0): 'right', (2, 1): 'down', (2, 2): 'down', (3, 1): 'right', (3, 2): 'right'}\n",
            "state_values={(0, 0): -0.0, (0, 1): 0.0, (0, 2): 0.7290000000000001, (0, 3): 0.6561000000000001, (1, 0): 0.0, (1, 1): 0.0, (1, 2): 0.81, (1, 3): 0.0, (2, 0): 0.7290000000000001, (2, 1): 0.81, (2, 2): 0.9, (2, 3): 0.0, (3, 0): 0.0, (3, 1): 0.9, (3, 2): 1.0, (3, 3): 0.0}\n"
          ]
        },
        {
          "output_type": "display_data",
          "data": {
            "text/plain": [
              "<Figure size 300x300 with 1 Axes>"
            ],
            "image/png": "[encoded data removed]"
          },
          "metadata": {}
        },
        {
          "output_type": "stream",
          "name": "stdout",
          "text": [
            "after iteration 5\n",
            "iter    0   |   diff: 0.59049   |   V(start): 0.000 \n",
            "new_policy={(0, 0): 'down', (0, 1): 'right', (0, 2): 'down', (0, 3): 'left', (1, 0): 'down', (1, 2): 'down', (2, 0): 'right', (2, 1): 'down', (2, 2): 'down', (3, 1): 'right', (3, 2): 'right'}\n",
            "state_values={(0, 0): 0.0, (0, 1): 0.6561000000000001, (0, 2): 0.7290000000000001, (0, 3): 0.6561000000000001, (1, 0): 0.6561000000000001, (1, 1): 0.0, (1, 2): 0.81, (1, 3): 0.0, (2, 0): 0.7290000000000001, (2, 1): 0.81, (2, 2): 0.9, (2, 3): 0.0, (3, 0): 0.0, (3, 1): 0.9, (3, 2): 1.0, (3, 3): 0.0}\n"
          ]
        },
        {
          "output_type": "display_data",
          "data": {
            "text/plain": [
              "<Figure size 300x300 with 1 Axes>"
            ],
            "image/png": "[encoded data removed]"
          },
          "metadata": {}
        },
        {
          "output_type": "stream",
          "name": "stdout",
          "text": [
            "after iteration 6\n",
            "iter    0   |   diff: 0.00000   |   V(start): 0.590 \n",
            "Value function convergence after 0 iterations\n",
            "new_policy={(0, 0): 'down', (0, 1): 'right', (0, 2): 'down', (0, 3): 'left', (1, 0): 'down', (1, 2): 'down', (2, 0): 'right', (2, 1): 'down', (2, 2): 'down', (3, 1): 'right', (3, 2): 'right'}\n",
            "state_values={(0, 0): 0.5904900000000002, (0, 1): 0.6561000000000001, (0, 2): 0.7290000000000001, (0, 3): 0.6561000000000001, (1, 0): 0.6561000000000001, (1, 1): 0.0, (1, 2): 0.81, (1, 3): 0.0, (2, 0): 0.7290000000000001, (2, 1): 0.81, (2, 2): 0.9, (2, 3): 0.0, (3, 0): 0.0, (3, 1): 0.9, (3, 2): 1.0, (3, 3): 0.0}\n"
          ]
        },
        {
          "output_type": "display_data",
          "data": {
            "text/plain": [
              "<Figure size 300x300 with 1 Axes>"
            ],
            "image/png": "[encoded data removed]"
          },
          "metadata": {}
        },
        {
          "output_type": "stream",
          "name": "stdout",
          "text": [
            "after iteration 7\n",
            "iter    0   |   diff: 0.00000   |   V(start): 0.590 \n",
            "Value function convergence after 0 iterations\n",
            "new_policy={(0, 0): 'down', (0, 1): 'right', (0, 2): 'down', (0, 3): 'left', (1, 0): 'down', (1, 2): 'down', (2, 0): 'right', (2, 1): 'down', (2, 2): 'down', (3, 1): 'right', (3, 2): 'right'}\n",
            "state_values={(0, 0): 0.5904900000000002, (0, 1): 0.6561000000000001, (0, 2): 0.7290000000000001, (0, 3): 0.6561000000000001, (1, 0): 0.6561000000000001, (1, 1): 0.0, (1, 2): 0.81, (1, 3): 0.0, (2, 0): 0.7290000000000001, (2, 1): 0.81, (2, 2): 0.9, (2, 3): 0.0, (3, 0): 0.0, (3, 1): 0.9, (3, 2): 1.0, (3, 3): 0.0}\n"
          ]
        },
        {
          "output_type": "display_data",
          "data": {
            "text/plain": [
              "<Figure size 300x300 with 1 Axes>"
            ],
            "image/png": "[encoded data removed]"
          },
          "metadata": {}
        },
        {
          "output_type": "stream",
          "name": "stdout",
          "text": [
            "after iteration 8\n",
            "iter    0   |   diff: 0.00000   |   V(start): 0.590 \n",
            "Value function convergence after 0 iterations\n",
            "new_policy={(0, 0): 'down', (0, 1): 'right', (0, 2): 'down', (0, 3): 'left', (1, 0): 'down', (1, 2): 'down', (2, 0): 'right', (2, 1): 'down', (2, 2): 'down', (3, 1): 'right', (3, 2): 'right'}\n",
            "state_values={(0, 0): 0.5904900000000002, (0, 1): 0.6561000000000001, (0, 2): 0.7290000000000001, (0, 3): 0.6561000000000001, (1, 0): 0.6561000000000001, (1, 1): 0.0, (1, 2): 0.81, (1, 3): 0.0, (2, 0): 0.7290000000000001, (2, 1): 0.81, (2, 2): 0.9, (2, 3): 0.0, (3, 0): 0.0, (3, 1): 0.9, (3, 2): 1.0, (3, 3): 0.0}\n"
          ]
        },
        {
          "output_type": "display_data",
          "data": {
            "text/plain": [
              "<Figure size 300x300 with 1 Axes>"
            ],
            "image/png": "[encoded data removed]"
          },
          "metadata": {}
        },
        {
          "output_type": "stream",
          "name": "stdout",
          "text": [
            "after iteration 9\n",
            "iter    0   |   diff: 0.00000   |   V(start): 0.590 \n",
            "Value function convergence after 0 iterations\n",
            "new_policy={(0, 0): 'down', (0, 1): 'right', (0, 2): 'down', (0, 3): 'left', (1, 0): 'down', (1, 2): 'down', (2, 0): 'right', (2, 1): 'down', (2, 2): 'down', (3, 1): 'right', (3, 2): 'right'}\n",
            "state_values={(0, 0): 0.5904900000000002, (0, 1): 0.6561000000000001, (0, 2): 0.7290000000000001, (0, 3): 0.6561000000000001, (1, 0): 0.6561000000000001, (1, 1): 0.0, (1, 2): 0.81, (1, 3): 0.0, (2, 0): 0.7290000000000001, (2, 1): 0.81, (2, 2): 0.9, (2, 3): 0.0, (3, 0): 0.0, (3, 1): 0.9, (3, 2): 1.0, (3, 3): 0.0}\n"
          ]
        },
        {
          "output_type": "display_data",
          "data": {
            "text/plain": [
              "<Figure size 300x300 with 1 Axes>"
            ],
            "image/png": "[encoded data removed]"
          },
          "metadata": {}
        }
      ]
    },
    {
      "cell_type": "code",
      "source": [
        "mdp = FrozenLakeEnv(map_name='8x8', slip_chance=0.1)\n",
        "mdp.reset()\n",
        "new_policy = None\n",
        "\n",
        "for i in range(30):\n",
        "  clear_output(True)\n",
        "  print(\"after iteration %i\" % i)\n",
        "  state_values, new_policy = policy_iteration(mdp, new_policy, num_iter=1)\n",
        "  print(f\"{new_policy=}\")\n",
        "  print(f\"{state_values=}\")\n",
        "  draw_policy(mdp, state_values)\n",
        "  sleep(0.5)\n",
        "# please ignore iter 0 at each step"
      ],
      "metadata": {
        "colab": {
          "base_uri": "https://localhost:8080/",
          "height": 383
        },
        "id": "KSYh6FTMCSbs",
        "outputId": "c6710929-0efa-4b0d-e88d-81f48fa34af7"
      },
      "execution_count": 45,
      "outputs": [
        {
          "output_type": "stream",
          "name": "stdout",
          "text": [
            "after iteration 29\n",
            "iter    0   |   diff: 0.00000   |   V(start): 0.198 \n",
            "Value function convergence after 0 iterations\n",
            "new_policy={(0, 0): 'right', (0, 1): 'right', (0, 2): 'right', (0, 3): 'right', (0, 4): 'right', (0, 5): 'right', (0, 6): 'down', (0, 7): 'down', (1, 0): 'right', (1, 1): 'right', (1, 2): 'right', (1, 3): 'right', (1, 4): 'right', (1, 5): 'right', (1, 6): 'down', (1, 7): 'down', (2, 0): 'right', (2, 1): 'down', (2, 2): 'down', (2, 4): 'right', (2, 5): 'right', (2, 6): 'down', (2, 7): 'down', (3, 0): 'right', (3, 1): 'right', (3, 2): 'right', (3, 3): 'right', (3, 4): 'down', (3, 6): 'right', (3, 7): 'down', (4, 0): 'right', (4, 1): 'up', (4, 2): 'up', (4, 4): 'right', (4, 5): 'right', (4, 6): 'right', (4, 7): 'down', (5, 0): 'up', (5, 3): 'right', (5, 4): 'right', (5, 5): 'down', (5, 7): 'down', (6, 0): 'down', (6, 2): 'right', (6, 3): 'up', (6, 5): 'down', (6, 7): 'down', (7, 0): 'right', (7, 1): 'right', (7, 2): 'up', (7, 4): 'right', (7, 5): 'right', (7, 6): 'right'}\n",
            "state_values={(0, 0): 0.19816847619717398, (0, 1): 0.22234454682008542, (0, 2): 0.24939386588788756, (0, 3): 0.27963051536190003, (0, 4): 0.31337222605820325, (0, 5): 0.35019005974312006, (0, 6): 0.39118770232604055, (0, 7): 0.43410192752452076, (1, 0): 0.20337359653404305, (1, 1): 0.2295557965331695, (1, 2): 0.2593427662176353, (1, 3): 0.2936808680771085, (1, 4): 0.34703394430348516, (1, 5): 0.3904326260130394, (1, 6): 0.4393760035790083, (1, 7): 0.49007888170524133, (2, 0): 0.18924044251784297, (2, 1): 0.2107255842218003, (2, 2): 0.22752309133827528, (2, 3): 0.0, (2, 4): 0.37070593467342344, (2, 5): 0.41732245390227246, (2, 6): 0.4935222046070193, (2, 7): 0.5533992739104321, (3, 0): 0.2089090545367283, (3, 1): 0.2370015125904629, (3, 2): 0.26918572845468425, (3, 3): 0.30704795134066687, (3, 4): 0.3790715448650208, (3, 5): 0.0, (3, 6): 0.5553576874758612, (3, 7): 0.6250466757742552, (4, 0): 0.18715576500334347, (4, 1): 0.21063158338194718, (4, 2): 0.22751886130048196, (4, 3): 0.0, (4, 4): 0.45093134204282814, (4, 5): 0.5090116789832453, (4, 6): 0.5969195753644138, (4, 7): 0.7060845425037037, (5, 0): 0.15873944466252174, (5, 1): 0.0, (5, 2): 0.0, (5, 3): 0.4036170854120565, (5, 4): 0.4794147232771892, (5, 5): 0.566818287512669, (5, 6): 0.0, (5, 7): 0.7993201940736275, (6, 0): 0.15312109015561487, (6, 1): 0.0, (6, 2): 0.28608236753763056, (6, 3): 0.33980354572295907, (6, 4): 0.0, (6, 5): 0.6731415123027104, (6, 6): 0.0, (6, 7): 0.9424083769633509, (7, 0): 0.18053165567729898, (7, 1): 0.20434232359854057, (7, 2): 0.2409221222674151, (7, 3): 0.0, (7, 4): 0.704860222306503, (7, 5): 0.8310389040774202, (7, 6): 0.9424083769633509, (7, 7): 0.0}\n"
          ]
        },
        {
          "output_type": "display_data",
          "data": {
            "text/plain": [
              "<Figure size 300x300 with 1 Axes>"
            ],
            "image/png": "[encoded data removed]"
          },
          "metadata": {}
        }
      ]
    },
    {
      "cell_type": "markdown",
      "source": [
        "Again, policy iteration is faster. On a small lake difference is 1 step, but anyway. On a big one policy iteration has `diff = 0` in output at iteration 7, whilst value iteration at iteration 25"
      ],
      "metadata": {
        "id": "ACAEUvF1EE5K"
      }
    },
    {
      "cell_type": "markdown",
      "metadata": {
        "id": "EiEuLX2gEJ8s"
      },
      "source": [
        "# Find an MDP for which value iteration takes long to converge  (up to 0.5 points)\n",
        "\n",
        "When we ran value iteration on the small frozen lake problem, the last iteration where an action changed was iteration 6 -- i.e., value iteration computed the optimal policy at iteration 6. Are there any guarantees regarding how many iterations it'll take value iteration to compute the optimal policy? There are no such guarantees without additional assumptions -- we can construct the MDP in such a way that the greedy policy will change after arbitrarily many iterations.\n",
        "\n",
        "Your task: define an MDP with at most 3 states and 2 actions, such that when you run value iteration, the optimal action changes at iteration >= 50. Use discount=0.95. (However, note that the discount doesn't matter here -- you can construct an appropriate MDP with any discount.)\n",
        "\n",
        "Note: value function must change at least once after iteration >=50, not necessarily change on every iteration till >=50.\n",
        "\n",
        "Note: by default `initial state` is selected randomly, you might want to change this."
      ]
    },
    {
      "cell_type": "code",
      "execution_count": 49,
      "metadata": {
        "id": "V_iZtfdEEJ8s"
      },
      "outputs": [],
      "source": [
        "# Я пытался, но политика меняется только 1-2 итерации в самом начале)))\n",
        "\n",
        "# Было желание заставить агента кружить по двум состояниям графа, чтобы он там фармил\n",
        "# себе некоторую награду, но не переходил в оптимум с максимальной наградой.\n",
        "# Чтобы этого добиться, я делал очень маленькую вероятность перехода в нужный стейт (0.000001),\n",
        "# предлагал нормальные награды за зацикливание,\n",
        "# но при этом он всё равно выходил туда на вторую итерацию.\n",
        "# Большое количество действий, ведущих к зацикливанию, тоже не помогли,\n",
        "# возможно это из-за того, что я не смог грамотно выставить награды\n",
        "\n",
        "transition_probs = {\n",
        "    's1': {\n",
        "        'a1': {'s1': 0.99, 's2': 0.01}\n",
        "    },\n",
        "    's2': {\n",
        "        'a1': {'s1': 0.8, 's2': 0.19, 's3': 0.01},\n",
        "        'a2': {'s3': 0.01, 's1':0.29, 's2': 0.7}\n",
        "    },\n",
        "    's3': {\n",
        "        'a1': {'s1': 1},\n",
        "        'a2': {'s1': 0.75, 's3': 0.25}\n",
        "    }\n",
        "}\n",
        "\n",
        "rewards = {\n",
        "    's1': {'a1': {'s1': 1, 's2': -15}},\n",
        "    's2': {'a1': {'s1': 3, 's2': 1, 's3': -25},\n",
        "           'a2': {'s2': 1, 's1': 5, 's3': -20}},\n",
        "    's3': {'a1': {'s1': 1e-6},\n",
        "           'a2': {'s3': 100, 's1': 7}}\n",
        "}\n",
        "\n",
        "from numpy import random\n",
        "mdp = MDP(transition_probs, rewards, initial_state='s1')#np.random.choice(tuple(transition_probs)))"
      ]
    },
    {
      "cell_type": "code",
      "source": [
        "display(plot_graph(mdp))"
      ],
      "metadata": {
        "colab": {
          "base_uri": "https://localhost:8080/",
          "height": 386
        },
        "id": "5APU61cvooxQ",
        "outputId": "f1823627-b144-4a0d-cb38-3146d73bde2c"
      },
      "execution_count": 50,
      "outputs": [
        {
          "output_type": "display_data",
          "data": {
            "image/svg+xml": "<?xml version=\"1.0\" encoding=\"UTF-8\" standalone=\"no\"?>\n<!DOCTYPE svg PUBLIC \"-//W3C//DTD SVG 1.1//EN\"\n \"http://www.w3.org/Graphics/SVG/1.1/DTD/svg11.dtd\">\n<!-- Generated by graphviz version 2.43.0 (0)\n -->\n<!-- Title: MDP Pages: 1 -->\n<svg width=\"1346pt\" height=\"259pt\"\n viewBox=\"0.00 0.00 1346.46 259.00\" xmlns=\"http://www.w3.org/2000/svg\" xmlns:xlink=\"http://www.w3.org/1999/xlink\">\n<g id=\"graph0\" class=\"graph\" transform=\"scale(1 1) rotate(0) translate(4 255)\">\n<title>MDP</title>\n<polygon fill=\"white\" stroke=\"transparent\" points=\"-4,4 -4,-255 1342.46,-255 1342.46,4 -4,4\"/>\n<!-- s1 -->\n<g id=\"node1\" class=\"node\">\n<title>s1</title>\n<ellipse fill=\"#85ff75\" stroke=\"#85ff75\" cx=\"40\" cy=\"-115\" rx=\"36\" ry=\"36\"/>\n<ellipse fill=\"none\" stroke=\"#85ff75\" cx=\"40\" cy=\"-115\" rx=\"40\" ry=\"40\"/>\n<text text-anchor=\"middle\" x=\"40\" y=\"-108.8\" font-family=\"Arial\" font-size=\"24.00\">s1</text>\n</g>\n<!-- s1&#45;a1 -->\n<g id=\"node2\" class=\"node\">\n<title>s1&#45;a1</title>\n<ellipse fill=\"lightpink\" stroke=\"lightpink\" cx=\"282.58\" cy=\"-116\" rx=\"27.65\" ry=\"27.65\"/>\n<text text-anchor=\"middle\" x=\"282.58\" y=\"-111\" font-family=\"Arial\" font-size=\"20.00\">a1</text>\n</g>\n<!-- s1&#45;&gt;s1&#45;a1 -->\n<g id=\"edge1\" class=\"edge\">\n<title>s1&#45;&gt;s1&#45;a1</title>\n<path fill=\"none\" stroke=\"red\" stroke-width=\"2\" d=\"M80.24,-113.44C86.19,-113.26 92.26,-113.1 98,-113 159.77,-111.92 175.26,-110.92 237,-113 239.51,-113.08 242.1,-113.2 244.7,-113.32\"/>\n<polygon fill=\"red\" stroke=\"red\" stroke-width=\"2\" points=\"244.54,-116.82 254.72,-113.9 244.94,-109.83 244.54,-116.82\"/>\n</g>\n<!-- s1&#45;a1&#45;&gt;s1 -->\n<g id=\"edge2\" class=\"edge\">\n<title>s1&#45;a1&#45;&gt;s1</title>\n<path fill=\"none\" stroke=\"blue\" stroke-dasharray=\"5,2\" d=\"M254.72,-115.89C215.06,-115.72 140.15,-115.41 90.4,-115.21\"/>\n<polygon fill=\"blue\" stroke=\"blue\" points=\"90.2,-111.7 80.19,-115.16 90.17,-118.7 90.2,-111.7\"/>\n<text text-anchor=\"middle\" x=\"167.5\" y=\"-121.2\" font-family=\"Arial\" font-size=\"16.00\">p = 0.99 &#160;reward =1</text>\n</g>\n<!-- s2 -->\n<g id=\"node3\" class=\"node\">\n<title>s2</title>\n<ellipse fill=\"#85ff75\" stroke=\"#85ff75\" cx=\"540.15\" cy=\"-116\" rx=\"36\" ry=\"36\"/>\n<ellipse fill=\"none\" stroke=\"#85ff75\" cx=\"540.15\" cy=\"-116\" rx=\"40\" ry=\"40\"/>\n<text text-anchor=\"middle\" x=\"540.15\" y=\"-109.8\" font-family=\"Arial\" font-size=\"24.00\">s2</text>\n</g>\n<!-- s1&#45;a1&#45;&gt;s2 -->\n<g id=\"edge3\" class=\"edge\">\n<title>s1&#45;a1&#45;&gt;s2</title>\n<path fill=\"none\" stroke=\"blue\" stroke-dasharray=\"5,2\" d=\"M310.45,-116C352.86,-116 435.99,-116 489.49,-116\"/>\n<polygon fill=\"blue\" stroke=\"blue\" points=\"489.77,-119.5 499.77,-116 489.77,-112.5 489.77,-119.5\"/>\n<text text-anchor=\"middle\" x=\"405.15\" y=\"-121.2\" font-family=\"Arial\" font-size=\"16.00\">p = 0.01 &#160;reward =&#45;15</text>\n</g>\n<!-- s2&#45;a1 -->\n<g id=\"node4\" class=\"node\">\n<title>s2&#45;a1</title>\n<ellipse fill=\"lightpink\" stroke=\"lightpink\" cx=\"792.73\" cy=\"-152\" rx=\"27.65\" ry=\"27.65\"/>\n<text text-anchor=\"middle\" x=\"792.73\" y=\"-147\" font-family=\"Arial\" font-size=\"20.00\">a1</text>\n</g>\n<!-- s2&#45;&gt;s2&#45;a1 -->\n<g id=\"edge4\" class=\"edge\">\n<title>s2&#45;&gt;s2&#45;a1</title>\n<path fill=\"none\" stroke=\"red\" stroke-width=\"2\" d=\"M570.96,-141.97C579.23,-147.71 588.59,-152.98 598.15,-156 650.97,-172.68 715.99,-166.23 755.63,-159.52\"/>\n<polygon fill=\"red\" stroke=\"red\" stroke-width=\"2\" points=\"756.39,-162.94 765.62,-157.73 755.16,-156.05 756.39,-162.94\"/>\n</g>\n<!-- s2&#45;a2 -->\n<g id=\"node6\" class=\"node\">\n<title>s2&#45;a2</title>\n<ellipse fill=\"lightpink\" stroke=\"lightpink\" cx=\"792.73\" cy=\"-79\" rx=\"27.65\" ry=\"27.65\"/>\n<text text-anchor=\"middle\" x=\"792.73\" y=\"-74\" font-family=\"Arial\" font-size=\"20.00\">a2</text>\n</g>\n<!-- s2&#45;&gt;s2&#45;a2 -->\n<g id=\"edge8\" class=\"edge\">\n<title>s2&#45;&gt;s2&#45;a2</title>\n<path fill=\"none\" stroke=\"red\" stroke-width=\"2\" d=\"M571.34,-90.47C579.54,-84.95 588.76,-79.91 598.15,-77 651.06,-60.63 716.06,-66.16 755.66,-72.18\"/>\n<polygon fill=\"red\" stroke=\"red\" stroke-width=\"2\" points=\"755.21,-75.66 765.64,-73.79 756.33,-68.75 755.21,-75.66\"/>\n</g>\n<!-- s2&#45;a1&#45;&gt;s1 -->\n<g id=\"edge5\" class=\"edge\">\n<title>s2&#45;a1&#45;&gt;s1</title>\n<path fill=\"none\" stroke=\"blue\" stroke-dasharray=\"5,2\" d=\"M768.96,-166.38C762.2,-169.91 754.6,-173.19 747.15,-175 682.8,-190.62 664.34,-177.12 598.15,-175 445.41,-170.11 407.34,-165.16 255,-153 185.13,-147.42 166.1,-154.62 98,-138 94.14,-137.06 90.21,-135.91 86.29,-134.62\"/>\n<polygon fill=\"blue\" stroke=\"blue\" points=\"87.26,-131.25 76.67,-131.21 84.92,-137.85 87.26,-131.25\"/>\n<text text-anchor=\"middle\" x=\"405.15\" y=\"-175.2\" font-family=\"Arial\" font-size=\"16.00\">p = 0.8 &#160;reward =3</text>\n</g>\n<!-- s2&#45;a1&#45;&gt;s2 -->\n<g id=\"edge6\" class=\"edge\">\n<title>s2&#45;a1&#45;&gt;s2</title>\n<path fill=\"none\" stroke=\"blue\" stroke-dasharray=\"5,2\" d=\"M767.17,-140.57C760.77,-138.02 753.81,-135.6 747.15,-134 694.59,-121.39 632.58,-117.39 590.44,-116.23\"/>\n<polygon fill=\"blue\" stroke=\"blue\" points=\"590.51,-112.73 580.43,-116 590.35,-119.73 590.51,-112.73\"/>\n<text text-anchor=\"middle\" x=\"672.65\" y=\"-139.2\" font-family=\"Arial\" font-size=\"16.00\">p = 0.19 &#160;reward =1</text>\n</g>\n<!-- s3 -->\n<g id=\"node5\" class=\"node\">\n<title>s3</title>\n<ellipse fill=\"#85ff75\" stroke=\"#85ff75\" cx=\"1050.31\" cy=\"-102\" rx=\"36\" ry=\"36\"/>\n<ellipse fill=\"none\" stroke=\"#85ff75\" cx=\"1050.31\" cy=\"-102\" rx=\"40\" ry=\"40\"/>\n<text text-anchor=\"middle\" x=\"1050.31\" y=\"-95.8\" font-family=\"Arial\" font-size=\"24.00\">s3</text>\n</g>\n<!-- s2&#45;a1&#45;&gt;s3 -->\n<g id=\"edge7\" class=\"edge\">\n<title>s2&#45;a1&#45;&gt;s3</title>\n<path fill=\"none\" stroke=\"blue\" stroke-dasharray=\"5,2\" d=\"M820.1,-147.11C858.17,-140.02 930.71,-126.38 992.31,-114 995.14,-113.43 998.06,-112.84 1000.99,-112.24\"/>\n<polygon fill=\"blue\" stroke=\"blue\" points=\"1001.92,-115.62 1011,-110.17 1000.5,-108.76 1001.92,-115.62\"/>\n<text text-anchor=\"middle\" x=\"915.31\" y=\"-148.2\" font-family=\"Arial\" font-size=\"16.00\">p = 0.01 &#160;reward =&#45;25</text>\n</g>\n<!-- s3&#45;a1 -->\n<g id=\"node7\" class=\"node\">\n<title>s3&#45;a1</title>\n<ellipse fill=\"lightpink\" stroke=\"lightpink\" cx=\"1310.89\" cy=\"-48\" rx=\"27.65\" ry=\"27.65\"/>\n<text text-anchor=\"middle\" x=\"1310.89\" y=\"-43\" font-family=\"Arial\" font-size=\"20.00\">a1</text>\n</g>\n<!-- s3&#45;&gt;s3&#45;a1 -->\n<g id=\"edge12\" class=\"edge\">\n<title>s3&#45;&gt;s3&#45;a1</title>\n<path fill=\"none\" stroke=\"red\" stroke-width=\"2\" d=\"M1088.13,-88.05C1094.78,-85.83 1101.71,-83.7 1108.31,-82 1165.06,-67.37 1232.46,-57.47 1273.17,-52.28\"/>\n<polygon fill=\"red\" stroke=\"red\" stroke-width=\"2\" points=\"1273.68,-55.75 1283.17,-51.03 1272.81,-48.8 1273.68,-55.75\"/>\n</g>\n<!-- s3&#45;a2 -->\n<g id=\"node8\" class=\"node\">\n<title>s3&#45;a2</title>\n<ellipse fill=\"lightpink\" stroke=\"lightpink\" cx=\"1310.89\" cy=\"-135\" rx=\"27.65\" ry=\"27.65\"/>\n<text text-anchor=\"middle\" x=\"1310.89\" y=\"-130\" font-family=\"Arial\" font-size=\"20.00\">a2</text>\n</g>\n<!-- s3&#45;&gt;s3&#45;a2 -->\n<g id=\"edge14\" class=\"edge\">\n<title>s3&#45;&gt;s3&#45;a2</title>\n<path fill=\"none\" stroke=\"red\" stroke-width=\"2\" d=\"M1088.04,-115.75C1094.71,-117.81 1101.66,-119.68 1108.31,-121 1165.01,-132.23 1232.23,-134.8 1272.94,-135.21\"/>\n<polygon fill=\"red\" stroke=\"red\" stroke-width=\"2\" points=\"1273.17,-138.71 1283.19,-135.27 1273.21,-131.71 1273.17,-138.71\"/>\n</g>\n<!-- s2&#45;a2&#45;&gt;s1 -->\n<g id=\"edge10\" class=\"edge\">\n<title>s2&#45;a2&#45;&gt;s1</title>\n<path fill=\"none\" stroke=\"blue\" stroke-dasharray=\"5,2\" d=\"M767.15,-68.48C760.76,-66.21 753.8,-64.16 747.15,-63 681.91,-51.65 664.36,-61.65 598.15,-63 445.51,-66.11 406.79,-62.58 255,-79 197.78,-85.19 132.66,-96.81 89.43,-105.18\"/>\n<polygon fill=\"blue\" stroke=\"blue\" points=\"88.61,-101.77 79.47,-107.12 89.96,-108.64 88.61,-101.77\"/>\n<text text-anchor=\"middle\" x=\"405.15\" y=\"-77.2\" font-family=\"Arial\" font-size=\"16.00\">p = 0.29 &#160;reward =5</text>\n</g>\n<!-- s2&#45;a2&#45;&gt;s2 -->\n<g id=\"edge11\" class=\"edge\">\n<title>s2&#45;a2&#45;&gt;s2</title>\n<path fill=\"none\" stroke=\"blue\" stroke-dasharray=\"5,2\" d=\"M765.09,-78.94C727.46,-79.36 656.76,-82.03 598.15,-95 594.54,-95.8 590.85,-96.77 587.17,-97.86\"/>\n<polygon fill=\"blue\" stroke=\"blue\" points=\"585.97,-94.57 577.51,-100.95 588.1,-101.24 585.97,-94.57\"/>\n<text text-anchor=\"middle\" x=\"672.65\" y=\"-100.2\" font-family=\"Arial\" font-size=\"16.00\">p = 0.7 &#160;reward =1</text>\n</g>\n<!-- s2&#45;a2&#45;&gt;s3 -->\n<g id=\"edge9\" class=\"edge\">\n<title>s2&#45;a2&#45;&gt;s3</title>\n<path fill=\"none\" stroke=\"blue\" stroke-dasharray=\"5,2\" d=\"M820.41,-81.12C858.54,-84.18 930.82,-90.13 992.31,-96 994.96,-96.25 997.67,-96.52 1000.42,-96.79\"/>\n<polygon fill=\"blue\" stroke=\"blue\" points=\"1000.08,-100.27 1010.38,-97.8 1000.78,-93.31 1000.08,-100.27\"/>\n<text text-anchor=\"middle\" x=\"915.31\" y=\"-101.2\" font-family=\"Arial\" font-size=\"16.00\">p = 0.01 &#160;reward =&#45;20</text>\n</g>\n<!-- s3&#45;a1&#45;&gt;s1 -->\n<g id=\"edge13\" class=\"edge\">\n<title>s3&#45;a1&#45;&gt;s1</title>\n<path fill=\"none\" stroke=\"blue\" stroke-dasharray=\"5,2\" d=\"M1284.12,-39.97C1237.95,-26.3 1137.83,0 1051.31,0 281.58,0 281.58,0 281.58,0 203.79,0 124.46,-49.55 79.14,-83.6\"/>\n<polygon fill=\"blue\" stroke=\"blue\" points=\"76.89,-80.91 71.08,-89.76 81.15,-86.47 76.89,-80.91\"/>\n<text text-anchor=\"middle\" x=\"672.65\" y=\"-5.2\" font-family=\"Arial\" font-size=\"16.00\">p = 1 &#160;reward =1e&#45;06</text>\n</g>\n<!-- s3&#45;a2&#45;&gt;s1 -->\n<g id=\"edge15\" class=\"edge\">\n<title>s3&#45;a2&#45;&gt;s1</title>\n<path fill=\"none\" stroke=\"blue\" stroke-dasharray=\"5,2\" d=\"M1287.45,-149.88C1243.88,-177.3 1143.96,-233 1051.31,-233 281.58,-233 281.58,-233 281.58,-233 203.4,-233 124.2,-182.16 79,-147.22\"/>\n<polygon fill=\"blue\" stroke=\"blue\" points=\"80.99,-144.33 70.96,-140.9 76.66,-149.83 80.99,-144.33\"/>\n<text text-anchor=\"middle\" x=\"672.65\" y=\"-238.2\" font-family=\"Arial\" font-size=\"16.00\">p = 0.75 &#160;reward =7</text>\n</g>\n<!-- s3&#45;a2&#45;&gt;s3 -->\n<g id=\"edge16\" class=\"edge\">\n<title>s3&#45;a2&#45;&gt;s3</title>\n<path fill=\"none\" stroke=\"blue\" stroke-dasharray=\"5,2\" d=\"M1291.29,-115.26C1283.9,-108.78 1274.88,-102.38 1265.31,-99 1211.03,-79.82 1144.07,-84.95 1099.66,-92\"/>\n<polygon fill=\"blue\" stroke=\"blue\" points=\"1098.99,-88.56 1089.71,-93.67 1100.15,-95.46 1098.99,-88.56\"/>\n<text text-anchor=\"middle\" x=\"1186.81\" y=\"-104.2\" font-family=\"Arial\" font-size=\"16.00\">p = 0.25 &#160;reward =100</text>\n</g>\n</g>\n</svg>\n",
            "text/plain": [
              "<graphviz.graphs.Digraph at 0x78bc247c3e80>"
            ]
          },
          "metadata": {}
        }
      ]
    },
    {
      "cell_type": "code",
      "execution_count": 51,
      "metadata": {
        "id": "-OM3XJutEJ8s",
        "colab": {
          "base_uri": "https://localhost:8080/"
        },
        "outputId": "f3fc9872-5c21-4786-e88d-def83e639795"
      },
      "outputs": [
        {
          "output_type": "stream",
          "name": "stdout",
          "text": [
            "after iteration 0\n",
            "{'s1': 0, 's2': 0, 's3': 0}\n",
            "iter    0   |   diff: 30.25000   |   V(start): 0.840 \n",
            "N actions changed = 1 \n",
            "\n",
            "after iteration 1\n",
            "{'s1': 0.84, 's2': 2.3400000000000003, 's3': 30.25}\n",
            "iter    0   |   diff: 7.37325   |   V(start): 1.609 \n",
            "N actions changed = 0 \n",
            "\n",
            "after iteration 2\n",
            "{'s1': 1.6095, 's2': 3.9156899999999997, 's3': 37.62325}\n",
            "iter    0   |   diff: 2.17839   |   V(start): 2.309 \n",
            "N actions changed = 0 \n",
            "\n",
            "after iteration 3\n",
            "{'s1': 2.30930571, 's2': 5.17557345, 's3': 39.801643750000004}\n",
            "iter    0   |   diff: 0.99598   |   V(start): 2.944 \n",
            "N actions changed = 0 \n",
            "\n",
            "after iteration 4\n",
            "{'s1': 2.94417154866, 's2': 6.171554857559999, 's3': 40.764151198}\n",
            "iter    0   |   diff: 0.80183   |   V(start): 3.519 \n",
            "N actions changed = 0 \n",
            "\n",
            "after iteration 5\n",
            "{'s1': 3.5188008435741, 's2': 6.973385695245059, 's3': 41.4092498148955}\n",
            "iter    0   |   diff: 0.66094   |   V(start): 4.038 \n",
            "N actions changed = 0 \n",
            "\n",
            "after iteration 6\n",
            "{'s1': 4.038012022881729, 's2': 7.634323256511287, 's3': 41.942271777764006}\n",
            "iter    0   |   diff: 0.55670   |   V(start): 4.507 \n",
            "N actions changed = 0 \n",
            "\n",
            "after iteration 7\n",
            "{'s1': 4.506577621696221, 's2': 8.191025235574118, 's3': 42.41266926544207}\n",
            "iter    0   |   diff: 0.47725   |   V(start): 4.929 \n",
            "N actions changed = 0 \n",
            "\n",
            "after iteration 8\n",
            "{'s1': 4.9290798880515, 's2': 8.668276681063386, 's3': 42.83479047936941}\n",
            "iter    0   |   diff: 0.41474   |   V(start): 5.310 \n",
            "N actions changed = 0 \n",
            "\n",
            "after iteration 9\n",
            "{'s1': 5.309824670383457, 's2': 9.083017274165698, 's3': 43.21495678229287}\n",
            "iter    0   |   diff: 0.36408   |   V(start): 5.653 \n",
            "N actions changed = 0 \n",
            "\n",
            "after iteration 10\n",
            "{'s1': 5.652800936779151, 's2': 9.447099732735108, 's3': 43.55749692852473}\n",
            "iter    0   |   diff: 0.32197   |   V(start): 5.962 \n",
            "N actions changed = 0 \n",
            "\n",
            "after iteration 11\n",
            "{'s1': 5.96166953226484, 's2': 9.769071348479198, 's3': 43.86607744124399}\n",
            "iter    0   |   diff: 0.28623   |   V(start): 6.240 \n",
            "N actions changed = 0 \n",
            "\n",
            "after iteration 12\n",
            "{'s1': 6.239769195384285, 's2': 10.055305394434214, 's3': 44.143994358558665}\n",
            "iter    0   |   diff: 0.25541   |   V(start): 6.490 \n",
            "N actions changed = 0 \n",
            "\n",
            "after iteration 13\n",
            "{'s1': 6.490132101637306, 's2': 10.31071810771588, 's3': 44.394242937560094}\n",
            "iter    0   |   diff: 0.22851   |   V(start): 6.716 \n",
            "N actions changed = 0 \n",
            "\n",
            "after iteration 14\n",
            "{'s1': 6.715504165528283, 's2': 10.539225072826381, 's3': 44.61954382955621}\n",
            "iter    0   |   diff: 0.20481   |   V(start): 6.918 \n",
            "N actions changed = 0 \n",
            "\n",
            "after iteration 15\n",
            "{'s1': 6.918367237141137, 's2': 10.744034277549508, 's3': 44.82236267338173}\n",
            "iter    0   |   diff: 0.18380   |   V(start): 7.101 \n",
            "N actions changed = 0 \n",
            "\n",
            "after iteration 16\n",
            "{'s1': 7.100961516790698, 's2': 10.927836707810462, 's3': 45.00492948658116}\n",
            "iter    0   |   diff: 0.16510   |   V(start): 7.265 \n",
            "N actions changed = 0 \n",
            "\n",
            "after iteration 17\n",
            "{'s1': 7.265307241830806, 's2': 11.092932447182193, 's3': 45.169258158314484}\n",
            "iter    0   |   diff: 0.14838   |   V(start): 7.413 \n",
            "N actions changed = 0 \n",
            "\n",
            "after iteration 18\n",
            "{'s1': 7.413225144495889, 's2': 11.241315955267453, 's3': 45.31716547385655}\n",
            "iter    0   |   diff: 0.13342   |   V(start): 7.546 \n",
            "N actions changed = 0 \n",
            "\n",
            "after iteration 19\n",
            "{'s1': 7.546355447343244, 's2': 11.37473530379663, 's3': 45.450289204152455}\n",
            "iter    0   |   diff: 0.12000   |   V(start): 7.666 \n",
            "N actions changed = 0 \n",
            "\n",
            "after iteration 20\n",
            "{'s1': 7.6661753213170005, 's2': 11.494734615985836, 's3': 45.570104997890994}\n",
            "iter    0   |   diff: 0.10795   |   V(start): 7.774 \n",
            "N actions changed = 0 \n",
            "\n",
            "after iteration 21\n",
            "{'s1': 7.77401482283732, 's2': 11.602685511915833, 's3': 45.67794196641445}\n",
            "iter    0   |   diff: 0.09713   |   V(start): 7.871 \n",
            "N actions changed = 0 \n",
            "\n",
            "after iteration 22\n",
            "{'s1': 7.871071376755294, 's2': 11.699811218965245, 's3': 45.77499694785844}\n",
            "iter    0   |   diff: 0.08739   |   V(start): 7.958 \n",
            "N actions changed = 0 \n",
            "\n",
            "after iteration 23\n",
            "{'s1': 7.958422897659656, 's2': 11.78720566981196, 's3': 45.86234749257797}\n",
            "iter    0   |   diff: 0.07864   |   V(start): 8.037 \n",
            "N actions changed = 0 \n",
            "\n",
            "after iteration 24\n",
            "{'s1': 8.037039652843061, 's2': 11.865849075703906, 's3': 45.940963641750315}\n",
            "iter    0   |   diff: 0.07077   |   V(start): 8.108 \n",
            "N actions changed = 0 \n",
            "\n",
            "after iteration 25\n",
            "{'s1': 8.107794972364504, 's2': 11.936620939861252, 's3': 46.01171858506289}\n",
            "iter    0   |   diff: 0.06369   |   V(start): 8.171 \n",
            "N actions changed = 0 \n",
            "\n",
            "after iteration 26\n",
            "{'s1': 8.171474908835524, 's2': 12.000311147165288, 's3': 46.07539828798519}\n",
            "iter    0   |   diff: 0.05732   |   V(start): 8.229 \n",
            "N actions changed = 0 \n",
            "\n",
            "after iteration 27\n",
            "{'s1': 8.228786944096939, 's2': 12.057629558512069, 's3': 46.13271017826065}\n",
            "iter    0   |   diff: 0.05158   |   V(start): 8.280 \n",
            "N actions changed = 0 \n",
            "\n",
            "after iteration 28\n",
            "{'s1': 8.28036783321698, 's2': 12.10921440587625, 's3': 46.18429097737408}\n",
            "iter    0   |   diff: 0.04643   |   V(start): 8.327 \n",
            "N actions changed = 0 \n",
            "\n",
            "after iteration 29\n",
            "{'s1': 8.326790669049215, 's2': 12.155639698968036, 's3': 46.23071375733063}\n",
            "iter    0   |   diff: 0.04178   |   V(start): 8.369 \n",
            "N actions changed = 0 \n",
            "\n",
            "after iteration 30\n",
            "{'s1': 8.368571243413562, 's2': 12.197421798787682, 's3': 46.27249429700761}\n",
            "iter    0   |   diff: 0.03760   |   V(start): 8.406 \n",
            "N actions changed = 0 \n",
            "\n",
            "after iteration 31\n",
            "{'s1': 8.406173774070572, 's2': 12.235025276440247, 's3': 46.310096806130865}\n",
            "iter    0   |   diff: 0.03384   |   V(start): 8.440 \n",
            "N actions changed = 0 \n",
            "\n",
            "after iteration 32\n",
            "{'s1': 8.440016060184842, 's2': 12.268868150444952, 's3': 46.343939078877085}\n",
            "iter    0   |   diff: 0.03046   |   V(start): 8.470 \n",
            "N actions changed = 0 \n",
            "\n",
            "after iteration 33\n",
            "{'s1': 8.470474122978699, 's2': 12.299326578198457, 's3': 46.37439713337211}\n",
            "iter    0   |   diff: 0.02741   |   V(start): 8.498 \n",
            "N actions changed = 0 \n",
            "\n",
            "after iteration 34\n",
            "{'s1': 8.497886382777805, 's2': 12.326739064562817, 's3': 46.401809388019345}\n",
            "iter    0   |   diff: 0.02467   |   V(start): 8.523 \n",
            "N actions changed = 0 \n",
            "\n",
            "after iteration 35\n",
            "{'s1': 8.52255741863609, 's2': 12.351410241071758, 's3': 46.426480420679376}\n",
            "iter    0   |   diff: 0.02220   |   V(start): 8.545 \n",
            "N actions changed = 0 \n",
            "\n",
            "after iteration 36\n",
            "{'s1': 8.544761352174403, 's2': 12.37361426192534, 's3': 46.44868435223222}\n",
            "iter    0   |   diff: 0.01998   |   V(start): 8.565 \n",
            "N actions changed = 0 \n",
            "\n",
            "after iteration 37\n",
            "{'s1': 8.564744893144722, 's2': 12.393597857100573, 's3': 46.46866789196997}\n",
            "iter    0   |   diff: 0.01799   |   V(start): 8.583 \n",
            "N actions changed = 0 \n",
            "\n",
            "after iteration 38\n",
            "{'s1': 8.582730080505852, 's2': 12.411583078111862, 's3': 46.486653078565936}\n",
            "iter    0   |   diff: 0.01619   |   V(start): 8.599 \n",
            "N actions changed = 0 \n",
            "\n",
            "after iteration 39\n",
            "{'s1': 8.598916749433723, 's2': 12.427769767929593, 's3': 46.50283974701878}\n",
            "iter    0   |   diff: 0.01457   |   V(start): 8.613 \n",
            "N actions changed = 0 \n",
            "\n",
            "after iteration 40\n",
            "{'s1': 8.613484751656813, 's2': 12.442337783121014, 's3': 46.517407748946994}\n",
            "iter    0   |   diff: 0.01311   |   V(start): 8.627 \n",
            "N actions changed = 0 \n",
            "\n",
            "after iteration 41\n",
            "{'s1': 8.62659595377431, 's2': 12.45544899328919, 's3': 46.53051895088142}\n",
            "iter    0   |   diff: 0.01180   |   V(start): 8.638 \n",
            "N actions changed = 0 \n",
            "\n",
            "after iteration 42\n",
            "{'s1': 8.638396035752512, 's2': 12.467249080265216, 's3': 46.54231903274598}\n",
            "iter    0   |   diff: 0.01062   |   V(start): 8.649 \n",
            "N actions changed = 0 \n",
            "\n",
            "after iteration 43\n",
            "{'s1': 8.649016109577875, 's2': 12.477869157193204, 's3': 46.552939106500794}\n",
            "iter    0   |   diff: 0.00956   |   V(start): 8.659 \n",
            "N actions changed = 0 \n",
            "\n",
            "after iteration 44\n",
            "{'s1': 8.658574176048624, 's2': 12.48742722559005, 's3': 46.56249717292775}\n",
            "iter    0   |   diff: 0.00860   |   V(start): 8.667 \n",
            "N actions changed = 0 \n",
            "\n",
            "after iteration 45\n",
            "{'s1': 8.667176435889637, 's2': 12.496029486626773, 's3': 46.57109943274156}\n",
            "iter    0   |   diff: 0.00774   |   V(start): 8.675 \n",
            "N actions changed = 0 \n",
            "\n",
            "after iteration 46\n",
            "{'s1': 8.674918469757309, 's2': 12.503771521236736, 's3': 46.57884146659236}\n",
            "iter    0   |   diff: 0.00697   |   V(start): 8.682 \n",
            "N actions changed = 0 \n",
            "\n",
            "after iteration 47\n",
            "{'s1': 8.681886300244892, 's2': 12.51073935218513, 's3': 46.58580929706946}\n",
            "iter    0   |   diff: 0.00627   |   V(start): 8.688 \n",
            "N actions changed = 0 \n",
            "\n",
            "after iteration 48\n",
            "{'s1': 8.688157347687865, 's2': 12.517010399914174, 's3': 46.59208034450593}\n",
            "iter    0   |   diff: 0.00564   |   V(start): 8.694 \n",
            "N actions changed = 0 \n",
            "\n",
            "after iteration 49\n",
            "{'s1': 8.693801290389116, 's2': 12.522654342793015, 's3': 46.59772428720314}\n",
            "iter    0   |   diff: 0.00508   |   V(start): 8.699 \n",
            "N actions changed = 0 \n",
            "\n",
            "after iteration 50\n",
            "{'s1': 8.698880838821841, 's2': 12.527733891335986, 's3': 46.60280383563336}\n",
            "iter    0   |   diff: 0.00457   |   V(start): 8.703 \n",
            "N actions changed = 0 \n",
            "\n",
            "after iteration 51\n",
            "{'s1': 8.703452432412284, 's2': 12.532305484994872, 's3': 46.607375429222245}\n",
            "iter    0   |   diff: 0.00411   |   V(start): 8.708 \n",
            "N actions changed = 0 \n",
            "\n",
            "after iteration 52\n",
            "{'s1': 8.7075668666443, 's2': 12.536419919269376, 's3': 46.6114898634533}\n",
            "iter    0   |   diff: 0.00370   |   V(start): 8.711 \n",
            "N actions changed = 0 \n",
            "\n",
            "after iteration 53\n",
            "{'s1': 8.711269857453498, 's2': 12.540122910104948, 's3': 46.6151928542619}\n",
            "iter    0   |   diff: 0.00333   |   V(start): 8.715 \n",
            "N actions changed = 0 \n",
            "\n",
            "after iteration 54\n",
            "{'s1': 8.714602549182011, 's2': 12.543455601849836, 's3': 46.61852554599004}\n",
            "iter    0   |   diff: 0.00300   |   V(start): 8.718 \n",
            "N actions changed = 0 \n",
            "\n",
            "after iteration 55\n",
            "{'s1': 8.71760197173782, 's2': 12.546455024415812, 's3': 46.621524968545614}\n",
            "iter    0   |   diff: 0.00270   |   V(start): 8.720 \n",
            "N actions changed = 0 \n",
            "\n",
            "after iteration 56\n",
            "{'s1': 8.72030145203814, 's2': 12.549154504722441, 's3': 46.62422444884579}\n",
            "iter    0   |   diff: 0.00243   |   V(start): 8.723 \n",
            "N actions changed = 0 \n",
            "\n",
            "after iteration 57\n",
            "{'s1': 8.722730984308484, 's2': 12.551584036996704, 's3': 46.62665398111605}\n",
            "iter    0   |   diff: 0.00219   |   V(start): 8.725 \n",
            "N actions changed = 0 \n",
            "\n",
            "after iteration 58\n",
            "{'s1': 8.724917563351829, 's2': 12.553770616042481, 's3': 46.62884056015933}\n",
            "iter    0   |   diff: 0.00197   |   V(start): 8.727 \n",
            "N actions changed = 0 \n",
            "\n",
            "after iteration 59\n",
            "{'s1': 8.726885484490863, 's2': 12.555738537183025, 's3': 46.63080848129834}\n",
            "iter    0   |   diff: 0.00177   |   V(start): 8.729 \n",
            "N actions changed = 0 \n",
            "\n",
            "after iteration 60\n",
            "{'s1': 8.728656613516007, 's2': 12.557509666209107, 's3': 46.63257961032346}\n",
            "iter    0   |   diff: 0.00159   |   V(start): 8.730 \n",
            "N actions changed = 0 \n",
            "\n",
            "after iteration 61\n",
            "{'s1': 8.730250629638645, 's2': 12.559103682332326, 's3': 46.634173626446085}\n",
            "iter    0   |   diff: 0.00143   |   V(start): 8.732 \n",
            "N actions changed = 0 \n",
            "\n",
            "after iteration 62\n",
            "{'s1': 8.731685244149025, 's2': 12.560538296843067, 's3': 46.63560824095646}\n",
            "iter    0   |   diff: 0.00129   |   V(start): 8.733 \n",
            "N actions changed = 0 \n",
            "\n",
            "after iteration 63\n",
            "{'s1': 8.73297639720837, 's2': 12.561829449902634, 's3': 46.6368993940158}\n",
            "iter    0   |   diff: 0.00116   |   V(start): 8.734 \n",
            "N actions changed = 0 \n",
            "\n",
            "after iteration 64\n",
            "{'s1': 8.734138434961782, 's2': 12.562991487656186, 's3': 46.6380614317692}\n",
            "iter    0   |   diff: 0.00105   |   V(start): 8.735 \n",
            "N actions changed = 0 \n",
            "\n",
            "after iteration 65\n",
            "{'s1': 8.735184268939856, 's2': 12.564037321634345, 's3': 46.63910726574727}\n",
            "iter    0   |   diff: 0.00094   |   V(start): 8.736 \n",
            "N actions changed = 0 \n",
            "\n",
            "after iteration 66\n",
            "{'s1': 8.736125519520119, 's2': 12.564978572214663, 's3': 46.64004851632754}\n",
            "iter    0   |   diff: 0.00085   |   V(start): 8.737 \n",
            "N actions changed = 0 \n",
            "\n",
            "after iteration 67\n",
            "{'s1': 8.736972645042359, 's2': 12.565825697736937, 's3': 46.640895641849774}\n",
            "iter    0   |   diff: 0.00076   |   V(start): 8.738 \n",
            "N actions changed = 0 \n",
            "\n",
            "after iteration 68\n",
            "{'s1': 8.737735058012374, 's2': 12.566588110706974, 's3': 46.64165805481979}\n",
            "iter    0   |   diff: 0.00069   |   V(start): 8.738 \n",
            "N actions changed = 0 \n",
            "\n",
            "after iteration 69\n",
            "{'s1': 8.738421229685388, 's2': 12.567274282380001, 's3': 46.64234422649281}\n",
            "iter    0   |   diff: 0.00062   |   V(start): 8.739 \n",
            "N actions changed = 0 \n",
            "\n",
            "after iteration 70\n",
            "{'s1': 8.7390387841911, 's2': 12.567891836885723, 's3': 46.64296178099852}\n",
            "iter    0   |   diff: 0.00056   |   V(start): 8.740 \n",
            "N actions changed = 0 \n",
            "\n",
            "after iteration 71\n",
            "{'s1': 8.739594583246241, 's2': 12.56844763594087, 's3': 46.64351758005366}\n",
            "iter    0   |   diff: 0.00050   |   V(start): 8.740 \n",
            "N actions changed = 0 \n",
            "\n",
            "after iteration 72\n",
            "{'s1': 8.740094802395868, 's2': 12.5689478550905, 's3': 46.64401779920328}\n",
            "iter    0   |   diff: 0.00045   |   V(start): 8.741 \n",
            "N actions changed = 0 \n",
            "\n",
            "after iteration 73\n",
            "{'s1': 8.740544999630531, 's2': 12.569398052325166, 's3': 46.64446799643795}\n",
            "iter    0   |   diff: 0.00041   |   V(start): 8.741 \n",
            "N actions changed = 0 \n",
            "\n",
            "after iteration 74\n",
            "{'s1': 8.74095017714173, 's2': 12.569803229836364, 's3': 46.64487317394915}\n",
            "iter    0   |   diff: 0.00036   |   V(start): 8.741 \n",
            "N actions changed = 0 \n",
            "\n",
            "after iteration 75\n",
            "{'s1': 8.74131483690181, 's2': 12.570167889596442, 's3': 46.645237833709224}\n",
            "iter    0   |   diff: 0.00033   |   V(start): 8.742 \n",
            "N actions changed = 0 \n",
            "\n",
            "after iteration 76\n",
            "{'s1': 8.741643030685882, 's2': 12.570496083380513, 's3': 46.645566027493295}\n",
            "iter    0   |   diff: 0.00030   |   V(start): 8.742 \n",
            "N actions changed = 0 \n",
            "\n",
            "after iteration 77\n",
            "{'s1': 8.741938405091545, 's2': 12.570791457786179, 's3': 46.64586140189896}\n",
            "iter    0   |   diff: 0.00027   |   V(start): 8.742 \n",
            "N actions changed = 0 \n",
            "\n",
            "after iteration 78\n",
            "{'s1': 8.742204242056642, 's2': 12.571057294751277, 's3': 46.64612723886406}\n",
            "iter    0   |   diff: 0.00024   |   V(start): 8.742 \n",
            "N actions changed = 0 \n",
            "\n",
            "after iteration 79\n",
            "{'s1': 8.74244349532523, 's2': 12.571296548019864, 's3': 46.64636649213264}\n",
            "iter    0   |   diff: 0.00022   |   V(start): 8.743 \n",
            "N actions changed = 0 \n",
            "\n",
            "after iteration 80\n",
            "{'s1': 8.742658823266959, 's2': 12.571511875961594, 's3': 46.646581820074374}\n",
            "iter    0   |   diff: 0.00019   |   V(start): 8.743 \n",
            "N actions changed = 0 \n",
            "\n",
            "after iteration 81\n",
            "{'s1': 8.742852618414517, 's2': 12.57170567110915, 's3': 46.646775615221934}\n",
            "iter    0   |   diff: 0.00017   |   V(start): 8.743 \n",
            "N actions changed = 0 \n",
            "\n",
            "after iteration 82\n",
            "{'s1': 8.743027034047318, 's2': 12.571880086741949, 's3': 46.64695003085474}\n",
            "iter    0   |   diff: 0.00016   |   V(start): 8.743 \n",
            "N actions changed = 0 \n",
            "\n",
            "after iteration 83\n",
            "{'s1': 8.743184008116838, 's2': 12.57203706081147, 's3': 46.64710700492426}\n",
            "iter    0   |   diff: 0.00014   |   V(start): 8.743 \n",
            "N actions changed = 0 \n",
            "\n",
            "after iteration 84\n",
            "{'s1': 8.743325284779406, 's2': 12.572178337474039, 's3': 46.647248281586826}\n",
            "iter    0   |   diff: 0.00013   |   V(start): 8.743 \n",
            "N actions changed = 0 \n",
            "\n",
            "after iteration 85\n",
            "{'s1': 8.743452433775717, 's2': 12.57230548647035, 's3': 46.64737543058314}\n",
            "iter    0   |   diff: 0.00011   |   V(start): 8.744 \n",
            "N actions changed = 0 \n",
            "\n",
            "after iteration 86\n",
            "{'s1': 8.743566867872397, 's2': 12.57241992056703, 's3': 46.64748986467981}\n",
            "iter    0   |   diff: 0.00010   |   V(start): 8.744 \n",
            "N actions changed = 0 \n",
            "\n",
            "after iteration 87\n",
            "{'s1': 8.74366985855941, 's2': 12.572522911254044, 's3': 46.64759285536683}\n",
            "iter    0   |   diff: 0.00009   |   V(start): 8.744 \n",
            "N actions changed = 0 \n",
            "\n",
            "after iteration 88\n",
            "{'s1': 8.743762550177722, 's2': 12.572615602872355, 's3': 46.64768554698514}\n",
            "iter    0   |   diff: 0.00008   |   V(start): 8.744 \n",
            "N actions changed = 0 \n",
            "\n",
            "after iteration 89\n",
            "{'s1': 8.743845972634203, 's2': 12.572699025328836, 's3': 46.647768969441614}\n",
            "iter    0   |   diff: 0.00008   |   V(start): 8.744 \n",
            "N actions changed = 0 \n",
            "\n",
            "after iteration 90\n",
            "{'s1': 8.743921052845035, 's2': 12.572774105539667, 's3': 46.64784404965245}\n",
            "iter    0   |   diff: 0.00007   |   V(start): 8.744 \n",
            "N actions changed = 0 \n",
            "\n",
            "after iteration 91\n",
            "{'s1': 8.743988625034783, 's2': 12.572841677729416, 's3': 46.647911621842205}\n",
            "iter    0   |   diff: 0.00006   |   V(start): 8.744 \n",
            "N actions changed = 0 \n",
            "\n",
            "after iteration 92\n",
            "{'s1': 8.744049440005558, 's2': 12.572902492700191, 's3': 46.64797243681298}\n",
            "iter    0   |   diff: 0.00005   |   V(start): 8.744 \n",
            "N actions changed = 0 \n",
            "\n",
            "after iteration 93\n",
            "{'s1': 8.744104173479254, 's2': 12.572957226173887, 's3': 46.64802717028667}\n",
            "iter    0   |   diff: 0.00005   |   V(start): 8.744 \n",
            "N actions changed = 0 \n",
            "\n",
            "after iteration 94\n",
            "{'s1': 8.744153433605582, 's2': 12.573006486300214, 's3': 46.648076430413}\n",
            "iter    0   |   diff: 0.00004   |   V(start): 8.744 \n",
            "N actions changed = 0 \n",
            "\n",
            "after iteration 95\n",
            "{'s1': 8.744197767719276, 's2': 12.573050820413908, 's3': 46.648120764526695}\n",
            "iter    0   |   diff: 0.00004   |   V(start): 8.744 \n",
            "N actions changed = 0 \n",
            "\n",
            "after iteration 96\n",
            "{'s1': 8.744237668421599, 's2': 12.573090721116232, 's3': 46.64816066522902}\n",
            "iter    0   |   diff: 0.00004   |   V(start): 8.744 \n",
            "N actions changed = 0 \n",
            "\n",
            "after iteration 97\n",
            "{'s1': 8.74427357905369, 's2': 12.573126631748323, 's3': 46.64819657586111}\n",
            "iter    0   |   diff: 0.00003   |   V(start): 8.744 \n",
            "N actions changed = 0 \n",
            "\n",
            "after iteration 98\n",
            "{'s1': 8.744305898622573, 's2': 12.573158951317206, 's3': 46.64822889542999}\n",
            "iter    0   |   diff: 0.00003   |   V(start): 8.744 \n",
            "N actions changed = 0 \n",
            "\n",
            "after iteration 99\n",
            "{'s1': 8.744334986234566, 's2': 12.5731880389292, 's3': 46.64825798304199}\n",
            "iter    0   |   diff: 0.00003   |   V(start): 8.744 \n",
            "N actions changed = 0 \n",
            "\n"
          ]
        }
      ],
      "source": [
        "state_values = {s: 0 for s in mdp.get_all_states()}\n",
        "policy = np.array([get_optimal_action(mdp, state_values, state, gamma)\n",
        "                   for state in sorted(mdp.get_all_states())])\n",
        "\n",
        "mdp.reset()\n",
        "for i in range(100):\n",
        "    print(\"after iteration %i\" % i)\n",
        "    state_values = value_iteration(mdp, state_values, num_iter=1)\n",
        "\n",
        "    new_policy = np.array([get_optimal_action(mdp, state_values, state, gamma)\n",
        "                           for state in sorted(mdp.get_all_states())])\n",
        "\n",
        "    n_changes = (policy != new_policy).sum()\n",
        "    print(\"N actions changed = %i \\n\" % n_changes)\n",
        "    policy = new_policy"
      ]
    },
    {
      "cell_type": "code",
      "source": [],
      "metadata": {
        "id": "sCFX4qWikV8b"
      },
      "execution_count": 48,
      "outputs": []
    }
  ],
  "metadata": {
    "kernelspec": {
      "display_name": "Python 3 (ipykernel)",
      "language": "python",
      "name": "python3"
    },
    "language_info": {
      "codemirror_mode": {
        "name": "ipython",
        "version": 3
      },
      "file_extension": ".py",
      "mimetype": "text/x-python",
      "name": "python",
      "nbconvert_exporter": "python",
      "pygments_lexer": "ipython3",
      "version": "3.8.10"
    },
    "colab": {
      "provenance": []
    }
  },
  "nbformat": 4,
  "nbformat_minor": 0
}
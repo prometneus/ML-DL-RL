{
 "cells": [
  {
   "cell_type": "markdown",
   "id": "7bacf178",
   "metadata": {
    "id": "mISIBM3XNSzz",
    "papermill": {
     "duration": 0.016819,
     "end_time": "2024-04-04T23:29:32.510877",
     "exception": false,
     "start_time": "2024-04-04T23:29:32.494058",
     "status": "completed"
    },
    "tags": []
   },
   "source": [
    " # Home Work 2\n",
    "\n",
    "In this hw assignment you have to train a classifier to distinguish between different food variations."
   ]
  },
  {
   "cell_type": "markdown",
   "id": "2762dfcd",
   "metadata": {
    "id": "h5_mxHfUOX5I",
    "papermill": {
     "duration": 0.015426,
     "end_time": "2024-04-04T23:29:32.542408",
     "exception": false,
     "start_time": "2024-04-04T23:29:32.526982",
     "status": "completed"
    },
    "tags": []
   },
   "source": [
    "\n",
    "## But first... Theory\n",
    "Solve the theoretical problems. Type the solutions here, using Latex"
   ]
  },
  {
   "cell_type": "markdown",
   "id": "6688361d",
   "metadata": {
    "id": "rCq5ribyPmD_",
    "papermill": {
     "duration": 0.016718,
     "end_time": "2024-04-04T23:29:32.575365",
     "exception": false,
     "start_time": "2024-04-04T23:29:32.558647",
     "status": "completed"
    },
    "tags": []
   },
   "source": [
    "### Problem 1 (2 points)"
   ]
  },
  {
   "cell_type": "markdown",
   "id": "f396c064",
   "metadata": {
    "id": "BS6DrYvLOdrj",
    "papermill": {
     "duration": 0.01582,
     "end_time": "2024-04-04T23:29:32.609373",
     "exception": false,
     "start_time": "2024-04-04T23:29:32.593553",
     "status": "completed"
    },
    "tags": []
   },
   "source": [
    "Compute the result of convolution operation with kernel K to a matrix X.\n",
    "Convolution params are: stride=2, dilation=2, padding=1 (padding with zeros)\n",
    "\n",
    "\n",
    "$        X = \\begin{bmatrix}\n",
    "        1 & 0 & -4 & 2 \\\\\n",
    "        5 & 2 & 3 & 0 \\\\\n",
    "        -1 & 0 & 1 & 4 \\\\\n",
    "        0 & -3 & 2 & -1\n",
    "    \\end{bmatrix}\n",
    "    K = \\begin{bmatrix}\n",
    "        2 & 1 \\\\\n",
    "        -1 & -2\n",
    "    \\end{bmatrix}\n",
    "$"
   ]
  },
  {
   "cell_type": "markdown",
   "id": "d0a5192d",
   "metadata": {
    "id": "-EdMr5zzPwwd",
    "papermill": {
     "duration": 0.016879,
     "end_time": "2024-04-04T23:29:32.642489",
     "exception": false,
     "start_time": "2024-04-04T23:29:32.625610",
     "status": "completed"
    },
    "tags": []
   },
   "source": [
    "#### Solution\n",
    "\n",
    "Add padding, so we have:\n",
    "$    X^\\text{pad} = \\begin{bmatrix}\n",
    "        0 & 0 & 0 & 0 & 0 & 0 \\\\\n",
    "        0 & 1 & 0 & -4 & 2 & 0 \\\\\n",
    "        0 & 5 & 2 & 3 & 0 & 0 \\\\\n",
    "        0 & -1 & 0 & 1 & 4 & 0 \\\\\n",
    "        0 & 0 & -3 & 2 & -1 & 0 \\\\\n",
    "        0 & 0 & 0 & 0 & 0 & 0\n",
    "    \\end{bmatrix}\n",
    "$\n",
    "\n",
    "Add dilation to the kernel K:\n",
    "$     K^\\text{dil} = \\begin{bmatrix}\n",
    "        2 & 0 & 1 \\\\\n",
    "        0 & 0 & 0 \\\\\n",
    "        -1 & 0 & -2\n",
    "    \\end{bmatrix}\n",
    "$\n",
    "\n",
    "Stride means we move the kernel $K$ for 2 elements. Thus we do:\n",
    "\n",
    "$   \\begin{bmatrix}\n",
    "        0 & 0 & 0  \\\\\n",
    "        0 & 1 & 0  \\\\\n",
    "        0 & 5 & 2 \\\\\n",
    "    \\end{bmatrix}\n",
    "$ *\n",
    "$   \\begin{bmatrix}\n",
    "        2 & 0 & 1 \\\\\n",
    "        0 & 0 & 0 \\\\\n",
    "        -1 & 0 & -2\n",
    "    \\end{bmatrix}   \n",
    "$ = $0 + (-2)*2 = -4$\n",
    "\n",
    "Move kernel 2 elements right:\n",
    "\n",
    "$   \\begin{bmatrix}\n",
    "        0 & 0 & 0 \\\\\n",
    "        0 & -4 & 2 \\\\\n",
    "        2 & 3 & 0 \\\\\n",
    "    \\end{bmatrix}\n",
    "$ *\n",
    "$   \\begin{bmatrix}\n",
    "        2 & 0 & 1 \\\\\n",
    "        0 & 0 & 0 \\\\\n",
    "        -1 & 0 & -2\n",
    "    \\end{bmatrix}  \n",
    "$ = $ 0 + (-1)*2 = -2$\n",
    "\n",
    "\\\\\n",
    "Move kernel 2 elements down: $\\textbf{I'll not suffer any longer and write this fully}$. We get $2 + 6 = 8$, move kernel 2 elements right again and obtain $4 + 3 + 2 = 9$.\n",
    "\n",
    "In result we have\n",
    "$   \\begin{bmatrix}\n",
    "        -4 & -2 \\\\\n",
    "        8 & 9\n",
    "    \\end{bmatrix}\n",
    "$"
   ]
  },
  {
   "cell_type": "code",
   "execution_count": 1,
   "id": "1451dad2",
   "metadata": {
    "execution": {
     "iopub.execute_input": "2024-04-04T23:29:32.678864Z",
     "iopub.status.busy": "2024-04-04T23:29:32.678349Z",
     "iopub.status.idle": "2024-04-04T23:29:36.468548Z",
     "shell.execute_reply": "2024-04-04T23:29:36.467486Z"
    },
    "id": "hCd1b69EWQ8k",
    "papermill": {
     "duration": 3.811636,
     "end_time": "2024-04-04T23:29:36.471301",
     "exception": false,
     "start_time": "2024-04-04T23:29:32.659665",
     "status": "completed"
    },
    "tags": []
   },
   "outputs": [],
   "source": [
    "import numpy as np\n",
    "import torch\n",
    "import torch.nn.functional as F"
   ]
  },
  {
   "cell_type": "code",
   "execution_count": 2,
   "id": "a603f175",
   "metadata": {
    "execution": {
     "iopub.execute_input": "2024-04-04T23:29:36.507741Z",
     "iopub.status.busy": "2024-04-04T23:29:36.506770Z",
     "iopub.status.idle": "2024-04-04T23:29:36.635804Z",
     "shell.execute_reply": "2024-04-04T23:29:36.634829Z"
    },
    "id": "k3NvLI6GW4gw",
    "outputId": "a618bee0-28a7-4c82-9e57-3cfa408755ad",
    "papermill": {
     "duration": 0.149449,
     "end_time": "2024-04-04T23:29:36.638240",
     "exception": false,
     "start_time": "2024-04-04T23:29:36.488791",
     "status": "completed"
    },
    "tags": []
   },
   "outputs": [
    {
     "name": "stdout",
     "output_type": "stream",
     "text": [
      "tensor([[-4., -2.],\n",
      "        [ 8.,  9.]])\n"
     ]
    }
   ],
   "source": [
    "X = np.array([\n",
    "    [1, 0, -4, 2],\n",
    "    [5, 2, 3, 0],\n",
    "    [-1, 0, 1, 4],\n",
    "    [0, -3, 2, -1]])\n",
    "\n",
    "K = np.array([\n",
    "    [2, 1],\n",
    "    [-1, -2]])\n",
    "\n",
    "# Add extra dimension for the channel to fit conv2d\n",
    "X_tensor = torch.Tensor(X).unsqueeze(0).unsqueeze(0)\n",
    "K_tensor = torch.Tensor(K).unsqueeze(0).unsqueeze(0)\n",
    "\n",
    "# conv2d\n",
    "output = F.conv2d(X_tensor, K_tensor, stride=2, padding=1, dilation=2, )\n",
    "print(output[0,0])"
   ]
  },
  {
   "cell_type": "markdown",
   "id": "ac77e446",
   "metadata": {
    "id": "dcvuV5ARPpn-",
    "papermill": {
     "duration": 0.017592,
     "end_time": "2024-04-04T23:29:36.673117",
     "exception": false,
     "start_time": "2024-04-04T23:29:36.655525",
     "status": "completed"
    },
    "tags": []
   },
   "source": [
    "### Problem 2 (2 points)\n",
    "\n",
    "Count the number of trainable params in nn:\n",
    "\n",
    "        model = nn.Sequential(\n",
    "            nn.Conv2d(\n",
    "                in_channels=3, out_channels=16, kernel_size=5,\n",
    "                stride=2, padding=0, dilation=1, bias=True\n",
    "            ),\n",
    "            nn.BatchNorm2d(num_features=16),\n",
    "            nn.LeakyReLU(0.1),\n",
    "            nn.Conv2d(\n",
    "                in_channels=16, out_channels=32, kernel_size=5,\n",
    "                stride=1, padding=1, dilation=2, bias=False\n",
    "            ),\n",
    "            nn.BatchNorm2d(num_features=32),\n",
    "            nn.Sigmoid(),\n",
    "        )\n",
    "  "
   ]
  },
  {
   "cell_type": "markdown",
   "id": "de0b95dc",
   "metadata": {
    "id": "mNpVQDWMQlIx",
    "papermill": {
     "duration": 0.016372,
     "end_time": "2024-04-04T23:29:36.706421",
     "exception": false,
     "start_time": "2024-04-04T23:29:36.690049",
     "status": "completed"
    },
    "tags": []
   },
   "source": [
    "#### Solution\n",
    "\n",
    "We'll need to sum up all the parameters in each layer\n",
    "\n",
    "1. `nn.Conv2d(in_channels=3, out_channels=16, kernel_size=5, stride=2, padding=0, dilation=1, bias=True)`:\n",
    "   - Number of parameters = (kernel_size^2 * in_channels + bias) * out_channels\n",
    "   - Number of parameters = $(5^2 \\times 3 + 1) \\times 16 = 1216$\n",
    "\n",
    "2. `nn.BatchNorm2d(num_features=16)`:\n",
    "   - Number of parameters = num_features * 2\n",
    "   - Number of parameters = $16 \\times 2 = 32$\n",
    "\n",
    "3. `nn.LeakyReLU(0.1)` does not have trainable parameters.\n",
    "\n",
    "4. `nn.Conv2d(in_channels=16, out_channels=32, kernel_size=5, stride=1, padding=1, dilation=2, bias=False)`:\n",
    "   - Number of parameters = (kernel_size^2 * in_channels) * out_channels\n",
    "   - Number of parameters = $(5^2 \\times 16) \\times 32 = 12800$\n",
    "\n",
    "5. `nn.BatchNorm2d(num_features=32)`:\n",
    "   - Number of parameters = num_features * 2\n",
    "   - Number of parameters = $32 \\times 2 = 64$\n",
    "\n",
    "6. `nn.Sigmoid()` does not have trainable parameters.\n",
    "\n",
    "Thus, $1216 + 32 + 12800 + 64 = 14112$"
   ]
  },
  {
   "cell_type": "code",
   "execution_count": 3,
   "id": "ed4a0dab",
   "metadata": {
    "execution": {
     "iopub.execute_input": "2024-04-04T23:29:36.748784Z",
     "iopub.status.busy": "2024-04-04T23:29:36.748342Z",
     "iopub.status.idle": "2024-04-04T23:29:36.768846Z",
     "shell.execute_reply": "2024-04-04T23:29:36.767660Z"
    },
    "id": "qzGQJwyPevb3",
    "outputId": "1319e35b-5d4e-4fd3-cf03-84f76e58b45a",
    "papermill": {
     "duration": 0.043537,
     "end_time": "2024-04-04T23:29:36.771722",
     "exception": false,
     "start_time": "2024-04-04T23:29:36.728185",
     "status": "completed"
    },
    "tags": []
   },
   "outputs": [
    {
     "name": "stdout",
     "output_type": "stream",
     "text": [
      "0.weight:\t1200\n",
      "0.bias:\t16\n",
      "1.weight:\t16\n",
      "1.bias:\t16\n",
      "3.weight:\t12800\n",
      "4.weight:\t32\n",
      "4.bias:\t32\n",
      "Total number of trainable parameters: 14112\n"
     ]
    }
   ],
   "source": [
    "import torch.nn as nn\n",
    "\n",
    "model = nn.Sequential(\n",
    "    nn.Conv2d(\n",
    "        in_channels=3, out_channels=16, kernel_size=5,\n",
    "        stride=2, padding=0, dilation=1, bias=True\n",
    "    ),\n",
    "    nn.BatchNorm2d(num_features=16),\n",
    "    nn.LeakyReLU(0.1),\n",
    "    nn.Conv2d(\n",
    "        in_channels=16, out_channels=32, kernel_size=5,\n",
    "        stride=1, padding=1, dilation=2, bias=False\n",
    "    ),\n",
    "    nn.BatchNorm2d(num_features=32),\n",
    "    nn.Sigmoid(),\n",
    ")\n",
    "\n",
    "total_params = 0\n",
    "for name, parameter in model.named_parameters():\n",
    "    if not parameter.requires_grad: continue\n",
    "    param = parameter.numel()\n",
    "    print(f\"{name}:\\t{param}\")\n",
    "    total_params += param\n",
    "\n",
    "print(f\"Total number of trainable parameters: {total_params}\")"
   ]
  },
  {
   "cell_type": "markdown",
   "id": "4ce889d1",
   "metadata": {
    "id": "k2CT6EBFZB32",
    "papermill": {
     "duration": 0.016497,
     "end_time": "2024-04-04T23:29:36.809796",
     "exception": false,
     "start_time": "2024-04-04T23:29:36.793299",
     "status": "completed"
    },
    "tags": []
   },
   "source": [
    "### Practical problem\n",
    "\n",
    "\n",
    "Solve multicalss classification problem for Food101 dataset"
   ]
  },
  {
   "cell_type": "markdown",
   "id": "abd45078",
   "metadata": {
    "id": "NMNmBosHZZ1a",
    "papermill": {
     "duration": 0.016766,
     "end_time": "2024-04-04T23:29:36.843349",
     "exception": false,
     "start_time": "2024-04-04T23:29:36.826583",
     "status": "completed"
    },
    "tags": []
   },
   "source": [
    "####  Helper code"
   ]
  },
  {
   "cell_type": "code",
   "execution_count": 4,
   "id": "15a3e281",
   "metadata": {
    "execution": {
     "iopub.execute_input": "2024-04-04T23:29:36.877917Z",
     "iopub.status.busy": "2024-04-04T23:29:36.877534Z",
     "iopub.status.idle": "2024-04-04T23:29:40.997319Z",
     "shell.execute_reply": "2024-04-04T23:29:40.996353Z"
    },
    "id": "Oc9bGu6KVnbc",
    "papermill": {
     "duration": 4.140222,
     "end_time": "2024-04-04T23:29:40.999977",
     "exception": false,
     "start_time": "2024-04-04T23:29:36.859755",
     "status": "completed"
    },
    "tags": []
   },
   "outputs": [],
   "source": [
    "import copy\n",
    "import random\n",
    "import os\n",
    "import shutil\n",
    "import tarfile\n",
    "from urllib.request import urlretrieve\n",
    "\n",
    "import numpy as np\n",
    "import pandas as pd\n",
    "import cv2\n",
    "from tqdm import tqdm\n",
    "\n",
    "import torch\n",
    "import torch.nn as nn\n",
    "import torch.optim as optim\n",
    "import torchvision\n",
    "\n",
    "from torchvision import datasets, models\n",
    "from torchvision.transforms import v2\n",
    "from torch.utils.data import random_split, DataLoader, Dataset\n",
    "\n",
    "pd.set_option('display.max_colwidth', None)"
   ]
  },
  {
   "cell_type": "code",
   "execution_count": 5,
   "id": "031d9bef",
   "metadata": {
    "execution": {
     "iopub.execute_input": "2024-04-04T23:29:41.036416Z",
     "iopub.status.busy": "2024-04-04T23:29:41.035362Z",
     "iopub.status.idle": "2024-04-04T23:29:41.046395Z",
     "shell.execute_reply": "2024-04-04T23:29:41.045406Z"
    },
    "id": "-JqiFGF0WIpO",
    "papermill": {
     "duration": 0.031216,
     "end_time": "2024-04-04T23:29:41.048473",
     "exception": false,
     "start_time": "2024-04-04T23:29:41.017257",
     "status": "completed"
    },
    "tags": []
   },
   "outputs": [],
   "source": [
    "class TqdmUpTo(tqdm):\n",
    "    def update_to(self, b=1, bsize=1, tsize=None):\n",
    "        if tsize is not None:\n",
    "            self.total = tsize\n",
    "        self.update(b * bsize - self.n)\n",
    "\n",
    "\n",
    "def download_url(url, filepath):\n",
    "    directory = os.path.dirname(os.path.abspath(filepath))\n",
    "    os.makedirs(directory, exist_ok=True)\n",
    "    if os.path.exists(filepath):\n",
    "        print(\"Filepath already exists. Skipping download.\")\n",
    "        return\n",
    "\n",
    "    with TqdmUpTo(unit=\"B\", unit_scale=True, unit_divisor=1024, miniters=1, desc=os.path.basename(filepath)) as t:\n",
    "        urlretrieve(url, filename=filepath, reporthook=t.update_to, data=None)\n",
    "        t.total = t.n\n",
    "\n",
    "\n",
    "def extract_archive(filepath):\n",
    "    extract_dir = os.path.dirname(os.path.abspath(filepath))\n",
    "    shutil.unpack_archive(filepath, extract_dir)"
   ]
  },
  {
   "cell_type": "code",
   "execution_count": 6,
   "id": "5dac073d",
   "metadata": {
    "execution": {
     "iopub.execute_input": "2024-04-04T23:29:41.085369Z",
     "iopub.status.busy": "2024-04-04T23:29:41.084994Z",
     "iopub.status.idle": "2024-04-04T23:29:41.089573Z",
     "shell.execute_reply": "2024-04-04T23:29:41.088507Z"
    },
    "id": "H2KjobDKX8aN",
    "papermill": {
     "duration": 0.025648,
     "end_time": "2024-04-04T23:29:41.091816",
     "exception": false,
     "start_time": "2024-04-04T23:29:41.066168",
     "status": "completed"
    },
    "tags": []
   },
   "outputs": [],
   "source": [
    "url = \"http://data.vision.ee.ethz.ch/cvl/food-101.tar.gz\""
   ]
  },
  {
   "cell_type": "code",
   "execution_count": 7,
   "id": "b25f13ab",
   "metadata": {
    "execution": {
     "iopub.execute_input": "2024-04-04T23:29:41.127935Z",
     "iopub.status.busy": "2024-04-04T23:29:41.127574Z",
     "iopub.status.idle": "2024-04-04T23:29:41.132836Z",
     "shell.execute_reply": "2024-04-04T23:29:41.131411Z"
    },
    "id": "39OM_E4xYAsM",
    "papermill": {
     "duration": 0.026991,
     "end_time": "2024-04-04T23:29:41.135889",
     "exception": false,
     "start_time": "2024-04-04T23:29:41.108898",
     "status": "completed"
    },
    "tags": []
   },
   "outputs": [],
   "source": [
    "dataset_directory = os.path.join(os.environ[\"HOME\"], \"datasets/food101\")"
   ]
  },
  {
   "cell_type": "code",
   "execution_count": 8,
   "id": "2a843787",
   "metadata": {
    "execution": {
     "iopub.execute_input": "2024-04-04T23:29:41.172457Z",
     "iopub.status.busy": "2024-04-04T23:29:41.171686Z",
     "iopub.status.idle": "2024-04-04T23:33:17.839516Z",
     "shell.execute_reply": "2024-04-04T23:33:17.838280Z"
    },
    "id": "-pT_pAf3YBjR",
    "outputId": "ada286ca-e64e-46ea-ae7d-19a6e420622c",
    "papermill": {
     "duration": 216.930458,
     "end_time": "2024-04-04T23:33:18.083921",
     "exception": false,
     "start_time": "2024-04-04T23:29:41.153463",
     "status": "completed"
    },
    "tags": []
   },
   "outputs": [
    {
     "name": "stderr",
     "output_type": "stream",
     "text": [
      "food101.tar.gz: 100%|██████████| 4.65G/4.65G [02:28<00:00, 33.6MB/s]\n"
     ]
    },
    {
     "name": "stdout",
     "output_type": "stream",
     "text": [
      "CPU times: user 49.9 s, sys: 17.9 s, total: 1min 7s\n",
      "Wall time: 1min 7s\n"
     ]
    }
   ],
   "source": [
    "filepath = os.path.join(dataset_directory, \"food101.tar.gz\")\n",
    "download_url(\n",
    "    url=url,\n",
    "    filepath=filepath,\n",
    ")\n",
    "%time extract_archive(filepath)"
   ]
  },
  {
   "cell_type": "code",
   "execution_count": 9,
   "id": "7b97949e",
   "metadata": {
    "execution": {
     "iopub.execute_input": "2024-04-04T23:33:18.398633Z",
     "iopub.status.busy": "2024-04-04T23:33:18.398134Z",
     "iopub.status.idle": "2024-04-04T23:33:18.407066Z",
     "shell.execute_reply": "2024-04-04T23:33:18.405889Z"
    },
    "id": "JoavpwywxFuM",
    "outputId": "cdf11b71-9415-4148-ce39-b9328cc600c7",
    "papermill": {
     "duration": 0.173585,
     "end_time": "2024-04-04T23:33:18.410656",
     "exception": false,
     "start_time": "2024-04-04T23:33:18.237071",
     "status": "completed"
    },
    "tags": []
   },
   "outputs": [
    {
     "data": {
      "text/plain": [
       "'/root/datasets/food101/food101.tar.gz'"
      ]
     },
     "execution_count": 9,
     "metadata": {},
     "output_type": "execute_result"
    }
   ],
   "source": [
    "filepath"
   ]
  },
  {
   "cell_type": "code",
   "execution_count": 10,
   "id": "628415ba",
   "metadata": {
    "execution": {
     "iopub.execute_input": "2024-04-04T23:33:18.727350Z",
     "iopub.status.busy": "2024-04-04T23:33:18.726398Z",
     "iopub.status.idle": "2024-04-04T23:33:19.849593Z",
     "shell.execute_reply": "2024-04-04T23:33:19.848367Z"
    },
    "id": "yVDtmdtjx39Q",
    "outputId": "ee147c11-f970-4eab-8115-8154d8aea87b",
    "papermill": {
     "duration": 1.283798,
     "end_time": "2024-04-04T23:33:19.852502",
     "exception": false,
     "start_time": "2024-04-04T23:33:18.568704",
     "status": "completed"
    },
    "tags": []
   },
   "outputs": [
    {
     "name": "stdout",
     "output_type": "stream",
     "text": [
      "classes.txt  labels.txt  test.json  test.txt  train.json  train.txt\r\n"
     ]
    }
   ],
   "source": [
    "!ls /root/datasets/food101/food-101/meta"
   ]
  },
  {
   "cell_type": "code",
   "execution_count": 11,
   "id": "5ff74caf",
   "metadata": {
    "execution": {
     "iopub.execute_input": "2024-04-04T23:33:20.154286Z",
     "iopub.status.busy": "2024-04-04T23:33:20.153857Z",
     "iopub.status.idle": "2024-04-04T23:33:21.280214Z",
     "shell.execute_reply": "2024-04-04T23:33:21.278534Z"
    },
    "id": "evsE5WGox_Gz",
    "outputId": "773cce44-1f32-41c6-bea5-e13cc070c12f",
    "papermill": {
     "duration": 1.282146,
     "end_time": "2024-04-04T23:33:21.284264",
     "exception": false,
     "start_time": "2024-04-04T23:33:20.002118",
     "status": "completed"
    },
    "tags": []
   },
   "outputs": [
    {
     "name": "stdout",
     "output_type": "stream",
     "text": [
      "apple_pie\r\n",
      "baby_back_ribs\r\n",
      "baklava\r\n",
      "beef_carpaccio\r\n",
      "beef_tartare\r\n",
      "beet_salad\r\n",
      "beignets\r\n",
      "bibimbap\r\n",
      "bread_pudding\r\n",
      "breakfast_burrito\r\n"
     ]
    }
   ],
   "source": [
    "!head -n10 /root/datasets/food101/food-101/meta/classes.txt"
   ]
  },
  {
   "cell_type": "markdown",
   "id": "92c6b58e",
   "metadata": {
    "id": "qA3ihzlPZd9t",
    "papermill": {
     "duration": 0.143505,
     "end_time": "2024-04-04T23:33:21.640027",
     "exception": false,
     "start_time": "2024-04-04T23:33:21.496522",
     "status": "completed"
    },
    "tags": []
   },
   "source": [
    "### Dataloaders (1 point)\n"
   ]
  },
  {
   "cell_type": "markdown",
   "id": "fdd482f0",
   "metadata": {
    "id": "4dQCEmWgD2w2",
    "papermill": {
     "duration": 0.14415,
     "end_time": "2024-04-04T23:33:21.927565",
     "exception": false,
     "start_time": "2024-04-04T23:33:21.783415",
     "status": "completed"
    },
    "tags": []
   },
   "source": [
    "**Изменил `transforms` на `transforms.v2`**"
   ]
  },
  {
   "cell_type": "code",
   "execution_count": 12,
   "id": "f4a6b7f0",
   "metadata": {
    "execution": {
     "iopub.execute_input": "2024-04-04T23:33:22.219386Z",
     "iopub.status.busy": "2024-04-04T23:33:22.218646Z",
     "iopub.status.idle": "2024-04-04T23:33:22.233384Z",
     "shell.execute_reply": "2024-04-04T23:33:22.232588Z"
    },
    "id": "5xpG7szhbAsV",
    "papermill": {
     "duration": 0.162644,
     "end_time": "2024-04-04T23:33:22.235596",
     "exception": false,
     "start_time": "2024-04-04T23:33:22.072952",
     "status": "completed"
    },
    "tags": []
   },
   "outputs": [],
   "source": [
    "NUM_WORKERS = os.cpu_count()\n",
    "\n",
    "\n",
    "def split_data(dataset, val_size=0.2, seed=42):\n",
    "    \"\"\"\n",
    "    \"\"\"\n",
    "    generator = torch.Generator().manual_seed(seed)\n",
    "    train_data, test_data = random_split(dataset, [1 - val_size, val_size], generator=generator)\n",
    "\n",
    "    return train_data, test_data\n",
    "\n",
    "\n",
    "def create_dataloaders(\n",
    "    data_dir: str,\n",
    "    transform: v2.Compose,\n",
    "    batch_size: int,\n",
    "    num_workers: int=NUM_WORKERS):\n",
    "  \"\"\"Creates training and testing DataLoaders.\n",
    "\n",
    "  Takes in a training directory and testing directory path and turns\n",
    "  them into PyTorch Datasets and then into PyTorch DataLoaders.\n",
    "\n",
    "  Args:\n",
    "    train_dir: Path to training directory.\n",
    "    test_dir: Path to testing directory.\n",
    "    transform: torchvision transforms to perform on training and testing data.\n",
    "    batch_size: Number of samples per batch in each of the DataLoaders.\n",
    "    num_workers: An integer for number of workers per DataLoader.\n",
    "\n",
    "  Returns:\n",
    "    A tuple of (train_dataloader, test_dataloader, class_names).\n",
    "    Where class_names is a list of the target classes.\n",
    "    Example usage:\n",
    "      train_dataloader, test_dataloader, class_names = \\\n",
    "        = create_dataloaders(train_dir=path/to/train_dir,\n",
    "                             test_dir=path/to/test_dir,\n",
    "                             transform=some_transform,\n",
    "                             batch_size=32,\n",
    "                             num_workers=4)\n",
    "  \"\"\"\n",
    "  # Use ImageFolder of define your Dataset class here\n",
    "    \n",
    "  test_transform = v2.Compose([v2.Resize((224, 224)),\n",
    "                              v2.ConvertImageDtype(torch.float32),\n",
    "                              v2.ToTensor(),\n",
    "                              v2.Normalize(mean=[0.485, 0.456, 0.406],std=[0.229, 0.224, 0.225])])\n",
    "\n",
    "  train_dataset = torchvision.datasets.ImageFolder(image_path, transform=transform)\n",
    "  test_dataset = torchvision.datasets.ImageFolder(image_path, transform=test_transform)\n",
    "\n",
    "  train_set, _ = split_data(train_dataset)\n",
    "  _, test_set = split_data(test_dataset)\n",
    "\n",
    "  with open(\"/root/datasets/food101/food-101/meta/classes.txt\") as fuck:\n",
    "    class_names = np.array([x.strip() for x in fuck.readlines()])\n",
    "\n",
    "  # Turn images into data loaders\n",
    "  train_dataloader = DataLoader(\n",
    "      train_set,\n",
    "      batch_size=batch_size,\n",
    "      shuffle=True,\n",
    "      num_workers=num_workers,\n",
    "      pin_memory=True, \n",
    "  )\n",
    "  test_dataloader = DataLoader(\n",
    "      test_set,\n",
    "      batch_size=batch_size,\n",
    "      shuffle=True,\n",
    "      num_workers=num_workers,\n",
    "      pin_memory=True,\n",
    "  )\n",
    "\n",
    "  return train_dataloader, test_dataloader, class_names"
   ]
  },
  {
   "cell_type": "code",
   "execution_count": 13,
   "id": "09725776",
   "metadata": {
    "execution": {
     "iopub.execute_input": "2024-04-04T23:33:22.525945Z",
     "iopub.status.busy": "2024-04-04T23:33:22.525251Z",
     "iopub.status.idle": "2024-04-04T23:33:22.540220Z",
     "shell.execute_reply": "2024-04-04T23:33:22.539435Z"
    },
    "id": "DgoIyH66be1t",
    "outputId": "464b9280-7dad-4a04-8bb2-f85439ad28cc",
    "papermill": {
     "duration": 0.161945,
     "end_time": "2024-04-04T23:33:22.542561",
     "exception": false,
     "start_time": "2024-04-04T23:33:22.380616",
     "status": "completed"
    },
    "tags": []
   },
   "outputs": [],
   "source": [
    "try:\n",
    "    from torchinfo import summary\n",
    "except:\n",
    "    print(\"[INFO] Couldn't find torchinfo... installing it.\")\n",
    "    !pip install -q torchinfo\n",
    "    from torchinfo import summary"
   ]
  },
  {
   "cell_type": "code",
   "execution_count": 14,
   "id": "4a206074",
   "metadata": {
    "execution": {
     "iopub.execute_input": "2024-04-04T23:33:22.828723Z",
     "iopub.status.busy": "2024-04-04T23:33:22.828322Z",
     "iopub.status.idle": "2024-04-04T23:33:22.833791Z",
     "shell.execute_reply": "2024-04-04T23:33:22.832675Z"
    },
    "id": "JBqhTRdwbhEY",
    "papermill": {
     "duration": 0.151169,
     "end_time": "2024-04-04T23:33:22.835969",
     "exception": false,
     "start_time": "2024-04-04T23:33:22.684800",
     "status": "completed"
    },
    "tags": []
   },
   "outputs": [],
   "source": [
    "from pathlib import Path\n",
    "\n",
    "data_path = Path(dataset_directory)\n",
    "image_path = data_path / \"food-101\" / \"images\""
   ]
  },
  {
   "cell_type": "markdown",
   "id": "9d4efb76",
   "metadata": {
    "id": "orGmwVF8bhrH",
    "papermill": {
     "duration": 0.146179,
     "end_time": "2024-04-04T23:33:23.125450",
     "exception": false,
     "start_time": "2024-04-04T23:33:22.979271",
     "status": "completed"
    },
    "tags": []
   },
   "source": [
    "Define transforms. You can add augmentations for better perfomance.\n",
    "\n",
    " You can either use Albumentation or torchvision\n",
    "\n",
    "Don't forget to normalize images"
   ]
  },
  {
   "cell_type": "code",
   "execution_count": 15,
   "id": "97ea48a4",
   "metadata": {
    "execution": {
     "iopub.execute_input": "2024-04-04T23:33:23.436731Z",
     "iopub.status.busy": "2024-04-04T23:33:23.435780Z",
     "iopub.status.idle": "2024-04-04T23:33:23.445799Z",
     "shell.execute_reply": "2024-04-04T23:33:23.444722Z"
    },
    "id": "1Inhkzilcy00",
    "outputId": "78057641-5ff5-477e-ef4c-f5e5b21afec2",
    "papermill": {
     "duration": 0.161927,
     "end_time": "2024-04-04T23:33:23.448141",
     "exception": false,
     "start_time": "2024-04-04T23:33:23.286214",
     "status": "completed"
    },
    "tags": []
   },
   "outputs": [
    {
     "name": "stderr",
     "output_type": "stream",
     "text": [
      "/opt/conda/lib/python3.10/site-packages/torchvision/transforms/v2/_deprecated.py:43: UserWarning: The transform `ToTensor()` is deprecated and will be removed in a future release. Instead, please use `v2.Compose([v2.ToImage(), v2.ToDtype(torch.float32, scale=True)])`.\n",
      "  warnings.warn(\n"
     ]
    }
   ],
   "source": [
    "# Create a transforms pipeline manually (required for torchvision < 0.13)\n",
    "manual_transforms = v2.Compose([\n",
    "    #YOUR CODE HERE#, # 1. Reshape data HxW to fit model\n",
    "    v2.Resize((224, 224)),\n",
    "    #YOUR CODE HERE#, # 2. Turn image values to between 0 & 1\n",
    "    v2.ConvertImageDtype(torch.float32),\n",
    "    v2.RandomHorizontalFlip(p=0.5),\n",
    "    v2.ColorJitter(brightness=0.1, contrast=0.1, saturation=0.1, hue=0.1),\n",
    "    v2.RandomRotation(degrees=15),\n",
    "    v2.RandomAffine(degrees=0, translate=(0.1, 0.1), scale=(0.9, 1.1), shear=5),\n",
    "    # v2.ToDtype(torch.float32, scale=True),\n",
    "    v2.ToTensor(),\n",
    "    v2.Normalize(mean=[0.485, 0.456, 0.406], # 3. A mean of [0.485, 0.456, 0.406] (across each colour channel)\n",
    "                         std=[0.229, 0.224, 0.225]) # 4. A standard deviation of [0.229, 0.224, 0.225] (across each colour channel),\n",
    "])"
   ]
  },
  {
   "cell_type": "code",
   "execution_count": 16,
   "id": "f390e691",
   "metadata": {
    "execution": {
     "iopub.execute_input": "2024-04-04T23:33:23.746084Z",
     "iopub.status.busy": "2024-04-04T23:33:23.745245Z",
     "iopub.status.idle": "2024-04-04T23:33:24.290722Z",
     "shell.execute_reply": "2024-04-04T23:33:24.289384Z"
    },
    "id": "bKN6vif3dZGE",
    "papermill": {
     "duration": 0.698023,
     "end_time": "2024-04-04T23:33:24.293395",
     "exception": false,
     "start_time": "2024-04-04T23:33:23.595372",
     "status": "completed"
    },
    "tags": []
   },
   "outputs": [],
   "source": [
    "train_data, test_data = split_data(torchvision.datasets.ImageFolder(image_path, transform=manual_transforms))"
   ]
  },
  {
   "cell_type": "code",
   "execution_count": 17,
   "id": "acb79391",
   "metadata": {
    "execution": {
     "iopub.execute_input": "2024-04-04T23:33:24.583277Z",
     "iopub.status.busy": "2024-04-04T23:33:24.582870Z",
     "iopub.status.idle": "2024-04-04T23:33:25.663142Z",
     "shell.execute_reply": "2024-04-04T23:33:25.661994Z"
    },
    "id": "lEMtDWmiSP-1",
    "outputId": "6d1867cc-8f3e-4e0d-9b63-4b57241bd334",
    "papermill": {
     "duration": 1.226868,
     "end_time": "2024-04-04T23:33:25.666007",
     "exception": false,
     "start_time": "2024-04-04T23:33:24.439139",
     "status": "completed"
    },
    "tags": []
   },
   "outputs": [
    {
     "name": "stdout",
     "output_type": "stream",
     "text": [
      "apple_pie\t    eggs_benedict\t     onion_rings\r\n",
      "baby_back_ribs\t    escargots\t\t     oysters\r\n",
      "baklava\t\t    falafel\t\t     pad_thai\r\n",
      "beef_carpaccio\t    filet_mignon\t     paella\r\n",
      "beef_tartare\t    fish_and_chips\t     pancakes\r\n",
      "beet_salad\t    foie_gras\t\t     panna_cotta\r\n",
      "beignets\t    french_fries\t     peking_duck\r\n",
      "bibimbap\t    french_onion_soup\t     pho\r\n",
      "bread_pudding\t    french_toast\t     pizza\r\n",
      "breakfast_burrito   fried_calamari\t     pork_chop\r\n",
      "bruschetta\t    fried_rice\t\t     poutine\r\n",
      "caesar_salad\t    frozen_yogurt\t     prime_rib\r\n",
      "cannoli\t\t    garlic_bread\t     pulled_pork_sandwich\r\n",
      "caprese_salad\t    gnocchi\t\t     ramen\r\n",
      "carrot_cake\t    greek_salad\t\t     ravioli\r\n",
      "ceviche\t\t    grilled_cheese_sandwich  red_velvet_cake\r\n",
      "cheese_plate\t    grilled_salmon\t     risotto\r\n",
      "cheesecake\t    guacamole\t\t     samosa\r\n",
      "chicken_curry\t    gyoza\t\t     sashimi\r\n",
      "chicken_quesadilla  hamburger\t\t     scallops\r\n",
      "chicken_wings\t    hot_and_sour_soup\t     seaweed_salad\r\n",
      "chocolate_cake\t    hot_dog\t\t     shrimp_and_grits\r\n",
      "chocolate_mousse    huevos_rancheros\t     spaghetti_bolognese\r\n",
      "churros\t\t    hummus\t\t     spaghetti_carbonara\r\n",
      "clam_chowder\t    ice_cream\t\t     spring_rolls\r\n",
      "club_sandwich\t    lasagna\t\t     steak\r\n",
      "crab_cakes\t    lobster_bisque\t     strawberry_shortcake\r\n",
      "creme_brulee\t    lobster_roll_sandwich    sushi\r\n",
      "croque_madame\t    macaroni_and_cheese      tacos\r\n",
      "cup_cakes\t    macarons\t\t     takoyaki\r\n",
      "deviled_eggs\t    miso_soup\t\t     tiramisu\r\n",
      "donuts\t\t    mussels\t\t     tuna_tartare\r\n",
      "dumplings\t    nachos\t\t     waffles\r\n",
      "edamame\t\t    omelette\r\n"
     ]
    }
   ],
   "source": [
    "!ls /root/datasets/food101/food-101/images"
   ]
  },
  {
   "cell_type": "code",
   "execution_count": 18,
   "id": "0f5d4b80",
   "metadata": {
    "execution": {
     "iopub.execute_input": "2024-04-04T23:33:25.948397Z",
     "iopub.status.busy": "2024-04-04T23:33:25.947981Z",
     "iopub.status.idle": "2024-04-04T23:33:25.958867Z",
     "shell.execute_reply": "2024-04-04T23:33:25.957786Z"
    },
    "id": "2gBaiOgmMEUN",
    "outputId": "60f4e126-9790-4dba-b75d-7709e5320ff2",
    "papermill": {
     "duration": 0.157211,
     "end_time": "2024-04-04T23:33:25.961169",
     "exception": false,
     "start_time": "2024-04-04T23:33:25.803958",
     "status": "completed"
    },
    "tags": []
   },
   "outputs": [
    {
     "data": {
      "text/plain": [
       "(Dataset ImageFolder\n",
       "     Number of datapoints: 101000\n",
       "     Root location: /root/datasets/food101/food-101/images\n",
       "     StandardTransform\n",
       " Transform: Compose(\n",
       "                  Resize(size=[224, 224], interpolation=InterpolationMode.BILINEAR, antialias=warn)\n",
       "                  ConvertImageDtype()\n",
       "                  RandomHorizontalFlip(p=0.5)\n",
       "                  ColorJitter(brightness=(0.9, 1.1), contrast=(0.9, 1.1), saturation=(0.9, 1.1), hue=(-0.1, 0.1))\n",
       "                  RandomRotation(degrees=[-15.0, 15.0], interpolation=InterpolationMode.NEAREST, expand=False, fill=0)\n",
       "                  RandomAffine(degrees=[0.0, 0.0], translate=(0.1, 0.1), scale=(0.9, 1.1), shear=[-5.0, 5.0], interpolation=InterpolationMode.NEAREST, fill=0)\n",
       "                  ToTensor()\n",
       "                  Normalize(mean=[0.485, 0.456, 0.406], std=[0.229, 0.224, 0.225], inplace=False)\n",
       "            ),\n",
       " 80800,\n",
       " Dataset ImageFolder\n",
       "     Number of datapoints: 101000\n",
       "     Root location: /root/datasets/food101/food-101/images\n",
       "     StandardTransform\n",
       " Transform: Compose(\n",
       "                  Resize(size=[224, 224], interpolation=InterpolationMode.BILINEAR, antialias=warn)\n",
       "                  ConvertImageDtype()\n",
       "                  RandomHorizontalFlip(p=0.5)\n",
       "                  ColorJitter(brightness=(0.9, 1.1), contrast=(0.9, 1.1), saturation=(0.9, 1.1), hue=(-0.1, 0.1))\n",
       "                  RandomRotation(degrees=[-15.0, 15.0], interpolation=InterpolationMode.NEAREST, expand=False, fill=0)\n",
       "                  RandomAffine(degrees=[0.0, 0.0], translate=(0.1, 0.1), scale=(0.9, 1.1), shear=[-5.0, 5.0], interpolation=InterpolationMode.NEAREST, fill=0)\n",
       "                  ToTensor()\n",
       "                  Normalize(mean=[0.485, 0.456, 0.406], std=[0.229, 0.224, 0.225], inplace=False)\n",
       "            ),\n",
       " 20200)"
      ]
     },
     "execution_count": 18,
     "metadata": {},
     "output_type": "execute_result"
    }
   ],
   "source": [
    "train_data.dataset, len(train_data.indices), test_data.dataset, len(test_data.indices)"
   ]
  },
  {
   "cell_type": "code",
   "execution_count": 19,
   "id": "82b0a7f9",
   "metadata": {
    "execution": {
     "iopub.execute_input": "2024-04-04T23:33:26.338984Z",
     "iopub.status.busy": "2024-04-04T23:33:26.338026Z",
     "iopub.status.idle": "2024-04-04T23:33:26.342779Z",
     "shell.execute_reply": "2024-04-04T23:33:26.341807Z"
    },
    "id": "HpR0aWHzewJb",
    "papermill": {
     "duration": 0.169602,
     "end_time": "2024-04-04T23:33:26.345156",
     "exception": false,
     "start_time": "2024-04-04T23:33:26.175554",
     "status": "completed"
    },
    "tags": []
   },
   "outputs": [],
   "source": [
    "batch_size = 128\n",
    "num_workers = 2"
   ]
  },
  {
   "cell_type": "markdown",
   "id": "a8133d0a",
   "metadata": {
    "id": "uUMcR99ldWAH",
    "papermill": {
     "duration": 0.143708,
     "end_time": "2024-04-04T23:33:26.632302",
     "exception": false,
     "start_time": "2024-04-04T23:33:26.488594",
     "status": "completed"
    },
    "tags": []
   },
   "source": [
    " #### Train function (2 points)\n",
    "\n",
    "\n"
   ]
  },
  {
   "cell_type": "code",
   "execution_count": 20,
   "id": "0b71f7d3",
   "metadata": {
    "execution": {
     "iopub.execute_input": "2024-04-04T23:33:26.921041Z",
     "iopub.status.busy": "2024-04-04T23:33:26.920670Z",
     "iopub.status.idle": "2024-04-04T23:33:43.775824Z",
     "shell.execute_reply": "2024-04-04T23:33:43.774557Z"
    },
    "id": "ZgsDkYYipnFn",
    "outputId": "76f80fb1-ab76-4f47-e779-c869fbe0eed8",
    "papermill": {
     "duration": 17.004058,
     "end_time": "2024-04-04T23:33:43.778648",
     "exception": false,
     "start_time": "2024-04-04T23:33:26.774590",
     "status": "completed"
    },
    "tags": []
   },
   "outputs": [],
   "source": [
    "!pip -q install torcheval torcheval-nightly"
   ]
  },
  {
   "cell_type": "code",
   "execution_count": 21,
   "id": "485c8d46",
   "metadata": {
    "execution": {
     "iopub.execute_input": "2024-04-04T23:33:44.073542Z",
     "iopub.status.busy": "2024-04-04T23:33:44.073111Z",
     "iopub.status.idle": "2024-04-04T23:33:44.100980Z",
     "shell.execute_reply": "2024-04-04T23:33:44.099871Z"
    },
    "id": "ZgSH8ruvfDfI",
    "papermill": {
     "duration": 0.179473,
     "end_time": "2024-04-04T23:33:44.103252",
     "exception": false,
     "start_time": "2024-04-04T23:33:43.923779",
     "status": "completed"
    },
    "tags": []
   },
   "outputs": [],
   "source": [
    "import torch\n",
    "import torch.nn.functional as F\n",
    "\n",
    "from tqdm.auto import tqdm\n",
    "from typing import Dict, List, Tuple\n",
    "\n",
    "def train_step(model: torch.nn.Module,\n",
    "               dataloader: torch.utils.data.DataLoader,\n",
    "               loss_fn: torch.nn.Module,\n",
    "               optimizer: torch.optim.Optimizer,\n",
    "               device: torch.device) -> Tuple[float, float]:\n",
    "    \"\"\"Trains a PyTorch model for a single epoch.\n",
    "\n",
    "    Turns a target PyTorch model to training mode and then\n",
    "    runs through all of the required training steps (forward\n",
    "    pass, loss calculation, optimizer step).\n",
    "\n",
    "    Args:\n",
    "    model: A PyTorch model to be trained.\n",
    "    dataloader: A DataLoader instance for the model to be trained on.\n",
    "    loss_fn: A PyTorch loss function to minimize.\n",
    "    optimizer: A PyTorch optimizer to help minimize the loss function.\n",
    "    device: A target device to compute on (e.g. \"cuda\" or \"cpu\").\n",
    "\n",
    "    Returns:\n",
    "    A tuple of training loss and training accuracy metrics.\n",
    "    In the form (train_loss, train_accuracy). For example:\n",
    "\n",
    "    (0.1112, 0.8743)\n",
    "    \"\"\"\n",
    "    # Put model in train mode\n",
    "    model.train()\n",
    "\n",
    "    # Setup train loss and train accuracy values\n",
    "    # f1 = multiclass_f1_score()\n",
    "\n",
    "    # Loop through data loader data batches\n",
    "    losses, acc = 0., 0.\n",
    "    for batch, (X, y) in enumerate(dataloader):\n",
    "        # Send data to target device\n",
    "        X, y = X.to(device), y.to(device)\n",
    "\n",
    "        # 1. Forward pass\n",
    "        output = model(X)\n",
    "        # output = F.softmax(output, dim=-1)\n",
    "        # classes = torch.argmax(output, dim=-1)\n",
    "\n",
    "        # 2. Calculate and accumulate loss\n",
    "        loss = loss_fn(output, y.long())\n",
    "        losses += loss.item()\n",
    "\n",
    "        # 3. Optimizer zero grad\n",
    "        optimizer.zero_grad()\n",
    "\n",
    "        # 4. Loss backward\n",
    "        loss.backward()\n",
    "\n",
    "        # 5. Optimizer step\n",
    "        optimizer.step()\n",
    "\n",
    "        # Calculate and accumulate accuracy metric across all batches\n",
    "        acc += (output.argmax(dim=1) == y).float().mean().item()\n",
    "    # Adjust metrics to get average loss and accuracy per batch\n",
    "    return (losses/len(dataloader), acc/len(dataloader))\n",
    "\n",
    "@torch.inference_mode()\n",
    "def test_step(model: torch.nn.Module,\n",
    "              dataloader: torch.utils.data.DataLoader,\n",
    "              loss_fn: torch.nn.Module,\n",
    "              device: torch.device) -> Tuple[float, float]:\n",
    "    \"\"\"Tests a PyTorch model for a single epoch.\n",
    "\n",
    "    Turns a target PyTorch model to \"eval\" mode and then performs\n",
    "    a forward pass on a testing dataset.\n",
    "\n",
    "    Args:\n",
    "    model: A PyTorch model to be tested.\n",
    "    dataloader: A DataLoader instance for the model to be tested on.\n",
    "    loss_fn: A PyTorch loss function to calculate loss on the test data.\n",
    "    device: A target device to compute on (e.g. \"cuda\" or \"cpu\").\n",
    "\n",
    "    Returns:\n",
    "    A tuple of testing loss and testing accuracy metrics.\n",
    "    In the form (test_loss, test_accuracy). For example:\n",
    "\n",
    "    (0.0223, 0.8985)\n",
    "    \"\"\"\n",
    "    # Put model in eval mode\n",
    "    model.eval()\n",
    "\n",
    "    # Do the rest\n",
    "    # Hint: torch.no_grad() / torch.inference_mode()\n",
    "    losses, acc = 0., 0.\n",
    "    for batch, (X, y) in enumerate(dataloader):\n",
    "        X, y = X.to(device), y.to(device)\n",
    "        output = model(X)\n",
    "        # output = F.softmax(output, dim=-1)\n",
    "\n",
    "        losses += loss_fn(output, y.long()).item()\n",
    "        acc += (output.argmax(dim=1) == y).float().mean().item()\n",
    "\n",
    "    return (losses/len(dataloader), acc/len(dataloader))\n",
    "\n",
    "def train(model: torch.nn.Module,\n",
    "          train_dataloader: torch.utils.data.DataLoader,\n",
    "          test_dataloader: torch.utils.data.DataLoader,\n",
    "          optimizer: torch.optim.Optimizer,\n",
    "          scheduler: torch.optim.lr_scheduler._LRScheduler,\n",
    "          loss_fn: torch.nn.Module,\n",
    "          epochs: int,\n",
    "          device: torch.device) -> Dict[str, List]:\n",
    "    \"\"\"Trains and tests a PyTorch model.\n",
    "\n",
    "    Passes a target PyTorch models through train_step() and test_step()\n",
    "    functions for a number of epochs, training and testing the model\n",
    "    in the same epoch loop.\n",
    "\n",
    "    Calculates, prints and stores evaluation metrics throughout.\n",
    "\n",
    "    Args:\n",
    "    model: A PyTorch model to be trained and tested.\n",
    "    train_dataloader: A DataLoader instance for the model to be trained on.\n",
    "    test_dataloader: A DataLoader instance for the model to be tested on.\n",
    "    optimizer: A PyTorch optimizer to help minimize the loss function.\n",
    "    loss_fn: A PyTorch loss function to calculate loss on both datasets.\n",
    "    epochs: An integer indicating how many epochs to train for.\n",
    "    device: A target device to compute on (e.g. \"cuda\" or \"cpu\").\n",
    "\n",
    "    Returns:\n",
    "    A dictionary of training and testing loss as well as training and\n",
    "    testing accuracy metrics. Each metric has a value in a list for\n",
    "    each epoch.\n",
    "    In the form: {train_loss: [...],\n",
    "              train_acc: [...],\n",
    "              test_loss: [...],\n",
    "              test_acc: [...]}\n",
    "    For example if training for epochs=2:\n",
    "             {train_loss: [2.0616, 1.0537],\n",
    "              train_acc: [0.3945, 0.3945],\n",
    "              test_loss: [1.2641, 1.5706],\n",
    "              test_acc: [0.3400, 0.2973]}\n",
    "    \"\"\"\n",
    "    # Create empty results dictionary\n",
    "    results = {\"train_loss\": [],\n",
    "               \"train_acc\": [],\n",
    "               \"test_loss\": [],\n",
    "               \"test_acc\": []\n",
    "    }\n",
    "\n",
    "    # Make sure model on target device\n",
    "    model.to(device)\n",
    "\n",
    "    # Loop through training and testing steps for a number of epochs\n",
    "    for epoch in tqdm(range(epochs)):\n",
    "        train_loss, train_acc = train_step(model=model,\n",
    "                                          dataloader=train_dataloader,\n",
    "                                          loss_fn=loss_fn,\n",
    "                                          optimizer=optimizer,\n",
    "                                          device=device)\n",
    "\n",
    "        test_loss, test_acc = test_step(model=model,\n",
    "                                        dataloader=test_dataloader,\n",
    "                                        loss_fn=loss_fn,\n",
    "                                        device=device)\n",
    "        \n",
    "        scheduler.step(test_loss)\n",
    "\n",
    "        # Print out what's happening\n",
    "        print(\n",
    "          f\"Epoch: {epoch+1} | \"\n",
    "          f\"train_loss: {train_loss:.4f} | \"\n",
    "          f\"train_acc: {train_acc:.4f} | \"\n",
    "          f\"test_loss: {test_loss:.4f} | \"\n",
    "          f\"test_acc: {test_acc:.4f}\"\n",
    "        )\n",
    "\n",
    "        # Update results dictionary\n",
    "        results[\"train_loss\"].append(train_loss)\n",
    "        results[\"train_acc\"].append(train_acc)\n",
    "\n",
    "        results[\"test_loss\"].append(test_loss)\n",
    "        results[\"test_acc\"].append(test_acc)\n",
    "\n",
    "        # YOUR #\n",
    "        # GOES #\n",
    "        # CODE #\n",
    "        # HERE #\n",
    "\n",
    "\n",
    "        torch.save({\n",
    "                'epoch': epochs,\n",
    "                'model_state_dict': model.state_dict(),\n",
    "                'optimizer_state_dict': optimizer.state_dict(),\n",
    "                'loss': loss_fn,\n",
    "                }, f\"{epochs}_iter.pth\")\n",
    "\n",
    "    # Return the filled results at the end of the epochs\n",
    "    return results"
   ]
  },
  {
   "cell_type": "markdown",
   "id": "5553f265",
   "metadata": {
    "id": "UnIF3Zk0dxMq",
    "papermill": {
     "duration": 0.144133,
     "end_time": "2024-04-04T23:33:44.390134",
     "exception": false,
     "start_time": "2024-04-04T23:33:44.246001",
     "status": "completed"
    },
    "tags": []
   },
   "source": [
    "Choose a model"
   ]
  },
  {
   "cell_type": "markdown",
   "id": "b92543ad",
   "metadata": {
    "papermill": {
     "duration": 0.141337,
     "end_time": "2024-04-04T23:33:44.674983",
     "exception": false,
     "start_time": "2024-04-04T23:33:44.533646",
     "status": "completed"
    },
    "tags": []
   },
   "source": [
    "### ResNet"
   ]
  },
  {
   "cell_type": "code",
   "execution_count": 22,
   "id": "b5cf4c33",
   "metadata": {
    "execution": {
     "iopub.execute_input": "2024-04-04T23:33:44.961049Z",
     "iopub.status.busy": "2024-04-04T23:33:44.960191Z",
     "iopub.status.idle": "2024-04-04T23:33:46.431893Z",
     "shell.execute_reply": "2024-04-04T23:33:46.430801Z"
    },
    "papermill": {
     "duration": 1.618123,
     "end_time": "2024-04-04T23:33:46.434599",
     "exception": false,
     "start_time": "2024-04-04T23:33:44.816476",
     "status": "completed"
    },
    "tags": []
   },
   "outputs": [
    {
     "name": "stderr",
     "output_type": "stream",
     "text": [
      "/opt/conda/lib/python3.10/site-packages/torchvision/models/_utils.py:208: UserWarning: The parameter 'pretrained' is deprecated since 0.13 and may be removed in the future, please use 'weights' instead.\n",
      "  warnings.warn(\n",
      "/opt/conda/lib/python3.10/site-packages/torchvision/models/_utils.py:223: UserWarning: Arguments other than a weight enum or `None` for 'weights' are deprecated since 0.13 and may be removed in the future. The current behavior is equivalent to passing `weights=ResNet50_Weights.IMAGENET1K_V1`. You can also use `weights=ResNet50_Weights.DEFAULT` to get the most up-to-date weights.\n",
      "  warnings.warn(msg)\n",
      "Downloading: \"https://download.pytorch.org/models/resnet50-0676ba61.pth\" to /root/.cache/torch/hub/checkpoints/resnet50-0676ba61.pth\n",
      "100%|██████████| 97.8M/97.8M [00:00<00:00, 139MB/s]\n"
     ]
    },
    {
     "data": {
      "text/plain": [
       "ResNet(\n",
       "  (conv1): Conv2d(3, 64, kernel_size=(7, 7), stride=(2, 2), padding=(3, 3), bias=False)\n",
       "  (bn1): BatchNorm2d(64, eps=1e-05, momentum=0.1, affine=True, track_running_stats=True)\n",
       "  (relu): ReLU(inplace=True)\n",
       "  (maxpool): MaxPool2d(kernel_size=3, stride=2, padding=1, dilation=1, ceil_mode=False)\n",
       "  (layer1): Sequential(\n",
       "    (0): Bottleneck(\n",
       "      (conv1): Conv2d(64, 64, kernel_size=(1, 1), stride=(1, 1), bias=False)\n",
       "      (bn1): BatchNorm2d(64, eps=1e-05, momentum=0.1, affine=True, track_running_stats=True)\n",
       "      (conv2): Conv2d(64, 64, kernel_size=(3, 3), stride=(1, 1), padding=(1, 1), bias=False)\n",
       "      (bn2): BatchNorm2d(64, eps=1e-05, momentum=0.1, affine=True, track_running_stats=True)\n",
       "      (conv3): Conv2d(64, 256, kernel_size=(1, 1), stride=(1, 1), bias=False)\n",
       "      (bn3): BatchNorm2d(256, eps=1e-05, momentum=0.1, affine=True, track_running_stats=True)\n",
       "      (relu): ReLU(inplace=True)\n",
       "      (downsample): Sequential(\n",
       "        (0): Conv2d(64, 256, kernel_size=(1, 1), stride=(1, 1), bias=False)\n",
       "        (1): BatchNorm2d(256, eps=1e-05, momentum=0.1, affine=True, track_running_stats=True)\n",
       "      )\n",
       "    )\n",
       "    (1): Bottleneck(\n",
       "      (conv1): Conv2d(256, 64, kernel_size=(1, 1), stride=(1, 1), bias=False)\n",
       "      (bn1): BatchNorm2d(64, eps=1e-05, momentum=0.1, affine=True, track_running_stats=True)\n",
       "      (conv2): Conv2d(64, 64, kernel_size=(3, 3), stride=(1, 1), padding=(1, 1), bias=False)\n",
       "      (bn2): BatchNorm2d(64, eps=1e-05, momentum=0.1, affine=True, track_running_stats=True)\n",
       "      (conv3): Conv2d(64, 256, kernel_size=(1, 1), stride=(1, 1), bias=False)\n",
       "      (bn3): BatchNorm2d(256, eps=1e-05, momentum=0.1, affine=True, track_running_stats=True)\n",
       "      (relu): ReLU(inplace=True)\n",
       "    )\n",
       "    (2): Bottleneck(\n",
       "      (conv1): Conv2d(256, 64, kernel_size=(1, 1), stride=(1, 1), bias=False)\n",
       "      (bn1): BatchNorm2d(64, eps=1e-05, momentum=0.1, affine=True, track_running_stats=True)\n",
       "      (conv2): Conv2d(64, 64, kernel_size=(3, 3), stride=(1, 1), padding=(1, 1), bias=False)\n",
       "      (bn2): BatchNorm2d(64, eps=1e-05, momentum=0.1, affine=True, track_running_stats=True)\n",
       "      (conv3): Conv2d(64, 256, kernel_size=(1, 1), stride=(1, 1), bias=False)\n",
       "      (bn3): BatchNorm2d(256, eps=1e-05, momentum=0.1, affine=True, track_running_stats=True)\n",
       "      (relu): ReLU(inplace=True)\n",
       "    )\n",
       "  )\n",
       "  (layer2): Sequential(\n",
       "    (0): Bottleneck(\n",
       "      (conv1): Conv2d(256, 128, kernel_size=(1, 1), stride=(1, 1), bias=False)\n",
       "      (bn1): BatchNorm2d(128, eps=1e-05, momentum=0.1, affine=True, track_running_stats=True)\n",
       "      (conv2): Conv2d(128, 128, kernel_size=(3, 3), stride=(2, 2), padding=(1, 1), bias=False)\n",
       "      (bn2): BatchNorm2d(128, eps=1e-05, momentum=0.1, affine=True, track_running_stats=True)\n",
       "      (conv3): Conv2d(128, 512, kernel_size=(1, 1), stride=(1, 1), bias=False)\n",
       "      (bn3): BatchNorm2d(512, eps=1e-05, momentum=0.1, affine=True, track_running_stats=True)\n",
       "      (relu): ReLU(inplace=True)\n",
       "      (downsample): Sequential(\n",
       "        (0): Conv2d(256, 512, kernel_size=(1, 1), stride=(2, 2), bias=False)\n",
       "        (1): BatchNorm2d(512, eps=1e-05, momentum=0.1, affine=True, track_running_stats=True)\n",
       "      )\n",
       "    )\n",
       "    (1): Bottleneck(\n",
       "      (conv1): Conv2d(512, 128, kernel_size=(1, 1), stride=(1, 1), bias=False)\n",
       "      (bn1): BatchNorm2d(128, eps=1e-05, momentum=0.1, affine=True, track_running_stats=True)\n",
       "      (conv2): Conv2d(128, 128, kernel_size=(3, 3), stride=(1, 1), padding=(1, 1), bias=False)\n",
       "      (bn2): BatchNorm2d(128, eps=1e-05, momentum=0.1, affine=True, track_running_stats=True)\n",
       "      (conv3): Conv2d(128, 512, kernel_size=(1, 1), stride=(1, 1), bias=False)\n",
       "      (bn3): BatchNorm2d(512, eps=1e-05, momentum=0.1, affine=True, track_running_stats=True)\n",
       "      (relu): ReLU(inplace=True)\n",
       "    )\n",
       "    (2): Bottleneck(\n",
       "      (conv1): Conv2d(512, 128, kernel_size=(1, 1), stride=(1, 1), bias=False)\n",
       "      (bn1): BatchNorm2d(128, eps=1e-05, momentum=0.1, affine=True, track_running_stats=True)\n",
       "      (conv2): Conv2d(128, 128, kernel_size=(3, 3), stride=(1, 1), padding=(1, 1), bias=False)\n",
       "      (bn2): BatchNorm2d(128, eps=1e-05, momentum=0.1, affine=True, track_running_stats=True)\n",
       "      (conv3): Conv2d(128, 512, kernel_size=(1, 1), stride=(1, 1), bias=False)\n",
       "      (bn3): BatchNorm2d(512, eps=1e-05, momentum=0.1, affine=True, track_running_stats=True)\n",
       "      (relu): ReLU(inplace=True)\n",
       "    )\n",
       "    (3): Bottleneck(\n",
       "      (conv1): Conv2d(512, 128, kernel_size=(1, 1), stride=(1, 1), bias=False)\n",
       "      (bn1): BatchNorm2d(128, eps=1e-05, momentum=0.1, affine=True, track_running_stats=True)\n",
       "      (conv2): Conv2d(128, 128, kernel_size=(3, 3), stride=(1, 1), padding=(1, 1), bias=False)\n",
       "      (bn2): BatchNorm2d(128, eps=1e-05, momentum=0.1, affine=True, track_running_stats=True)\n",
       "      (conv3): Conv2d(128, 512, kernel_size=(1, 1), stride=(1, 1), bias=False)\n",
       "      (bn3): BatchNorm2d(512, eps=1e-05, momentum=0.1, affine=True, track_running_stats=True)\n",
       "      (relu): ReLU(inplace=True)\n",
       "    )\n",
       "  )\n",
       "  (layer3): Sequential(\n",
       "    (0): Bottleneck(\n",
       "      (conv1): Conv2d(512, 256, kernel_size=(1, 1), stride=(1, 1), bias=False)\n",
       "      (bn1): BatchNorm2d(256, eps=1e-05, momentum=0.1, affine=True, track_running_stats=True)\n",
       "      (conv2): Conv2d(256, 256, kernel_size=(3, 3), stride=(2, 2), padding=(1, 1), bias=False)\n",
       "      (bn2): BatchNorm2d(256, eps=1e-05, momentum=0.1, affine=True, track_running_stats=True)\n",
       "      (conv3): Conv2d(256, 1024, kernel_size=(1, 1), stride=(1, 1), bias=False)\n",
       "      (bn3): BatchNorm2d(1024, eps=1e-05, momentum=0.1, affine=True, track_running_stats=True)\n",
       "      (relu): ReLU(inplace=True)\n",
       "      (downsample): Sequential(\n",
       "        (0): Conv2d(512, 1024, kernel_size=(1, 1), stride=(2, 2), bias=False)\n",
       "        (1): BatchNorm2d(1024, eps=1e-05, momentum=0.1, affine=True, track_running_stats=True)\n",
       "      )\n",
       "    )\n",
       "    (1): Bottleneck(\n",
       "      (conv1): Conv2d(1024, 256, kernel_size=(1, 1), stride=(1, 1), bias=False)\n",
       "      (bn1): BatchNorm2d(256, eps=1e-05, momentum=0.1, affine=True, track_running_stats=True)\n",
       "      (conv2): Conv2d(256, 256, kernel_size=(3, 3), stride=(1, 1), padding=(1, 1), bias=False)\n",
       "      (bn2): BatchNorm2d(256, eps=1e-05, momentum=0.1, affine=True, track_running_stats=True)\n",
       "      (conv3): Conv2d(256, 1024, kernel_size=(1, 1), stride=(1, 1), bias=False)\n",
       "      (bn3): BatchNorm2d(1024, eps=1e-05, momentum=0.1, affine=True, track_running_stats=True)\n",
       "      (relu): ReLU(inplace=True)\n",
       "    )\n",
       "    (2): Bottleneck(\n",
       "      (conv1): Conv2d(1024, 256, kernel_size=(1, 1), stride=(1, 1), bias=False)\n",
       "      (bn1): BatchNorm2d(256, eps=1e-05, momentum=0.1, affine=True, track_running_stats=True)\n",
       "      (conv2): Conv2d(256, 256, kernel_size=(3, 3), stride=(1, 1), padding=(1, 1), bias=False)\n",
       "      (bn2): BatchNorm2d(256, eps=1e-05, momentum=0.1, affine=True, track_running_stats=True)\n",
       "      (conv3): Conv2d(256, 1024, kernel_size=(1, 1), stride=(1, 1), bias=False)\n",
       "      (bn3): BatchNorm2d(1024, eps=1e-05, momentum=0.1, affine=True, track_running_stats=True)\n",
       "      (relu): ReLU(inplace=True)\n",
       "    )\n",
       "    (3): Bottleneck(\n",
       "      (conv1): Conv2d(1024, 256, kernel_size=(1, 1), stride=(1, 1), bias=False)\n",
       "      (bn1): BatchNorm2d(256, eps=1e-05, momentum=0.1, affine=True, track_running_stats=True)\n",
       "      (conv2): Conv2d(256, 256, kernel_size=(3, 3), stride=(1, 1), padding=(1, 1), bias=False)\n",
       "      (bn2): BatchNorm2d(256, eps=1e-05, momentum=0.1, affine=True, track_running_stats=True)\n",
       "      (conv3): Conv2d(256, 1024, kernel_size=(1, 1), stride=(1, 1), bias=False)\n",
       "      (bn3): BatchNorm2d(1024, eps=1e-05, momentum=0.1, affine=True, track_running_stats=True)\n",
       "      (relu): ReLU(inplace=True)\n",
       "    )\n",
       "    (4): Bottleneck(\n",
       "      (conv1): Conv2d(1024, 256, kernel_size=(1, 1), stride=(1, 1), bias=False)\n",
       "      (bn1): BatchNorm2d(256, eps=1e-05, momentum=0.1, affine=True, track_running_stats=True)\n",
       "      (conv2): Conv2d(256, 256, kernel_size=(3, 3), stride=(1, 1), padding=(1, 1), bias=False)\n",
       "      (bn2): BatchNorm2d(256, eps=1e-05, momentum=0.1, affine=True, track_running_stats=True)\n",
       "      (conv3): Conv2d(256, 1024, kernel_size=(1, 1), stride=(1, 1), bias=False)\n",
       "      (bn3): BatchNorm2d(1024, eps=1e-05, momentum=0.1, affine=True, track_running_stats=True)\n",
       "      (relu): ReLU(inplace=True)\n",
       "    )\n",
       "    (5): Bottleneck(\n",
       "      (conv1): Conv2d(1024, 256, kernel_size=(1, 1), stride=(1, 1), bias=False)\n",
       "      (bn1): BatchNorm2d(256, eps=1e-05, momentum=0.1, affine=True, track_running_stats=True)\n",
       "      (conv2): Conv2d(256, 256, kernel_size=(3, 3), stride=(1, 1), padding=(1, 1), bias=False)\n",
       "      (bn2): BatchNorm2d(256, eps=1e-05, momentum=0.1, affine=True, track_running_stats=True)\n",
       "      (conv3): Conv2d(256, 1024, kernel_size=(1, 1), stride=(1, 1), bias=False)\n",
       "      (bn3): BatchNorm2d(1024, eps=1e-05, momentum=0.1, affine=True, track_running_stats=True)\n",
       "      (relu): ReLU(inplace=True)\n",
       "    )\n",
       "  )\n",
       "  (layer4): Sequential(\n",
       "    (0): Bottleneck(\n",
       "      (conv1): Conv2d(1024, 512, kernel_size=(1, 1), stride=(1, 1), bias=False)\n",
       "      (bn1): BatchNorm2d(512, eps=1e-05, momentum=0.1, affine=True, track_running_stats=True)\n",
       "      (conv2): Conv2d(512, 512, kernel_size=(3, 3), stride=(2, 2), padding=(1, 1), bias=False)\n",
       "      (bn2): BatchNorm2d(512, eps=1e-05, momentum=0.1, affine=True, track_running_stats=True)\n",
       "      (conv3): Conv2d(512, 2048, kernel_size=(1, 1), stride=(1, 1), bias=False)\n",
       "      (bn3): BatchNorm2d(2048, eps=1e-05, momentum=0.1, affine=True, track_running_stats=True)\n",
       "      (relu): ReLU(inplace=True)\n",
       "      (downsample): Sequential(\n",
       "        (0): Conv2d(1024, 2048, kernel_size=(1, 1), stride=(2, 2), bias=False)\n",
       "        (1): BatchNorm2d(2048, eps=1e-05, momentum=0.1, affine=True, track_running_stats=True)\n",
       "      )\n",
       "    )\n",
       "    (1): Bottleneck(\n",
       "      (conv1): Conv2d(2048, 512, kernel_size=(1, 1), stride=(1, 1), bias=False)\n",
       "      (bn1): BatchNorm2d(512, eps=1e-05, momentum=0.1, affine=True, track_running_stats=True)\n",
       "      (conv2): Conv2d(512, 512, kernel_size=(3, 3), stride=(1, 1), padding=(1, 1), bias=False)\n",
       "      (bn2): BatchNorm2d(512, eps=1e-05, momentum=0.1, affine=True, track_running_stats=True)\n",
       "      (conv3): Conv2d(512, 2048, kernel_size=(1, 1), stride=(1, 1), bias=False)\n",
       "      (bn3): BatchNorm2d(2048, eps=1e-05, momentum=0.1, affine=True, track_running_stats=True)\n",
       "      (relu): ReLU(inplace=True)\n",
       "    )\n",
       "    (2): Bottleneck(\n",
       "      (conv1): Conv2d(2048, 512, kernel_size=(1, 1), stride=(1, 1), bias=False)\n",
       "      (bn1): BatchNorm2d(512, eps=1e-05, momentum=0.1, affine=True, track_running_stats=True)\n",
       "      (conv2): Conv2d(512, 512, kernel_size=(3, 3), stride=(1, 1), padding=(1, 1), bias=False)\n",
       "      (bn2): BatchNorm2d(512, eps=1e-05, momentum=0.1, affine=True, track_running_stats=True)\n",
       "      (conv3): Conv2d(512, 2048, kernel_size=(1, 1), stride=(1, 1), bias=False)\n",
       "      (bn3): BatchNorm2d(2048, eps=1e-05, momentum=0.1, affine=True, track_running_stats=True)\n",
       "      (relu): ReLU(inplace=True)\n",
       "    )\n",
       "  )\n",
       "  (avgpool): AdaptiveAvgPool2d(output_size=(1, 1))\n",
       "  (fc): Linear(in_features=2048, out_features=1000, bias=True)\n",
       ")"
      ]
     },
     "execution_count": 22,
     "metadata": {},
     "output_type": "execute_result"
    }
   ],
   "source": [
    "model = models.resnet50(pretrained=True)\n",
    "model"
   ]
  },
  {
   "cell_type": "code",
   "execution_count": 23,
   "id": "6f00417f",
   "metadata": {
    "execution": {
     "iopub.execute_input": "2024-04-04T23:33:46.720804Z",
     "iopub.status.busy": "2024-04-04T23:33:46.720375Z",
     "iopub.status.idle": "2024-04-04T23:33:46.730353Z",
     "shell.execute_reply": "2024-04-04T23:33:46.729333Z"
    },
    "papermill": {
     "duration": 0.154631,
     "end_time": "2024-04-04T23:33:46.732814",
     "exception": false,
     "start_time": "2024-04-04T23:33:46.578183",
     "status": "completed"
    },
    "tags": []
   },
   "outputs": [],
   "source": [
    "for param in model.layer1.parameters():\n",
    "    param.requires_grad = False\n",
    "    \n",
    "for param in model.layer2.parameters():\n",
    "    param.requires_grad = False\n",
    "    \n",
    "for param in model.layer3.parameters():\n",
    "    param.requires_grad = False\n",
    "    \n",
    "model.fc = nn.Linear(2048, 101)"
   ]
  },
  {
   "cell_type": "code",
   "execution_count": 24,
   "id": "1e5853c8",
   "metadata": {
    "execution": {
     "iopub.execute_input": "2024-04-04T23:33:47.021869Z",
     "iopub.status.busy": "2024-04-04T23:33:47.021458Z",
     "iopub.status.idle": "2024-04-04T23:33:48.418836Z",
     "shell.execute_reply": "2024-04-04T23:33:48.417586Z"
    },
    "papermill": {
     "duration": 1.545914,
     "end_time": "2024-04-04T23:33:48.421946",
     "exception": false,
     "start_time": "2024-04-04T23:33:46.876032",
     "status": "completed"
    },
    "tags": []
   },
   "outputs": [
    {
     "data": {
      "text/plain": [
       "========================================================================================================================\n",
       "Layer (type (var_name))                  Input Shape          Output Shape         Param #              Trainable\n",
       "========================================================================================================================\n",
       "ResNet (ResNet)                          [32, 3, 224, 224]    [32, 101]            --                   Partial\n",
       "├─Conv2d (conv1)                         [32, 3, 224, 224]    [32, 64, 112, 112]   9,408                True\n",
       "├─BatchNorm2d (bn1)                      [32, 64, 112, 112]   [32, 64, 112, 112]   128                  True\n",
       "├─ReLU (relu)                            [32, 64, 112, 112]   [32, 64, 112, 112]   --                   --\n",
       "├─MaxPool2d (maxpool)                    [32, 64, 112, 112]   [32, 64, 56, 56]     --                   --\n",
       "├─Sequential (layer1)                    [32, 64, 56, 56]     [32, 256, 56, 56]    --                   False\n",
       "│    └─Bottleneck (0)                    [32, 64, 56, 56]     [32, 256, 56, 56]    --                   False\n",
       "│    │    └─Conv2d (conv1)               [32, 64, 56, 56]     [32, 64, 56, 56]     (4,096)              False\n",
       "│    │    └─BatchNorm2d (bn1)            [32, 64, 56, 56]     [32, 64, 56, 56]     (128)                False\n",
       "│    │    └─ReLU (relu)                  [32, 64, 56, 56]     [32, 64, 56, 56]     --                   --\n",
       "│    │    └─Conv2d (conv2)               [32, 64, 56, 56]     [32, 64, 56, 56]     (36,864)             False\n",
       "│    │    └─BatchNorm2d (bn2)            [32, 64, 56, 56]     [32, 64, 56, 56]     (128)                False\n",
       "│    │    └─ReLU (relu)                  [32, 64, 56, 56]     [32, 64, 56, 56]     --                   --\n",
       "│    │    └─Conv2d (conv3)               [32, 64, 56, 56]     [32, 256, 56, 56]    (16,384)             False\n",
       "│    │    └─BatchNorm2d (bn3)            [32, 256, 56, 56]    [32, 256, 56, 56]    (512)                False\n",
       "│    │    └─Sequential (downsample)      [32, 64, 56, 56]     [32, 256, 56, 56]    (16,896)             False\n",
       "│    │    └─ReLU (relu)                  [32, 256, 56, 56]    [32, 256, 56, 56]    --                   --\n",
       "│    └─Bottleneck (1)                    [32, 256, 56, 56]    [32, 256, 56, 56]    --                   False\n",
       "│    │    └─Conv2d (conv1)               [32, 256, 56, 56]    [32, 64, 56, 56]     (16,384)             False\n",
       "│    │    └─BatchNorm2d (bn1)            [32, 64, 56, 56]     [32, 64, 56, 56]     (128)                False\n",
       "│    │    └─ReLU (relu)                  [32, 64, 56, 56]     [32, 64, 56, 56]     --                   --\n",
       "│    │    └─Conv2d (conv2)               [32, 64, 56, 56]     [32, 64, 56, 56]     (36,864)             False\n",
       "│    │    └─BatchNorm2d (bn2)            [32, 64, 56, 56]     [32, 64, 56, 56]     (128)                False\n",
       "│    │    └─ReLU (relu)                  [32, 64, 56, 56]     [32, 64, 56, 56]     --                   --\n",
       "│    │    └─Conv2d (conv3)               [32, 64, 56, 56]     [32, 256, 56, 56]    (16,384)             False\n",
       "│    │    └─BatchNorm2d (bn3)            [32, 256, 56, 56]    [32, 256, 56, 56]    (512)                False\n",
       "│    │    └─ReLU (relu)                  [32, 256, 56, 56]    [32, 256, 56, 56]    --                   --\n",
       "│    └─Bottleneck (2)                    [32, 256, 56, 56]    [32, 256, 56, 56]    --                   False\n",
       "│    │    └─Conv2d (conv1)               [32, 256, 56, 56]    [32, 64, 56, 56]     (16,384)             False\n",
       "│    │    └─BatchNorm2d (bn1)            [32, 64, 56, 56]     [32, 64, 56, 56]     (128)                False\n",
       "│    │    └─ReLU (relu)                  [32, 64, 56, 56]     [32, 64, 56, 56]     --                   --\n",
       "│    │    └─Conv2d (conv2)               [32, 64, 56, 56]     [32, 64, 56, 56]     (36,864)             False\n",
       "│    │    └─BatchNorm2d (bn2)            [32, 64, 56, 56]     [32, 64, 56, 56]     (128)                False\n",
       "│    │    └─ReLU (relu)                  [32, 64, 56, 56]     [32, 64, 56, 56]     --                   --\n",
       "│    │    └─Conv2d (conv3)               [32, 64, 56, 56]     [32, 256, 56, 56]    (16,384)             False\n",
       "│    │    └─BatchNorm2d (bn3)            [32, 256, 56, 56]    [32, 256, 56, 56]    (512)                False\n",
       "│    │    └─ReLU (relu)                  [32, 256, 56, 56]    [32, 256, 56, 56]    --                   --\n",
       "├─Sequential (layer2)                    [32, 256, 56, 56]    [32, 512, 28, 28]    --                   False\n",
       "│    └─Bottleneck (0)                    [32, 256, 56, 56]    [32, 512, 28, 28]    --                   False\n",
       "│    │    └─Conv2d (conv1)               [32, 256, 56, 56]    [32, 128, 56, 56]    (32,768)             False\n",
       "│    │    └─BatchNorm2d (bn1)            [32, 128, 56, 56]    [32, 128, 56, 56]    (256)                False\n",
       "│    │    └─ReLU (relu)                  [32, 128, 56, 56]    [32, 128, 56, 56]    --                   --\n",
       "│    │    └─Conv2d (conv2)               [32, 128, 56, 56]    [32, 128, 28, 28]    (147,456)            False\n",
       "│    │    └─BatchNorm2d (bn2)            [32, 128, 28, 28]    [32, 128, 28, 28]    (256)                False\n",
       "│    │    └─ReLU (relu)                  [32, 128, 28, 28]    [32, 128, 28, 28]    --                   --\n",
       "│    │    └─Conv2d (conv3)               [32, 128, 28, 28]    [32, 512, 28, 28]    (65,536)             False\n",
       "│    │    └─BatchNorm2d (bn3)            [32, 512, 28, 28]    [32, 512, 28, 28]    (1,024)              False\n",
       "│    │    └─Sequential (downsample)      [32, 256, 56, 56]    [32, 512, 28, 28]    (132,096)            False\n",
       "│    │    └─ReLU (relu)                  [32, 512, 28, 28]    [32, 512, 28, 28]    --                   --\n",
       "│    └─Bottleneck (1)                    [32, 512, 28, 28]    [32, 512, 28, 28]    --                   False\n",
       "│    │    └─Conv2d (conv1)               [32, 512, 28, 28]    [32, 128, 28, 28]    (65,536)             False\n",
       "│    │    └─BatchNorm2d (bn1)            [32, 128, 28, 28]    [32, 128, 28, 28]    (256)                False\n",
       "│    │    └─ReLU (relu)                  [32, 128, 28, 28]    [32, 128, 28, 28]    --                   --\n",
       "│    │    └─Conv2d (conv2)               [32, 128, 28, 28]    [32, 128, 28, 28]    (147,456)            False\n",
       "│    │    └─BatchNorm2d (bn2)            [32, 128, 28, 28]    [32, 128, 28, 28]    (256)                False\n",
       "│    │    └─ReLU (relu)                  [32, 128, 28, 28]    [32, 128, 28, 28]    --                   --\n",
       "│    │    └─Conv2d (conv3)               [32, 128, 28, 28]    [32, 512, 28, 28]    (65,536)             False\n",
       "│    │    └─BatchNorm2d (bn3)            [32, 512, 28, 28]    [32, 512, 28, 28]    (1,024)              False\n",
       "│    │    └─ReLU (relu)                  [32, 512, 28, 28]    [32, 512, 28, 28]    --                   --\n",
       "│    └─Bottleneck (2)                    [32, 512, 28, 28]    [32, 512, 28, 28]    --                   False\n",
       "│    │    └─Conv2d (conv1)               [32, 512, 28, 28]    [32, 128, 28, 28]    (65,536)             False\n",
       "│    │    └─BatchNorm2d (bn1)            [32, 128, 28, 28]    [32, 128, 28, 28]    (256)                False\n",
       "│    │    └─ReLU (relu)                  [32, 128, 28, 28]    [32, 128, 28, 28]    --                   --\n",
       "│    │    └─Conv2d (conv2)               [32, 128, 28, 28]    [32, 128, 28, 28]    (147,456)            False\n",
       "│    │    └─BatchNorm2d (bn2)            [32, 128, 28, 28]    [32, 128, 28, 28]    (256)                False\n",
       "│    │    └─ReLU (relu)                  [32, 128, 28, 28]    [32, 128, 28, 28]    --                   --\n",
       "│    │    └─Conv2d (conv3)               [32, 128, 28, 28]    [32, 512, 28, 28]    (65,536)             False\n",
       "│    │    └─BatchNorm2d (bn3)            [32, 512, 28, 28]    [32, 512, 28, 28]    (1,024)              False\n",
       "│    │    └─ReLU (relu)                  [32, 512, 28, 28]    [32, 512, 28, 28]    --                   --\n",
       "│    └─Bottleneck (3)                    [32, 512, 28, 28]    [32, 512, 28, 28]    --                   False\n",
       "│    │    └─Conv2d (conv1)               [32, 512, 28, 28]    [32, 128, 28, 28]    (65,536)             False\n",
       "│    │    └─BatchNorm2d (bn1)            [32, 128, 28, 28]    [32, 128, 28, 28]    (256)                False\n",
       "│    │    └─ReLU (relu)                  [32, 128, 28, 28]    [32, 128, 28, 28]    --                   --\n",
       "│    │    └─Conv2d (conv2)               [32, 128, 28, 28]    [32, 128, 28, 28]    (147,456)            False\n",
       "│    │    └─BatchNorm2d (bn2)            [32, 128, 28, 28]    [32, 128, 28, 28]    (256)                False\n",
       "│    │    └─ReLU (relu)                  [32, 128, 28, 28]    [32, 128, 28, 28]    --                   --\n",
       "│    │    └─Conv2d (conv3)               [32, 128, 28, 28]    [32, 512, 28, 28]    (65,536)             False\n",
       "│    │    └─BatchNorm2d (bn3)            [32, 512, 28, 28]    [32, 512, 28, 28]    (1,024)              False\n",
       "│    │    └─ReLU (relu)                  [32, 512, 28, 28]    [32, 512, 28, 28]    --                   --\n",
       "├─Sequential (layer3)                    [32, 512, 28, 28]    [32, 1024, 14, 14]   --                   False\n",
       "│    └─Bottleneck (0)                    [32, 512, 28, 28]    [32, 1024, 14, 14]   --                   False\n",
       "│    │    └─Conv2d (conv1)               [32, 512, 28, 28]    [32, 256, 28, 28]    (131,072)            False\n",
       "│    │    └─BatchNorm2d (bn1)            [32, 256, 28, 28]    [32, 256, 28, 28]    (512)                False\n",
       "│    │    └─ReLU (relu)                  [32, 256, 28, 28]    [32, 256, 28, 28]    --                   --\n",
       "│    │    └─Conv2d (conv2)               [32, 256, 28, 28]    [32, 256, 14, 14]    (589,824)            False\n",
       "│    │    └─BatchNorm2d (bn2)            [32, 256, 14, 14]    [32, 256, 14, 14]    (512)                False\n",
       "│    │    └─ReLU (relu)                  [32, 256, 14, 14]    [32, 256, 14, 14]    --                   --\n",
       "│    │    └─Conv2d (conv3)               [32, 256, 14, 14]    [32, 1024, 14, 14]   (262,144)            False\n",
       "│    │    └─BatchNorm2d (bn3)            [32, 1024, 14, 14]   [32, 1024, 14, 14]   (2,048)              False\n",
       "│    │    └─Sequential (downsample)      [32, 512, 28, 28]    [32, 1024, 14, 14]   (526,336)            False\n",
       "│    │    └─ReLU (relu)                  [32, 1024, 14, 14]   [32, 1024, 14, 14]   --                   --\n",
       "│    └─Bottleneck (1)                    [32, 1024, 14, 14]   [32, 1024, 14, 14]   --                   False\n",
       "│    │    └─Conv2d (conv1)               [32, 1024, 14, 14]   [32, 256, 14, 14]    (262,144)            False\n",
       "│    │    └─BatchNorm2d (bn1)            [32, 256, 14, 14]    [32, 256, 14, 14]    (512)                False\n",
       "│    │    └─ReLU (relu)                  [32, 256, 14, 14]    [32, 256, 14, 14]    --                   --\n",
       "│    │    └─Conv2d (conv2)               [32, 256, 14, 14]    [32, 256, 14, 14]    (589,824)            False\n",
       "│    │    └─BatchNorm2d (bn2)            [32, 256, 14, 14]    [32, 256, 14, 14]    (512)                False\n",
       "│    │    └─ReLU (relu)                  [32, 256, 14, 14]    [32, 256, 14, 14]    --                   --\n",
       "│    │    └─Conv2d (conv3)               [32, 256, 14, 14]    [32, 1024, 14, 14]   (262,144)            False\n",
       "│    │    └─BatchNorm2d (bn3)            [32, 1024, 14, 14]   [32, 1024, 14, 14]   (2,048)              False\n",
       "│    │    └─ReLU (relu)                  [32, 1024, 14, 14]   [32, 1024, 14, 14]   --                   --\n",
       "│    └─Bottleneck (2)                    [32, 1024, 14, 14]   [32, 1024, 14, 14]   --                   False\n",
       "│    │    └─Conv2d (conv1)               [32, 1024, 14, 14]   [32, 256, 14, 14]    (262,144)            False\n",
       "│    │    └─BatchNorm2d (bn1)            [32, 256, 14, 14]    [32, 256, 14, 14]    (512)                False\n",
       "│    │    └─ReLU (relu)                  [32, 256, 14, 14]    [32, 256, 14, 14]    --                   --\n",
       "│    │    └─Conv2d (conv2)               [32, 256, 14, 14]    [32, 256, 14, 14]    (589,824)            False\n",
       "│    │    └─BatchNorm2d (bn2)            [32, 256, 14, 14]    [32, 256, 14, 14]    (512)                False\n",
       "│    │    └─ReLU (relu)                  [32, 256, 14, 14]    [32, 256, 14, 14]    --                   --\n",
       "│    │    └─Conv2d (conv3)               [32, 256, 14, 14]    [32, 1024, 14, 14]   (262,144)            False\n",
       "│    │    └─BatchNorm2d (bn3)            [32, 1024, 14, 14]   [32, 1024, 14, 14]   (2,048)              False\n",
       "│    │    └─ReLU (relu)                  [32, 1024, 14, 14]   [32, 1024, 14, 14]   --                   --\n",
       "│    └─Bottleneck (3)                    [32, 1024, 14, 14]   [32, 1024, 14, 14]   --                   False\n",
       "│    │    └─Conv2d (conv1)               [32, 1024, 14, 14]   [32, 256, 14, 14]    (262,144)            False\n",
       "│    │    └─BatchNorm2d (bn1)            [32, 256, 14, 14]    [32, 256, 14, 14]    (512)                False\n",
       "│    │    └─ReLU (relu)                  [32, 256, 14, 14]    [32, 256, 14, 14]    --                   --\n",
       "│    │    └─Conv2d (conv2)               [32, 256, 14, 14]    [32, 256, 14, 14]    (589,824)            False\n",
       "│    │    └─BatchNorm2d (bn2)            [32, 256, 14, 14]    [32, 256, 14, 14]    (512)                False\n",
       "│    │    └─ReLU (relu)                  [32, 256, 14, 14]    [32, 256, 14, 14]    --                   --\n",
       "│    │    └─Conv2d (conv3)               [32, 256, 14, 14]    [32, 1024, 14, 14]   (262,144)            False\n",
       "│    │    └─BatchNorm2d (bn3)            [32, 1024, 14, 14]   [32, 1024, 14, 14]   (2,048)              False\n",
       "│    │    └─ReLU (relu)                  [32, 1024, 14, 14]   [32, 1024, 14, 14]   --                   --\n",
       "│    └─Bottleneck (4)                    [32, 1024, 14, 14]   [32, 1024, 14, 14]   --                   False\n",
       "│    │    └─Conv2d (conv1)               [32, 1024, 14, 14]   [32, 256, 14, 14]    (262,144)            False\n",
       "│    │    └─BatchNorm2d (bn1)            [32, 256, 14, 14]    [32, 256, 14, 14]    (512)                False\n",
       "│    │    └─ReLU (relu)                  [32, 256, 14, 14]    [32, 256, 14, 14]    --                   --\n",
       "│    │    └─Conv2d (conv2)               [32, 256, 14, 14]    [32, 256, 14, 14]    (589,824)            False\n",
       "│    │    └─BatchNorm2d (bn2)            [32, 256, 14, 14]    [32, 256, 14, 14]    (512)                False\n",
       "│    │    └─ReLU (relu)                  [32, 256, 14, 14]    [32, 256, 14, 14]    --                   --\n",
       "│    │    └─Conv2d (conv3)               [32, 256, 14, 14]    [32, 1024, 14, 14]   (262,144)            False\n",
       "│    │    └─BatchNorm2d (bn3)            [32, 1024, 14, 14]   [32, 1024, 14, 14]   (2,048)              False\n",
       "│    │    └─ReLU (relu)                  [32, 1024, 14, 14]   [32, 1024, 14, 14]   --                   --\n",
       "│    └─Bottleneck (5)                    [32, 1024, 14, 14]   [32, 1024, 14, 14]   --                   False\n",
       "│    │    └─Conv2d (conv1)               [32, 1024, 14, 14]   [32, 256, 14, 14]    (262,144)            False\n",
       "│    │    └─BatchNorm2d (bn1)            [32, 256, 14, 14]    [32, 256, 14, 14]    (512)                False\n",
       "│    │    └─ReLU (relu)                  [32, 256, 14, 14]    [32, 256, 14, 14]    --                   --\n",
       "│    │    └─Conv2d (conv2)               [32, 256, 14, 14]    [32, 256, 14, 14]    (589,824)            False\n",
       "│    │    └─BatchNorm2d (bn2)            [32, 256, 14, 14]    [32, 256, 14, 14]    (512)                False\n",
       "│    │    └─ReLU (relu)                  [32, 256, 14, 14]    [32, 256, 14, 14]    --                   --\n",
       "│    │    └─Conv2d (conv3)               [32, 256, 14, 14]    [32, 1024, 14, 14]   (262,144)            False\n",
       "│    │    └─BatchNorm2d (bn3)            [32, 1024, 14, 14]   [32, 1024, 14, 14]   (2,048)              False\n",
       "│    │    └─ReLU (relu)                  [32, 1024, 14, 14]   [32, 1024, 14, 14]   --                   --\n",
       "├─Sequential (layer4)                    [32, 1024, 14, 14]   [32, 2048, 7, 7]     --                   True\n",
       "│    └─Bottleneck (0)                    [32, 1024, 14, 14]   [32, 2048, 7, 7]     --                   True\n",
       "│    │    └─Conv2d (conv1)               [32, 1024, 14, 14]   [32, 512, 14, 14]    524,288              True\n",
       "│    │    └─BatchNorm2d (bn1)            [32, 512, 14, 14]    [32, 512, 14, 14]    1,024                True\n",
       "│    │    └─ReLU (relu)                  [32, 512, 14, 14]    [32, 512, 14, 14]    --                   --\n",
       "│    │    └─Conv2d (conv2)               [32, 512, 14, 14]    [32, 512, 7, 7]      2,359,296            True\n",
       "│    │    └─BatchNorm2d (bn2)            [32, 512, 7, 7]      [32, 512, 7, 7]      1,024                True\n",
       "│    │    └─ReLU (relu)                  [32, 512, 7, 7]      [32, 512, 7, 7]      --                   --\n",
       "│    │    └─Conv2d (conv3)               [32, 512, 7, 7]      [32, 2048, 7, 7]     1,048,576            True\n",
       "│    │    └─BatchNorm2d (bn3)            [32, 2048, 7, 7]     [32, 2048, 7, 7]     4,096                True\n",
       "│    │    └─Sequential (downsample)      [32, 1024, 14, 14]   [32, 2048, 7, 7]     2,101,248            True\n",
       "│    │    └─ReLU (relu)                  [32, 2048, 7, 7]     [32, 2048, 7, 7]     --                   --\n",
       "│    └─Bottleneck (1)                    [32, 2048, 7, 7]     [32, 2048, 7, 7]     --                   True\n",
       "│    │    └─Conv2d (conv1)               [32, 2048, 7, 7]     [32, 512, 7, 7]      1,048,576            True\n",
       "│    │    └─BatchNorm2d (bn1)            [32, 512, 7, 7]      [32, 512, 7, 7]      1,024                True\n",
       "│    │    └─ReLU (relu)                  [32, 512, 7, 7]      [32, 512, 7, 7]      --                   --\n",
       "│    │    └─Conv2d (conv2)               [32, 512, 7, 7]      [32, 512, 7, 7]      2,359,296            True\n",
       "│    │    └─BatchNorm2d (bn2)            [32, 512, 7, 7]      [32, 512, 7, 7]      1,024                True\n",
       "│    │    └─ReLU (relu)                  [32, 512, 7, 7]      [32, 512, 7, 7]      --                   --\n",
       "│    │    └─Conv2d (conv3)               [32, 512, 7, 7]      [32, 2048, 7, 7]     1,048,576            True\n",
       "│    │    └─BatchNorm2d (bn3)            [32, 2048, 7, 7]     [32, 2048, 7, 7]     4,096                True\n",
       "│    │    └─ReLU (relu)                  [32, 2048, 7, 7]     [32, 2048, 7, 7]     --                   --\n",
       "│    └─Bottleneck (2)                    [32, 2048, 7, 7]     [32, 2048, 7, 7]     --                   True\n",
       "│    │    └─Conv2d (conv1)               [32, 2048, 7, 7]     [32, 512, 7, 7]      1,048,576            True\n",
       "│    │    └─BatchNorm2d (bn1)            [32, 512, 7, 7]      [32, 512, 7, 7]      1,024                True\n",
       "│    │    └─ReLU (relu)                  [32, 512, 7, 7]      [32, 512, 7, 7]      --                   --\n",
       "│    │    └─Conv2d (conv2)               [32, 512, 7, 7]      [32, 512, 7, 7]      2,359,296            True\n",
       "│    │    └─BatchNorm2d (bn2)            [32, 512, 7, 7]      [32, 512, 7, 7]      1,024                True\n",
       "│    │    └─ReLU (relu)                  [32, 512, 7, 7]      [32, 512, 7, 7]      --                   --\n",
       "│    │    └─Conv2d (conv3)               [32, 512, 7, 7]      [32, 2048, 7, 7]     1,048,576            True\n",
       "│    │    └─BatchNorm2d (bn3)            [32, 2048, 7, 7]     [32, 2048, 7, 7]     4,096                True\n",
       "│    │    └─ReLU (relu)                  [32, 2048, 7, 7]     [32, 2048, 7, 7]     --                   --\n",
       "├─AdaptiveAvgPool2d (avgpool)            [32, 2048, 7, 7]     [32, 2048, 1, 1]     --                   --\n",
       "├─Linear (fc)                            [32, 2048]           [32, 101]            206,949              True\n",
       "========================================================================================================================\n",
       "Total params: 23,714,981\n",
       "Trainable params: 15,181,221\n",
       "Non-trainable params: 8,533,760\n",
       "Total mult-adds (G): 130.80\n",
       "========================================================================================================================\n",
       "Input size (MB): 19.27\n",
       "Forward/backward pass size (MB): 5690.39\n",
       "Params size (MB): 94.86\n",
       "Estimated Total Size (MB): 5804.51\n",
       "========================================================================================================================"
      ]
     },
     "execution_count": 24,
     "metadata": {},
     "output_type": "execute_result"
    }
   ],
   "source": [
    "summary(model,\n",
    "        input_size=(32, 3, 224, 224), # make sure this is \"input_size\", not \"input_shape\" (batch_size, color_channels, height, width)\n",
    "        verbose=0,\n",
    "        col_names=[\"input_size\", \"output_size\", \"num_params\", \"trainable\"],\n",
    "        col_width=20,\n",
    "        row_settings=[\"var_names\"]\n",
    ")"
   ]
  },
  {
   "cell_type": "markdown",
   "id": "2d88733e",
   "metadata": {
    "id": "flL_v1vXeWc8",
    "papermill": {
     "duration": 0.158757,
     "end_time": "2024-04-04T23:33:48.762658",
     "exception": false,
     "start_time": "2024-04-04T23:33:48.603901",
     "status": "completed"
    },
    "tags": []
   },
   "source": [
    "### Train (1 point)"
   ]
  },
  {
   "cell_type": "code",
   "execution_count": 25,
   "id": "88caac49",
   "metadata": {
    "execution": {
     "iopub.execute_input": "2024-04-04T23:33:49.090762Z",
     "iopub.status.busy": "2024-04-04T23:33:49.089835Z",
     "iopub.status.idle": "2024-04-04T23:33:49.095551Z",
     "shell.execute_reply": "2024-04-04T23:33:49.094429Z"
    },
    "papermill": {
     "duration": 0.177245,
     "end_time": "2024-04-04T23:33:49.098155",
     "exception": false,
     "start_time": "2024-04-04T23:33:48.920910",
     "status": "completed"
    },
    "tags": []
   },
   "outputs": [],
   "source": [
    "from torch.optim.lr_scheduler import ReduceLROnPlateau"
   ]
  },
  {
   "cell_type": "code",
   "execution_count": 26,
   "id": "9e3f8dc4",
   "metadata": {
    "execution": {
     "iopub.execute_input": "2024-04-04T23:33:49.445995Z",
     "iopub.status.busy": "2024-04-04T23:33:49.445545Z",
     "iopub.status.idle": "2024-04-04T23:33:49.454375Z",
     "shell.execute_reply": "2024-04-04T23:33:49.453107Z"
    },
    "id": "xGIfrEDFfOJP",
    "papermill": {
     "duration": 0.210549,
     "end_time": "2024-04-04T23:33:49.458967",
     "exception": false,
     "start_time": "2024-04-04T23:33:49.248418",
     "status": "completed"
    },
    "tags": []
   },
   "outputs": [],
   "source": [
    "loss_fn = nn.CrossEntropyLoss()\n",
    "# optimizer = torch.optim.Adam(list(model.features.parameters())[-layers_to_unfreeze:] +\n",
    "#                       list(model.classifier.parameters()), lr=5e-2)\n",
    "optimizer = torch.optim.Adam(list(model.layer4.parameters()), lr=5e-2)\n",
    "scheduler = ReduceLROnPlateau(optimizer, mode=\"max\", min_lr=1e-4, factor=0.5, patience=2)\n",
    "n_epochs = 25"
   ]
  },
  {
   "cell_type": "code",
   "execution_count": 27,
   "id": "32152e41",
   "metadata": {
    "execution": {
     "iopub.execute_input": "2024-04-04T23:33:49.813006Z",
     "iopub.status.busy": "2024-04-04T23:33:49.812116Z",
     "iopub.status.idle": "2024-04-04T23:33:49.819399Z",
     "shell.execute_reply": "2024-04-04T23:33:49.818216Z"
    },
    "id": "PGc0LRfM0Sbi",
    "outputId": "5f236f3f-44cb-4492-d55b-467b5a07b873",
    "papermill": {
     "duration": 0.161994,
     "end_time": "2024-04-04T23:33:49.821751",
     "exception": false,
     "start_time": "2024-04-04T23:33:49.659757",
     "status": "completed"
    },
    "tags": []
   },
   "outputs": [
    {
     "data": {
      "text/plain": [
       "Compose(\n",
       "      Resize(size=[224, 224], interpolation=InterpolationMode.BILINEAR, antialias=warn)\n",
       "      ConvertImageDtype()\n",
       "      RandomHorizontalFlip(p=0.5)\n",
       "      ColorJitter(brightness=(0.9, 1.1), contrast=(0.9, 1.1), saturation=(0.9, 1.1), hue=(-0.1, 0.1))\n",
       "      RandomRotation(degrees=[-15.0, 15.0], interpolation=InterpolationMode.NEAREST, expand=False, fill=0)\n",
       "      RandomAffine(degrees=[0.0, 0.0], translate=(0.1, 0.1), scale=(0.9, 1.1), shear=[-5.0, 5.0], interpolation=InterpolationMode.NEAREST, fill=0)\n",
       "      ToTensor()\n",
       "      Normalize(mean=[0.485, 0.456, 0.406], std=[0.229, 0.224, 0.225], inplace=False)\n",
       ")"
      ]
     },
     "execution_count": 27,
     "metadata": {},
     "output_type": "execute_result"
    }
   ],
   "source": [
    "manual_transforms"
   ]
  },
  {
   "cell_type": "code",
   "execution_count": 28,
   "id": "09b4b6a7",
   "metadata": {
    "execution": {
     "iopub.execute_input": "2024-04-04T23:33:50.119479Z",
     "iopub.status.busy": "2024-04-04T23:33:50.119069Z",
     "iopub.status.idle": "2024-04-04T23:33:51.206081Z",
     "shell.execute_reply": "2024-04-04T23:33:51.204922Z"
    },
    "id": "7mS0ZEsSeoRP",
    "papermill": {
     "duration": 1.239216,
     "end_time": "2024-04-04T23:33:51.208948",
     "exception": false,
     "start_time": "2024-04-04T23:33:49.969732",
     "status": "completed"
    },
    "tags": []
   },
   "outputs": [],
   "source": [
    "train_dataloader, test_dataloader, class_names = create_dataloaders(None, manual_transforms, batch_size, num_workers)"
   ]
  },
  {
   "cell_type": "code",
   "execution_count": 29,
   "id": "98f344cc",
   "metadata": {
    "execution": {
     "iopub.execute_input": "2024-04-04T23:33:51.502234Z",
     "iopub.status.busy": "2024-04-04T23:33:51.501846Z",
     "iopub.status.idle": "2024-04-04T23:33:51.508790Z",
     "shell.execute_reply": "2024-04-04T23:33:51.507483Z"
    },
    "id": "lDZtXR-dfYVU",
    "outputId": "f8bb5b8a-3200-4bfd-f05d-7e4665fde994",
    "papermill": {
     "duration": 0.156144,
     "end_time": "2024-04-04T23:33:51.511068",
     "exception": false,
     "start_time": "2024-04-04T23:33:51.354924",
     "status": "completed"
    },
    "tags": []
   },
   "outputs": [
    {
     "data": {
      "text/plain": [
       "'cuda'"
      ]
     },
     "execution_count": 29,
     "metadata": {},
     "output_type": "execute_result"
    }
   ],
   "source": [
    "device = 'cuda' if torch.cuda.is_available() else 'cpu'\n",
    "device"
   ]
  },
  {
   "cell_type": "code",
   "execution_count": 30,
   "id": "a72666ef",
   "metadata": {
    "execution": {
     "iopub.execute_input": "2024-04-04T23:33:51.805174Z",
     "iopub.status.busy": "2024-04-04T23:33:51.803991Z",
     "iopub.status.idle": "2024-04-05T04:32:34.963066Z",
     "shell.execute_reply": "2024-04-05T04:32:34.961772Z"
    },
    "id": "_-ePldHBfWhQ",
    "outputId": "0ec77ad9-7e4a-48e4-ba61-6bb12c3616d5",
    "papermill": {
     "duration": 17923.311977,
     "end_time": "2024-04-05T04:32:34.967908",
     "exception": false,
     "start_time": "2024-04-04T23:33:51.655931",
     "status": "completed"
    },
    "tags": []
   },
   "outputs": [
    {
     "data": {
      "application/vnd.jupyter.widget-view+json": {
       "model_id": "b7de9206f68e400cbb7f076271e463f6",
       "version_major": 2,
       "version_minor": 0
      },
      "text/plain": [
       "  0%|          | 0/25 [00:00<?, ?it/s]"
      ]
     },
     "metadata": {},
     "output_type": "display_data"
    },
    {
     "name": "stdout",
     "output_type": "stream",
     "text": [
      "Epoch: 1 | train_loss: 2.2032 | train_acc: 0.4471 | test_loss: 1.7583 | test_acc: 0.5568\n",
      "Epoch: 2 | train_loss: 1.4863 | train_acc: 0.6104 | test_loss: 1.4084 | test_acc: 0.6401\n",
      "Epoch: 3 | train_loss: 1.2916 | train_acc: 0.6568 | test_loss: 1.2804 | test_acc: 0.6698\n",
      "Epoch: 4 | train_loss: 1.1672 | train_acc: 0.6888 | test_loss: 1.2816 | test_acc: 0.6747\n",
      "Epoch: 5 | train_loss: 0.9711 | train_acc: 0.7381 | test_loss: 1.1184 | test_acc: 0.7118\n",
      "Epoch: 6 | train_loss: 0.9134 | train_acc: 0.7522 | test_loss: 1.0733 | test_acc: 0.7250\n",
      "Epoch: 7 | train_loss: 0.8672 | train_acc: 0.7618 | test_loss: 1.0815 | test_acc: 0.7262\n",
      "Epoch: 8 | train_loss: 0.7576 | train_acc: 0.7907 | test_loss: 1.0238 | test_acc: 0.7408\n",
      "Epoch: 9 | train_loss: 0.7197 | train_acc: 0.8008 | test_loss: 1.0155 | test_acc: 0.7455\n",
      "Epoch: 10 | train_loss: 0.6921 | train_acc: 0.8060 | test_loss: 1.0351 | test_acc: 0.7440\n",
      "Epoch: 11 | train_loss: 0.6228 | train_acc: 0.8276 | test_loss: 0.9809 | test_acc: 0.7562\n",
      "Epoch: 12 | train_loss: 0.5961 | train_acc: 0.8318 | test_loss: 0.9971 | test_acc: 0.7557\n",
      "Epoch: 13 | train_loss: 0.5818 | train_acc: 0.8368 | test_loss: 0.9886 | test_acc: 0.7572\n",
      "Epoch: 14 | train_loss: 0.5433 | train_acc: 0.8460 | test_loss: 0.9854 | test_acc: 0.7591\n",
      "Epoch: 15 | train_loss: 0.5272 | train_acc: 0.8504 | test_loss: 0.9816 | test_acc: 0.7606\n",
      "Epoch: 16 | train_loss: 0.5161 | train_acc: 0.8524 | test_loss: 0.9869 | test_acc: 0.7596\n",
      "Epoch: 17 | train_loss: 0.4965 | train_acc: 0.8581 | test_loss: 0.9776 | test_acc: 0.7623\n",
      "Epoch: 18 | train_loss: 0.4870 | train_acc: 0.8615 | test_loss: 0.9860 | test_acc: 0.7611\n",
      "Epoch: 19 | train_loss: 0.4809 | train_acc: 0.8628 | test_loss: 0.9856 | test_acc: 0.7618\n",
      "Epoch: 20 | train_loss: 0.4704 | train_acc: 0.8664 | test_loss: 0.9837 | test_acc: 0.7626\n",
      "Epoch: 21 | train_loss: 0.4668 | train_acc: 0.8668 | test_loss: 0.9861 | test_acc: 0.7611\n",
      "Epoch: 22 | train_loss: 0.4659 | train_acc: 0.8667 | test_loss: 0.9873 | test_acc: 0.7608\n",
      "Epoch: 23 | train_loss: 0.4568 | train_acc: 0.8686 | test_loss: 0.9883 | test_acc: 0.7607\n",
      "Epoch: 24 | train_loss: 0.4558 | train_acc: 0.8703 | test_loss: 0.9874 | test_acc: 0.7616\n",
      "Epoch: 25 | train_loss: 0.4490 | train_acc: 0.8720 | test_loss: 0.9919 | test_acc: 0.7612\n",
      "[INFO] Total training time: 17923.149 seconds\n"
     ]
    }
   ],
   "source": [
    "torch.manual_seed(42)\n",
    "torch.cuda.manual_seed(42)\n",
    "\n",
    "# Start the timer\n",
    "from timeit import default_timer as timer\n",
    "start_time = timer()\n",
    "\n",
    "# Setup training and save the results\n",
    "results = train(model=model,\n",
    "                       train_dataloader=train_dataloader,\n",
    "                       test_dataloader=test_dataloader,\n",
    "                       optimizer=optimizer,\n",
    "                       scheduler=scheduler,\n",
    "                       loss_fn=loss_fn,\n",
    "                       epochs=n_epochs,\n",
    "                       device=device)\n",
    "\n",
    "# End the timer and print out how long it took\n",
    "end_time = timer()\n",
    "print(f\"[INFO] Total training time: {end_time-start_time:.3f} seconds\")"
   ]
  },
  {
   "cell_type": "markdown",
   "id": "ba6d598c",
   "metadata": {
    "id": "EhBmm1IAesFE",
    "papermill": {
     "duration": 0.139858,
     "end_time": "2024-04-05T04:32:35.257987",
     "exception": false,
     "start_time": "2024-04-05T04:32:35.118129",
     "status": "completed"
    },
    "tags": []
   },
   "source": [
    "### Results (2 points in total)\n",
    "Plot train and val losses\n",
    "\n",
    "Inference model on unique subset of images\n",
    "\n",
    "\n",
    "It must be very obvious that you specificaly using images that model has never seen neither during training nor evaluation steps\n",
    "\n",
    "\n"
   ]
  },
  {
   "cell_type": "markdown",
   "id": "34cb54ee",
   "metadata": {
    "id": "JMBMjAmLgKU8",
    "papermill": {
     "duration": 0.147938,
     "end_time": "2024-04-05T04:32:35.539575",
     "exception": false,
     "start_time": "2024-04-05T04:32:35.391637",
     "status": "completed"
    },
    "tags": []
   },
   "source": [
    "#### Graphs (1 point)\n",
    "Plot graphs for train and val loss\n",
    "\n"
   ]
  },
  {
   "cell_type": "code",
   "execution_count": 31,
   "id": "128f1db0",
   "metadata": {
    "execution": {
     "iopub.execute_input": "2024-04-05T04:32:35.824945Z",
     "iopub.status.busy": "2024-04-05T04:32:35.824251Z",
     "iopub.status.idle": "2024-04-05T04:32:36.427791Z",
     "shell.execute_reply": "2024-04-05T04:32:36.426357Z"
    },
    "papermill": {
     "duration": 0.74319,
     "end_time": "2024-04-05T04:32:36.430660",
     "exception": false,
     "start_time": "2024-04-05T04:32:35.687470",
     "status": "completed"
    },
    "tags": []
   },
   "outputs": [],
   "source": [
    "import plotly.express as px\n",
    "import pandas as pd"
   ]
  },
  {
   "cell_type": "code",
   "execution_count": 32,
   "id": "3072b1e2",
   "metadata": {
    "execution": {
     "iopub.execute_input": "2024-04-05T04:32:36.710896Z",
     "iopub.status.busy": "2024-04-05T04:32:36.710371Z",
     "iopub.status.idle": "2024-04-05T04:32:38.365422Z",
     "shell.execute_reply": "2024-04-05T04:32:38.364408Z"
    },
    "papermill": {
     "duration": 1.796623,
     "end_time": "2024-04-05T04:32:38.367866",
     "exception": false,
     "start_time": "2024-04-05T04:32:36.571243",
     "status": "completed"
    },
    "tags": []
   },
   "outputs": [
    {
     "data": {
      "text/html": [
       "        <script type=\"text/javascript\">\n",
       "        window.PlotlyConfig = {MathJaxConfig: 'local'};\n",
       "        if (window.MathJax && window.MathJax.Hub && window.MathJax.Hub.Config) {window.MathJax.Hub.Config({SVG: {font: \"STIX-Web\"}});}\n",
       "        if (typeof require !== 'undefined') {\n",
       "        require.undef(\"plotly\");\n",
       "        requirejs.config({\n",
       "            paths: {\n",
       "                'plotly': ['https://cdn.plot.ly/plotly-2.27.0.min']\n",
       "            }\n",
       "        });\n",
       "        require(['plotly'], function(Plotly) {\n",
       "            window._Plotly = Plotly;\n",
       "        });\n",
       "        }\n",
       "        </script>\n",
       "        "
      ]
     },
     "metadata": {},
     "output_type": "display_data"
    },
    {
     "data": {
      "text/html": [
       "<div>                            <div id=\"eb75a877-a5b4-49a9-aa49-3b2128a28cbd\" class=\"plotly-graph-div\" style=\"height:525px; width:100%;\"></div>            <script type=\"text/javascript\">                require([\"plotly\"], function(Plotly) {                    window.PLOTLYENV=window.PLOTLYENV || {};                                    if (document.getElementById(\"eb75a877-a5b4-49a9-aa49-3b2128a28cbd\")) {                    Plotly.newPlot(                        \"eb75a877-a5b4-49a9-aa49-3b2128a28cbd\",                        [{\"hovertemplate\":\"variable=train_loss\\u003cbr\\u003eindex=%{x}\\u003cbr\\u003evalue=%{y}\\u003cextra\\u003e\\u003c\\u002fextra\\u003e\",\"legendgroup\":\"train_loss\",\"line\":{\"color\":\"darkred\",\"dash\":\"solid\"},\"marker\":{\"symbol\":\"circle\"},\"mode\":\"lines\",\"name\":\"train_loss\",\"orientation\":\"v\",\"showlegend\":true,\"x\":[0,1,2,3,4,5,6,7,8,9,10,11,12,13,14,15,16,17,18,19,20,21,22,23,24],\"xaxis\":\"x\",\"y\":[2.2032232178917415,1.4863204315682002,1.2916352017959463,1.1672316389747812,0.9710859582771229,0.9134448902516425,0.8671785442135002,0.75763772819427,0.7197278736135627,0.6920580739461923,0.6227991496554658,0.5961494652342193,0.5817699270629431,0.5433362364957605,0.5272443499180335,0.516080302433877,0.4964941218495369,0.4870492911225633,0.4809245067778267,0.4704286233062231,0.46677709271824813,0.46585659359735027,0.45681919605482985,0.45578227913643743,0.4489763053251973],\"yaxis\":\"y\",\"type\":\"scatter\"},{\"hovertemplate\":\"variable=test_loss\\u003cbr\\u003eindex=%{x}\\u003cbr\\u003evalue=%{y}\\u003cextra\\u003e\\u003c\\u002fextra\\u003e\",\"legendgroup\":\"test_loss\",\"line\":{\"color\":\"green\",\"dash\":\"solid\"},\"marker\":{\"symbol\":\"circle\"},\"mode\":\"lines\",\"name\":\"test_loss\",\"orientation\":\"v\",\"showlegend\":true,\"x\":[0,1,2,3,4,5,6,7,8,9,10,11,12,13,14,15,16,17,18,19,20,21,22,23,24],\"xaxis\":\"x\",\"y\":[1.7583247943769527,1.408416882345948,1.28035515735421,1.2816226897360403,1.1184027323239967,1.0732865657987474,1.0814531698257108,1.0237659955326515,1.0155476520333109,1.0350615717942202,0.9809396346158619,0.9970927732654765,0.988584111008463,0.985398659411865,0.9815868143039413,0.9868980265116389,0.977617143452922,0.9860159966010081,0.9855670608297179,0.9836968142020551,0.9861387636842607,0.9872503495669063,0.9883219414873968,0.9873612330684179,0.9918552546561519],\"yaxis\":\"y\",\"type\":\"scatter\"}],                        {\"template\":{\"data\":{\"histogram2dcontour\":[{\"type\":\"histogram2dcontour\",\"colorbar\":{\"outlinewidth\":0,\"ticks\":\"\"},\"colorscale\":[[0.0,\"#0d0887\"],[0.1111111111111111,\"#46039f\"],[0.2222222222222222,\"#7201a8\"],[0.3333333333333333,\"#9c179e\"],[0.4444444444444444,\"#bd3786\"],[0.5555555555555556,\"#d8576b\"],[0.6666666666666666,\"#ed7953\"],[0.7777777777777778,\"#fb9f3a\"],[0.8888888888888888,\"#fdca26\"],[1.0,\"#f0f921\"]]}],\"choropleth\":[{\"type\":\"choropleth\",\"colorbar\":{\"outlinewidth\":0,\"ticks\":\"\"}}],\"histogram2d\":[{\"type\":\"histogram2d\",\"colorbar\":{\"outlinewidth\":0,\"ticks\":\"\"},\"colorscale\":[[0.0,\"#0d0887\"],[0.1111111111111111,\"#46039f\"],[0.2222222222222222,\"#7201a8\"],[0.3333333333333333,\"#9c179e\"],[0.4444444444444444,\"#bd3786\"],[0.5555555555555556,\"#d8576b\"],[0.6666666666666666,\"#ed7953\"],[0.7777777777777778,\"#fb9f3a\"],[0.8888888888888888,\"#fdca26\"],[1.0,\"#f0f921\"]]}],\"heatmap\":[{\"type\":\"heatmap\",\"colorbar\":{\"outlinewidth\":0,\"ticks\":\"\"},\"colorscale\":[[0.0,\"#0d0887\"],[0.1111111111111111,\"#46039f\"],[0.2222222222222222,\"#7201a8\"],[0.3333333333333333,\"#9c179e\"],[0.4444444444444444,\"#bd3786\"],[0.5555555555555556,\"#d8576b\"],[0.6666666666666666,\"#ed7953\"],[0.7777777777777778,\"#fb9f3a\"],[0.8888888888888888,\"#fdca26\"],[1.0,\"#f0f921\"]]}],\"heatmapgl\":[{\"type\":\"heatmapgl\",\"colorbar\":{\"outlinewidth\":0,\"ticks\":\"\"},\"colorscale\":[[0.0,\"#0d0887\"],[0.1111111111111111,\"#46039f\"],[0.2222222222222222,\"#7201a8\"],[0.3333333333333333,\"#9c179e\"],[0.4444444444444444,\"#bd3786\"],[0.5555555555555556,\"#d8576b\"],[0.6666666666666666,\"#ed7953\"],[0.7777777777777778,\"#fb9f3a\"],[0.8888888888888888,\"#fdca26\"],[1.0,\"#f0f921\"]]}],\"contourcarpet\":[{\"type\":\"contourcarpet\",\"colorbar\":{\"outlinewidth\":0,\"ticks\":\"\"}}],\"contour\":[{\"type\":\"contour\",\"colorbar\":{\"outlinewidth\":0,\"ticks\":\"\"},\"colorscale\":[[0.0,\"#0d0887\"],[0.1111111111111111,\"#46039f\"],[0.2222222222222222,\"#7201a8\"],[0.3333333333333333,\"#9c179e\"],[0.4444444444444444,\"#bd3786\"],[0.5555555555555556,\"#d8576b\"],[0.6666666666666666,\"#ed7953\"],[0.7777777777777778,\"#fb9f3a\"],[0.8888888888888888,\"#fdca26\"],[1.0,\"#f0f921\"]]}],\"surface\":[{\"type\":\"surface\",\"colorbar\":{\"outlinewidth\":0,\"ticks\":\"\"},\"colorscale\":[[0.0,\"#0d0887\"],[0.1111111111111111,\"#46039f\"],[0.2222222222222222,\"#7201a8\"],[0.3333333333333333,\"#9c179e\"],[0.4444444444444444,\"#bd3786\"],[0.5555555555555556,\"#d8576b\"],[0.6666666666666666,\"#ed7953\"],[0.7777777777777778,\"#fb9f3a\"],[0.8888888888888888,\"#fdca26\"],[1.0,\"#f0f921\"]]}],\"mesh3d\":[{\"type\":\"mesh3d\",\"colorbar\":{\"outlinewidth\":0,\"ticks\":\"\"}}],\"scatter\":[{\"fillpattern\":{\"fillmode\":\"overlay\",\"size\":10,\"solidity\":0.2},\"type\":\"scatter\"}],\"parcoords\":[{\"type\":\"parcoords\",\"line\":{\"colorbar\":{\"outlinewidth\":0,\"ticks\":\"\"}}}],\"scatterpolargl\":[{\"type\":\"scatterpolargl\",\"marker\":{\"colorbar\":{\"outlinewidth\":0,\"ticks\":\"\"}}}],\"bar\":[{\"error_x\":{\"color\":\"#2a3f5f\"},\"error_y\":{\"color\":\"#2a3f5f\"},\"marker\":{\"line\":{\"color\":\"#E5ECF6\",\"width\":0.5},\"pattern\":{\"fillmode\":\"overlay\",\"size\":10,\"solidity\":0.2}},\"type\":\"bar\"}],\"scattergeo\":[{\"type\":\"scattergeo\",\"marker\":{\"colorbar\":{\"outlinewidth\":0,\"ticks\":\"\"}}}],\"scatterpolar\":[{\"type\":\"scatterpolar\",\"marker\":{\"colorbar\":{\"outlinewidth\":0,\"ticks\":\"\"}}}],\"histogram\":[{\"marker\":{\"pattern\":{\"fillmode\":\"overlay\",\"size\":10,\"solidity\":0.2}},\"type\":\"histogram\"}],\"scattergl\":[{\"type\":\"scattergl\",\"marker\":{\"colorbar\":{\"outlinewidth\":0,\"ticks\":\"\"}}}],\"scatter3d\":[{\"type\":\"scatter3d\",\"line\":{\"colorbar\":{\"outlinewidth\":0,\"ticks\":\"\"}},\"marker\":{\"colorbar\":{\"outlinewidth\":0,\"ticks\":\"\"}}}],\"scattermapbox\":[{\"type\":\"scattermapbox\",\"marker\":{\"colorbar\":{\"outlinewidth\":0,\"ticks\":\"\"}}}],\"scatterternary\":[{\"type\":\"scatterternary\",\"marker\":{\"colorbar\":{\"outlinewidth\":0,\"ticks\":\"\"}}}],\"scattercarpet\":[{\"type\":\"scattercarpet\",\"marker\":{\"colorbar\":{\"outlinewidth\":0,\"ticks\":\"\"}}}],\"carpet\":[{\"aaxis\":{\"endlinecolor\":\"#2a3f5f\",\"gridcolor\":\"white\",\"linecolor\":\"white\",\"minorgridcolor\":\"white\",\"startlinecolor\":\"#2a3f5f\"},\"baxis\":{\"endlinecolor\":\"#2a3f5f\",\"gridcolor\":\"white\",\"linecolor\":\"white\",\"minorgridcolor\":\"white\",\"startlinecolor\":\"#2a3f5f\"},\"type\":\"carpet\"}],\"table\":[{\"cells\":{\"fill\":{\"color\":\"#EBF0F8\"},\"line\":{\"color\":\"white\"}},\"header\":{\"fill\":{\"color\":\"#C8D4E3\"},\"line\":{\"color\":\"white\"}},\"type\":\"table\"}],\"barpolar\":[{\"marker\":{\"line\":{\"color\":\"#E5ECF6\",\"width\":0.5},\"pattern\":{\"fillmode\":\"overlay\",\"size\":10,\"solidity\":0.2}},\"type\":\"barpolar\"}],\"pie\":[{\"automargin\":true,\"type\":\"pie\"}]},\"layout\":{\"autotypenumbers\":\"strict\",\"colorway\":[\"#636efa\",\"#EF553B\",\"#00cc96\",\"#ab63fa\",\"#FFA15A\",\"#19d3f3\",\"#FF6692\",\"#B6E880\",\"#FF97FF\",\"#FECB52\"],\"font\":{\"color\":\"#2a3f5f\"},\"hovermode\":\"closest\",\"hoverlabel\":{\"align\":\"left\"},\"paper_bgcolor\":\"white\",\"plot_bgcolor\":\"#E5ECF6\",\"polar\":{\"bgcolor\":\"#E5ECF6\",\"angularaxis\":{\"gridcolor\":\"white\",\"linecolor\":\"white\",\"ticks\":\"\"},\"radialaxis\":{\"gridcolor\":\"white\",\"linecolor\":\"white\",\"ticks\":\"\"}},\"ternary\":{\"bgcolor\":\"#E5ECF6\",\"aaxis\":{\"gridcolor\":\"white\",\"linecolor\":\"white\",\"ticks\":\"\"},\"baxis\":{\"gridcolor\":\"white\",\"linecolor\":\"white\",\"ticks\":\"\"},\"caxis\":{\"gridcolor\":\"white\",\"linecolor\":\"white\",\"ticks\":\"\"}},\"coloraxis\":{\"colorbar\":{\"outlinewidth\":0,\"ticks\":\"\"}},\"colorscale\":{\"sequential\":[[0.0,\"#0d0887\"],[0.1111111111111111,\"#46039f\"],[0.2222222222222222,\"#7201a8\"],[0.3333333333333333,\"#9c179e\"],[0.4444444444444444,\"#bd3786\"],[0.5555555555555556,\"#d8576b\"],[0.6666666666666666,\"#ed7953\"],[0.7777777777777778,\"#fb9f3a\"],[0.8888888888888888,\"#fdca26\"],[1.0,\"#f0f921\"]],\"sequentialminus\":[[0.0,\"#0d0887\"],[0.1111111111111111,\"#46039f\"],[0.2222222222222222,\"#7201a8\"],[0.3333333333333333,\"#9c179e\"],[0.4444444444444444,\"#bd3786\"],[0.5555555555555556,\"#d8576b\"],[0.6666666666666666,\"#ed7953\"],[0.7777777777777778,\"#fb9f3a\"],[0.8888888888888888,\"#fdca26\"],[1.0,\"#f0f921\"]],\"diverging\":[[0,\"#8e0152\"],[0.1,\"#c51b7d\"],[0.2,\"#de77ae\"],[0.3,\"#f1b6da\"],[0.4,\"#fde0ef\"],[0.5,\"#f7f7f7\"],[0.6,\"#e6f5d0\"],[0.7,\"#b8e186\"],[0.8,\"#7fbc41\"],[0.9,\"#4d9221\"],[1,\"#276419\"]]},\"xaxis\":{\"gridcolor\":\"white\",\"linecolor\":\"white\",\"ticks\":\"\",\"title\":{\"standoff\":15},\"zerolinecolor\":\"white\",\"automargin\":true,\"zerolinewidth\":2},\"yaxis\":{\"gridcolor\":\"white\",\"linecolor\":\"white\",\"ticks\":\"\",\"title\":{\"standoff\":15},\"zerolinecolor\":\"white\",\"automargin\":true,\"zerolinewidth\":2},\"scene\":{\"xaxis\":{\"backgroundcolor\":\"#E5ECF6\",\"gridcolor\":\"white\",\"linecolor\":\"white\",\"showbackground\":true,\"ticks\":\"\",\"zerolinecolor\":\"white\",\"gridwidth\":2},\"yaxis\":{\"backgroundcolor\":\"#E5ECF6\",\"gridcolor\":\"white\",\"linecolor\":\"white\",\"showbackground\":true,\"ticks\":\"\",\"zerolinecolor\":\"white\",\"gridwidth\":2},\"zaxis\":{\"backgroundcolor\":\"#E5ECF6\",\"gridcolor\":\"white\",\"linecolor\":\"white\",\"showbackground\":true,\"ticks\":\"\",\"zerolinecolor\":\"white\",\"gridwidth\":2}},\"shapedefaults\":{\"line\":{\"color\":\"#2a3f5f\"}},\"annotationdefaults\":{\"arrowcolor\":\"#2a3f5f\",\"arrowhead\":0,\"arrowwidth\":1},\"geo\":{\"bgcolor\":\"white\",\"landcolor\":\"#E5ECF6\",\"subunitcolor\":\"white\",\"showland\":true,\"showlakes\":true,\"lakecolor\":\"white\"},\"title\":{\"x\":0.05},\"mapbox\":{\"style\":\"light\"}}},\"xaxis\":{\"anchor\":\"y\",\"domain\":[0.0,1.0],\"title\":{\"text\":\"index\"}},\"yaxis\":{\"anchor\":\"x\",\"domain\":[0.0,1.0],\"title\":{\"text\":\"value\"}},\"legend\":{\"title\":{\"text\":\"variable\"},\"tracegroupgap\":0},\"title\":{\"text\":\"Training and Testing Loss Over Epochs\"}},                        {\"responsive\": true}                    ).then(function(){\n",
       "                            \n",
       "var gd = document.getElementById('eb75a877-a5b4-49a9-aa49-3b2128a28cbd');\n",
       "var x = new MutationObserver(function (mutations, observer) {{\n",
       "        var display = window.getComputedStyle(gd).display;\n",
       "        if (!display || display === 'none') {{\n",
       "            console.log([gd, 'removed!']);\n",
       "            Plotly.purge(gd);\n",
       "            observer.disconnect();\n",
       "        }}\n",
       "}});\n",
       "\n",
       "// Listen for the removal of the full notebook cells\n",
       "var notebookContainer = gd.closest('#notebook-container');\n",
       "if (notebookContainer) {{\n",
       "    x.observe(notebookContainer, {childList: true});\n",
       "}}\n",
       "\n",
       "// Listen for the clearing of the current output cell\n",
       "var outputEl = gd.closest('.output');\n",
       "if (outputEl) {{\n",
       "    x.observe(outputEl, {childList: true});\n",
       "}}\n",
       "\n",
       "                        })                };                });            </script>        </div>"
      ]
     },
     "metadata": {},
     "output_type": "display_data"
    },
    {
     "data": {
      "text/html": [
       "<div>                            <div id=\"1c3ed57c-e0ab-411b-980d-77b70ef2d4bb\" class=\"plotly-graph-div\" style=\"height:525px; width:100%;\"></div>            <script type=\"text/javascript\">                require([\"plotly\"], function(Plotly) {                    window.PLOTLYENV=window.PLOTLYENV || {};                                    if (document.getElementById(\"1c3ed57c-e0ab-411b-980d-77b70ef2d4bb\")) {                    Plotly.newPlot(                        \"1c3ed57c-e0ab-411b-980d-77b70ef2d4bb\",                        [{\"hovertemplate\":\"variable=train_acc\\u003cbr\\u003eindex=%{x}\\u003cbr\\u003evalue=%{y}\\u003cextra\\u003e\\u003c\\u002fextra\\u003e\",\"legendgroup\":\"train_acc\",\"line\":{\"color\":\"darkred\",\"dash\":\"solid\"},\"marker\":{\"symbol\":\"circle\"},\"mode\":\"lines\",\"name\":\"train_acc\",\"orientation\":\"v\",\"showlegend\":true,\"x\":[0,1,2,3,4,5,6,7,8,9,10,11,12,13,14,15,16,17,18,19,20,21,22,23,24],\"xaxis\":\"x\",\"y\":[0.44708020174050633,0.6104380933544303,0.6568433544303798,0.6887856012658228,0.7380587420886076,0.7521632713607594,0.7618052808544303,0.7906818631329114,0.8007936115506329,0.8060225474683544,0.8276305379746836,0.8317840189873418,0.8367657238924051,0.8459503560126582,0.8503510680379747,0.8524401700949367,0.858114121835443,0.8614888251582279,0.8627620648734177,0.8663963607594937,0.8668042919303798,0.8666806764240507,0.8685719936708861,0.8703026107594937,0.8720085047468354],\"yaxis\":\"y\",\"type\":\"scatter\"},{\"hovertemplate\":\"variable=test_acc\\u003cbr\\u003eindex=%{x}\\u003cbr\\u003evalue=%{y}\\u003cextra\\u003e\\u003c\\u002fextra\\u003e\",\"legendgroup\":\"test_acc\",\"line\":{\"color\":\"green\",\"dash\":\"solid\"},\"marker\":{\"symbol\":\"circle\"},\"mode\":\"lines\",\"name\":\"test_acc\",\"orientation\":\"v\",\"showlegend\":true,\"x\":[0,1,2,3,4,5,6,7,8,9,10,11,12,13,14,15,16,17,18,19,20,21,22,23,24],\"xaxis\":\"x\",\"y\":[0.5568136867088608,0.6401001098035257,0.6697944561137429,0.6746972373014763,0.7117932997172391,0.7249840252761599,0.7261631269998188,0.7407915958120853,0.7454775745355631,0.7440094027338149,0.7561693647994271,0.7556787065312832,0.7572077350525916,0.7590714764745929,0.760562469687643,0.7596039741854125,0.7622740691221213,0.7610683426072326,0.7618442675735377,0.7625631392002106,0.761148216980922,0.7608287183544303,0.7607374330864677,0.7615742151495777,0.7612242879746836],\"yaxis\":\"y\",\"type\":\"scatter\"}],                        {\"template\":{\"data\":{\"histogram2dcontour\":[{\"type\":\"histogram2dcontour\",\"colorbar\":{\"outlinewidth\":0,\"ticks\":\"\"},\"colorscale\":[[0.0,\"#0d0887\"],[0.1111111111111111,\"#46039f\"],[0.2222222222222222,\"#7201a8\"],[0.3333333333333333,\"#9c179e\"],[0.4444444444444444,\"#bd3786\"],[0.5555555555555556,\"#d8576b\"],[0.6666666666666666,\"#ed7953\"],[0.7777777777777778,\"#fb9f3a\"],[0.8888888888888888,\"#fdca26\"],[1.0,\"#f0f921\"]]}],\"choropleth\":[{\"type\":\"choropleth\",\"colorbar\":{\"outlinewidth\":0,\"ticks\":\"\"}}],\"histogram2d\":[{\"type\":\"histogram2d\",\"colorbar\":{\"outlinewidth\":0,\"ticks\":\"\"},\"colorscale\":[[0.0,\"#0d0887\"],[0.1111111111111111,\"#46039f\"],[0.2222222222222222,\"#7201a8\"],[0.3333333333333333,\"#9c179e\"],[0.4444444444444444,\"#bd3786\"],[0.5555555555555556,\"#d8576b\"],[0.6666666666666666,\"#ed7953\"],[0.7777777777777778,\"#fb9f3a\"],[0.8888888888888888,\"#fdca26\"],[1.0,\"#f0f921\"]]}],\"heatmap\":[{\"type\":\"heatmap\",\"colorbar\":{\"outlinewidth\":0,\"ticks\":\"\"},\"colorscale\":[[0.0,\"#0d0887\"],[0.1111111111111111,\"#46039f\"],[0.2222222222222222,\"#7201a8\"],[0.3333333333333333,\"#9c179e\"],[0.4444444444444444,\"#bd3786\"],[0.5555555555555556,\"#d8576b\"],[0.6666666666666666,\"#ed7953\"],[0.7777777777777778,\"#fb9f3a\"],[0.8888888888888888,\"#fdca26\"],[1.0,\"#f0f921\"]]}],\"heatmapgl\":[{\"type\":\"heatmapgl\",\"colorbar\":{\"outlinewidth\":0,\"ticks\":\"\"},\"colorscale\":[[0.0,\"#0d0887\"],[0.1111111111111111,\"#46039f\"],[0.2222222222222222,\"#7201a8\"],[0.3333333333333333,\"#9c179e\"],[0.4444444444444444,\"#bd3786\"],[0.5555555555555556,\"#d8576b\"],[0.6666666666666666,\"#ed7953\"],[0.7777777777777778,\"#fb9f3a\"],[0.8888888888888888,\"#fdca26\"],[1.0,\"#f0f921\"]]}],\"contourcarpet\":[{\"type\":\"contourcarpet\",\"colorbar\":{\"outlinewidth\":0,\"ticks\":\"\"}}],\"contour\":[{\"type\":\"contour\",\"colorbar\":{\"outlinewidth\":0,\"ticks\":\"\"},\"colorscale\":[[0.0,\"#0d0887\"],[0.1111111111111111,\"#46039f\"],[0.2222222222222222,\"#7201a8\"],[0.3333333333333333,\"#9c179e\"],[0.4444444444444444,\"#bd3786\"],[0.5555555555555556,\"#d8576b\"],[0.6666666666666666,\"#ed7953\"],[0.7777777777777778,\"#fb9f3a\"],[0.8888888888888888,\"#fdca26\"],[1.0,\"#f0f921\"]]}],\"surface\":[{\"type\":\"surface\",\"colorbar\":{\"outlinewidth\":0,\"ticks\":\"\"},\"colorscale\":[[0.0,\"#0d0887\"],[0.1111111111111111,\"#46039f\"],[0.2222222222222222,\"#7201a8\"],[0.3333333333333333,\"#9c179e\"],[0.4444444444444444,\"#bd3786\"],[0.5555555555555556,\"#d8576b\"],[0.6666666666666666,\"#ed7953\"],[0.7777777777777778,\"#fb9f3a\"],[0.8888888888888888,\"#fdca26\"],[1.0,\"#f0f921\"]]}],\"mesh3d\":[{\"type\":\"mesh3d\",\"colorbar\":{\"outlinewidth\":0,\"ticks\":\"\"}}],\"scatter\":[{\"fillpattern\":{\"fillmode\":\"overlay\",\"size\":10,\"solidity\":0.2},\"type\":\"scatter\"}],\"parcoords\":[{\"type\":\"parcoords\",\"line\":{\"colorbar\":{\"outlinewidth\":0,\"ticks\":\"\"}}}],\"scatterpolargl\":[{\"type\":\"scatterpolargl\",\"marker\":{\"colorbar\":{\"outlinewidth\":0,\"ticks\":\"\"}}}],\"bar\":[{\"error_x\":{\"color\":\"#2a3f5f\"},\"error_y\":{\"color\":\"#2a3f5f\"},\"marker\":{\"line\":{\"color\":\"#E5ECF6\",\"width\":0.5},\"pattern\":{\"fillmode\":\"overlay\",\"size\":10,\"solidity\":0.2}},\"type\":\"bar\"}],\"scattergeo\":[{\"type\":\"scattergeo\",\"marker\":{\"colorbar\":{\"outlinewidth\":0,\"ticks\":\"\"}}}],\"scatterpolar\":[{\"type\":\"scatterpolar\",\"marker\":{\"colorbar\":{\"outlinewidth\":0,\"ticks\":\"\"}}}],\"histogram\":[{\"marker\":{\"pattern\":{\"fillmode\":\"overlay\",\"size\":10,\"solidity\":0.2}},\"type\":\"histogram\"}],\"scattergl\":[{\"type\":\"scattergl\",\"marker\":{\"colorbar\":{\"outlinewidth\":0,\"ticks\":\"\"}}}],\"scatter3d\":[{\"type\":\"scatter3d\",\"line\":{\"colorbar\":{\"outlinewidth\":0,\"ticks\":\"\"}},\"marker\":{\"colorbar\":{\"outlinewidth\":0,\"ticks\":\"\"}}}],\"scattermapbox\":[{\"type\":\"scattermapbox\",\"marker\":{\"colorbar\":{\"outlinewidth\":0,\"ticks\":\"\"}}}],\"scatterternary\":[{\"type\":\"scatterternary\",\"marker\":{\"colorbar\":{\"outlinewidth\":0,\"ticks\":\"\"}}}],\"scattercarpet\":[{\"type\":\"scattercarpet\",\"marker\":{\"colorbar\":{\"outlinewidth\":0,\"ticks\":\"\"}}}],\"carpet\":[{\"aaxis\":{\"endlinecolor\":\"#2a3f5f\",\"gridcolor\":\"white\",\"linecolor\":\"white\",\"minorgridcolor\":\"white\",\"startlinecolor\":\"#2a3f5f\"},\"baxis\":{\"endlinecolor\":\"#2a3f5f\",\"gridcolor\":\"white\",\"linecolor\":\"white\",\"minorgridcolor\":\"white\",\"startlinecolor\":\"#2a3f5f\"},\"type\":\"carpet\"}],\"table\":[{\"cells\":{\"fill\":{\"color\":\"#EBF0F8\"},\"line\":{\"color\":\"white\"}},\"header\":{\"fill\":{\"color\":\"#C8D4E3\"},\"line\":{\"color\":\"white\"}},\"type\":\"table\"}],\"barpolar\":[{\"marker\":{\"line\":{\"color\":\"#E5ECF6\",\"width\":0.5},\"pattern\":{\"fillmode\":\"overlay\",\"size\":10,\"solidity\":0.2}},\"type\":\"barpolar\"}],\"pie\":[{\"automargin\":true,\"type\":\"pie\"}]},\"layout\":{\"autotypenumbers\":\"strict\",\"colorway\":[\"#636efa\",\"#EF553B\",\"#00cc96\",\"#ab63fa\",\"#FFA15A\",\"#19d3f3\",\"#FF6692\",\"#B6E880\",\"#FF97FF\",\"#FECB52\"],\"font\":{\"color\":\"#2a3f5f\"},\"hovermode\":\"closest\",\"hoverlabel\":{\"align\":\"left\"},\"paper_bgcolor\":\"white\",\"plot_bgcolor\":\"#E5ECF6\",\"polar\":{\"bgcolor\":\"#E5ECF6\",\"angularaxis\":{\"gridcolor\":\"white\",\"linecolor\":\"white\",\"ticks\":\"\"},\"radialaxis\":{\"gridcolor\":\"white\",\"linecolor\":\"white\",\"ticks\":\"\"}},\"ternary\":{\"bgcolor\":\"#E5ECF6\",\"aaxis\":{\"gridcolor\":\"white\",\"linecolor\":\"white\",\"ticks\":\"\"},\"baxis\":{\"gridcolor\":\"white\",\"linecolor\":\"white\",\"ticks\":\"\"},\"caxis\":{\"gridcolor\":\"white\",\"linecolor\":\"white\",\"ticks\":\"\"}},\"coloraxis\":{\"colorbar\":{\"outlinewidth\":0,\"ticks\":\"\"}},\"colorscale\":{\"sequential\":[[0.0,\"#0d0887\"],[0.1111111111111111,\"#46039f\"],[0.2222222222222222,\"#7201a8\"],[0.3333333333333333,\"#9c179e\"],[0.4444444444444444,\"#bd3786\"],[0.5555555555555556,\"#d8576b\"],[0.6666666666666666,\"#ed7953\"],[0.7777777777777778,\"#fb9f3a\"],[0.8888888888888888,\"#fdca26\"],[1.0,\"#f0f921\"]],\"sequentialminus\":[[0.0,\"#0d0887\"],[0.1111111111111111,\"#46039f\"],[0.2222222222222222,\"#7201a8\"],[0.3333333333333333,\"#9c179e\"],[0.4444444444444444,\"#bd3786\"],[0.5555555555555556,\"#d8576b\"],[0.6666666666666666,\"#ed7953\"],[0.7777777777777778,\"#fb9f3a\"],[0.8888888888888888,\"#fdca26\"],[1.0,\"#f0f921\"]],\"diverging\":[[0,\"#8e0152\"],[0.1,\"#c51b7d\"],[0.2,\"#de77ae\"],[0.3,\"#f1b6da\"],[0.4,\"#fde0ef\"],[0.5,\"#f7f7f7\"],[0.6,\"#e6f5d0\"],[0.7,\"#b8e186\"],[0.8,\"#7fbc41\"],[0.9,\"#4d9221\"],[1,\"#276419\"]]},\"xaxis\":{\"gridcolor\":\"white\",\"linecolor\":\"white\",\"ticks\":\"\",\"title\":{\"standoff\":15},\"zerolinecolor\":\"white\",\"automargin\":true,\"zerolinewidth\":2},\"yaxis\":{\"gridcolor\":\"white\",\"linecolor\":\"white\",\"ticks\":\"\",\"title\":{\"standoff\":15},\"zerolinecolor\":\"white\",\"automargin\":true,\"zerolinewidth\":2},\"scene\":{\"xaxis\":{\"backgroundcolor\":\"#E5ECF6\",\"gridcolor\":\"white\",\"linecolor\":\"white\",\"showbackground\":true,\"ticks\":\"\",\"zerolinecolor\":\"white\",\"gridwidth\":2},\"yaxis\":{\"backgroundcolor\":\"#E5ECF6\",\"gridcolor\":\"white\",\"linecolor\":\"white\",\"showbackground\":true,\"ticks\":\"\",\"zerolinecolor\":\"white\",\"gridwidth\":2},\"zaxis\":{\"backgroundcolor\":\"#E5ECF6\",\"gridcolor\":\"white\",\"linecolor\":\"white\",\"showbackground\":true,\"ticks\":\"\",\"zerolinecolor\":\"white\",\"gridwidth\":2}},\"shapedefaults\":{\"line\":{\"color\":\"#2a3f5f\"}},\"annotationdefaults\":{\"arrowcolor\":\"#2a3f5f\",\"arrowhead\":0,\"arrowwidth\":1},\"geo\":{\"bgcolor\":\"white\",\"landcolor\":\"#E5ECF6\",\"subunitcolor\":\"white\",\"showland\":true,\"showlakes\":true,\"lakecolor\":\"white\"},\"title\":{\"x\":0.05},\"mapbox\":{\"style\":\"light\"}}},\"xaxis\":{\"anchor\":\"y\",\"domain\":[0.0,1.0],\"title\":{\"text\":\"index\"}},\"yaxis\":{\"anchor\":\"x\",\"domain\":[0.0,1.0],\"title\":{\"text\":\"value\"}},\"legend\":{\"title\":{\"text\":\"variable\"},\"tracegroupgap\":0},\"title\":{\"text\":\"Training and Testing Accuracy Over Epochs\"}},                        {\"responsive\": true}                    ).then(function(){\n",
       "                            \n",
       "var gd = document.getElementById('1c3ed57c-e0ab-411b-980d-77b70ef2d4bb');\n",
       "var x = new MutationObserver(function (mutations, observer) {{\n",
       "        var display = window.getComputedStyle(gd).display;\n",
       "        if (!display || display === 'none') {{\n",
       "            console.log([gd, 'removed!']);\n",
       "            Plotly.purge(gd);\n",
       "            observer.disconnect();\n",
       "        }}\n",
       "}});\n",
       "\n",
       "// Listen for the removal of the full notebook cells\n",
       "var notebookContainer = gd.closest('#notebook-container');\n",
       "if (notebookContainer) {{\n",
       "    x.observe(notebookContainer, {childList: true});\n",
       "}}\n",
       "\n",
       "// Listen for the clearing of the current output cell\n",
       "var outputEl = gd.closest('.output');\n",
       "if (outputEl) {{\n",
       "    x.observe(outputEl, {childList: true});\n",
       "}}\n",
       "\n",
       "                        })                };                });            </script>        </div>"
      ]
     },
     "metadata": {},
     "output_type": "display_data"
    }
   ],
   "source": [
    "df = pd.DataFrame(results)\n",
    "\n",
    "fig = px.line(df, x=df.index, y=[\"train_loss\", \"test_loss\"], title=\"Training and Testing Loss Over Epochs\", color_discrete_sequence=[\"darkred\", \"green\"])\n",
    "fig.show()\n",
    "\n",
    "fig = px.line(df, x=df.index, y=[\"train_acc\", \"test_acc\"], title=\"Training and Testing Accuracy Over Epochs\", color_discrete_sequence=[\"darkred\", \"green\"])\n",
    "fig.show()"
   ]
  },
  {
   "cell_type": "markdown",
   "id": "2e23339f",
   "metadata": {
    "id": "wQxgDiZpgQzP",
    "papermill": {
     "duration": 0.138418,
     "end_time": "2024-04-05T04:32:38.645179",
     "exception": false,
     "start_time": "2024-04-05T04:32:38.506761",
     "status": "completed"
    },
    "tags": []
   },
   "source": [
    "#### Demonstration (1 point)\n",
    "\n",
    "Show model prediction on several images"
   ]
  },
  {
   "cell_type": "code",
   "execution_count": null,
   "id": "b995e3c1",
   "metadata": {
    "id": "DNn_XnmGw80s",
    "papermill": {
     "duration": 0.133565,
     "end_time": "2024-04-05T04:32:38.916473",
     "exception": false,
     "start_time": "2024-04-05T04:32:38.782908",
     "status": "completed"
    },
    "tags": []
   },
   "outputs": [],
   "source": []
  }
 ],
 "metadata": {
  "colab": {
   "collapsed_sections": [
    "lpBYShi8dqGs",
    "2-sKKBUQdvss"
   ],
   "provenance": []
  },
  "kaggle": {
   "accelerator": "nvidiaTeslaT4",
   "dataSources": [],
   "dockerImageVersionId": 30674,
   "isGpuEnabled": true,
   "isInternetEnabled": true,
   "language": "python",
   "sourceType": "notebook"
  },
  "kernelspec": {
   "display_name": "Python 3",
   "language": "python",
   "name": "python3"
  },
  "language_info": {
   "codemirror_mode": {
    "name": "ipython",
    "version": 3
   },
   "file_extension": ".py",
   "mimetype": "text/x-python",
   "name": "python",
   "nbconvert_exporter": "python",
   "pygments_lexer": "ipython3",
   "version": "3.10.13"
  },
  "papermill": {
   "default_parameters": {},
   "duration": 18192.772703,
   "end_time": "2024-04-05T04:32:42.225668",
   "environment_variables": {},
   "exception": null,
   "input_path": "__notebook__.ipynb",
   "output_path": "__notebook__.ipynb",
   "parameters": {},
   "start_time": "2024-04-04T23:29:29.452965",
   "version": "2.5.0"
  },
  "widgets": {
   "application/vnd.jupyter.widget-state+json": {
    "state": {
     "0fdf1baf612b4287a17382fb5de87277": {
      "model_module": "@jupyter-widgets/controls",
      "model_module_version": "1.5.0",
      "model_name": "DescriptionStyleModel",
      "state": {
       "_model_module": "@jupyter-widgets/controls",
       "_model_module_version": "1.5.0",
       "_model_name": "DescriptionStyleModel",
       "_view_count": null,
       "_view_module": "@jupyter-widgets/base",
       "_view_module_version": "1.2.0",
       "_view_name": "StyleView",
       "description_width": ""
      }
     },
     "117d1c9324124cb8b4eaee61865b53de": {
      "model_module": "@jupyter-widgets/base",
      "model_module_version": "1.2.0",
      "model_name": "LayoutModel",
      "state": {
       "_model_module": "@jupyter-widgets/base",
       "_model_module_version": "1.2.0",
       "_model_name": "LayoutModel",
       "_view_count": null,
       "_view_module": "@jupyter-widgets/base",
       "_view_module_version": "1.2.0",
       "_view_name": "LayoutView",
       "align_content": null,
       "align_items": null,
       "align_self": null,
       "border": null,
       "bottom": null,
       "display": null,
       "flex": null,
       "flex_flow": null,
       "grid_area": null,
       "grid_auto_columns": null,
       "grid_auto_flow": null,
       "grid_auto_rows": null,
       "grid_column": null,
       "grid_gap": null,
       "grid_row": null,
       "grid_template_areas": null,
       "grid_template_columns": null,
       "grid_template_rows": null,
       "height": null,
       "justify_content": null,
       "justify_items": null,
       "left": null,
       "margin": null,
       "max_height": null,
       "max_width": null,
       "min_height": null,
       "min_width": null,
       "object_fit": null,
       "object_position": null,
       "order": null,
       "overflow": null,
       "overflow_x": null,
       "overflow_y": null,
       "padding": null,
       "right": null,
       "top": null,
       "visibility": null,
       "width": null
      }
     },
     "1e439834f1184d27bdf87e668720874d": {
      "model_module": "@jupyter-widgets/controls",
      "model_module_version": "1.5.0",
      "model_name": "DescriptionStyleModel",
      "state": {
       "_model_module": "@jupyter-widgets/controls",
       "_model_module_version": "1.5.0",
       "_model_name": "DescriptionStyleModel",
       "_view_count": null,
       "_view_module": "@jupyter-widgets/base",
       "_view_module_version": "1.2.0",
       "_view_name": "StyleView",
       "description_width": ""
      }
     },
     "487242a36d7946f496aad549d4b8f191": {
      "model_module": "@jupyter-widgets/controls",
      "model_module_version": "1.5.0",
      "model_name": "FloatProgressModel",
      "state": {
       "_dom_classes": [],
       "_model_module": "@jupyter-widgets/controls",
       "_model_module_version": "1.5.0",
       "_model_name": "FloatProgressModel",
       "_view_count": null,
       "_view_module": "@jupyter-widgets/controls",
       "_view_module_version": "1.5.0",
       "_view_name": "ProgressView",
       "bar_style": "success",
       "description": "",
       "description_tooltip": null,
       "layout": "IPY_MODEL_117d1c9324124cb8b4eaee61865b53de",
       "max": 25.0,
       "min": 0.0,
       "orientation": "horizontal",
       "style": "IPY_MODEL_dcca3d0ede064029bf4933863a4a2f7f",
       "value": 25.0
      }
     },
     "5c322cc5c3224691ad6705c21dbf4c7c": {
      "model_module": "@jupyter-widgets/controls",
      "model_module_version": "1.5.0",
      "model_name": "HTMLModel",
      "state": {
       "_dom_classes": [],
       "_model_module": "@jupyter-widgets/controls",
       "_model_module_version": "1.5.0",
       "_model_name": "HTMLModel",
       "_view_count": null,
       "_view_module": "@jupyter-widgets/controls",
       "_view_module_version": "1.5.0",
       "_view_name": "HTMLView",
       "description": "",
       "description_tooltip": null,
       "layout": "IPY_MODEL_e650fc8c6a494a9f95d71d3411092abb",
       "placeholder": "​",
       "style": "IPY_MODEL_0fdf1baf612b4287a17382fb5de87277",
       "value": " 25/25 [4:58:43&lt;00:00, 705.05s/it]"
      }
     },
     "9a8740e09d0943f8a4244c6566fb0427": {
      "model_module": "@jupyter-widgets/base",
      "model_module_version": "1.2.0",
      "model_name": "LayoutModel",
      "state": {
       "_model_module": "@jupyter-widgets/base",
       "_model_module_version": "1.2.0",
       "_model_name": "LayoutModel",
       "_view_count": null,
       "_view_module": "@jupyter-widgets/base",
       "_view_module_version": "1.2.0",
       "_view_name": "LayoutView",
       "align_content": null,
       "align_items": null,
       "align_self": null,
       "border": null,
       "bottom": null,
       "display": null,
       "flex": null,
       "flex_flow": null,
       "grid_area": null,
       "grid_auto_columns": null,
       "grid_auto_flow": null,
       "grid_auto_rows": null,
       "grid_column": null,
       "grid_gap": null,
       "grid_row": null,
       "grid_template_areas": null,
       "grid_template_columns": null,
       "grid_template_rows": null,
       "height": null,
       "justify_content": null,
       "justify_items": null,
       "left": null,
       "margin": null,
       "max_height": null,
       "max_width": null,
       "min_height": null,
       "min_width": null,
       "object_fit": null,
       "object_position": null,
       "order": null,
       "overflow": null,
       "overflow_x": null,
       "overflow_y": null,
       "padding": null,
       "right": null,
       "top": null,
       "visibility": null,
       "width": null
      }
     },
     "b7de9206f68e400cbb7f076271e463f6": {
      "model_module": "@jupyter-widgets/controls",
      "model_module_version": "1.5.0",
      "model_name": "HBoxModel",
      "state": {
       "_dom_classes": [],
       "_model_module": "@jupyter-widgets/controls",
       "_model_module_version": "1.5.0",
       "_model_name": "HBoxModel",
       "_view_count": null,
       "_view_module": "@jupyter-widgets/controls",
       "_view_module_version": "1.5.0",
       "_view_name": "HBoxView",
       "box_style": "",
       "children": [
        "IPY_MODEL_d3e398bde1a84fc791746f9b4267993d",
        "IPY_MODEL_487242a36d7946f496aad549d4b8f191",
        "IPY_MODEL_5c322cc5c3224691ad6705c21dbf4c7c"
       ],
       "layout": "IPY_MODEL_9a8740e09d0943f8a4244c6566fb0427"
      }
     },
     "bf3b856a4c9a48eaa42c797b867a73ca": {
      "model_module": "@jupyter-widgets/base",
      "model_module_version": "1.2.0",
      "model_name": "LayoutModel",
      "state": {
       "_model_module": "@jupyter-widgets/base",
       "_model_module_version": "1.2.0",
       "_model_name": "LayoutModel",
       "_view_count": null,
       "_view_module": "@jupyter-widgets/base",
       "_view_module_version": "1.2.0",
       "_view_name": "LayoutView",
       "align_content": null,
       "align_items": null,
       "align_self": null,
       "border": null,
       "bottom": null,
       "display": null,
       "flex": null,
       "flex_flow": null,
       "grid_area": null,
       "grid_auto_columns": null,
       "grid_auto_flow": null,
       "grid_auto_rows": null,
       "grid_column": null,
       "grid_gap": null,
       "grid_row": null,
       "grid_template_areas": null,
       "grid_template_columns": null,
       "grid_template_rows": null,
       "height": null,
       "justify_content": null,
       "justify_items": null,
       "left": null,
       "margin": null,
       "max_height": null,
       "max_width": null,
       "min_height": null,
       "min_width": null,
       "object_fit": null,
       "object_position": null,
       "order": null,
       "overflow": null,
       "overflow_x": null,
       "overflow_y": null,
       "padding": null,
       "right": null,
       "top": null,
       "visibility": null,
       "width": null
      }
     },
     "d3e398bde1a84fc791746f9b4267993d": {
      "model_module": "@jupyter-widgets/controls",
      "model_module_version": "1.5.0",
      "model_name": "HTMLModel",
      "state": {
       "_dom_classes": [],
       "_model_module": "@jupyter-widgets/controls",
       "_model_module_version": "1.5.0",
       "_model_name": "HTMLModel",
       "_view_count": null,
       "_view_module": "@jupyter-widgets/controls",
       "_view_module_version": "1.5.0",
       "_view_name": "HTMLView",
       "description": "",
       "description_tooltip": null,
       "layout": "IPY_MODEL_bf3b856a4c9a48eaa42c797b867a73ca",
       "placeholder": "​",
       "style": "IPY_MODEL_1e439834f1184d27bdf87e668720874d",
       "value": "100%"
      }
     },
     "dcca3d0ede064029bf4933863a4a2f7f": {
      "model_module": "@jupyter-widgets/controls",
      "model_module_version": "1.5.0",
      "model_name": "ProgressStyleModel",
      "state": {
       "_model_module": "@jupyter-widgets/controls",
       "_model_module_version": "1.5.0",
       "_model_name": "ProgressStyleModel",
       "_view_count": null,
       "_view_module": "@jupyter-widgets/base",
       "_view_module_version": "1.2.0",
       "_view_name": "StyleView",
       "bar_color": null,
       "description_width": ""
      }
     },
     "e650fc8c6a494a9f95d71d3411092abb": {
      "model_module": "@jupyter-widgets/base",
      "model_module_version": "1.2.0",
      "model_name": "LayoutModel",
      "state": {
       "_model_module": "@jupyter-widgets/base",
       "_model_module_version": "1.2.0",
       "_model_name": "LayoutModel",
       "_view_count": null,
       "_view_module": "@jupyter-widgets/base",
       "_view_module_version": "1.2.0",
       "_view_name": "LayoutView",
       "align_content": null,
       "align_items": null,
       "align_self": null,
       "border": null,
       "bottom": null,
       "display": null,
       "flex": null,
       "flex_flow": null,
       "grid_area": null,
       "grid_auto_columns": null,
       "grid_auto_flow": null,
       "grid_auto_rows": null,
       "grid_column": null,
       "grid_gap": null,
       "grid_row": null,
       "grid_template_areas": null,
       "grid_template_columns": null,
       "grid_template_rows": null,
       "height": null,
       "justify_content": null,
       "justify_items": null,
       "left": null,
       "margin": null,
       "max_height": null,
       "max_width": null,
       "min_height": null,
       "min_width": null,
       "object_fit": null,
       "object_position": null,
       "order": null,
       "overflow": null,
       "overflow_x": null,
       "overflow_y": null,
       "padding": null,
       "right": null,
       "top": null,
       "visibility": null,
       "width": null
      }
     }
    },
    "version_major": 2,
    "version_minor": 0
   }
  }
 },
 "nbformat": 4,
 "nbformat_minor": 5
}

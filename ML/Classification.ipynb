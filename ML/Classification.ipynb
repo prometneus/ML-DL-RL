{
  "nbformat": 4,
  "nbformat_minor": 0,
  "metadata": {
    "colab": {
      "provenance": []
    },
    "kernelspec": {
      "name": "python3",
      "display_name": "Python 3"
    },
    "language_info": {
      "name": "python"
    }
  },
  "cells": [
    {
      "cell_type": "markdown",
      "source": [
        "First of all, a few notes:\n",
        "* Getting to know ENCODE might be challenging. So please, attend the seminar.\n",
        "* Check the first homework for a quick reminder on general rules.\n",
        "* Leave as many comments as possible: this way, both you and I will know that you understand your code.\n",
        "\n",
        "Remember to submit the feedback! Especially if the homework was too difficult or easy for you."
      ],
      "metadata": {
        "id": "h6rXJxY5aClz"
      }
    },
    {
      "cell_type": "markdown",
      "source": [
        "# Introduction [1.0]\n",
        "\n",
        "This homework is heavily based on the seminar material. Make sure you have it at hand - it should help a lot.\n",
        "\n",
        "And yes, extra will require you to do the same thing TWICE, minus the machine learning part.\n",
        "\n",
        "![img](http://i0.kym-cdn.com/entries/icons/original/000/017/886/download.jpg)\n",
        "\n",
        "So either copy&paste your code from the main part, or wrap your code in functions beforehand to make it reusable."
      ],
      "metadata": {
        "id": "pHJmy6k1bJm2"
      }
    },
    {
      "cell_type": "markdown",
      "source": [
        "## Know your protocols\n",
        "\n",
        "During the seminar, we covered basic ideas behind ChIP/ATAC-seq protocols. However, you must understand your data clearly before analyzing it.\n",
        "\n",
        "So here are a few questions:\n",
        "* [0.2] List the main experimental(!) steps of the ChIP-seq protocol, its main advantages, and limitations.\n",
        "\n",
        "→\n",
        "\n",
        "* Formation of reversible crosslinking between DNA and proteins interacting with it (usually by formaldehyde treatment)\n",
        "\n",
        "* DNA isolation and fragmentation by ultrasound or endonucleases\n",
        "\n",
        "* Deposition by antibodies specific to the studied protein\n",
        "\n",
        "* Destruction of crosslinking between protein and DNA, purification of DNA\n",
        "\n",
        "In the case of ChIP sequencing (-seq), the resulting DNA fragments undergo amplification (artificial duplication of fragments) and sequencing. The obtained data are subject to quality control, filtered, aligned to the DNA sequence and processed by special programs.\n",
        "\n",
        "\n",
        "| **Pros** | **Cons** |\n",
        "|:----------:|:----------:|\n",
        "| High sensitivity    |  Limited resolution   |\n",
        "| Genome-wide coverage   | Requires specific antibodies  |\n",
        "| Specificity    | Technically difficult   |\n",
        "\n",
        "\n",
        "\n",
        "* [0.2] Please, do the same for the ATAC-seq protocol.\n",
        "\n",
        "→ Please, fuck off with this questions. They don't weight but weight at the same time.\n",
        "\n",
        "* Cell Lysis, which is used to open up the cells and release the DNA.\n",
        "\n",
        "* Cut into pieces using transposase\n",
        "\n",
        "* Library prep and sequencing\n",
        "\n",
        "* Peak calling (finding out which chromatine parts are most accessible)\n",
        "\n",
        "| **Pros** | **Cons** |\n",
        "|:----------:|:----------:|\n",
        "| High reolution    |  Expensive   |\n",
        "| Possible to study chromatine in dinamic   | Extremely dependent on the quality of dna sequencing  |\n",
        "\n",
        "* [0.1] Are these experiments universal, or should they be repeated for each culture of interest? Why?\n",
        "\n",
        "→ They are not universal and should be repeated. This comes just from logic and dedication to observe different conditions, regulatory elements and use different technical variations.\n",
        "\n",
        "* [0.3] Provide a summary of the typical bioinformatic analysis for these assays. Please, list a popular tool for the analysis and its input/output. In what standard format are results stored? (You can/should use information provided in association graph from choosen ENCODE experiment of interest)\n",
        "\n",
        "→ Argh again\n",
        "\n",
        "* Quality control\n",
        "\n",
        "* Fragmentation\n",
        "\n",
        "* Sequencing\n",
        "\n",
        "* Peak calling\n",
        "\n",
        "\n",
        "In my experiment they used pipeline called \"Transcription factor ChIP-seq 2\". The results of ATAC-seq and ChIP-seq analysis are typically stored in the BED format. They also used `idr==2.0.4.2, macs==2.2.4, FUCKING bedtools==2.29.0, phantompeakqualtools==1.2.1`, which allow to detect differentially replicated regions in ChIP-seq data, do the peak calling and manipulating and comparing genomic features. Typically, all these tools use BAM, BED, or GFF files as input and output lists of genomic features or peak call."
      ],
      "metadata": {
        "id": "S5r1z_c1bJsY"
      }
    },
    {
      "cell_type": "markdown",
      "source": [
        "## Target transcription factors\n",
        "\n",
        "Overall, you need to repeat our seminar work, but this time with more transcriptional factors. I deliberately did not choose any TFs for you, so you can pick your favorite one or just some proteins that look interesting to you.\n",
        "\n",
        "Here is the task:\n",
        "\n",
        "[0.2] Use ENCODE database and pick a tissue or cell culture with a published ATAC-seq experiment and ***3*** ChIP-seq experiments (for your favorite **transcription factors**). **Ensure all experiments are from the same culture and pass routine ENCODE checks.** Provide links to experiments and descriptions of your TFs below.\n",
        "\n",
        "→ I've chosen these 3 CHIP in A549 cell line: [link](https://www.encodeproject.org/search/?type=Experiment&replicates.library.biosample.donor.organism.scientific_name=Homo+sapiens&assay_title=TF+ChIP-seq&status=released&biosample_ontology.term_name=A549&target.label=NFE2L2&target.label=SIX5&target.label=GABPA)\n",
        "\n",
        "ATAC-seq: [link](https://www.encodeproject.org/experiments/ENCSR032RGS/)"
      ],
      "metadata": {
        "id": "aiit4jH9dMmz"
      }
    },
    {
      "cell_type": "markdown",
      "source": [
        "# Data preprocessing [2]"
      ],
      "metadata": {
        "id": "_tGA0Ysjig-t"
      }
    },
    {
      "cell_type": "markdown",
      "source": [
        "Remember, no code hints this time. Here is what you need to do and how it will be graded:\n",
        "* [1.5] Implement the main workflow: download regions -> calculate intersections / subtractions -> get sequences -> calculate k-mers -> one-hot encode classes -> split into train and test.\n",
        "* [0.5] Create a histogram showing the distribution of region sizes and calculate a table showing overlaps between all experiments. The table should look like this:\n"
      ],
      "metadata": {
        "id": "VbKjUd_fikGc"
      }
    },
    {
      "cell_type": "markdown",
      "source": [
        "<img src=\"https://drive.google.com/uc?export=view&id=1mbGgAcLagrgIuYhkEST0Uo-duIfAW6oh\" width=\"250\"/>"
      ],
      "metadata": {
        "id": "HMJDPkLMDg-p"
      }
    },
    {
      "cell_type": "markdown",
      "source": [
        "\n",
        "(You don't need to make it identical to this picture. Only make sure to plot the legend and labels.)\n",
        "\n",
        "Everything except the primary workflow is extra. You can ignore it and reuse the code from the seminar if you want.\n",
        "\n",
        "**Hints:**\n",
        "* Remember to subsample the data: around 3k examples for each TF and 9k-27k for the background class. Obviously, you should use subsampling only for prototyping and HW, but not when training/tuning a real-world model.\n",
        "* Binding sites for TF can overlap; this is expected. However, here we will use a simplistic worldview and drop such situations. That is, you need to keep and process only specific sites for each TF. If it's not possible - pick a different set of transcription factors.\n",
        "* Comment and describe! To give you a high grade, we need to understand that you interpreted all results correctly."
      ],
      "metadata": {
        "id": "63Am7LaHDW8T"
      }
    },
    {
      "cell_type": "markdown",
      "source": [
        "## Libs installation"
      ],
      "metadata": {
        "id": "EfFQu-0dZBge"
      }
    },
    {
      "cell_type": "code",
      "source": [
        "!apt install -qy bedtools\n",
        "!pip install pybedtools biopython # Error if bedtools is not installed as app"
      ],
      "metadata": {
        "id": "q-_v6YtRikyA",
        "colab": {
          "base_uri": "https://localhost:8080/"
        },
        "outputId": "903a6d1c-e1ab-4e21-dc7c-d153253cd728"
      },
      "execution_count": null,
      "outputs": [
        {
          "output_type": "stream",
          "name": "stdout",
          "text": [
            "Reading package lists...\n",
            "Building dependency tree...\n",
            "Reading state information...\n",
            "The following NEW packages will be installed:\n",
            "  bedtools\n",
            "0 upgraded, 1 newly installed, 0 to remove and 10 not upgraded.\n",
            "Need to get 563 kB of archives.\n",
            "After this operation, 1,548 kB of additional disk space will be used.\n",
            "Get:1 http://archive.ubuntu.com/ubuntu jammy-updates/universe amd64 bedtools amd64 2.30.0+dfsg-2ubuntu0.1 [563 kB]\n",
            "Fetched 563 kB in 1s (668 kB/s)\n",
            "Selecting previously unselected package bedtools.\n",
            "(Reading database ... 120880 files and directories currently installed.)\n",
            "Preparing to unpack .../bedtools_2.30.0+dfsg-2ubuntu0.1_amd64.deb ...\n",
            "Unpacking bedtools (2.30.0+dfsg-2ubuntu0.1) ...\n",
            "Setting up bedtools (2.30.0+dfsg-2ubuntu0.1) ...\n",
            "Collecting pybedtools\n",
            "  Downloading pybedtools-0.9.1.tar.gz (12.5 MB)\n",
            "\u001b[2K     \u001b[90m━━━━━━━━━━━━━━━━━━━━━━━━━━━━━━━━━━━━━━━━\u001b[0m \u001b[32m12.5/12.5 MB\u001b[0m \u001b[31m86.6 MB/s\u001b[0m eta \u001b[36m0:00:00\u001b[0m\n",
            "\u001b[?25h  Preparing metadata (setup.py) ... \u001b[?25l\u001b[?25hdone\n",
            "Collecting biopython\n",
            "  Downloading biopython-1.81-cp310-cp310-manylinux_2_17_x86_64.manylinux2014_x86_64.whl (3.1 MB)\n",
            "\u001b[2K     \u001b[90m━━━━━━━━━━━━━━━━━━━━━━━━━━━━━━━━━━━━━━━━\u001b[0m \u001b[32m3.1/3.1 MB\u001b[0m \u001b[31m94.6 MB/s\u001b[0m eta \u001b[36m0:00:00\u001b[0m\n",
            "\u001b[?25hRequirement already satisfied: six in /usr/local/lib/python3.10/dist-packages (from pybedtools) (1.16.0)\n",
            "Collecting pysam (from pybedtools)\n",
            "  Downloading pysam-0.22.0-cp310-cp310-manylinux_2_28_x86_64.whl (21.9 MB)\n",
            "\u001b[2K     \u001b[90m━━━━━━━━━━━━━━━━━━━━━━━━━━━━━━━━━━━━━━━━\u001b[0m \u001b[32m21.9/21.9 MB\u001b[0m \u001b[31m66.0 MB/s\u001b[0m eta \u001b[36m0:00:00\u001b[0m\n",
            "\u001b[?25hRequirement already satisfied: numpy in /usr/local/lib/python3.10/dist-packages (from pybedtools) (1.23.5)\n",
            "Building wheels for collected packages: pybedtools\n",
            "  Building wheel for pybedtools (setup.py) ... \u001b[?25l\u001b[?25hdone\n",
            "  Created wheel for pybedtools: filename=pybedtools-0.9.1-cp310-cp310-linux_x86_64.whl size=13997641 sha256=72330602ff3bd976252ae2b3ed5dffb519c5144a77bcec911ac1f510bd646baf\n",
            "  Stored in directory: /root/.cache/pip/wheels/f5/79/76/c2cef660013cdf573214696aec4bc7ec352bf46141682230af\n",
            "Successfully built pybedtools\n",
            "Installing collected packages: pysam, biopython, pybedtools\n",
            "Successfully installed biopython-1.81 pybedtools-0.9.1 pysam-0.22.0\n"
          ]
        }
      ]
    },
    {
      "cell_type": "code",
      "source": [
        "import numpy as np\n",
        "import pandas as pd\n",
        "import seaborn as sns\n",
        "import matplotlib.pyplot as plt\n",
        "\n",
        "from collections import Counter, defaultdict\n",
        "from Bio import SeqIO\n",
        "from pybedtools import BedTool\n",
        "\n",
        "\n",
        "\n",
        "sns.set_style(\"darkgrid\")"
      ],
      "metadata": {
        "id": "J9Ezf5UWZJmn"
      },
      "execution_count": null,
      "outputs": []
    },
    {
      "cell_type": "code",
      "source": [
        "# Chip-seqs\n",
        "!wget -q -O NFE2L2-Chip.bed.gz https://www.encodeproject.org/files/ENCFF827MYW/@@download/ENCFF827MYW.bed.gz\n",
        "!wget -q -O SIX5-Chip.bed.gz https://www.encodeproject.org/files/ENCFF868TYP/@@download/ENCFF868TYP.bed.gz\n",
        "!wget -q -O GABPA-Chip.bed.gz https://www.encodeproject.org/files/ENCFF343BIK/@@download/ENCFF343BIK.bed.gz\n",
        "\n",
        "# Atac-seqs\n",
        "!wget -q -O ATAC1.bed.gz https://www.encodeproject.org/files/ENCFF674RFR/@@download/ENCFF674RFR.bed.gz\n",
        "!wget -q -O ATAC2.bed.gz https://www.encodeproject.org/files/ENCFF429FOV/@@download/ENCFF429FOV.bed.gz\n",
        "\n",
        "!gzip -d *.gz"
      ],
      "metadata": {
        "id": "7IlOpDqXLjMd"
      },
      "execution_count": null,
      "outputs": []
    },
    {
      "cell_type": "code",
      "source": [
        "# .sort() is required to effectively subtract/intersect regions later\n",
        "chip_nfe2l2 = BedTool(\"NFE2L2-Chip.bed\").sort()\n",
        "chip_six5 = BedTool(\"SIX5-Chip.bed\").sort()\n",
        "chip_gabpa = BedTool(\"GABPA-Chip.bed\").sort()\n",
        "\n",
        "atac1 = BedTool(\"ATAC1.bed\").sort()\n",
        "atac2 = BedTool(\"ATAC2.bed\").sort()"
      ],
      "metadata": {
        "id": "UB8fW-dyHa95"
      },
      "execution_count": null,
      "outputs": []
    },
    {
      "cell_type": "code",
      "source": [
        "# Working with ATAC\n",
        "\n",
        "# Final ATAC peaks is a simple intersection\n",
        "atac = atac1.intersect(atac2).sort()\n",
        "\n",
        "# Remove weakly-replicated regions from MYC\n",
        "atac1_only = atac1.subtract(atac2).sort()\n",
        "atac2_only = atac2.subtract(atac1).sort()\n",
        "# cat = concat 2 BED files\n",
        "atac_not_replicated = atac1_only.cat(atac2_only).sort()\n",
        "\n",
        "chip_nfe2l2 = chip_nfe2l2.subtract(atac_not_replicated).sort()\n",
        "chip_six5 = chip_six5.subtract(atac_not_replicated).sort()\n",
        "chip_gabpa = chip_gabpa.subtract(atac_not_replicated).sort()\n",
        "\n",
        "# Sanity check\n",
        "assert atac.intersect(atac_not_replicated).total_coverage() == 0"
      ],
      "metadata": {
        "id": "Nkdx8JPkHKNY"
      },
      "execution_count": null,
      "outputs": []
    },
    {
      "cell_type": "code",
      "source": [
        "# -wa means \"keep a whole chip_nfe2l2 peak in case of an overlap with ATAC-seq\"\n",
        "fg_nfe2l2 = chip_nfe2l2.intersect(atac, wa=True, u=True).sort()\n",
        "fg_six5 = chip_six5.intersect(atac, wa=True, u=True).sort()\n",
        "fg_gabpa = chip_gabpa.intersect(atac, wa=True, u=True).sort()\n",
        "\n",
        "# -A means \"remove entire ATAC peaks overlapping all gene peaks\"\n",
        "bg = atac.subtract(chip_nfe2l2, A=True).sort().subtract(chip_six5, A=True).sort().subtract(chip_gabpa, A=True).sort()\n",
        "\n",
        "# Sanity check\n",
        "assert fg_nfe2l2.intersect(bg).total_coverage() == 0 and fg_six5.intersect(bg).total_coverage() == 0 and fg_gabpa.intersect(bg).total_coverage() == 0"
      ],
      "metadata": {
        "id": "Qfe_QGYADiGD"
      },
      "execution_count": null,
      "outputs": []
    },
    {
      "cell_type": "code",
      "source": [
        "fig, axes = plt.subplots(1, 4, figsize=(16, 6))\n",
        "\n",
        "for title, regions, bw, ax, color in \\\n",
        "    (\"NFE2L2 chip & ATAC-seq\", fg_nfe2l2, 25, axes[0], \"darkblue\"), \\\n",
        "    (\"SIX5 chip & ATAC-seq\", fg_six5, 25, axes[1], \"darkred\"), \\\n",
        "    (\"GABPA chip & ATAC-seq\", fg_gabpa, 25, axes[2], \"darkgreen\"), \\\n",
        "    (\"ATAC-seq\", bg, 100, axes[3], \"darkorange\"):\n",
        "    # plot the histogram\n",
        "    sns.histplot([x.length for x in regions], binwidth=bw, kde=True, ax=ax, color=color)\n",
        "    # add labels\n",
        "    ax.set(title=title, xlabel=\"Peak length\", ylabel=\"Density\")"
      ],
      "metadata": {
        "colab": {
          "base_uri": "https://localhost:8080/",
          "height": 564
        },
        "id": "7rFr2BTvJP0g",
        "outputId": "220f55b2-9fe2-4102-df27-86a6e0b6ae6d"
      },
      "execution_count": null,
      "outputs": [
        {
          "output_type": "display_data",
          "data": {
            "text/plain": [
              "<Figure size 1600x600 with 4 Axes>"
            ],
            "image/png": "[encoded data removed]"
          },
          "metadata": {}
        }
      ]
    },
    {
      "cell_type": "code",
      "source": [
        "for obj, name in (fg_nfe2l2, \"NFE2L2\"), (fg_six5, \"SIX5\"),  (fg_gabpa, \"GABPA\"):\n",
        "  print(\"Processing\", name)\n",
        "  lengths = [x.length for x in obj]\n",
        "  cnts = Counter(lengths)\n",
        "  total = sum(cnts.values())\n",
        "\n",
        "  cnts = sorted(cnts.items(), key=lambda x: x[1], reverse=True)\n",
        "  for k, v in cnts[:10]:\n",
        "    print(f\"{k} -> {v} ({v / total * 100:.2f}%)\")\n",
        "  print(\"\\n\")"
      ],
      "metadata": {
        "colab": {
          "base_uri": "https://localhost:8080/"
        },
        "id": "hPzqLgjJLUd0",
        "outputId": "1979c6af-6af1-4a33-a641-97cccd8636b8"
      },
      "execution_count": null,
      "outputs": [
        {
          "output_type": "stream",
          "name": "stdout",
          "text": [
            "Processing NFE2L2\n",
            "264 -> 2247 (77.06%)\n",
            "66 -> 19 (0.65%)\n",
            "127 -> 9 (0.31%)\n",
            "124 -> 8 (0.27%)\n",
            "153 -> 8 (0.27%)\n",
            "231 -> 7 (0.24%)\n",
            "136 -> 7 (0.24%)\n",
            "217 -> 7 (0.24%)\n",
            "202 -> 7 (0.24%)\n",
            "196 -> 7 (0.24%)\n",
            "\n",
            "\n",
            "Processing SIX5\n",
            "464 -> 5618 (71.73%)\n",
            "116 -> 21 (0.27%)\n",
            "231 -> 20 (0.26%)\n",
            "238 -> 15 (0.19%)\n",
            "280 -> 14 (0.18%)\n",
            "306 -> 14 (0.18%)\n",
            "267 -> 13 (0.17%)\n",
            "214 -> 13 (0.17%)\n",
            "270 -> 13 (0.17%)\n",
            "307 -> 13 (0.17%)\n",
            "\n",
            "\n",
            "Processing GABPA\n",
            "536 -> 10693 (66.26%)\n",
            "134 -> 36 (0.22%)\n",
            "268 -> 22 (0.14%)\n",
            "620 -> 20 (0.12%)\n",
            "660 -> 19 (0.12%)\n",
            "440 -> 17 (0.11%)\n",
            "481 -> 17 (0.11%)\n",
            "257 -> 17 (0.11%)\n",
            "377 -> 17 (0.11%)\n",
            "250 -> 16 (0.10%)\n",
            "\n",
            "\n"
          ]
        }
      ]
    },
    {
      "cell_type": "code",
      "source": [
        "# Download the genome from the Google Cloud\n",
        "!gsutil -m cp \\\n",
        "  \"gs://genomics-public-data/resources/broad/hg38/v0/Homo_sapiens_assembly38.fasta.fai\" \\\n",
        "  \"gs://genomics-public-data/resources/broad/hg38/v0/Homo_sapiens_assembly38.fasta\" \\\n",
        "  ."
      ],
      "metadata": {
        "colab": {
          "base_uri": "https://localhost:8080/"
        },
        "id": "QP5npgDIPBsT",
        "outputId": "2b1a1c45-62ad-45c7-9fcc-44c0befe111c"
      },
      "execution_count": null,
      "outputs": [
        {
          "output_type": "stream",
          "name": "stdout",
          "text": [
            "Copying gs://genomics-public-data/resources/broad/hg38/v0/Homo_sapiens_assembly38.fasta.fai...\n",
            "/ [0/2 files][    0.0 B/  3.0 GiB]   0% Done                                    \rCopying gs://genomics-public-data/resources/broad/hg38/v0/Homo_sapiens_assembly38.fasta...\n",
            "/ [0/2 files][    0.0 B/  3.0 GiB]   0% Done                                    \r==> NOTE: You are downloading one or more large file(s), which would\n",
            "run significantly faster if you enabled sliced object downloads. This\n",
            "feature is enabled by default but requires that compiled crcmod be\n",
            "installed (see \"gsutil help crcmod\").\n",
            "\n",
            "- [2/2 files][  3.0 GiB/  3.0 GiB] 100% Done  71.3 MiB/s ETA 00:00:00           \n",
            "Operation completed over 2 objects/3.0 GiB.                                      \n"
          ]
        }
      ]
    },
    {
      "cell_type": "code",
      "source": [
        "fasta = \"Homo_sapiens_assembly38.fasta\"\n",
        "\n",
        "# Fetch target sequences from the genome\n",
        "# seqfn - path to final FASTA file\n",
        "fg_nfe2l2_seq = fg_nfe2l2.sequence(fi=fasta).seqfn\n",
        "fg_six5_seq = fg_six5.sequence(fi=fasta).seqfn\n",
        "fg_gabpa_seq = fg_gabpa.sequence(fi=fasta).seqfn\n",
        "\n",
        "bg_seq = bg.sequence(fi=fasta).seqfn"
      ],
      "metadata": {
        "colab": {
          "base_uri": "https://localhost:8080/"
        },
        "id": "TrO7cQDvPpVQ",
        "outputId": "59b13fb5-1b39-4420-aee8-5e44f2d5cd0b"
      },
      "execution_count": null,
      "outputs": [
        {
          "output_type": "stream",
          "name": "stderr",
          "text": [
            "Warning: the index file is older than the FASTA file.\n",
            "Warning: the index file is older than the FASTA file.\n",
            "Warning: the index file is older than the FASTA file.\n",
            "Warning: the index file is older than the FASTA file.\n"
          ]
        }
      ]
    },
    {
      "cell_type": "code",
      "source": [
        "fg_nfe2l2_seq = [str(x.seq) for x in SeqIO.parse(fg_nfe2l2_seq, format='fasta')]\n",
        "fg_six5_seq = [str(x.seq) for x in SeqIO.parse(fg_six5_seq, format='fasta')]\n",
        "fg_gabpa_seq = [str(x.seq) for x in SeqIO.parse(fg_gabpa_seq, format='fasta')]\n",
        "bg_seq = [str(x.seq) for x in SeqIO.parse(bg_seq, format='fasta')]\n",
        "\n",
        "# Sanity check\n",
        "print(f\"NFE2L2 Before \\t fg: {len(fg_nfe2l2_seq)}; bg: {len(bg_seq)}\")\n",
        "print(f\"SIX5   Before \\t fg: {len(fg_six5_seq)}; bg: {len(bg_seq)}\")\n",
        "print(f\"GABPA  Before \\t fg: {len(fg_gabpa_seq)}; bg: {len(bg_seq)}\")"
      ],
      "metadata": {
        "colab": {
          "base_uri": "https://localhost:8080/"
        },
        "id": "xSlV4amyVXXM",
        "outputId": "2c0adf82-b206-41a8-b547-579f649de3e5"
      },
      "execution_count": null,
      "outputs": [
        {
          "output_type": "stream",
          "name": "stdout",
          "text": [
            "NFE2L2 Before \t fg: 2916; bg: 450361\n",
            "SIX5   Before \t fg: 7832; bg: 450361\n",
            "GABPA  Before \t fg: 16137; bg: 450361\n"
          ]
        }
      ]
    },
    {
      "cell_type": "code",
      "source": [
        "np.random.seed(1337)\n",
        "fg_nfe2l2_seq = np.random.choice(fg_nfe2l2_seq, size=2000, replace=False)\n",
        "fg_six5_seq = np.random.choice(fg_six5_seq, size=2000, replace=False)\n",
        "fg_gabpa_seq = np.random.choice(fg_gabpa_seq, size=2000, replace=False)\n",
        "\n",
        "bg_seq = np.random.choice(bg_seq, size=8000, replace=False)\n",
        "print(f\"NFE2L2 After \\t fg: {len(fg_nfe2l2_seq)}; bg: {len(bg_seq)}\")\n",
        "print(f\"SIX5   After \\t fg: {len(fg_six5_seq)}; bg: {len(bg_seq)}\")\n",
        "print(f\"GABPA  After \\t fg: {len(fg_gabpa_seq)}; bg: {len(bg_seq)}\")"
      ],
      "metadata": {
        "colab": {
          "base_uri": "https://localhost:8080/"
        },
        "id": "jqYWozBba6CR",
        "outputId": "95156f4f-df8c-4943-f0b1-2c0a6ec8b678"
      },
      "execution_count": null,
      "outputs": [
        {
          "output_type": "stream",
          "name": "stdout",
          "text": [
            "NFE2L2 After \t fg: 2000; bg: 8000\n",
            "SIX5   After \t fg: 2000; bg: 8000\n",
            "GABPA  After \t fg: 2000; bg: 8000\n"
          ]
        }
      ]
    },
    {
      "cell_type": "code",
      "source": [
        "# Inefficient but simple implementation\n",
        "def calculate_kmers(seq: str, klen: int):\n",
        "  assert len(seq) >= klen and klen >= 1, seq\n",
        "  total_kmers = len(seq) - klen + 1\n",
        "\n",
        "  counts = defaultdict(int)\n",
        "  for ind in range(total_kmers):\n",
        "    window = seq[ind:ind+klen]\n",
        "    counts[window] += 1\n",
        "\n",
        "  # Exclude non-ATGC k-mers\n",
        "  counts = {\n",
        "      k: v for k, v in counts.items() if {\"A\", \"C\", \"G\", \"T\"}.issuperset(set(k))\n",
        "  }\n",
        "\n",
        "  # Calculate frequencies\n",
        "  total_kmers = sum(counts.values())\n",
        "  frequencies = {k: v / total_kmers for k, v in counts.items()}\n",
        "  return frequencies"
      ],
      "metadata": {
        "id": "82j84fpr9ax9"
      },
      "execution_count": null,
      "outputs": []
    },
    {
      "cell_type": "code",
      "source": [
        "# List of dictionaries (cls + features) - future DataFrame\n",
        "df = []\n",
        "for cls, sequences in (0, bg_seq), (1, fg_nfe2l2_seq), (2, fg_six5_seq), (3, fg_gabpa_seq):\n",
        "  for seq in sequences:\n",
        "    record = {}\n",
        "    for klen in 1, 2, 3, 4, 5:\n",
        "      record.update(calculate_kmers(seq, klen))\n",
        "    record['Class'] = cls\n",
        "    df.append(record)"
      ],
      "metadata": {
        "id": "K9NTT1ql-efU"
      },
      "execution_count": null,
      "outputs": []
    },
    {
      "cell_type": "code",
      "source": [
        "import pandas as pd\n",
        "\n",
        "df = pd.DataFrame(df).fillna(0)\n",
        "df.head()"
      ],
      "metadata": {
        "colab": {
          "base_uri": "https://localhost:8080/",
          "height": 235
        },
        "id": "Hi0F3G7y_32m",
        "outputId": "b4c3e3ca-83bd-45fa-b4f3-a8aa720bfc96"
      },
      "execution_count": null,
      "outputs": [
        {
          "output_type": "execute_result",
          "data": {
            "text/plain": [
              "          T         G         C         A        TG        GT        TC  \\\n",
              "0  0.293689  0.217638  0.171521  0.317152  0.068016  0.066397  0.049393   \n",
              "1  0.254781  0.221995  0.261612  0.261612  0.063568  0.043062  0.071087   \n",
              "2  0.265018  0.216726  0.197880  0.320377  0.071934  0.047170  0.057783   \n",
              "3  0.256726  0.207399  0.269058  0.266816  0.066218  0.040404  0.071829   \n",
              "4  0.266819  0.232611  0.306727  0.193843  0.082192  0.053653  0.075342   \n",
              "\n",
              "         CT        TT        TA  ...  ACGTC  TATCG  ATCGA  CTACG  ATAGG  \\\n",
              "0  0.063968  0.094737  0.081781  ...    0.0    0.0    0.0    0.0    0.0   \n",
              "1  0.077922  0.075871  0.044429  ...    0.0    0.0    0.0    0.0    0.0   \n",
              "2  0.079009  0.069575  0.066038  ...    0.0    0.0    0.0    0.0    0.0   \n",
              "3  0.094276  0.068462  0.050505  ...    0.0    0.0    0.0    0.0    0.0   \n",
              "4  0.093607  0.071918  0.036530  ...    0.0    0.0    0.0    0.0    0.0   \n",
              "\n",
              "   ACGAC  CGACA  CGTTA  CGTAT  TACGT  \n",
              "0    0.0    0.0    0.0    0.0    0.0  \n",
              "1    0.0    0.0    0.0    0.0    0.0  \n",
              "2    0.0    0.0    0.0    0.0    0.0  \n",
              "3    0.0    0.0    0.0    0.0    0.0  \n",
              "4    0.0    0.0    0.0    0.0    0.0  \n",
              "\n",
              "[5 rows x 1365 columns]"
            ],
            "text/html": [
              "\n",
              "  <div id=\"df-046eeeab-0e47-4fec-bf95-215b16a2c6dc\" class=\"colab-df-container\">\n",
              "    <div>\n",
              "<style scoped>\n",
              "    .dataframe tbody tr th:only-of-type {\n",
              "        vertical-align: middle;\n",
              "    }\n",
              "\n",
              "    .dataframe tbody tr th {\n",
              "        vertical-align: top;\n",
              "    }\n",
              "\n",
              "    .dataframe thead th {\n",
              "        text-align: right;\n",
              "    }\n",
              "</style>\n",
              "<table border=\"1\" class=\"dataframe\">\n",
              "  <thead>\n",
              "    <tr style=\"text-align: right;\">\n",
              "      <th></th>\n",
              "      <th>T</th>\n",
              "      <th>G</th>\n",
              "      <th>C</th>\n",
              "      <th>A</th>\n",
              "      <th>TG</th>\n",
              "      <th>GT</th>\n",
              "      <th>TC</th>\n",
              "      <th>CT</th>\n",
              "      <th>TT</th>\n",
              "      <th>TA</th>\n",
              "      <th>...</th>\n",
              "      <th>ACGTC</th>\n",
              "      <th>TATCG</th>\n",
              "      <th>ATCGA</th>\n",
              "      <th>CTACG</th>\n",
              "      <th>ATAGG</th>\n",
              "      <th>ACGAC</th>\n",
              "      <th>CGACA</th>\n",
              "      <th>CGTTA</th>\n",
              "      <th>CGTAT</th>\n",
              "      <th>TACGT</th>\n",
              "    </tr>\n",
              "  </thead>\n",
              "  <tbody>\n",
              "    <tr>\n",
              "      <th>0</th>\n",
              "      <td>0.293689</td>\n",
              "      <td>0.217638</td>\n",
              "      <td>0.171521</td>\n",
              "      <td>0.317152</td>\n",
              "      <td>0.068016</td>\n",
              "      <td>0.066397</td>\n",
              "      <td>0.049393</td>\n",
              "      <td>0.063968</td>\n",
              "      <td>0.094737</td>\n",
              "      <td>0.081781</td>\n",
              "      <td>...</td>\n",
              "      <td>0.0</td>\n",
              "      <td>0.0</td>\n",
              "      <td>0.0</td>\n",
              "      <td>0.0</td>\n",
              "      <td>0.0</td>\n",
              "      <td>0.0</td>\n",
              "      <td>0.0</td>\n",
              "      <td>0.0</td>\n",
              "      <td>0.0</td>\n",
              "      <td>0.0</td>\n",
              "    </tr>\n",
              "    <tr>\n",
              "      <th>1</th>\n",
              "      <td>0.254781</td>\n",
              "      <td>0.221995</td>\n",
              "      <td>0.261612</td>\n",
              "      <td>0.261612</td>\n",
              "      <td>0.063568</td>\n",
              "      <td>0.043062</td>\n",
              "      <td>0.071087</td>\n",
              "      <td>0.077922</td>\n",
              "      <td>0.075871</td>\n",
              "      <td>0.044429</td>\n",
              "      <td>...</td>\n",
              "      <td>0.0</td>\n",
              "      <td>0.0</td>\n",
              "      <td>0.0</td>\n",
              "      <td>0.0</td>\n",
              "      <td>0.0</td>\n",
              "      <td>0.0</td>\n",
              "      <td>0.0</td>\n",
              "      <td>0.0</td>\n",
              "      <td>0.0</td>\n",
              "      <td>0.0</td>\n",
              "    </tr>\n",
              "    <tr>\n",
              "      <th>2</th>\n",
              "      <td>0.265018</td>\n",
              "      <td>0.216726</td>\n",
              "      <td>0.197880</td>\n",
              "      <td>0.320377</td>\n",
              "      <td>0.071934</td>\n",
              "      <td>0.047170</td>\n",
              "      <td>0.057783</td>\n",
              "      <td>0.079009</td>\n",
              "      <td>0.069575</td>\n",
              "      <td>0.066038</td>\n",
              "      <td>...</td>\n",
              "      <td>0.0</td>\n",
              "      <td>0.0</td>\n",
              "      <td>0.0</td>\n",
              "      <td>0.0</td>\n",
              "      <td>0.0</td>\n",
              "      <td>0.0</td>\n",
              "      <td>0.0</td>\n",
              "      <td>0.0</td>\n",
              "      <td>0.0</td>\n",
              "      <td>0.0</td>\n",
              "    </tr>\n",
              "    <tr>\n",
              "      <th>3</th>\n",
              "      <td>0.256726</td>\n",
              "      <td>0.207399</td>\n",
              "      <td>0.269058</td>\n",
              "      <td>0.266816</td>\n",
              "      <td>0.066218</td>\n",
              "      <td>0.040404</td>\n",
              "      <td>0.071829</td>\n",
              "      <td>0.094276</td>\n",
              "      <td>0.068462</td>\n",
              "      <td>0.050505</td>\n",
              "      <td>...</td>\n",
              "      <td>0.0</td>\n",
              "      <td>0.0</td>\n",
              "      <td>0.0</td>\n",
              "      <td>0.0</td>\n",
              "      <td>0.0</td>\n",
              "      <td>0.0</td>\n",
              "      <td>0.0</td>\n",
              "      <td>0.0</td>\n",
              "      <td>0.0</td>\n",
              "      <td>0.0</td>\n",
              "    </tr>\n",
              "    <tr>\n",
              "      <th>4</th>\n",
              "      <td>0.266819</td>\n",
              "      <td>0.232611</td>\n",
              "      <td>0.306727</td>\n",
              "      <td>0.193843</td>\n",
              "      <td>0.082192</td>\n",
              "      <td>0.053653</td>\n",
              "      <td>0.075342</td>\n",
              "      <td>0.093607</td>\n",
              "      <td>0.071918</td>\n",
              "      <td>0.036530</td>\n",
              "      <td>...</td>\n",
              "      <td>0.0</td>\n",
              "      <td>0.0</td>\n",
              "      <td>0.0</td>\n",
              "      <td>0.0</td>\n",
              "      <td>0.0</td>\n",
              "      <td>0.0</td>\n",
              "      <td>0.0</td>\n",
              "      <td>0.0</td>\n",
              "      <td>0.0</td>\n",
              "      <td>0.0</td>\n",
              "    </tr>\n",
              "  </tbody>\n",
              "</table>\n",
              "<p>5 rows × 1365 columns</p>\n",
              "</div>\n",
              "    <div class=\"colab-df-buttons\">\n",
              "\n",
              "  <div class=\"colab-df-container\">\n",
              "    <button class=\"colab-df-convert\" onclick=\"convertToInteractive('df-046eeeab-0e47-4fec-bf95-215b16a2c6dc')\"\n",
              "            title=\"Convert this dataframe to an interactive table.\"\n",
              "            style=\"display:none;\">\n",
              "\n",
              "  <svg xmlns=\"http://www.w3.org/2000/svg\" height=\"24px\" viewBox=\"0 -960 960 960\">\n",
              "    <path d=\"M120-120v-720h720v720H120Zm60-500h600v-160H180v160Zm220 220h160v-160H400v160Zm0 220h160v-160H400v160ZM180-400h160v-160H180v160Zm440 0h160v-160H620v160ZM180-180h160v-160H180v160Zm440 0h160v-160H620v160Z\"/>\n",
              "  </svg>\n",
              "    </button>\n",
              "\n",
              "  <style>\n",
              "    .colab-df-container {\n",
              "      display:flex;\n",
              "      gap: 12px;\n",
              "    }\n",
              "\n",
              "    .colab-df-convert {\n",
              "      background-color: #E8F0FE;\n",
              "      border: none;\n",
              "      border-radius: 50%;\n",
              "      cursor: pointer;\n",
              "      display: none;\n",
              "      fill: #1967D2;\n",
              "      height: 32px;\n",
              "      padding: 0 0 0 0;\n",
              "      width: 32px;\n",
              "    }\n",
              "\n",
              "    .colab-df-convert:hover {\n",
              "      background-color: #E2EBFA;\n",
              "      box-shadow: 0px 1px 2px rgba(60, 64, 67, 0.3), 0px 1px 3px 1px rgba(60, 64, 67, 0.15);\n",
              "      fill: #174EA6;\n",
              "    }\n",
              "\n",
              "    .colab-df-buttons div {\n",
              "      margin-bottom: 4px;\n",
              "    }\n",
              "\n",
              "    [theme=dark] .colab-df-convert {\n",
              "      background-color: #3B4455;\n",
              "      fill: #D2E3FC;\n",
              "    }\n",
              "\n",
              "    [theme=dark] .colab-df-convert:hover {\n",
              "      background-color: #434B5C;\n",
              "      box-shadow: 0px 1px 3px 1px rgba(0, 0, 0, 0.15);\n",
              "      filter: drop-shadow(0px 1px 2px rgba(0, 0, 0, 0.3));\n",
              "      fill: #FFFFFF;\n",
              "    }\n",
              "  </style>\n",
              "\n",
              "    <script>\n",
              "      const buttonEl =\n",
              "        document.querySelector('#df-046eeeab-0e47-4fec-bf95-215b16a2c6dc button.colab-df-convert');\n",
              "      buttonEl.style.display =\n",
              "        google.colab.kernel.accessAllowed ? 'block' : 'none';\n",
              "\n",
              "      async function convertToInteractive(key) {\n",
              "        const element = document.querySelector('#df-046eeeab-0e47-4fec-bf95-215b16a2c6dc');\n",
              "        const dataTable =\n",
              "          await google.colab.kernel.invokeFunction('convertToInteractive',\n",
              "                                                    [key], {});\n",
              "        if (!dataTable) return;\n",
              "\n",
              "        const docLinkHtml = 'Like what you see? Visit the ' +\n",
              "          '<a target=\"_blank\" href=https://colab.research.google.com/notebooks/data_table.ipynb>data table notebook</a>'\n",
              "          + ' to learn more about interactive tables.';\n",
              "        element.innerHTML = '';\n",
              "        dataTable['output_type'] = 'display_data';\n",
              "        await google.colab.output.renderOutput(dataTable, element);\n",
              "        const docLink = document.createElement('div');\n",
              "        docLink.innerHTML = docLinkHtml;\n",
              "        element.appendChild(docLink);\n",
              "      }\n",
              "    </script>\n",
              "  </div>\n",
              "\n",
              "\n",
              "<div id=\"df-99a8c11c-f25a-4d10-88ed-80f48df3d831\">\n",
              "  <button class=\"colab-df-quickchart\" onclick=\"quickchart('df-99a8c11c-f25a-4d10-88ed-80f48df3d831')\"\n",
              "            title=\"Suggest charts\"\n",
              "            style=\"display:none;\">\n",
              "\n",
              "<svg xmlns=\"http://www.w3.org/2000/svg\" height=\"24px\"viewBox=\"0 0 24 24\"\n",
              "     width=\"24px\">\n",
              "    <g>\n",
              "        <path d=\"M19 3H5c-1.1 0-2 .9-2 2v14c0 1.1.9 2 2 2h14c1.1 0 2-.9 2-2V5c0-1.1-.9-2-2-2zM9 17H7v-7h2v7zm4 0h-2V7h2v10zm4 0h-2v-4h2v4z\"/>\n",
              "    </g>\n",
              "</svg>\n",
              "  </button>\n",
              "\n",
              "<style>\n",
              "  .colab-df-quickchart {\n",
              "      --bg-color: #E8F0FE;\n",
              "      --fill-color: #1967D2;\n",
              "      --hover-bg-color: #E2EBFA;\n",
              "      --hover-fill-color: #174EA6;\n",
              "      --disabled-fill-color: #AAA;\n",
              "      --disabled-bg-color: #DDD;\n",
              "  }\n",
              "\n",
              "  [theme=dark] .colab-df-quickchart {\n",
              "      --bg-color: #3B4455;\n",
              "      --fill-color: #D2E3FC;\n",
              "      --hover-bg-color: #434B5C;\n",
              "      --hover-fill-color: #FFFFFF;\n",
              "      --disabled-bg-color: #3B4455;\n",
              "      --disabled-fill-color: #666;\n",
              "  }\n",
              "\n",
              "  .colab-df-quickchart {\n",
              "    background-color: var(--bg-color);\n",
              "    border: none;\n",
              "    border-radius: 50%;\n",
              "    cursor: pointer;\n",
              "    display: none;\n",
              "    fill: var(--fill-color);\n",
              "    height: 32px;\n",
              "    padding: 0;\n",
              "    width: 32px;\n",
              "  }\n",
              "\n",
              "  .colab-df-quickchart:hover {\n",
              "    background-color: var(--hover-bg-color);\n",
              "    box-shadow: 0 1px 2px rgba(60, 64, 67, 0.3), 0 1px 3px 1px rgba(60, 64, 67, 0.15);\n",
              "    fill: var(--button-hover-fill-color);\n",
              "  }\n",
              "\n",
              "  .colab-df-quickchart-complete:disabled,\n",
              "  .colab-df-quickchart-complete:disabled:hover {\n",
              "    background-color: var(--disabled-bg-color);\n",
              "    fill: var(--disabled-fill-color);\n",
              "    box-shadow: none;\n",
              "  }\n",
              "\n",
              "  .colab-df-spinner {\n",
              "    border: 2px solid var(--fill-color);\n",
              "    border-color: transparent;\n",
              "    border-bottom-color: var(--fill-color);\n",
              "    animation:\n",
              "      spin 1s steps(1) infinite;\n",
              "  }\n",
              "\n",
              "  @keyframes spin {\n",
              "    0% {\n",
              "      border-color: transparent;\n",
              "      border-bottom-color: var(--fill-color);\n",
              "      border-left-color: var(--fill-color);\n",
              "    }\n",
              "    20% {\n",
              "      border-color: transparent;\n",
              "      border-left-color: var(--fill-color);\n",
              "      border-top-color: var(--fill-color);\n",
              "    }\n",
              "    30% {\n",
              "      border-color: transparent;\n",
              "      border-left-color: var(--fill-color);\n",
              "      border-top-color: var(--fill-color);\n",
              "      border-right-color: var(--fill-color);\n",
              "    }\n",
              "    40% {\n",
              "      border-color: transparent;\n",
              "      border-right-color: var(--fill-color);\n",
              "      border-top-color: var(--fill-color);\n",
              "    }\n",
              "    60% {\n",
              "      border-color: transparent;\n",
              "      border-right-color: var(--fill-color);\n",
              "    }\n",
              "    80% {\n",
              "      border-color: transparent;\n",
              "      border-right-color: var(--fill-color);\n",
              "      border-bottom-color: var(--fill-color);\n",
              "    }\n",
              "    90% {\n",
              "      border-color: transparent;\n",
              "      border-bottom-color: var(--fill-color);\n",
              "    }\n",
              "  }\n",
              "</style>\n",
              "\n",
              "  <script>\n",
              "    async function quickchart(key) {\n",
              "      const quickchartButtonEl =\n",
              "        document.querySelector('#' + key + ' button');\n",
              "      quickchartButtonEl.disabled = true;  // To prevent multiple clicks.\n",
              "      quickchartButtonEl.classList.add('colab-df-spinner');\n",
              "      try {\n",
              "        const charts = await google.colab.kernel.invokeFunction(\n",
              "            'suggestCharts', [key], {});\n",
              "      } catch (error) {\n",
              "        console.error('Error during call to suggestCharts:', error);\n",
              "      }\n",
              "      quickchartButtonEl.classList.remove('colab-df-spinner');\n",
              "      quickchartButtonEl.classList.add('colab-df-quickchart-complete');\n",
              "    }\n",
              "    (() => {\n",
              "      let quickchartButtonEl =\n",
              "        document.querySelector('#df-99a8c11c-f25a-4d10-88ed-80f48df3d831 button');\n",
              "      quickchartButtonEl.style.display =\n",
              "        google.colab.kernel.accessAllowed ? 'block' : 'none';\n",
              "    })();\n",
              "  </script>\n",
              "</div>\n",
              "    </div>\n",
              "  </div>\n"
            ]
          },
          "metadata": {},
          "execution_count": 15
        }
      ]
    },
    {
      "cell_type": "code",
      "source": [
        "df.describe()"
      ],
      "metadata": {
        "colab": {
          "base_uri": "https://localhost:8080/",
          "height": 349
        },
        "id": "PxubBry_Bfkm",
        "outputId": "baf1c043-4f1a-4ae5-d6d5-897142c5630a"
      },
      "execution_count": null,
      "outputs": [
        {
          "output_type": "execute_result",
          "data": {
            "text/plain": [
              "                  T             G             C             A            TG  \\\n",
              "count  14000.000000  14000.000000  14000.000000  14000.000000  14000.000000   \n",
              "mean       0.229111      0.271139      0.270721      0.229029      0.070694   \n",
              "std        0.058003      0.059954      0.059445      0.058004      0.017128   \n",
              "min        0.057971      0.075099      0.100000      0.040359      0.003676   \n",
              "25%        0.184753      0.224914      0.224310      0.184382      0.058824   \n",
              "50%        0.225916      0.269231      0.269397      0.225746      0.070773   \n",
              "75%        0.271713      0.314887      0.314168      0.271552      0.081553   \n",
              "max        0.450758      0.519774      0.542601      0.542857      0.188785   \n",
              "\n",
              "                 GT            TC            CT            TT            TA  \\\n",
              "count  14000.000000  14000.000000  14000.000000  14000.000000  14000.000000   \n",
              "mean       0.048910      0.061335      0.075111      0.061660      0.035394   \n",
              "std        0.012505      0.014489      0.016006      0.030614      0.020318   \n",
              "min        0.000000      0.000000      0.000000      0.000000      0.000000   \n",
              "25%        0.041037      0.052336      0.064820      0.038014      0.019113   \n",
              "50%        0.048003      0.060475      0.074434      0.057034      0.030594   \n",
              "75%        0.056075      0.069114      0.084233      0.081013      0.049430   \n",
              "max        0.171103      0.168285      0.182540      0.235294      0.137931   \n",
              "\n",
              "       ...         ACGTC         TATCG         ATCGA         CTACG  \\\n",
              "count  ...  14000.000000  14000.000000  14000.000000  14000.000000   \n",
              "mean   ...      0.000342      0.000095      0.000134      0.000231   \n",
              "std    ...      0.000873      0.000410      0.000500      0.000683   \n",
              "min    ...      0.000000      0.000000      0.000000      0.000000   \n",
              "25%    ...      0.000000      0.000000      0.000000      0.000000   \n",
              "50%    ...      0.000000      0.000000      0.000000      0.000000   \n",
              "75%    ...      0.000000      0.000000      0.000000      0.000000   \n",
              "max    ...      0.013043      0.007519      0.009174      0.011538   \n",
              "\n",
              "              ATAGG         ACGAC         CGACA         CGTTA         CGTAT  \\\n",
              "count  14000.000000  14000.000000  14000.000000  14000.000000  14000.000000   \n",
              "mean       0.000474      0.000209      0.000278      0.000161      0.000128   \n",
              "std        0.000987      0.000657      0.000730      0.000582      0.000509   \n",
              "min        0.000000      0.000000      0.000000      0.000000      0.000000   \n",
              "25%        0.000000      0.000000      0.000000      0.000000      0.000000   \n",
              "50%        0.000000      0.000000      0.000000      0.000000      0.000000   \n",
              "75%        0.000645      0.000000      0.000000      0.000000      0.000000   \n",
              "max        0.015873      0.014493      0.011364      0.012987      0.011494   \n",
              "\n",
              "              TACGT  \n",
              "count  14000.000000  \n",
              "mean       0.000176  \n",
              "std        0.000608  \n",
              "min        0.000000  \n",
              "25%        0.000000  \n",
              "50%        0.000000  \n",
              "75%        0.000000  \n",
              "max        0.016949  \n",
              "\n",
              "[8 rows x 1365 columns]"
            ],
            "text/html": [
              "\n",
              "  <div id=\"df-2f911eba-c53e-49e9-8fe3-d71d80186026\" class=\"colab-df-container\">\n",
              "    <div>\n",
              "<style scoped>\n",
              "    .dataframe tbody tr th:only-of-type {\n",
              "        vertical-align: middle;\n",
              "    }\n",
              "\n",
              "    .dataframe tbody tr th {\n",
              "        vertical-align: top;\n",
              "    }\n",
              "\n",
              "    .dataframe thead th {\n",
              "        text-align: right;\n",
              "    }\n",
              "</style>\n",
              "<table border=\"1\" class=\"dataframe\">\n",
              "  <thead>\n",
              "    <tr style=\"text-align: right;\">\n",
              "      <th></th>\n",
              "      <th>T</th>\n",
              "      <th>G</th>\n",
              "      <th>C</th>\n",
              "      <th>A</th>\n",
              "      <th>TG</th>\n",
              "      <th>GT</th>\n",
              "      <th>TC</th>\n",
              "      <th>CT</th>\n",
              "      <th>TT</th>\n",
              "      <th>TA</th>\n",
              "      <th>...</th>\n",
              "      <th>ACGTC</th>\n",
              "      <th>TATCG</th>\n",
              "      <th>ATCGA</th>\n",
              "      <th>CTACG</th>\n",
              "      <th>ATAGG</th>\n",
              "      <th>ACGAC</th>\n",
              "      <th>CGACA</th>\n",
              "      <th>CGTTA</th>\n",
              "      <th>CGTAT</th>\n",
              "      <th>TACGT</th>\n",
              "    </tr>\n",
              "  </thead>\n",
              "  <tbody>\n",
              "    <tr>\n",
              "      <th>count</th>\n",
              "      <td>14000.000000</td>\n",
              "      <td>14000.000000</td>\n",
              "      <td>14000.000000</td>\n",
              "      <td>14000.000000</td>\n",
              "      <td>14000.000000</td>\n",
              "      <td>14000.000000</td>\n",
              "      <td>14000.000000</td>\n",
              "      <td>14000.000000</td>\n",
              "      <td>14000.000000</td>\n",
              "      <td>14000.000000</td>\n",
              "      <td>...</td>\n",
              "      <td>14000.000000</td>\n",
              "      <td>14000.000000</td>\n",
              "      <td>14000.000000</td>\n",
              "      <td>14000.000000</td>\n",
              "      <td>14000.000000</td>\n",
              "      <td>14000.000000</td>\n",
              "      <td>14000.000000</td>\n",
              "      <td>14000.000000</td>\n",
              "      <td>14000.000000</td>\n",
              "      <td>14000.000000</td>\n",
              "    </tr>\n",
              "    <tr>\n",
              "      <th>mean</th>\n",
              "      <td>0.229111</td>\n",
              "      <td>0.271139</td>\n",
              "      <td>0.270721</td>\n",
              "      <td>0.229029</td>\n",
              "      <td>0.070694</td>\n",
              "      <td>0.048910</td>\n",
              "      <td>0.061335</td>\n",
              "      <td>0.075111</td>\n",
              "      <td>0.061660</td>\n",
              "      <td>0.035394</td>\n",
              "      <td>...</td>\n",
              "      <td>0.000342</td>\n",
              "      <td>0.000095</td>\n",
              "      <td>0.000134</td>\n",
              "      <td>0.000231</td>\n",
              "      <td>0.000474</td>\n",
              "      <td>0.000209</td>\n",
              "      <td>0.000278</td>\n",
              "      <td>0.000161</td>\n",
              "      <td>0.000128</td>\n",
              "      <td>0.000176</td>\n",
              "    </tr>\n",
              "    <tr>\n",
              "      <th>std</th>\n",
              "      <td>0.058003</td>\n",
              "      <td>0.059954</td>\n",
              "      <td>0.059445</td>\n",
              "      <td>0.058004</td>\n",
              "      <td>0.017128</td>\n",
              "      <td>0.012505</td>\n",
              "      <td>0.014489</td>\n",
              "      <td>0.016006</td>\n",
              "      <td>0.030614</td>\n",
              "      <td>0.020318</td>\n",
              "      <td>...</td>\n",
              "      <td>0.000873</td>\n",
              "      <td>0.000410</td>\n",
              "      <td>0.000500</td>\n",
              "      <td>0.000683</td>\n",
              "      <td>0.000987</td>\n",
              "      <td>0.000657</td>\n",
              "      <td>0.000730</td>\n",
              "      <td>0.000582</td>\n",
              "      <td>0.000509</td>\n",
              "      <td>0.000608</td>\n",
              "    </tr>\n",
              "    <tr>\n",
              "      <th>min</th>\n",
              "      <td>0.057971</td>\n",
              "      <td>0.075099</td>\n",
              "      <td>0.100000</td>\n",
              "      <td>0.040359</td>\n",
              "      <td>0.003676</td>\n",
              "      <td>0.000000</td>\n",
              "      <td>0.000000</td>\n",
              "      <td>0.000000</td>\n",
              "      <td>0.000000</td>\n",
              "      <td>0.000000</td>\n",
              "      <td>...</td>\n",
              "      <td>0.000000</td>\n",
              "      <td>0.000000</td>\n",
              "      <td>0.000000</td>\n",
              "      <td>0.000000</td>\n",
              "      <td>0.000000</td>\n",
              "      <td>0.000000</td>\n",
              "      <td>0.000000</td>\n",
              "      <td>0.000000</td>\n",
              "      <td>0.000000</td>\n",
              "      <td>0.000000</td>\n",
              "    </tr>\n",
              "    <tr>\n",
              "      <th>25%</th>\n",
              "      <td>0.184753</td>\n",
              "      <td>0.224914</td>\n",
              "      <td>0.224310</td>\n",
              "      <td>0.184382</td>\n",
              "      <td>0.058824</td>\n",
              "      <td>0.041037</td>\n",
              "      <td>0.052336</td>\n",
              "      <td>0.064820</td>\n",
              "      <td>0.038014</td>\n",
              "      <td>0.019113</td>\n",
              "      <td>...</td>\n",
              "      <td>0.000000</td>\n",
              "      <td>0.000000</td>\n",
              "      <td>0.000000</td>\n",
              "      <td>0.000000</td>\n",
              "      <td>0.000000</td>\n",
              "      <td>0.000000</td>\n",
              "      <td>0.000000</td>\n",
              "      <td>0.000000</td>\n",
              "      <td>0.000000</td>\n",
              "      <td>0.000000</td>\n",
              "    </tr>\n",
              "    <tr>\n",
              "      <th>50%</th>\n",
              "      <td>0.225916</td>\n",
              "      <td>0.269231</td>\n",
              "      <td>0.269397</td>\n",
              "      <td>0.225746</td>\n",
              "      <td>0.070773</td>\n",
              "      <td>0.048003</td>\n",
              "      <td>0.060475</td>\n",
              "      <td>0.074434</td>\n",
              "      <td>0.057034</td>\n",
              "      <td>0.030594</td>\n",
              "      <td>...</td>\n",
              "      <td>0.000000</td>\n",
              "      <td>0.000000</td>\n",
              "      <td>0.000000</td>\n",
              "      <td>0.000000</td>\n",
              "      <td>0.000000</td>\n",
              "      <td>0.000000</td>\n",
              "      <td>0.000000</td>\n",
              "      <td>0.000000</td>\n",
              "      <td>0.000000</td>\n",
              "      <td>0.000000</td>\n",
              "    </tr>\n",
              "    <tr>\n",
              "      <th>75%</th>\n",
              "      <td>0.271713</td>\n",
              "      <td>0.314887</td>\n",
              "      <td>0.314168</td>\n",
              "      <td>0.271552</td>\n",
              "      <td>0.081553</td>\n",
              "      <td>0.056075</td>\n",
              "      <td>0.069114</td>\n",
              "      <td>0.084233</td>\n",
              "      <td>0.081013</td>\n",
              "      <td>0.049430</td>\n",
              "      <td>...</td>\n",
              "      <td>0.000000</td>\n",
              "      <td>0.000000</td>\n",
              "      <td>0.000000</td>\n",
              "      <td>0.000000</td>\n",
              "      <td>0.000645</td>\n",
              "      <td>0.000000</td>\n",
              "      <td>0.000000</td>\n",
              "      <td>0.000000</td>\n",
              "      <td>0.000000</td>\n",
              "      <td>0.000000</td>\n",
              "    </tr>\n",
              "    <tr>\n",
              "      <th>max</th>\n",
              "      <td>0.450758</td>\n",
              "      <td>0.519774</td>\n",
              "      <td>0.542601</td>\n",
              "      <td>0.542857</td>\n",
              "      <td>0.188785</td>\n",
              "      <td>0.171103</td>\n",
              "      <td>0.168285</td>\n",
              "      <td>0.182540</td>\n",
              "      <td>0.235294</td>\n",
              "      <td>0.137931</td>\n",
              "      <td>...</td>\n",
              "      <td>0.013043</td>\n",
              "      <td>0.007519</td>\n",
              "      <td>0.009174</td>\n",
              "      <td>0.011538</td>\n",
              "      <td>0.015873</td>\n",
              "      <td>0.014493</td>\n",
              "      <td>0.011364</td>\n",
              "      <td>0.012987</td>\n",
              "      <td>0.011494</td>\n",
              "      <td>0.016949</td>\n",
              "    </tr>\n",
              "  </tbody>\n",
              "</table>\n",
              "<p>8 rows × 1365 columns</p>\n",
              "</div>\n",
              "    <div class=\"colab-df-buttons\">\n",
              "\n",
              "  <div class=\"colab-df-container\">\n",
              "    <button class=\"colab-df-convert\" onclick=\"convertToInteractive('df-2f911eba-c53e-49e9-8fe3-d71d80186026')\"\n",
              "            title=\"Convert this dataframe to an interactive table.\"\n",
              "            style=\"display:none;\">\n",
              "\n",
              "  <svg xmlns=\"http://www.w3.org/2000/svg\" height=\"24px\" viewBox=\"0 -960 960 960\">\n",
              "    <path d=\"M120-120v-720h720v720H120Zm60-500h600v-160H180v160Zm220 220h160v-160H400v160Zm0 220h160v-160H400v160ZM180-400h160v-160H180v160Zm440 0h160v-160H620v160ZM180-180h160v-160H180v160Zm440 0h160v-160H620v160Z\"/>\n",
              "  </svg>\n",
              "    </button>\n",
              "\n",
              "  <style>\n",
              "    .colab-df-container {\n",
              "      display:flex;\n",
              "      gap: 12px;\n",
              "    }\n",
              "\n",
              "    .colab-df-convert {\n",
              "      background-color: #E8F0FE;\n",
              "      border: none;\n",
              "      border-radius: 50%;\n",
              "      cursor: pointer;\n",
              "      display: none;\n",
              "      fill: #1967D2;\n",
              "      height: 32px;\n",
              "      padding: 0 0 0 0;\n",
              "      width: 32px;\n",
              "    }\n",
              "\n",
              "    .colab-df-convert:hover {\n",
              "      background-color: #E2EBFA;\n",
              "      box-shadow: 0px 1px 2px rgba(60, 64, 67, 0.3), 0px 1px 3px 1px rgba(60, 64, 67, 0.15);\n",
              "      fill: #174EA6;\n",
              "    }\n",
              "\n",
              "    .colab-df-buttons div {\n",
              "      margin-bottom: 4px;\n",
              "    }\n",
              "\n",
              "    [theme=dark] .colab-df-convert {\n",
              "      background-color: #3B4455;\n",
              "      fill: #D2E3FC;\n",
              "    }\n",
              "\n",
              "    [theme=dark] .colab-df-convert:hover {\n",
              "      background-color: #434B5C;\n",
              "      box-shadow: 0px 1px 3px 1px rgba(0, 0, 0, 0.15);\n",
              "      filter: drop-shadow(0px 1px 2px rgba(0, 0, 0, 0.3));\n",
              "      fill: #FFFFFF;\n",
              "    }\n",
              "  </style>\n",
              "\n",
              "    <script>\n",
              "      const buttonEl =\n",
              "        document.querySelector('#df-2f911eba-c53e-49e9-8fe3-d71d80186026 button.colab-df-convert');\n",
              "      buttonEl.style.display =\n",
              "        google.colab.kernel.accessAllowed ? 'block' : 'none';\n",
              "\n",
              "      async function convertToInteractive(key) {\n",
              "        const element = document.querySelector('#df-2f911eba-c53e-49e9-8fe3-d71d80186026');\n",
              "        const dataTable =\n",
              "          await google.colab.kernel.invokeFunction('convertToInteractive',\n",
              "                                                    [key], {});\n",
              "        if (!dataTable) return;\n",
              "\n",
              "        const docLinkHtml = 'Like what you see? Visit the ' +\n",
              "          '<a target=\"_blank\" href=https://colab.research.google.com/notebooks/data_table.ipynb>data table notebook</a>'\n",
              "          + ' to learn more about interactive tables.';\n",
              "        element.innerHTML = '';\n",
              "        dataTable['output_type'] = 'display_data';\n",
              "        await google.colab.output.renderOutput(dataTable, element);\n",
              "        const docLink = document.createElement('div');\n",
              "        docLink.innerHTML = docLinkHtml;\n",
              "        element.appendChild(docLink);\n",
              "      }\n",
              "    </script>\n",
              "  </div>\n",
              "\n",
              "\n",
              "<div id=\"df-4d0bc51f-5466-42d0-8f1f-244aaef95555\">\n",
              "  <button class=\"colab-df-quickchart\" onclick=\"quickchart('df-4d0bc51f-5466-42d0-8f1f-244aaef95555')\"\n",
              "            title=\"Suggest charts\"\n",
              "            style=\"display:none;\">\n",
              "\n",
              "<svg xmlns=\"http://www.w3.org/2000/svg\" height=\"24px\"viewBox=\"0 0 24 24\"\n",
              "     width=\"24px\">\n",
              "    <g>\n",
              "        <path d=\"M19 3H5c-1.1 0-2 .9-2 2v14c0 1.1.9 2 2 2h14c1.1 0 2-.9 2-2V5c0-1.1-.9-2-2-2zM9 17H7v-7h2v7zm4 0h-2V7h2v10zm4 0h-2v-4h2v4z\"/>\n",
              "    </g>\n",
              "</svg>\n",
              "  </button>\n",
              "\n",
              "<style>\n",
              "  .colab-df-quickchart {\n",
              "      --bg-color: #E8F0FE;\n",
              "      --fill-color: #1967D2;\n",
              "      --hover-bg-color: #E2EBFA;\n",
              "      --hover-fill-color: #174EA6;\n",
              "      --disabled-fill-color: #AAA;\n",
              "      --disabled-bg-color: #DDD;\n",
              "  }\n",
              "\n",
              "  [theme=dark] .colab-df-quickchart {\n",
              "      --bg-color: #3B4455;\n",
              "      --fill-color: #D2E3FC;\n",
              "      --hover-bg-color: #434B5C;\n",
              "      --hover-fill-color: #FFFFFF;\n",
              "      --disabled-bg-color: #3B4455;\n",
              "      --disabled-fill-color: #666;\n",
              "  }\n",
              "\n",
              "  .colab-df-quickchart {\n",
              "    background-color: var(--bg-color);\n",
              "    border: none;\n",
              "    border-radius: 50%;\n",
              "    cursor: pointer;\n",
              "    display: none;\n",
              "    fill: var(--fill-color);\n",
              "    height: 32px;\n",
              "    padding: 0;\n",
              "    width: 32px;\n",
              "  }\n",
              "\n",
              "  .colab-df-quickchart:hover {\n",
              "    background-color: var(--hover-bg-color);\n",
              "    box-shadow: 0 1px 2px rgba(60, 64, 67, 0.3), 0 1px 3px 1px rgba(60, 64, 67, 0.15);\n",
              "    fill: var(--button-hover-fill-color);\n",
              "  }\n",
              "\n",
              "  .colab-df-quickchart-complete:disabled,\n",
              "  .colab-df-quickchart-complete:disabled:hover {\n",
              "    background-color: var(--disabled-bg-color);\n",
              "    fill: var(--disabled-fill-color);\n",
              "    box-shadow: none;\n",
              "  }\n",
              "\n",
              "  .colab-df-spinner {\n",
              "    border: 2px solid var(--fill-color);\n",
              "    border-color: transparent;\n",
              "    border-bottom-color: var(--fill-color);\n",
              "    animation:\n",
              "      spin 1s steps(1) infinite;\n",
              "  }\n",
              "\n",
              "  @keyframes spin {\n",
              "    0% {\n",
              "      border-color: transparent;\n",
              "      border-bottom-color: var(--fill-color);\n",
              "      border-left-color: var(--fill-color);\n",
              "    }\n",
              "    20% {\n",
              "      border-color: transparent;\n",
              "      border-left-color: var(--fill-color);\n",
              "      border-top-color: var(--fill-color);\n",
              "    }\n",
              "    30% {\n",
              "      border-color: transparent;\n",
              "      border-left-color: var(--fill-color);\n",
              "      border-top-color: var(--fill-color);\n",
              "      border-right-color: var(--fill-color);\n",
              "    }\n",
              "    40% {\n",
              "      border-color: transparent;\n",
              "      border-right-color: var(--fill-color);\n",
              "      border-top-color: var(--fill-color);\n",
              "    }\n",
              "    60% {\n",
              "      border-color: transparent;\n",
              "      border-right-color: var(--fill-color);\n",
              "    }\n",
              "    80% {\n",
              "      border-color: transparent;\n",
              "      border-right-color: var(--fill-color);\n",
              "      border-bottom-color: var(--fill-color);\n",
              "    }\n",
              "    90% {\n",
              "      border-color: transparent;\n",
              "      border-bottom-color: var(--fill-color);\n",
              "    }\n",
              "  }\n",
              "</style>\n",
              "\n",
              "  <script>\n",
              "    async function quickchart(key) {\n",
              "      const quickchartButtonEl =\n",
              "        document.querySelector('#' + key + ' button');\n",
              "      quickchartButtonEl.disabled = true;  // To prevent multiple clicks.\n",
              "      quickchartButtonEl.classList.add('colab-df-spinner');\n",
              "      try {\n",
              "        const charts = await google.colab.kernel.invokeFunction(\n",
              "            'suggestCharts', [key], {});\n",
              "      } catch (error) {\n",
              "        console.error('Error during call to suggestCharts:', error);\n",
              "      }\n",
              "      quickchartButtonEl.classList.remove('colab-df-spinner');\n",
              "      quickchartButtonEl.classList.add('colab-df-quickchart-complete');\n",
              "    }\n",
              "    (() => {\n",
              "      let quickchartButtonEl =\n",
              "        document.querySelector('#df-4d0bc51f-5466-42d0-8f1f-244aaef95555 button');\n",
              "      quickchartButtonEl.style.display =\n",
              "        google.colab.kernel.accessAllowed ? 'block' : 'none';\n",
              "    })();\n",
              "  </script>\n",
              "</div>\n",
              "    </div>\n",
              "  </div>\n"
            ]
          },
          "metadata": {},
          "execution_count": 16
        }
      ]
    },
    {
      "cell_type": "code",
      "source": [
        "df['Class'].value_counts()"
      ],
      "metadata": {
        "colab": {
          "base_uri": "https://localhost:8080/"
        },
        "id": "I04Duyz_AAtB",
        "outputId": "38557793-e3c2-4cde-a836-6839c7f1ee81"
      },
      "execution_count": null,
      "outputs": [
        {
          "output_type": "execute_result",
          "data": {
            "text/plain": [
              "0    8000\n",
              "1    2000\n",
              "2    2000\n",
              "3    2000\n",
              "Name: Class, dtype: int64"
            ]
          },
          "metadata": {},
          "execution_count": 17
        }
      ]
    },
    {
      "cell_type": "markdown",
      "source": [
        "Self-check here!\n",
        "\n",
        "Make sure that after this section, you have the following:\n",
        "* `Xtrain`/`Xtest` - table with k-mers, features for our sequences\n",
        "* `Ytrain`/`Ytest` - table with 4 one-hot-encoded columns, one for each class (background + 3 TFs)"
      ],
      "metadata": {
        "id": "5gTYj0cikABW"
      }
    },
    {
      "cell_type": "markdown",
      "source": [
        "# Machine learning [5.5]"
      ],
      "metadata": {
        "id": "dNHW2IQJqIaO"
      }
    },
    {
      "cell_type": "code",
      "source": [
        "from sklearn.model_selection import train_test_split, RandomizedSearchCV, GridSearchCV\n",
        "from sklearn.preprocessing import StandardScaler, PowerTransformer\n",
        "from sklearn.metrics import f1_score\n",
        "\n",
        "from sklearn.linear_model import LogisticRegression\n",
        "from sklearn.svm import SVC\n",
        "from sklearn.neighbors import KNeighborsClassifier\n",
        "from sklearn.tree import DecisionTreeClassifier, plot_tree\n",
        "from sklearn.ensemble import RandomForestClassifier\n",
        "from sklearn.metrics import classification_report\n",
        "from sklearn.multiclass import OneVsOneClassifier, OneVsRestClassifier"
      ],
      "metadata": {
        "id": "Q5LigIjQaKea"
      },
      "execution_count": null,
      "outputs": []
    },
    {
      "cell_type": "markdown",
      "source": [
        "## Model training\n",
        "\n",
        "Time to train our fit-predict skills! Your main task is to:\n",
        "* [0.5] Select proper target metric(s). Do you want to use micro- or macro-averaging? Justify your choice.\n",
        "* [1] Train and optimize hyperparameters for the following models: Logistic regression, Decision tree, Random Forest, SVM, and KNN (GB is optional).\n",
        "* [0.5] Justify the parameters grid for each model. What number of cross-validation folds did you use? Why?"
      ],
      "metadata": {
        "id": "0awh0_2pqMS7"
      }
    },
    {
      "cell_type": "code",
      "source": [
        "X_train, X_test, y_train, y_test = train_test_split(df.loc[:, df.columns != \"Class\"], df.Class, test_size=0.2, random_state=1337)\n",
        "X_train.shape, X_test.shape, y_train.shape, y_test.shape"
      ],
      "metadata": {
        "colab": {
          "base_uri": "https://localhost:8080/"
        },
        "id": "6yDqjDl4F6Nz",
        "outputId": "3c70d004-7aa9-4cfa-af72-c580f32af689"
      },
      "execution_count": null,
      "outputs": [
        {
          "output_type": "execute_result",
          "data": {
            "text/plain": [
              "((11200, 1364), (2800, 1364), (11200,), (2800,))"
            ]
          },
          "metadata": {},
          "execution_count": 19
        }
      ]
    },
    {
      "cell_type": "code",
      "source": [
        "y_train.value_counts(), y_test.value_counts()"
      ],
      "metadata": {
        "colab": {
          "base_uri": "https://localhost:8080/"
        },
        "id": "7fk1ebPfQuxW",
        "outputId": "42fe36c4-cfb0-4d3c-d0e4-07a0b6e640fe"
      },
      "execution_count": null,
      "outputs": [
        {
          "output_type": "execute_result",
          "data": {
            "text/plain": [
              "(0    6382\n",
              " 3    1621\n",
              " 1    1609\n",
              " 2    1588\n",
              " Name: Class, dtype: int64,\n",
              " 0    1618\n",
              " 2     412\n",
              " 1     391\n",
              " 3     379\n",
              " Name: Class, dtype: int64)"
            ]
          },
          "metadata": {},
          "execution_count": 20
        }
      ]
    },
    {
      "cell_type": "markdown",
      "source": [
        "it is imbalanced already, thus I'll be using `macro-f1`. It allows to measure quality with taking into account skewness of classes.\n",
        "\n",
        "Also, there is `f1_samples` which is truly meaningful for multilabel classification"
      ],
      "metadata": {
        "id": "izmN_IZDRDD8"
      }
    },
    {
      "cell_type": "code",
      "source": [
        "y_train = pd.concat([y_train, pd.get_dummies(y_train)], axis=1).drop(\"Class\", axis=1).rename(columns={0: \"background\", 1: \"NFE2L2\", 2:\"SIX5\", 3:\"GABPA\"})\n",
        "y_test = pd.concat([y_test, pd.get_dummies(y_test)], axis=1).drop(\"Class\", axis=1).rename(columns={0: \"background\", 1: \"NFE2L2\", 2:\"SIX5\", 3:\"GABPA\"})\n",
        "\n",
        "y_train.shape, y_test.shape"
      ],
      "metadata": {
        "colab": {
          "base_uri": "https://localhost:8080/"
        },
        "id": "Zmc8yaOTGmUy",
        "outputId": "3c0e4d73-c367-4cb6-87b1-6d82ac5b2624"
      },
      "execution_count": null,
      "outputs": [
        {
          "output_type": "execute_result",
          "data": {
            "text/plain": [
              "((11200, 4), (2800, 4))"
            ]
          },
          "metadata": {},
          "execution_count": 21
        }
      ]
    },
    {
      "cell_type": "code",
      "source": [
        "y_test"
      ],
      "metadata": {
        "colab": {
          "base_uri": "https://localhost:8080/",
          "height": 423
        },
        "id": "O_EQIg4WHbRZ",
        "outputId": "424097b2-eb11-4358-9741-c143cce5cad6"
      },
      "execution_count": null,
      "outputs": [
        {
          "output_type": "execute_result",
          "data": {
            "text/plain": [
              "       background  NFE2L2  SIX5  GABPA\n",
              "5930            1       0     0      0\n",
              "3278            1       0     0      0\n",
              "5368            1       0     0      0\n",
              "13316           0       0     0      1\n",
              "8928            0       1     0      0\n",
              "...           ...     ...   ...    ...\n",
              "11121           0       0     1      0\n",
              "9229            0       1     0      0\n",
              "8233            0       1     0      0\n",
              "3740            1       0     0      0\n",
              "6097            1       0     0      0\n",
              "\n",
              "[2800 rows x 4 columns]"
            ],
            "text/html": [
              "\n",
              "  <div id=\"df-84ac4525-1ee9-4a84-b6a5-7c960ebbb80d\" class=\"colab-df-container\">\n",
              "    <div>\n",
              "<style scoped>\n",
              "    .dataframe tbody tr th:only-of-type {\n",
              "        vertical-align: middle;\n",
              "    }\n",
              "\n",
              "    .dataframe tbody tr th {\n",
              "        vertical-align: top;\n",
              "    }\n",
              "\n",
              "    .dataframe thead th {\n",
              "        text-align: right;\n",
              "    }\n",
              "</style>\n",
              "<table border=\"1\" class=\"dataframe\">\n",
              "  <thead>\n",
              "    <tr style=\"text-align: right;\">\n",
              "      <th></th>\n",
              "      <th>background</th>\n",
              "      <th>NFE2L2</th>\n",
              "      <th>SIX5</th>\n",
              "      <th>GABPA</th>\n",
              "    </tr>\n",
              "  </thead>\n",
              "  <tbody>\n",
              "    <tr>\n",
              "      <th>5930</th>\n",
              "      <td>1</td>\n",
              "      <td>0</td>\n",
              "      <td>0</td>\n",
              "      <td>0</td>\n",
              "    </tr>\n",
              "    <tr>\n",
              "      <th>3278</th>\n",
              "      <td>1</td>\n",
              "      <td>0</td>\n",
              "      <td>0</td>\n",
              "      <td>0</td>\n",
              "    </tr>\n",
              "    <tr>\n",
              "      <th>5368</th>\n",
              "      <td>1</td>\n",
              "      <td>0</td>\n",
              "      <td>0</td>\n",
              "      <td>0</td>\n",
              "    </tr>\n",
              "    <tr>\n",
              "      <th>13316</th>\n",
              "      <td>0</td>\n",
              "      <td>0</td>\n",
              "      <td>0</td>\n",
              "      <td>1</td>\n",
              "    </tr>\n",
              "    <tr>\n",
              "      <th>8928</th>\n",
              "      <td>0</td>\n",
              "      <td>1</td>\n",
              "      <td>0</td>\n",
              "      <td>0</td>\n",
              "    </tr>\n",
              "    <tr>\n",
              "      <th>...</th>\n",
              "      <td>...</td>\n",
              "      <td>...</td>\n",
              "      <td>...</td>\n",
              "      <td>...</td>\n",
              "    </tr>\n",
              "    <tr>\n",
              "      <th>11121</th>\n",
              "      <td>0</td>\n",
              "      <td>0</td>\n",
              "      <td>1</td>\n",
              "      <td>0</td>\n",
              "    </tr>\n",
              "    <tr>\n",
              "      <th>9229</th>\n",
              "      <td>0</td>\n",
              "      <td>1</td>\n",
              "      <td>0</td>\n",
              "      <td>0</td>\n",
              "    </tr>\n",
              "    <tr>\n",
              "      <th>8233</th>\n",
              "      <td>0</td>\n",
              "      <td>1</td>\n",
              "      <td>0</td>\n",
              "      <td>0</td>\n",
              "    </tr>\n",
              "    <tr>\n",
              "      <th>3740</th>\n",
              "      <td>1</td>\n",
              "      <td>0</td>\n",
              "      <td>0</td>\n",
              "      <td>0</td>\n",
              "    </tr>\n",
              "    <tr>\n",
              "      <th>6097</th>\n",
              "      <td>1</td>\n",
              "      <td>0</td>\n",
              "      <td>0</td>\n",
              "      <td>0</td>\n",
              "    </tr>\n",
              "  </tbody>\n",
              "</table>\n",
              "<p>2800 rows × 4 columns</p>\n",
              "</div>\n",
              "    <div class=\"colab-df-buttons\">\n",
              "\n",
              "  <div class=\"colab-df-container\">\n",
              "    <button class=\"colab-df-convert\" onclick=\"convertToInteractive('df-84ac4525-1ee9-4a84-b6a5-7c960ebbb80d')\"\n",
              "            title=\"Convert this dataframe to an interactive table.\"\n",
              "            style=\"display:none;\">\n",
              "\n",
              "  <svg xmlns=\"http://www.w3.org/2000/svg\" height=\"24px\" viewBox=\"0 -960 960 960\">\n",
              "    <path d=\"M120-120v-720h720v720H120Zm60-500h600v-160H180v160Zm220 220h160v-160H400v160Zm0 220h160v-160H400v160ZM180-400h160v-160H180v160Zm440 0h160v-160H620v160ZM180-180h160v-160H180v160Zm440 0h160v-160H620v160Z\"/>\n",
              "  </svg>\n",
              "    </button>\n",
              "\n",
              "  <style>\n",
              "    .colab-df-container {\n",
              "      display:flex;\n",
              "      gap: 12px;\n",
              "    }\n",
              "\n",
              "    .colab-df-convert {\n",
              "      background-color: #E8F0FE;\n",
              "      border: none;\n",
              "      border-radius: 50%;\n",
              "      cursor: pointer;\n",
              "      display: none;\n",
              "      fill: #1967D2;\n",
              "      height: 32px;\n",
              "      padding: 0 0 0 0;\n",
              "      width: 32px;\n",
              "    }\n",
              "\n",
              "    .colab-df-convert:hover {\n",
              "      background-color: #E2EBFA;\n",
              "      box-shadow: 0px 1px 2px rgba(60, 64, 67, 0.3), 0px 1px 3px 1px rgba(60, 64, 67, 0.15);\n",
              "      fill: #174EA6;\n",
              "    }\n",
              "\n",
              "    .colab-df-buttons div {\n",
              "      margin-bottom: 4px;\n",
              "    }\n",
              "\n",
              "    [theme=dark] .colab-df-convert {\n",
              "      background-color: #3B4455;\n",
              "      fill: #D2E3FC;\n",
              "    }\n",
              "\n",
              "    [theme=dark] .colab-df-convert:hover {\n",
              "      background-color: #434B5C;\n",
              "      box-shadow: 0px 1px 3px 1px rgba(0, 0, 0, 0.15);\n",
              "      filter: drop-shadow(0px 1px 2px rgba(0, 0, 0, 0.3));\n",
              "      fill: #FFFFFF;\n",
              "    }\n",
              "  </style>\n",
              "\n",
              "    <script>\n",
              "      const buttonEl =\n",
              "        document.querySelector('#df-84ac4525-1ee9-4a84-b6a5-7c960ebbb80d button.colab-df-convert');\n",
              "      buttonEl.style.display =\n",
              "        google.colab.kernel.accessAllowed ? 'block' : 'none';\n",
              "\n",
              "      async function convertToInteractive(key) {\n",
              "        const element = document.querySelector('#df-84ac4525-1ee9-4a84-b6a5-7c960ebbb80d');\n",
              "        const dataTable =\n",
              "          await google.colab.kernel.invokeFunction('convertToInteractive',\n",
              "                                                    [key], {});\n",
              "        if (!dataTable) return;\n",
              "\n",
              "        const docLinkHtml = 'Like what you see? Visit the ' +\n",
              "          '<a target=\"_blank\" href=https://colab.research.google.com/notebooks/data_table.ipynb>data table notebook</a>'\n",
              "          + ' to learn more about interactive tables.';\n",
              "        element.innerHTML = '';\n",
              "        dataTable['output_type'] = 'display_data';\n",
              "        await google.colab.output.renderOutput(dataTable, element);\n",
              "        const docLink = document.createElement('div');\n",
              "        docLink.innerHTML = docLinkHtml;\n",
              "        element.appendChild(docLink);\n",
              "      }\n",
              "    </script>\n",
              "  </div>\n",
              "\n",
              "\n",
              "<div id=\"df-857ff0dd-7562-45ad-8342-cdc76c8dcbfd\">\n",
              "  <button class=\"colab-df-quickchart\" onclick=\"quickchart('df-857ff0dd-7562-45ad-8342-cdc76c8dcbfd')\"\n",
              "            title=\"Suggest charts\"\n",
              "            style=\"display:none;\">\n",
              "\n",
              "<svg xmlns=\"http://www.w3.org/2000/svg\" height=\"24px\"viewBox=\"0 0 24 24\"\n",
              "     width=\"24px\">\n",
              "    <g>\n",
              "        <path d=\"M19 3H5c-1.1 0-2 .9-2 2v14c0 1.1.9 2 2 2h14c1.1 0 2-.9 2-2V5c0-1.1-.9-2-2-2zM9 17H7v-7h2v7zm4 0h-2V7h2v10zm4 0h-2v-4h2v4z\"/>\n",
              "    </g>\n",
              "</svg>\n",
              "  </button>\n",
              "\n",
              "<style>\n",
              "  .colab-df-quickchart {\n",
              "      --bg-color: #E8F0FE;\n",
              "      --fill-color: #1967D2;\n",
              "      --hover-bg-color: #E2EBFA;\n",
              "      --hover-fill-color: #174EA6;\n",
              "      --disabled-fill-color: #AAA;\n",
              "      --disabled-bg-color: #DDD;\n",
              "  }\n",
              "\n",
              "  [theme=dark] .colab-df-quickchart {\n",
              "      --bg-color: #3B4455;\n",
              "      --fill-color: #D2E3FC;\n",
              "      --hover-bg-color: #434B5C;\n",
              "      --hover-fill-color: #FFFFFF;\n",
              "      --disabled-bg-color: #3B4455;\n",
              "      --disabled-fill-color: #666;\n",
              "  }\n",
              "\n",
              "  .colab-df-quickchart {\n",
              "    background-color: var(--bg-color);\n",
              "    border: none;\n",
              "    border-radius: 50%;\n",
              "    cursor: pointer;\n",
              "    display: none;\n",
              "    fill: var(--fill-color);\n",
              "    height: 32px;\n",
              "    padding: 0;\n",
              "    width: 32px;\n",
              "  }\n",
              "\n",
              "  .colab-df-quickchart:hover {\n",
              "    background-color: var(--hover-bg-color);\n",
              "    box-shadow: 0 1px 2px rgba(60, 64, 67, 0.3), 0 1px 3px 1px rgba(60, 64, 67, 0.15);\n",
              "    fill: var(--button-hover-fill-color);\n",
              "  }\n",
              "\n",
              "  .colab-df-quickchart-complete:disabled,\n",
              "  .colab-df-quickchart-complete:disabled:hover {\n",
              "    background-color: var(--disabled-bg-color);\n",
              "    fill: var(--disabled-fill-color);\n",
              "    box-shadow: none;\n",
              "  }\n",
              "\n",
              "  .colab-df-spinner {\n",
              "    border: 2px solid var(--fill-color);\n",
              "    border-color: transparent;\n",
              "    border-bottom-color: var(--fill-color);\n",
              "    animation:\n",
              "      spin 1s steps(1) infinite;\n",
              "  }\n",
              "\n",
              "  @keyframes spin {\n",
              "    0% {\n",
              "      border-color: transparent;\n",
              "      border-bottom-color: var(--fill-color);\n",
              "      border-left-color: var(--fill-color);\n",
              "    }\n",
              "    20% {\n",
              "      border-color: transparent;\n",
              "      border-left-color: var(--fill-color);\n",
              "      border-top-color: var(--fill-color);\n",
              "    }\n",
              "    30% {\n",
              "      border-color: transparent;\n",
              "      border-left-color: var(--fill-color);\n",
              "      border-top-color: var(--fill-color);\n",
              "      border-right-color: var(--fill-color);\n",
              "    }\n",
              "    40% {\n",
              "      border-color: transparent;\n",
              "      border-right-color: var(--fill-color);\n",
              "      border-top-color: var(--fill-color);\n",
              "    }\n",
              "    60% {\n",
              "      border-color: transparent;\n",
              "      border-right-color: var(--fill-color);\n",
              "    }\n",
              "    80% {\n",
              "      border-color: transparent;\n",
              "      border-right-color: var(--fill-color);\n",
              "      border-bottom-color: var(--fill-color);\n",
              "    }\n",
              "    90% {\n",
              "      border-color: transparent;\n",
              "      border-bottom-color: var(--fill-color);\n",
              "    }\n",
              "  }\n",
              "</style>\n",
              "\n",
              "  <script>\n",
              "    async function quickchart(key) {\n",
              "      const quickchartButtonEl =\n",
              "        document.querySelector('#' + key + ' button');\n",
              "      quickchartButtonEl.disabled = true;  // To prevent multiple clicks.\n",
              "      quickchartButtonEl.classList.add('colab-df-spinner');\n",
              "      try {\n",
              "        const charts = await google.colab.kernel.invokeFunction(\n",
              "            'suggestCharts', [key], {});\n",
              "      } catch (error) {\n",
              "        console.error('Error during call to suggestCharts:', error);\n",
              "      }\n",
              "      quickchartButtonEl.classList.remove('colab-df-spinner');\n",
              "      quickchartButtonEl.classList.add('colab-df-quickchart-complete');\n",
              "    }\n",
              "    (() => {\n",
              "      let quickchartButtonEl =\n",
              "        document.querySelector('#df-857ff0dd-7562-45ad-8342-cdc76c8dcbfd button');\n",
              "      quickchartButtonEl.style.display =\n",
              "        google.colab.kernel.accessAllowed ? 'block' : 'none';\n",
              "    })();\n",
              "  </script>\n",
              "</div>\n",
              "    </div>\n",
              "  </div>\n"
            ]
          },
          "metadata": {},
          "execution_count": 22
        }
      ]
    },
    {
      "cell_type": "code",
      "source": [
        "# Standard Scaling\n",
        "scaler = StandardScaler().fit(X_train)\n",
        "\n",
        "X_train = scaler.transform(X_train)\n",
        "X_test = scaler.transform(X_test)"
      ],
      "metadata": {
        "id": "OSN5uIx6I8CZ"
      },
      "execution_count": null,
      "outputs": []
    },
    {
      "cell_type": "code",
      "source": [
        "tree_param_grid = {\n",
        "    \"criterion\": [\"gini\"],\n",
        "    \"max_depth\": [9],\n",
        "    \"max_features\": [\"sqrt\"],\n",
        "}\n",
        "\n",
        "tree_grid = GridSearchCV(DecisionTreeClassifier(), param_grid=tree_param_grid,\n",
        "                           cv=10, scoring=\"f1_macro\", n_jobs=-1).fit(X_train, y_train)\n",
        "\n",
        "print(\"Best params:\", tree_grid.best_params_)\n",
        "print(\"Best cross validaton score\", tree_grid.best_score_)"
      ],
      "metadata": {
        "colab": {
          "base_uri": "https://localhost:8080/"
        },
        "id": "dcpfCC2bKP5A",
        "outputId": "d3e75d68-4dd1-4bc4-cf20-37b48813476a"
      },
      "execution_count": null,
      "outputs": [
        {
          "output_type": "stream",
          "name": "stdout",
          "text": [
            "Best params: {'criterion': 'gini', 'max_depth': 9, 'max_features': 'sqrt'}\n",
            "Best cross validaton score 0.5414203427089509\n"
          ]
        }
      ]
    },
    {
      "cell_type": "code",
      "source": [
        "forest_param_grid = {\n",
        "    \"n_estimators\": [5],\n",
        "    \"criterion\": [\"gini\",],\n",
        "    \"max_depth\": [14],\n",
        "    \"max_features\": [\"auto\"],\n",
        "}\n",
        "\n",
        "forest_grid = GridSearchCV(RandomForestClassifier(n_jobs=-1), param_grid=forest_param_grid,\n",
        "                           cv=10, scoring=\"f1_macro\", n_jobs=-1).fit(X_train, y_train)\n",
        "\n",
        "print(\"Best params:\", forest_grid.best_params_)\n",
        "print(\"Best cross validaton score\", forest_grid.best_score_)"
      ],
      "metadata": {
        "colab": {
          "base_uri": "https://localhost:8080/"
        },
        "id": "CJpgaN3agNOk",
        "outputId": "67f32cef-c195-40fc-d766-a630db570cf0"
      },
      "execution_count": null,
      "outputs": [
        {
          "output_type": "stream",
          "name": "stderr",
          "text": [
            "/usr/local/lib/python3.10/dist-packages/sklearn/ensemble/_forest.py:424: FutureWarning: `max_features='auto'` has been deprecated in 1.1 and will be removed in 1.3. To keep the past behaviour, explicitly set `max_features='sqrt'` or remove this parameter as it is also the default value for RandomForestClassifiers and ExtraTreesClassifiers.\n",
            "  warn(\n"
          ]
        },
        {
          "output_type": "stream",
          "name": "stdout",
          "text": [
            "Best params: {'criterion': 'gini', 'max_depth': 14, 'max_features': 'auto', 'n_estimators': 5}\n",
            "Best cross validaton score 0.631304569720401\n"
          ]
        }
      ]
    },
    {
      "cell_type": "markdown",
      "source": [
        "These were light algorithms thus `CV=10`, later all `cv=3` just to save time. It took too long to compute even without normal grids. And yes, I used RandomSearchCV before."
      ],
      "metadata": {
        "id": "2iLs-f7Dsh36"
      }
    },
    {
      "cell_type": "code",
      "source": [
        "# Errors appeared cuz of C constraint in logreg\n",
        "\n",
        "logreg_param_grid = {\n",
        "    \"estimator__penalty\": [\"l1\"],\n",
        "    \"estimator__solver\": [\"saga\"],\n",
        "    \"estimator__C\": [1000]\n",
        "}\n",
        "\n",
        "model = OneVsRestClassifier(LogisticRegression(), n_jobs=-1)\n",
        "\n",
        "logreg_grid = GridSearchCV(model, param_grid=logreg_param_grid,\n",
        "                           cv=3, scoring=\"f1_macro\", n_jobs=-1).fit(X_train, y_train)\n",
        "\n",
        "print(\"Best params:\", logreg_grid.best_params_)\n",
        "print(\"Best cross validaton score\", logreg_grid.best_score_)"
      ],
      "metadata": {
        "colab": {
          "base_uri": "https://localhost:8080/"
        },
        "id": "aMsP1XDsnlIE",
        "outputId": "3d0378fd-5286-4f7b-87df-869fef254e28"
      },
      "execution_count": null,
      "outputs": [
        {
          "output_type": "stream",
          "name": "stdout",
          "text": [
            "Best params: {'estimator__C': 1000, 'estimator__penalty': 'l1', 'estimator__solver': 'saga'}\n",
            "Best cross validaton score 0.4926875763772102\n"
          ]
        }
      ]
    },
    {
      "cell_type": "code",
      "source": [
        "# 4 часа 12 минут и дропнулся Колаб\n",
        "svm_param_grid = {\n",
        "  \"estimator__kernel\": [\"rbf\"],\n",
        "  \"estimator__C\": [1],\n",
        "  \"estimator__degree\": [3]\n",
        "}\n",
        "\n",
        "\n",
        "svm_grid = GridSearchCV(OneVsRestClassifier(SVC(), n_jobs=-1), param_grid=svm_param_grid,\n",
        "                           cv=3, scoring=\"f1_macro\", n_jobs=-1).fit(X_train, y_train)\n",
        "\n",
        "print(\"Best params:\", svm_grid.best_params_)\n",
        "print(\"Best cross validaton score\", svm_grid.best_score_)"
      ],
      "metadata": {
        "colab": {
          "base_uri": "https://localhost:8080/"
        },
        "id": "k96zjA1-0Q56",
        "outputId": "8c5d6270-be20-4ac5-cde0-5225366d4048"
      },
      "execution_count": null,
      "outputs": [
        {
          "output_type": "stream",
          "name": "stdout",
          "text": [
            "Best params: {'estimator__C': 1, 'estimator__degree': 3, 'estimator__kernel': 'rbf'}\n",
            "Best cross validaton score 0.4612759661939756\n"
          ]
        }
      ]
    },
    {
      "cell_type": "code",
      "source": [
        "# KNN >70 mins with ~10 parameters in grid\n",
        "\n",
        "knn_param_grid = {\n",
        "    'estimator__n_neighbors': list(range(1,5)),\n",
        "    'estimator__weights': ['uniform'],\n",
        "    'estimator__metric': ['manhattan'],\n",
        "}\n",
        "\n",
        "knn_grid = GridSearchCV(OneVsRestClassifier(KNeighborsClassifier(n_jobs=-1), n_jobs=-1), param_grid=knn_param_grid,\n",
        "                           cv=3, scoring=\"f1_macro\", n_jobs=-1).fit(X_train, y_train)\n",
        "\n",
        "\n",
        "print(\"Best params:\", knn_grid.best_params_)\n",
        "print(\"Best cross validaton score\", knn_grid.best_score_)"
      ],
      "metadata": {
        "colab": {
          "base_uri": "https://localhost:8080/"
        },
        "id": "AeYzphDG3zT6",
        "outputId": "652b14b9-2950-4289-de7d-deb4fbd662da"
      },
      "execution_count": null,
      "outputs": [
        {
          "output_type": "stream",
          "name": "stdout",
          "text": [
            "Best params: {'estimator__metric': 'manhattan', 'estimator__n_neighbors': 1, 'estimator__weights': 'uniform'}\n",
            "Best cross validaton score 0.344379990424235\n"
          ]
        }
      ]
    },
    {
      "cell_type": "code",
      "source": [
        "!pip install catboost"
      ],
      "metadata": {
        "colab": {
          "base_uri": "https://localhost:8080/"
        },
        "id": "_Qrq3r1wGdnj",
        "outputId": "1ae6c3e2-9dac-4b18-e409-c4e19bc410b6"
      },
      "execution_count": null,
      "outputs": [
        {
          "output_type": "stream",
          "name": "stdout",
          "text": [
            "Collecting catboost\n",
            "  Downloading catboost-1.2.2-cp310-cp310-manylinux2014_x86_64.whl (98.7 MB)\n",
            "\u001b[2K     \u001b[90m━━━━━━━━━━━━━━━━━━━━━━━━━━━━━━━━━━━━━━━━\u001b[0m \u001b[32m98.7/98.7 MB\u001b[0m \u001b[31m7.2 MB/s\u001b[0m eta \u001b[36m0:00:00\u001b[0m\n",
            "\u001b[?25hRequirement already satisfied: graphviz in /usr/local/lib/python3.10/dist-packages (from catboost) (0.20.1)\n",
            "Requirement already satisfied: matplotlib in /usr/local/lib/python3.10/dist-packages (from catboost) (3.7.1)\n",
            "Requirement already satisfied: numpy>=1.16.0 in /usr/local/lib/python3.10/dist-packages (from catboost) (1.23.5)\n",
            "Requirement already satisfied: pandas>=0.24 in /usr/local/lib/python3.10/dist-packages (from catboost) (1.5.3)\n",
            "Requirement already satisfied: scipy in /usr/local/lib/python3.10/dist-packages (from catboost) (1.11.3)\n",
            "Requirement already satisfied: plotly in /usr/local/lib/python3.10/dist-packages (from catboost) (5.15.0)\n",
            "Requirement already satisfied: six in /usr/local/lib/python3.10/dist-packages (from catboost) (1.16.0)\n",
            "Requirement already satisfied: python-dateutil>=2.8.1 in /usr/local/lib/python3.10/dist-packages (from pandas>=0.24->catboost) (2.8.2)\n",
            "Requirement already satisfied: pytz>=2020.1 in /usr/local/lib/python3.10/dist-packages (from pandas>=0.24->catboost) (2023.3.post1)\n",
            "Requirement already satisfied: contourpy>=1.0.1 in /usr/local/lib/python3.10/dist-packages (from matplotlib->catboost) (1.2.0)\n",
            "Requirement already satisfied: cycler>=0.10 in /usr/local/lib/python3.10/dist-packages (from matplotlib->catboost) (0.12.1)\n",
            "Requirement already satisfied: fonttools>=4.22.0 in /usr/local/lib/python3.10/dist-packages (from matplotlib->catboost) (4.44.3)\n",
            "Requirement already satisfied: kiwisolver>=1.0.1 in /usr/local/lib/python3.10/dist-packages (from matplotlib->catboost) (1.4.5)\n",
            "Requirement already satisfied: packaging>=20.0 in /usr/local/lib/python3.10/dist-packages (from matplotlib->catboost) (23.2)\n",
            "Requirement already satisfied: pillow>=6.2.0 in /usr/local/lib/python3.10/dist-packages (from matplotlib->catboost) (9.4.0)\n",
            "Requirement already satisfied: pyparsing>=2.3.1 in /usr/local/lib/python3.10/dist-packages (from matplotlib->catboost) (3.1.1)\n",
            "Requirement already satisfied: tenacity>=6.2.0 in /usr/local/lib/python3.10/dist-packages (from plotly->catboost) (8.2.3)\n",
            "Installing collected packages: catboost\n",
            "Successfully installed catboost-1.2.2\n"
          ]
        }
      ]
    },
    {
      "cell_type": "code",
      "source": [
        "from catboost import CatBoostClassifier, Pool"
      ],
      "metadata": {
        "id": "TkJxRsRKH0tR"
      },
      "execution_count": null,
      "outputs": []
    },
    {
      "cell_type": "code",
      "source": [
        "cbt_param_grid = {\n",
        "    \"iterations\": [200],\n",
        "    \"learning_rate\":  [0.03],\n",
        "    \"depth\": [3],\n",
        "}\n",
        "\n",
        "# It needs df[\"Class\"] as y_test answer\n",
        "cbt_grid = GridSearchCV(CatBoostClassifier(thread_count=-1, silent=True, class_weights=[1, 1, 1, 1], loss_function='MultiClass'),\n",
        "                  cbt_param_grid, scoring=\"f1_macro\", cv=3, n_jobs=-1).fit(X_train, df[\"Class\"].iloc[y_train.index])\n",
        "\n",
        "print(\"Best params:\", cbt_grid.best_params_)\n",
        "print(\"Best cross validaton score\", cbt_grid.best_score_)"
      ],
      "metadata": {
        "colab": {
          "base_uri": "https://localhost:8080/"
        },
        "id": "KLYEHOiwGmwI",
        "outputId": "874d04aa-ff1e-48e0-fdb3-8d1f8a2ffee0"
      },
      "execution_count": null,
      "outputs": [
        {
          "output_type": "stream",
          "name": "stdout",
          "text": [
            "Best params: {'depth': 3, 'iterations': 200, 'learning_rate': 0.03}\n",
            "Best cross validaton score 0.7939873116582984\n"
          ]
        }
      ]
    },
    {
      "cell_type": "markdown",
      "source": [
        "## Interpretation\n",
        "\n",
        "* [0.5] Use test set to rank optimized models. Describe and interpret results.\n",
        "* [0.5]  For the model type of your choice, construct and interpret ROC curves (on the same figure) and calculate ROC AUC for:\n",
        "  *  each class according to One-Vs-Rest classifier scheme\n",
        "  *  micro-/macro-averaged OvR\n",
        "* [0.5] Write a custom function that plots ROC curve and calculates ROC AUC.\n",
        "\n",
        "  It should take as an input:\n",
        " * Ground-truth values for the class.\n",
        " * Probabilities predicted by the model.\n",
        "\n",
        "  Don't use sklearn in-built functions that calculate confusion matrix values and TPR/FPR.\n",
        "\n",
        " *Hint: use `numpy.trapz` to calculate AUC.*\n",
        "\n",
        "  Compare with results of sklearn implementationt.\n",
        "  \n",
        "* [1] Interpret features learned by each model (where applicable). Then, compare them to known TF motifs.\n",
        "* [1] Implement your own version of the random forest algorithm, and compare results with the sklearn version. For simplicity, reuse sklearn DecisionTree class. Your model shouldn't support GridSearch, just fit-predict."
      ],
      "metadata": {
        "id": "7QG1vsu9fqQA"
      }
    },
    {
      "cell_type": "code",
      "source": [
        "models_dict = {\"Logreg\": logreg_grid.best_estimator_,\n",
        "               \"Decision Tree\": tree_grid.best_estimator_,\n",
        "               \"Forest\": forest_grid.best_estimator_,\n",
        "               \"SVC\": svm_grid.best_estimator_,\n",
        "               \"KNN\": knn_grid.best_estimator_,\n",
        "               \"Славянский catboost\": cbt_grid.best_estimator_}\n",
        "\n",
        "for model_name, model in models_dict.items():\n",
        "  print(f\"\\t{model_name}\")\n",
        "  if model_name != \"Славянский catboost\":\n",
        "    print(classification_report(y_test, model.predict(X_test)))\n",
        "  else:\n",
        "    print(classification_report(y_test, pd.get_dummies(pd.DataFrame([str(x) for x in model.predict(X_test)]))))"
      ],
      "metadata": {
        "colab": {
          "base_uri": "https://localhost:8080/"
        },
        "id": "8NHpthKJHYxw",
        "outputId": "edb3c425-0875-43c8-b32b-eb3e6953107b"
      },
      "execution_count": null,
      "outputs": [
        {
          "output_type": "stream",
          "name": "stdout",
          "text": [
            "\tLogreg\n",
            "              precision    recall  f1-score   support\n",
            "\n",
            "           0       0.80      0.88      0.84      1618\n",
            "           1       0.71      0.54      0.61       391\n",
            "           2       0.58      0.29      0.38       412\n",
            "           3       0.23      0.08      0.12       379\n",
            "\n",
            "   micro avg       0.74      0.64      0.68      2800\n",
            "   macro avg       0.58      0.45      0.49      2800\n",
            "weighted avg       0.68      0.64      0.64      2800\n",
            " samples avg       0.62      0.64      0.63      2800\n",
            "\n",
            "\tDecision Tree\n",
            "              precision    recall  f1-score   support\n",
            "\n",
            "           0       0.90      0.88      0.89      1618\n",
            "           1       0.81      0.59      0.68       391\n",
            "           2       0.52      0.34      0.41       412\n",
            "           3       0.41      0.26      0.32       379\n",
            "\n",
            "   micro avg       0.79      0.67      0.73      2800\n",
            "   macro avg       0.66      0.52      0.57      2800\n",
            "weighted avg       0.76      0.67      0.71      2800\n",
            " samples avg       0.67      0.67      0.67      2800\n",
            "\n",
            "\tForest\n",
            "              precision    recall  f1-score   support\n",
            "\n",
            "           0       0.93      0.92      0.92      1618\n",
            "           1       0.91      0.69      0.78       391\n",
            "           2       0.69      0.32      0.44       412\n",
            "           3       0.51      0.26      0.35       379\n",
            "\n",
            "   micro avg       0.87      0.71      0.78      2800\n",
            "   macro avg       0.76      0.55      0.62      2800\n",
            "weighted avg       0.83      0.71      0.75      2800\n",
            " samples avg       0.71      0.71      0.71      2800\n",
            "\n",
            "\tSVC\n"
          ]
        },
        {
          "output_type": "stream",
          "name": "stderr",
          "text": [
            "/usr/local/lib/python3.10/dist-packages/sklearn/metrics/_classification.py:1344: UndefinedMetricWarning: Precision and F-score are ill-defined and being set to 0.0 in samples with no predicted labels. Use `zero_division` parameter to control this behavior.\n",
            "  _warn_prf(average, modifier, msg_start, len(result))\n",
            "/usr/local/lib/python3.10/dist-packages/sklearn/metrics/_classification.py:1344: UndefinedMetricWarning: Precision and F-score are ill-defined and being set to 0.0 in samples with no predicted labels. Use `zero_division` parameter to control this behavior.\n",
            "  _warn_prf(average, modifier, msg_start, len(result))\n",
            "/usr/local/lib/python3.10/dist-packages/sklearn/metrics/_classification.py:1344: UndefinedMetricWarning: Precision and F-score are ill-defined and being set to 0.0 in samples with no predicted labels. Use `zero_division` parameter to control this behavior.\n",
            "  _warn_prf(average, modifier, msg_start, len(result))\n",
            "/usr/local/lib/python3.10/dist-packages/sklearn/metrics/_classification.py:1344: UndefinedMetricWarning: Precision and F-score are ill-defined and being set to 0.0 in samples with no predicted labels. Use `zero_division` parameter to control this behavior.\n",
            "  _warn_prf(average, modifier, msg_start, len(result))\n"
          ]
        },
        {
          "output_type": "stream",
          "name": "stdout",
          "text": [
            "              precision    recall  f1-score   support\n",
            "\n",
            "           0       0.98      0.94      0.96      1618\n",
            "           1       0.78      0.92      0.85       391\n",
            "           2       0.59      0.04      0.07       412\n",
            "           3       0.60      0.01      0.02       379\n",
            "\n",
            "   micro avg       0.93      0.68      0.78      2800\n",
            "   macro avg       0.74      0.48      0.47      2800\n",
            "weighted avg       0.84      0.68      0.68      2800\n",
            " samples avg       0.68      0.68      0.68      2800\n",
            "\n",
            "\tKNN\n",
            "              precision    recall  f1-score   support\n",
            "\n",
            "           0       0.68      1.00      0.81      1618\n",
            "           1       0.72      0.26      0.38       391\n",
            "           2       0.34      0.10      0.15       412\n",
            "           3       0.10      0.04      0.06       379\n",
            "\n",
            "   micro avg       0.63      0.63      0.63      2800\n",
            "   macro avg       0.46      0.35      0.35      2800\n",
            "weighted avg       0.56      0.63      0.55      2800\n",
            " samples avg       0.63      0.63      0.63      2800\n",
            "\n",
            "\tСлавянский catboost\n",
            "              precision    recall  f1-score   support\n",
            "\n",
            "           0       0.90      0.98      0.94      1618\n",
            "           1       0.87      0.93      0.90       391\n",
            "           2       0.77      0.77      0.77       412\n",
            "           3       0.92      0.50      0.64       379\n",
            "\n",
            "   micro avg       0.88      0.88      0.88      2800\n",
            "   macro avg       0.86      0.79      0.81      2800\n",
            "weighted avg       0.88      0.88      0.87      2800\n",
            " samples avg       0.88      0.88      0.88      2800\n",
            "\n"
          ]
        }
      ]
    },
    {
      "cell_type": "markdown",
      "source": [
        "**ДЕРЕВЬЯ ВПЕРЕД ДЕРЕВЬЯ ВПЕРЕД ДЕРЕВЬЯ ВПЕРЕД**\n",
        "\n",
        "Лучшие, любимые, понятно работающие. Выделяют, сплитуют, голосуют.\n",
        "Ну а бустинг просто песня (славянская)\n",
        "\n",
        "Логистическая регрессия никакая. Здорово понимать, что этих признаков в какой-то мере достаточно для разделения таких данных, однако вау-эффекта не производит\n",
        "\n",
        "KNN заслужил себе это место. Видать, в пространстве большой размерности разделение не такое уж и хорошее."
      ],
      "metadata": {
        "id": "_CkPyJWJEQmH"
      }
    },
    {
      "cell_type": "code",
      "source": [
        "plt.plot(forest_grid.best_estimator_.feature_importances_, color='navy')"
      ],
      "metadata": {
        "colab": {
          "base_uri": "https://localhost:8080/",
          "height": 448
        },
        "id": "M8m-1FBrCgMQ",
        "outputId": "85102505-b6a5-4866-c036-c7328ebb8640"
      },
      "execution_count": null,
      "outputs": [
        {
          "output_type": "execute_result",
          "data": {
            "text/plain": [
              "[<matplotlib.lines.Line2D at 0x7cf8ad071cf0>]"
            ]
          },
          "metadata": {},
          "execution_count": 83
        },
        {
          "output_type": "display_data",
          "data": {
            "text/plain": [
              "<Figure size 640x480 with 1 Axes>"
            ],
            "image/png": "[encoded data removed]"
          },
          "metadata": {}
        }
      ]
    },
    {
      "cell_type": "markdown",
      "source": [
        "Nice to see totally differnet leghts of k-mers utilized. Forest uses everything best from all parts of dataset, and I like it. We can see peaks starting from the 2-mer and ending at 5-mer."
      ],
      "metadata": {
        "id": "1yvzrsqOSelK"
      }
    },
    {
      "cell_type": "code",
      "source": [
        "plt.figure(figsize=(20, 7))\n",
        "plot_tree(tree_grid.best_estimator_, max_depth=2) # Только голова. Дерево глубокое\n",
        "None"
      ],
      "metadata": {
        "colab": {
          "base_uri": "https://localhost:8080/",
          "height": 485
        },
        "id": "praHV__OQR_b",
        "outputId": "bf82ea88-1a5e-4530-b4dd-7ba7c08e194b"
      },
      "execution_count": null,
      "outputs": [
        {
          "output_type": "display_data",
          "data": {
            "text/plain": [
              "<Figure size 2000x700 with 1 Axes>"
            ],
            "image/png": "[encoded data removed]"
          },
          "metadata": {}
        }
      ]
    },
    {
      "cell_type": "code",
      "source": [
        "df.columns[[1161, 315, 382, 1140, 1206, 742, 893]]"
      ],
      "metadata": {
        "colab": {
          "base_uri": "https://localhost:8080/"
        },
        "id": "Nl8LKD3yR1zg",
        "outputId": "dc0db93e-5565-47d1-9493-713e8318a389"
      },
      "execution_count": null,
      "outputs": [
        {
          "output_type": "execute_result",
          "data": {
            "text/plain": [
              "Index(['GCCTT', 'TGCG', 'TGCCT', 'GTCAT', 'CATGA', 'ACTCA', 'CTGTC'], dtype='object')"
            ]
          },
          "metadata": {},
          "execution_count": 128
        }
      ]
    },
    {
      "cell_type": "markdown",
      "source": [
        "I'll plot only part of features here. It is logical that best features are the longest kmers we have, but unexpectedily we have second splitter (left) of len 4!"
      ],
      "metadata": {
        "id": "CKqsi69eRvwX"
      }
    },
    {
      "cell_type": "code",
      "source": [
        "from sklearn.metrics import roc_auc_score, roc_curve\n",
        "\n",
        "pr = forest_grid.best_estimator_.predict(X_test)\n",
        "\n",
        "colors = ['darkorange','darkred','darkgreen', 'navy']\n",
        "for i in range(len(np.unique(df[\"Class\"]))):\n",
        "    fpr, tpr, _ = roc_curve(y_test.to_numpy()[:, i], pr[:, i], pos_label=i)\n",
        "    print(fpr, tpr)\n",
        "    plt.plot(fpr, tpr, linestyle='--',color=colors[i], label=y_test.columns[i]+' vs Rest')\n",
        "plt.plot([0, 1], [0, 1], 'k--', label='Random classifier')\n",
        "plt.title('ROC curve')\n",
        "plt.xlabel('False Positive Rate')\n",
        "plt.ylabel('True Positive rate')\n",
        "plt.legend()\n",
        "plt.show()"
      ],
      "metadata": {
        "colab": {
          "base_uri": "https://localhost:8080/",
          "height": 618
        },
        "id": "dqcNPtFRTOsB",
        "outputId": "894f8ffa-18e0-417a-eb31-1b6f74544393"
      },
      "execution_count": null,
      "outputs": [
        {
          "output_type": "stream",
          "name": "stdout",
          "text": [
            "[0.         0.91903585 1.        ] [0.        0.0964467 1.       ]\n",
            "[0.         0.01162308 1.        ] [0.         0.68797954 1.        ]\n",
            "[0.         0.06821429 1.        ] [nan nan nan]\n",
            "[0.         0.06892857 1.        ] [nan nan nan]\n"
          ]
        },
        {
          "output_type": "stream",
          "name": "stderr",
          "text": [
            "/usr/local/lib/python3.10/dist-packages/sklearn/metrics/_ranking.py:1029: UndefinedMetricWarning: No positive samples in y_true, true positive value should be meaningless\n",
            "  warnings.warn(\n",
            "/usr/local/lib/python3.10/dist-packages/sklearn/metrics/_ranking.py:1029: UndefinedMetricWarning: No positive samples in y_true, true positive value should be meaningless\n",
            "  warnings.warn(\n"
          ]
        },
        {
          "output_type": "display_data",
          "data": {
            "text/plain": [
              "<Figure size 640x480 with 1 Axes>"
            ],
            "image/png": "[encoded data removed]"
          },
          "metadata": {}
        }
      ]
    },
    {
      "cell_type": "markdown",
      "source": [
        "Nice to see the darkorange line being below the line of random classifier. That means, that estimator catches that background class means totally opposite to NFE2L2, SIX5 and GABPA. Cool"
      ],
      "metadata": {
        "id": "GsIHYuDYbag_"
      }
    },
    {
      "cell_type": "code",
      "source": [
        "from sklearn.metrics import RocCurveDisplay\n",
        "\n",
        "RocCurveDisplay.from_predictions(\n",
        "    y_test.to_numpy().ravel(),\n",
        "    forest_grid.best_estimator_.predict(X_test).ravel(),\n",
        "    color='darkgreen')\n",
        "plt.plot([0, 1], [0, 1], color='indigo', linestyle='--')\n",
        "plt.axis(\"square\")\n",
        "plt.xlabel(\"False Positive Rate\")\n",
        "plt.ylabel(\"True Positive Rate\")\n",
        "plt.title(\"Macro-averaged One-vs-Rest\\nReceiver Operating Characteristic\")\n",
        "plt.legend()\n",
        "plt.show()\n"
      ],
      "metadata": {
        "colab": {
          "base_uri": "https://localhost:8080/",
          "height": 493
        },
        "id": "OVqSDhuw_vJ-",
        "outputId": "cf254a1f-cff8-48e5-8d6c-c17fd56e7277"
      },
      "execution_count": null,
      "outputs": [
        {
          "output_type": "display_data",
          "data": {
            "text/plain": [
              "<Figure size 640x480 with 1 Axes>"
            ],
            "image/png": "[encoded data removed]"
          },
          "metadata": {}
        }
      ]
    },
    {
      "cell_type": "markdown",
      "source": [
        "I actually like it. Edgy, with rapid growth of TPR, not to 1, but anyway"
      ],
      "metadata": {
        "id": "lhMuNsdABZHD"
      }
    },
    {
      "cell_type": "code",
      "source": [
        "class DoomForest:\n",
        "  def __init__(self, trees_number=5, criterion='gini', max_depth=10, max_features=5):\n",
        "    self.trees_number = trees_number\n",
        "    self.criterion = criterion\n",
        "    self.max_depth = max_depth\n",
        "    self.max_features = max_features\n",
        "    self.trees_list = list()\n",
        "\n",
        "  def fit(self, X, y):\n",
        "    for _ in range(self.trees_number):\n",
        "      log = DecisionTreeClassifier(criterion=self.criterion, max_depth=self.max_depth,\n",
        "                                   max_features=self.max_features)\n",
        "      indices = np.random.choice(range(X.shape[0]), size=X.shape[0], replace=True)\n",
        "      log.fit(X[indices], y.iloc[indices])\n",
        "      self.trees_list.append(log)\n",
        "\n",
        "  def predict(self, X):\n",
        "    pred = np.zeros((X.shape[0], 4))\n",
        "    for log in self.trees_list:\n",
        "      pred += log.predict(X)\n",
        "    return np.argmax(pred, axis=1)"
      ],
      "metadata": {
        "id": "0jCgY8G8aLqL"
      },
      "execution_count": null,
      "outputs": []
    },
    {
      "cell_type": "code",
      "source": [
        "from sklearn.metrics import f1_score\n",
        "\n",
        "my_cursed_greatwood = DoomForest()\n",
        "my_cursed_greatwood.fit(X_train, y_train)\n",
        "pred = my_cursed_greatwood.predict(X_test)\n",
        "f1_score(np.argmax(y_test.to_numpy().reshape(-1, 4), axis=1), pred, average='macro') # Либо я тут что-то намутил лишнего, либо формат неверный возвращаю. Но в целом недурно вышло"
      ],
      "metadata": {
        "colab": {
          "base_uri": "https://localhost:8080/"
        },
        "id": "RqwLGuJAyBfP",
        "outputId": "6fb9c227-2b8d-402d-b878-0457738bb164"
      },
      "execution_count": null,
      "outputs": [
        {
          "output_type": "execute_result",
          "data": {
            "text/plain": [
              "0.5945647359455314"
            ]
          },
          "metadata": {},
          "execution_count": 108
        }
      ]
    },
    {
      "cell_type": "markdown",
      "source": [
        "# Extra points [1.5]\n",
        "\n",
        "Now it's time to do the hard testing! Find another tissue/cell line where we have ATAC-seq and the same set of ChIP-seq experiments available.\n",
        "\n",
        "Then you need to do the following:\n",
        "* [0.15] Download ATAC-seq peaks, extract sequences and predict regions that each TF will bind.\n",
        "* [1] Download ChIP-seq peaks, intersect with the ATAC-seq and compare them to the ML predictions. Next, calculate standard classification metrics (per-class and then macro averaged): $F_1$, precision, recall, accuracy. Drop regions thar overlap between multiple ChIP-seq experiments (like you did for the training).\n",
        "* [0.35] Which model was the best in this scenario? Do we have any other criteria to rank models except for performance? What model would you use for real studies? Why?"
      ],
      "metadata": {
        "id": "P2EuwzDXqRff"
      }
    },
    {
      "cell_type": "markdown",
      "source": [
        "\n",
        "\n",
        "```\n",
        "#I am cat ^^\n",
        "```\n",
        "\n"
      ],
      "metadata": {
        "id": "AvMJ3Qrn-WM7"
      }
    }
  ]
}